{
 "cells": [
  {
   "cell_type": "code",
   "execution_count": 53,
   "id": "3bb1b0f2",
   "metadata": {},
   "outputs": [],
   "source": [
    "import warnings\n",
    "import numpy as np\n",
    "import pandas as pd\n",
    "from functools import partial\n",
    "from sklearn.preprocessing import LabelEncoder\n",
    "from sklearn.preprocessing import StandardScaler\n",
    "from sklearn.preprocessing import RobustScaler\n",
    "from sklearn.compose import ColumnTransformer\n",
    "from sklearn.pipeline import Pipeline\n",
    "from sklearn.model_selection import train_test_split\n",
    "from sklearn.linear_model import LogisticRegression\n",
    "from sklearn.svm import SVC\n",
    "from sklearn.ensemble import RandomForestClassifier\n",
    "from sklearn.tree import DecisionTreeClassifier\n",
    "from sklearn.neural_network import MLPClassifier\n",
    "from scipy.stats import loguniform\n",
    "from sklearn.metrics import (accuracy_score, roc_auc_score, f1_score, confusion_matrix,\n",
    "                             ConfusionMatrixDisplay, precision_score, recall_score)\n",
    "import xgboost as xgb\n",
    "import optuna\n",
    "\n",
    "%matplotlib inline"
   ]
  },
  {
   "cell_type": "code",
   "execution_count": 3,
   "id": "c95b2721",
   "metadata": {},
   "outputs": [
    {
     "name": "stdout",
     "output_type": "stream",
     "text": [
      "test_data.csv\n",
      "train_data.csv\n"
     ]
    }
   ],
   "source": [
    "!ls data"
   ]
  },
  {
   "cell_type": "markdown",
   "id": "8cb3297d",
   "metadata": {},
   "source": [
    "---"
   ]
  },
  {
   "cell_type": "markdown",
   "id": "2259dc12",
   "metadata": {},
   "source": [
    "1. Using the same data prep as in [here](https://www.kaggle.com/code/pmr3508202053/pmr3508-2020-53-classification-with-adult-dataset/notebook), try to replicate results of SVM, MLP, and Random Forest\n",
    "2. Try to beat them with XGB\n",
    "3. Optimize XGB with Optuna\n",
    "4. Few tweaks to data prep\n",
    "5. Run them all again"
   ]
  },
  {
   "cell_type": "code",
   "execution_count": 217,
   "id": "c5b16b8d",
   "metadata": {},
   "outputs": [],
   "source": [
    "class DataPreper:\n",
    "    atributosCAT = ['workclass', 'marital.status', 'occupation', 'race', 'sex', 'native.country']\n",
    "    HigherCorrelation = ['age', 'education.num', 'sex', 'capital.gain', 'capital.loss', 'hours.per.week']\n",
    "    AtributosNUM = ['age', 'education.num', 'sex', 'hours.per.week']\n",
    "    AtributosESPARSO = ['capital.gain', 'capital.loss']\n",
    "\n",
    "    def __init__(self, file_path, is_test=False):\n",
    "        self.df = pd.read_csv(file_path, index_col=['Id'], na_values=\"?\")\n",
    "        if not is_test:\n",
    "            self.atributosCAT.append('income')\n",
    "            self.HigherCorrelation.append('income')\n",
    "\n",
    "    def fill_na_with_mode(self, s):\n",
    "        return s.fillna(s.mode()[0])\n",
    "\n",
    "    def run(self):\n",
    "        for col in ['workclass', 'occupation', 'native.country']:\n",
    "            self.df[col] = self.fill_na_with_mode(self.df[col])\n",
    "        \n",
    "        le = LabelEncoder()\n",
    "        for col in self.atributosCAT:\n",
    "            self.df[col] = le.fit_transform(self.df[col])\n",
    "        \n",
    "        return self.df[self.HigherCorrelation]\n",
    "\n",
    "    def run_pipeline(self, df):\n",
    "        PipelineNUM = Pipeline(steps=[('scaler', StandardScaler())])\n",
    "        PipelineESPARSO = Pipeline(steps=[('scaler', RobustScaler())])\n",
    "        Preprocessador = ColumnTransformer(transformers=[\n",
    "            ('num', PipelineNUM, self.AtributosNUM),\n",
    "            ('spr', PipelineESPARSO, self.AtributosESPARSO),\n",
    "        ])\n",
    "        return Preprocessador.fit_transform(df)\n",
    "\n",
    "    def split(self, X_train, y_train):\n",
    "        return train_test_split(X_train, y_train, test_size=0.25, random_state=42)"
   ]
  },
  {
   "cell_type": "code",
   "execution_count": 212,
   "id": "bd5be24f",
   "metadata": {},
   "outputs": [
    {
     "data": {
      "text/plain": [
       "(24420, 24420, 8140, 8140)"
      ]
     },
     "execution_count": 212,
     "metadata": {},
     "output_type": "execute_result"
    }
   ],
   "source": [
    "preper = DataPreper('data/train_data.csv')\n",
    "train_df = preper.run()\n",
    "y_train = train_df.pop('income')\n",
    "X_train = train_df\n",
    "X_train = preper.run_pipeline(X_train)\n",
    "X_train, X_val, y_train, y_val = preper.split(X_train, y_train)\n",
    "len(X_train), len(y_train), len(X_val), len(y_val)"
   ]
  },
  {
   "cell_type": "code",
   "execution_count": 221,
   "id": "e137010c",
   "metadata": {},
   "outputs": [
    {
     "data": {
      "text/plain": [
       "16280"
      ]
     },
     "execution_count": 221,
     "metadata": {},
     "output_type": "execute_result"
    }
   ],
   "source": [
    "preper = DataPreper('data/test_data.csv', is_test=True)\n",
    "test_df = preper.run()\n",
    "test_df = preper.run_pipeline(test_df)\n",
    "len(test_df)"
   ]
  },
  {
   "cell_type": "markdown",
   "id": "ddc41704",
   "metadata": {},
   "source": [
    "---"
   ]
  },
  {
   "cell_type": "markdown",
   "id": "8c9b7842",
   "metadata": {},
   "source": [
    "### Fitting same classifiers as link"
   ]
  },
  {
   "cell_type": "markdown",
   "id": "faeb5381",
   "metadata": {},
   "source": [
    "#### Logistic Regression"
   ]
  },
  {
   "cell_type": "code",
   "execution_count": 19,
   "id": "6dfa5922",
   "metadata": {},
   "outputs": [],
   "source": [
    "logisticReg = LogisticRegression(solver=\"liblinear\", random_state=42, **{'penalty': 'l1', 'C': 8.88888888888889})"
   ]
  },
  {
   "cell_type": "code",
   "execution_count": 20,
   "id": "9c336d10",
   "metadata": {},
   "outputs": [
    {
     "data": {
      "text/html": [
       "<style>#sk-container-id-1 {color: black;background-color: white;}#sk-container-id-1 pre{padding: 0;}#sk-container-id-1 div.sk-toggleable {background-color: white;}#sk-container-id-1 label.sk-toggleable__label {cursor: pointer;display: block;width: 100%;margin-bottom: 0;padding: 0.3em;box-sizing: border-box;text-align: center;}#sk-container-id-1 label.sk-toggleable__label-arrow:before {content: \"▸\";float: left;margin-right: 0.25em;color: #696969;}#sk-container-id-1 label.sk-toggleable__label-arrow:hover:before {color: black;}#sk-container-id-1 div.sk-estimator:hover label.sk-toggleable__label-arrow:before {color: black;}#sk-container-id-1 div.sk-toggleable__content {max-height: 0;max-width: 0;overflow: hidden;text-align: left;background-color: #f0f8ff;}#sk-container-id-1 div.sk-toggleable__content pre {margin: 0.2em;color: black;border-radius: 0.25em;background-color: #f0f8ff;}#sk-container-id-1 input.sk-toggleable__control:checked~div.sk-toggleable__content {max-height: 200px;max-width: 100%;overflow: auto;}#sk-container-id-1 input.sk-toggleable__control:checked~label.sk-toggleable__label-arrow:before {content: \"▾\";}#sk-container-id-1 div.sk-estimator input.sk-toggleable__control:checked~label.sk-toggleable__label {background-color: #d4ebff;}#sk-container-id-1 div.sk-label input.sk-toggleable__control:checked~label.sk-toggleable__label {background-color: #d4ebff;}#sk-container-id-1 input.sk-hidden--visually {border: 0;clip: rect(1px 1px 1px 1px);clip: rect(1px, 1px, 1px, 1px);height: 1px;margin: -1px;overflow: hidden;padding: 0;position: absolute;width: 1px;}#sk-container-id-1 div.sk-estimator {font-family: monospace;background-color: #f0f8ff;border: 1px dotted black;border-radius: 0.25em;box-sizing: border-box;margin-bottom: 0.5em;}#sk-container-id-1 div.sk-estimator:hover {background-color: #d4ebff;}#sk-container-id-1 div.sk-parallel-item::after {content: \"\";width: 100%;border-bottom: 1px solid gray;flex-grow: 1;}#sk-container-id-1 div.sk-label:hover label.sk-toggleable__label {background-color: #d4ebff;}#sk-container-id-1 div.sk-serial::before {content: \"\";position: absolute;border-left: 1px solid gray;box-sizing: border-box;top: 0;bottom: 0;left: 50%;z-index: 0;}#sk-container-id-1 div.sk-serial {display: flex;flex-direction: column;align-items: center;background-color: white;padding-right: 0.2em;padding-left: 0.2em;position: relative;}#sk-container-id-1 div.sk-item {position: relative;z-index: 1;}#sk-container-id-1 div.sk-parallel {display: flex;align-items: stretch;justify-content: center;background-color: white;position: relative;}#sk-container-id-1 div.sk-item::before, #sk-container-id-1 div.sk-parallel-item::before {content: \"\";position: absolute;border-left: 1px solid gray;box-sizing: border-box;top: 0;bottom: 0;left: 50%;z-index: -1;}#sk-container-id-1 div.sk-parallel-item {display: flex;flex-direction: column;z-index: 1;position: relative;background-color: white;}#sk-container-id-1 div.sk-parallel-item:first-child::after {align-self: flex-end;width: 50%;}#sk-container-id-1 div.sk-parallel-item:last-child::after {align-self: flex-start;width: 50%;}#sk-container-id-1 div.sk-parallel-item:only-child::after {width: 0;}#sk-container-id-1 div.sk-dashed-wrapped {border: 1px dashed gray;margin: 0 0.4em 0.5em 0.4em;box-sizing: border-box;padding-bottom: 0.4em;background-color: white;}#sk-container-id-1 div.sk-label label {font-family: monospace;font-weight: bold;display: inline-block;line-height: 1.2em;}#sk-container-id-1 div.sk-label-container {text-align: center;}#sk-container-id-1 div.sk-container {/* jupyter's `normalize.less` sets `[hidden] { display: none; }` but bootstrap.min.css set `[hidden] { display: none !important; }` so we also need the `!important` here to be able to override the default hidden behavior on the sphinx rendered scikit-learn.org. See: https://github.com/scikit-learn/scikit-learn/issues/21755 */display: inline-block !important;position: relative;}#sk-container-id-1 div.sk-text-repr-fallback {display: none;}</style><div id=\"sk-container-id-1\" class=\"sk-top-container\"><div class=\"sk-text-repr-fallback\"><pre>LogisticRegression(C=8.88888888888889, penalty=&#x27;l1&#x27;, random_state=42,\n",
       "                   solver=&#x27;liblinear&#x27;)</pre><b>In a Jupyter environment, please rerun this cell to show the HTML representation or trust the notebook. <br />On GitHub, the HTML representation is unable to render, please try loading this page with nbviewer.org.</b></div><div class=\"sk-container\" hidden><div class=\"sk-item\"><div class=\"sk-estimator sk-toggleable\"><input class=\"sk-toggleable__control sk-hidden--visually\" id=\"sk-estimator-id-1\" type=\"checkbox\" checked><label for=\"sk-estimator-id-1\" class=\"sk-toggleable__label sk-toggleable__label-arrow\">LogisticRegression</label><div class=\"sk-toggleable__content\"><pre>LogisticRegression(C=8.88888888888889, penalty=&#x27;l1&#x27;, random_state=42,\n",
       "                   solver=&#x27;liblinear&#x27;)</pre></div></div></div></div></div>"
      ],
      "text/plain": [
       "LogisticRegression(C=8.88888888888889, penalty='l1', random_state=42,\n",
       "                   solver='liblinear')"
      ]
     },
     "execution_count": 20,
     "metadata": {},
     "output_type": "execute_result"
    }
   ],
   "source": [
    "logisticReg.fit(X_train, y_train)"
   ]
  },
  {
   "cell_type": "code",
   "execution_count": 21,
   "id": "517cc6f7",
   "metadata": {},
   "outputs": [
    {
     "data": {
      "text/plain": [
       "0.821007371007371"
      ]
     },
     "execution_count": 21,
     "metadata": {},
     "output_type": "execute_result"
    }
   ],
   "source": [
    "logisticReg.score(X_train, y_train)"
   ]
  },
  {
   "cell_type": "markdown",
   "id": "e250ed38",
   "metadata": {},
   "source": [
    "not equal, but fairly close"
   ]
  },
  {
   "cell_type": "markdown",
   "id": "8d36eda7",
   "metadata": {},
   "source": [
    "#### SVM"
   ]
  },
  {
   "cell_type": "code",
   "execution_count": 22,
   "id": "6f13a791",
   "metadata": {},
   "outputs": [],
   "source": [
    "svclass = SVC(probability=True, **{'kernel': 'rbf', 'gamma': 0.001, 'C': 3.8383838383838382})"
   ]
  },
  {
   "cell_type": "code",
   "execution_count": 23,
   "id": "b58bbdba",
   "metadata": {},
   "outputs": [
    {
     "data": {
      "text/html": [
       "<style>#sk-container-id-2 {color: black;background-color: white;}#sk-container-id-2 pre{padding: 0;}#sk-container-id-2 div.sk-toggleable {background-color: white;}#sk-container-id-2 label.sk-toggleable__label {cursor: pointer;display: block;width: 100%;margin-bottom: 0;padding: 0.3em;box-sizing: border-box;text-align: center;}#sk-container-id-2 label.sk-toggleable__label-arrow:before {content: \"▸\";float: left;margin-right: 0.25em;color: #696969;}#sk-container-id-2 label.sk-toggleable__label-arrow:hover:before {color: black;}#sk-container-id-2 div.sk-estimator:hover label.sk-toggleable__label-arrow:before {color: black;}#sk-container-id-2 div.sk-toggleable__content {max-height: 0;max-width: 0;overflow: hidden;text-align: left;background-color: #f0f8ff;}#sk-container-id-2 div.sk-toggleable__content pre {margin: 0.2em;color: black;border-radius: 0.25em;background-color: #f0f8ff;}#sk-container-id-2 input.sk-toggleable__control:checked~div.sk-toggleable__content {max-height: 200px;max-width: 100%;overflow: auto;}#sk-container-id-2 input.sk-toggleable__control:checked~label.sk-toggleable__label-arrow:before {content: \"▾\";}#sk-container-id-2 div.sk-estimator input.sk-toggleable__control:checked~label.sk-toggleable__label {background-color: #d4ebff;}#sk-container-id-2 div.sk-label input.sk-toggleable__control:checked~label.sk-toggleable__label {background-color: #d4ebff;}#sk-container-id-2 input.sk-hidden--visually {border: 0;clip: rect(1px 1px 1px 1px);clip: rect(1px, 1px, 1px, 1px);height: 1px;margin: -1px;overflow: hidden;padding: 0;position: absolute;width: 1px;}#sk-container-id-2 div.sk-estimator {font-family: monospace;background-color: #f0f8ff;border: 1px dotted black;border-radius: 0.25em;box-sizing: border-box;margin-bottom: 0.5em;}#sk-container-id-2 div.sk-estimator:hover {background-color: #d4ebff;}#sk-container-id-2 div.sk-parallel-item::after {content: \"\";width: 100%;border-bottom: 1px solid gray;flex-grow: 1;}#sk-container-id-2 div.sk-label:hover label.sk-toggleable__label {background-color: #d4ebff;}#sk-container-id-2 div.sk-serial::before {content: \"\";position: absolute;border-left: 1px solid gray;box-sizing: border-box;top: 0;bottom: 0;left: 50%;z-index: 0;}#sk-container-id-2 div.sk-serial {display: flex;flex-direction: column;align-items: center;background-color: white;padding-right: 0.2em;padding-left: 0.2em;position: relative;}#sk-container-id-2 div.sk-item {position: relative;z-index: 1;}#sk-container-id-2 div.sk-parallel {display: flex;align-items: stretch;justify-content: center;background-color: white;position: relative;}#sk-container-id-2 div.sk-item::before, #sk-container-id-2 div.sk-parallel-item::before {content: \"\";position: absolute;border-left: 1px solid gray;box-sizing: border-box;top: 0;bottom: 0;left: 50%;z-index: -1;}#sk-container-id-2 div.sk-parallel-item {display: flex;flex-direction: column;z-index: 1;position: relative;background-color: white;}#sk-container-id-2 div.sk-parallel-item:first-child::after {align-self: flex-end;width: 50%;}#sk-container-id-2 div.sk-parallel-item:last-child::after {align-self: flex-start;width: 50%;}#sk-container-id-2 div.sk-parallel-item:only-child::after {width: 0;}#sk-container-id-2 div.sk-dashed-wrapped {border: 1px dashed gray;margin: 0 0.4em 0.5em 0.4em;box-sizing: border-box;padding-bottom: 0.4em;background-color: white;}#sk-container-id-2 div.sk-label label {font-family: monospace;font-weight: bold;display: inline-block;line-height: 1.2em;}#sk-container-id-2 div.sk-label-container {text-align: center;}#sk-container-id-2 div.sk-container {/* jupyter's `normalize.less` sets `[hidden] { display: none; }` but bootstrap.min.css set `[hidden] { display: none !important; }` so we also need the `!important` here to be able to override the default hidden behavior on the sphinx rendered scikit-learn.org. See: https://github.com/scikit-learn/scikit-learn/issues/21755 */display: inline-block !important;position: relative;}#sk-container-id-2 div.sk-text-repr-fallback {display: none;}</style><div id=\"sk-container-id-2\" class=\"sk-top-container\"><div class=\"sk-text-repr-fallback\"><pre>SVC(C=3.8383838383838382, gamma=0.001, probability=True)</pre><b>In a Jupyter environment, please rerun this cell to show the HTML representation or trust the notebook. <br />On GitHub, the HTML representation is unable to render, please try loading this page with nbviewer.org.</b></div><div class=\"sk-container\" hidden><div class=\"sk-item\"><div class=\"sk-estimator sk-toggleable\"><input class=\"sk-toggleable__control sk-hidden--visually\" id=\"sk-estimator-id-2\" type=\"checkbox\" checked><label for=\"sk-estimator-id-2\" class=\"sk-toggleable__label sk-toggleable__label-arrow\">SVC</label><div class=\"sk-toggleable__content\"><pre>SVC(C=3.8383838383838382, gamma=0.001, probability=True)</pre></div></div></div></div></div>"
      ],
      "text/plain": [
       "SVC(C=3.8383838383838382, gamma=0.001, probability=True)"
      ]
     },
     "execution_count": 23,
     "metadata": {},
     "output_type": "execute_result"
    }
   ],
   "source": [
    "svclass.fit(X_train, y_train)"
   ]
  },
  {
   "cell_type": "code",
   "execution_count": 24,
   "id": "de4799a0",
   "metadata": {},
   "outputs": [
    {
     "data": {
      "text/plain": [
       "0.8291564291564292"
      ]
     },
     "execution_count": 24,
     "metadata": {},
     "output_type": "execute_result"
    }
   ],
   "source": [
    "svclass.score(X_train, y_train)"
   ]
  },
  {
   "cell_type": "markdown",
   "id": "e84b1e90",
   "metadata": {},
   "source": [
    "#### Random Forest"
   ]
  },
  {
   "cell_type": "code",
   "execution_count": 25,
   "id": "ac3dd8f6",
   "metadata": {},
   "outputs": [],
   "source": [
    "rfclass = RandomForestClassifier(random_state=42, **{'n_estimators': 580, 'max_depth': 10})"
   ]
  },
  {
   "cell_type": "code",
   "execution_count": 26,
   "id": "25130be2",
   "metadata": {},
   "outputs": [
    {
     "data": {
      "text/html": [
       "<style>#sk-container-id-3 {color: black;background-color: white;}#sk-container-id-3 pre{padding: 0;}#sk-container-id-3 div.sk-toggleable {background-color: white;}#sk-container-id-3 label.sk-toggleable__label {cursor: pointer;display: block;width: 100%;margin-bottom: 0;padding: 0.3em;box-sizing: border-box;text-align: center;}#sk-container-id-3 label.sk-toggleable__label-arrow:before {content: \"▸\";float: left;margin-right: 0.25em;color: #696969;}#sk-container-id-3 label.sk-toggleable__label-arrow:hover:before {color: black;}#sk-container-id-3 div.sk-estimator:hover label.sk-toggleable__label-arrow:before {color: black;}#sk-container-id-3 div.sk-toggleable__content {max-height: 0;max-width: 0;overflow: hidden;text-align: left;background-color: #f0f8ff;}#sk-container-id-3 div.sk-toggleable__content pre {margin: 0.2em;color: black;border-radius: 0.25em;background-color: #f0f8ff;}#sk-container-id-3 input.sk-toggleable__control:checked~div.sk-toggleable__content {max-height: 200px;max-width: 100%;overflow: auto;}#sk-container-id-3 input.sk-toggleable__control:checked~label.sk-toggleable__label-arrow:before {content: \"▾\";}#sk-container-id-3 div.sk-estimator input.sk-toggleable__control:checked~label.sk-toggleable__label {background-color: #d4ebff;}#sk-container-id-3 div.sk-label input.sk-toggleable__control:checked~label.sk-toggleable__label {background-color: #d4ebff;}#sk-container-id-3 input.sk-hidden--visually {border: 0;clip: rect(1px 1px 1px 1px);clip: rect(1px, 1px, 1px, 1px);height: 1px;margin: -1px;overflow: hidden;padding: 0;position: absolute;width: 1px;}#sk-container-id-3 div.sk-estimator {font-family: monospace;background-color: #f0f8ff;border: 1px dotted black;border-radius: 0.25em;box-sizing: border-box;margin-bottom: 0.5em;}#sk-container-id-3 div.sk-estimator:hover {background-color: #d4ebff;}#sk-container-id-3 div.sk-parallel-item::after {content: \"\";width: 100%;border-bottom: 1px solid gray;flex-grow: 1;}#sk-container-id-3 div.sk-label:hover label.sk-toggleable__label {background-color: #d4ebff;}#sk-container-id-3 div.sk-serial::before {content: \"\";position: absolute;border-left: 1px solid gray;box-sizing: border-box;top: 0;bottom: 0;left: 50%;z-index: 0;}#sk-container-id-3 div.sk-serial {display: flex;flex-direction: column;align-items: center;background-color: white;padding-right: 0.2em;padding-left: 0.2em;position: relative;}#sk-container-id-3 div.sk-item {position: relative;z-index: 1;}#sk-container-id-3 div.sk-parallel {display: flex;align-items: stretch;justify-content: center;background-color: white;position: relative;}#sk-container-id-3 div.sk-item::before, #sk-container-id-3 div.sk-parallel-item::before {content: \"\";position: absolute;border-left: 1px solid gray;box-sizing: border-box;top: 0;bottom: 0;left: 50%;z-index: -1;}#sk-container-id-3 div.sk-parallel-item {display: flex;flex-direction: column;z-index: 1;position: relative;background-color: white;}#sk-container-id-3 div.sk-parallel-item:first-child::after {align-self: flex-end;width: 50%;}#sk-container-id-3 div.sk-parallel-item:last-child::after {align-self: flex-start;width: 50%;}#sk-container-id-3 div.sk-parallel-item:only-child::after {width: 0;}#sk-container-id-3 div.sk-dashed-wrapped {border: 1px dashed gray;margin: 0 0.4em 0.5em 0.4em;box-sizing: border-box;padding-bottom: 0.4em;background-color: white;}#sk-container-id-3 div.sk-label label {font-family: monospace;font-weight: bold;display: inline-block;line-height: 1.2em;}#sk-container-id-3 div.sk-label-container {text-align: center;}#sk-container-id-3 div.sk-container {/* jupyter's `normalize.less` sets `[hidden] { display: none; }` but bootstrap.min.css set `[hidden] { display: none !important; }` so we also need the `!important` here to be able to override the default hidden behavior on the sphinx rendered scikit-learn.org. See: https://github.com/scikit-learn/scikit-learn/issues/21755 */display: inline-block !important;position: relative;}#sk-container-id-3 div.sk-text-repr-fallback {display: none;}</style><div id=\"sk-container-id-3\" class=\"sk-top-container\"><div class=\"sk-text-repr-fallback\"><pre>RandomForestClassifier(max_depth=10, n_estimators=580, random_state=42)</pre><b>In a Jupyter environment, please rerun this cell to show the HTML representation or trust the notebook. <br />On GitHub, the HTML representation is unable to render, please try loading this page with nbviewer.org.</b></div><div class=\"sk-container\" hidden><div class=\"sk-item\"><div class=\"sk-estimator sk-toggleable\"><input class=\"sk-toggleable__control sk-hidden--visually\" id=\"sk-estimator-id-3\" type=\"checkbox\" checked><label for=\"sk-estimator-id-3\" class=\"sk-toggleable__label sk-toggleable__label-arrow\">RandomForestClassifier</label><div class=\"sk-toggleable__content\"><pre>RandomForestClassifier(max_depth=10, n_estimators=580, random_state=42)</pre></div></div></div></div></div>"
      ],
      "text/plain": [
       "RandomForestClassifier(max_depth=10, n_estimators=580, random_state=42)"
      ]
     },
     "execution_count": 26,
     "metadata": {},
     "output_type": "execute_result"
    }
   ],
   "source": [
    "rfclass.fit(X_train, y_train)"
   ]
  },
  {
   "cell_type": "code",
   "execution_count": 27,
   "id": "9245a82a",
   "metadata": {},
   "outputs": [
    {
     "data": {
      "text/plain": [
       "0.8522932022932023"
      ]
     },
     "execution_count": 27,
     "metadata": {},
     "output_type": "execute_result"
    }
   ],
   "source": [
    "rfclass.score(X_train, y_train)"
   ]
  },
  {
   "cell_type": "markdown",
   "id": "d393993b",
   "metadata": {},
   "source": [
    "#### Decision Tree"
   ]
  },
  {
   "cell_type": "code",
   "execution_count": 28,
   "id": "60b10a8f",
   "metadata": {},
   "outputs": [],
   "source": [
    "dtclass = DecisionTreeClassifier(random_state=42, **{'min_samples_split': 29, 'max_depth': 8, 'criterion': 'entropy'})"
   ]
  },
  {
   "cell_type": "code",
   "execution_count": 29,
   "id": "1dd15d0b",
   "metadata": {},
   "outputs": [
    {
     "data": {
      "text/html": [
       "<style>#sk-container-id-4 {color: black;background-color: white;}#sk-container-id-4 pre{padding: 0;}#sk-container-id-4 div.sk-toggleable {background-color: white;}#sk-container-id-4 label.sk-toggleable__label {cursor: pointer;display: block;width: 100%;margin-bottom: 0;padding: 0.3em;box-sizing: border-box;text-align: center;}#sk-container-id-4 label.sk-toggleable__label-arrow:before {content: \"▸\";float: left;margin-right: 0.25em;color: #696969;}#sk-container-id-4 label.sk-toggleable__label-arrow:hover:before {color: black;}#sk-container-id-4 div.sk-estimator:hover label.sk-toggleable__label-arrow:before {color: black;}#sk-container-id-4 div.sk-toggleable__content {max-height: 0;max-width: 0;overflow: hidden;text-align: left;background-color: #f0f8ff;}#sk-container-id-4 div.sk-toggleable__content pre {margin: 0.2em;color: black;border-radius: 0.25em;background-color: #f0f8ff;}#sk-container-id-4 input.sk-toggleable__control:checked~div.sk-toggleable__content {max-height: 200px;max-width: 100%;overflow: auto;}#sk-container-id-4 input.sk-toggleable__control:checked~label.sk-toggleable__label-arrow:before {content: \"▾\";}#sk-container-id-4 div.sk-estimator input.sk-toggleable__control:checked~label.sk-toggleable__label {background-color: #d4ebff;}#sk-container-id-4 div.sk-label input.sk-toggleable__control:checked~label.sk-toggleable__label {background-color: #d4ebff;}#sk-container-id-4 input.sk-hidden--visually {border: 0;clip: rect(1px 1px 1px 1px);clip: rect(1px, 1px, 1px, 1px);height: 1px;margin: -1px;overflow: hidden;padding: 0;position: absolute;width: 1px;}#sk-container-id-4 div.sk-estimator {font-family: monospace;background-color: #f0f8ff;border: 1px dotted black;border-radius: 0.25em;box-sizing: border-box;margin-bottom: 0.5em;}#sk-container-id-4 div.sk-estimator:hover {background-color: #d4ebff;}#sk-container-id-4 div.sk-parallel-item::after {content: \"\";width: 100%;border-bottom: 1px solid gray;flex-grow: 1;}#sk-container-id-4 div.sk-label:hover label.sk-toggleable__label {background-color: #d4ebff;}#sk-container-id-4 div.sk-serial::before {content: \"\";position: absolute;border-left: 1px solid gray;box-sizing: border-box;top: 0;bottom: 0;left: 50%;z-index: 0;}#sk-container-id-4 div.sk-serial {display: flex;flex-direction: column;align-items: center;background-color: white;padding-right: 0.2em;padding-left: 0.2em;position: relative;}#sk-container-id-4 div.sk-item {position: relative;z-index: 1;}#sk-container-id-4 div.sk-parallel {display: flex;align-items: stretch;justify-content: center;background-color: white;position: relative;}#sk-container-id-4 div.sk-item::before, #sk-container-id-4 div.sk-parallel-item::before {content: \"\";position: absolute;border-left: 1px solid gray;box-sizing: border-box;top: 0;bottom: 0;left: 50%;z-index: -1;}#sk-container-id-4 div.sk-parallel-item {display: flex;flex-direction: column;z-index: 1;position: relative;background-color: white;}#sk-container-id-4 div.sk-parallel-item:first-child::after {align-self: flex-end;width: 50%;}#sk-container-id-4 div.sk-parallel-item:last-child::after {align-self: flex-start;width: 50%;}#sk-container-id-4 div.sk-parallel-item:only-child::after {width: 0;}#sk-container-id-4 div.sk-dashed-wrapped {border: 1px dashed gray;margin: 0 0.4em 0.5em 0.4em;box-sizing: border-box;padding-bottom: 0.4em;background-color: white;}#sk-container-id-4 div.sk-label label {font-family: monospace;font-weight: bold;display: inline-block;line-height: 1.2em;}#sk-container-id-4 div.sk-label-container {text-align: center;}#sk-container-id-4 div.sk-container {/* jupyter's `normalize.less` sets `[hidden] { display: none; }` but bootstrap.min.css set `[hidden] { display: none !important; }` so we also need the `!important` here to be able to override the default hidden behavior on the sphinx rendered scikit-learn.org. See: https://github.com/scikit-learn/scikit-learn/issues/21755 */display: inline-block !important;position: relative;}#sk-container-id-4 div.sk-text-repr-fallback {display: none;}</style><div id=\"sk-container-id-4\" class=\"sk-top-container\"><div class=\"sk-text-repr-fallback\"><pre>DecisionTreeClassifier(criterion=&#x27;entropy&#x27;, max_depth=8, min_samples_split=29,\n",
       "                       random_state=42)</pre><b>In a Jupyter environment, please rerun this cell to show the HTML representation or trust the notebook. <br />On GitHub, the HTML representation is unable to render, please try loading this page with nbviewer.org.</b></div><div class=\"sk-container\" hidden><div class=\"sk-item\"><div class=\"sk-estimator sk-toggleable\"><input class=\"sk-toggleable__control sk-hidden--visually\" id=\"sk-estimator-id-4\" type=\"checkbox\" checked><label for=\"sk-estimator-id-4\" class=\"sk-toggleable__label sk-toggleable__label-arrow\">DecisionTreeClassifier</label><div class=\"sk-toggleable__content\"><pre>DecisionTreeClassifier(criterion=&#x27;entropy&#x27;, max_depth=8, min_samples_split=29,\n",
       "                       random_state=42)</pre></div></div></div></div></div>"
      ],
      "text/plain": [
       "DecisionTreeClassifier(criterion='entropy', max_depth=8, min_samples_split=29,\n",
       "                       random_state=42)"
      ]
     },
     "execution_count": 29,
     "metadata": {},
     "output_type": "execute_result"
    }
   ],
   "source": [
    "dtclass.fit(X_train, y_train)"
   ]
  },
  {
   "cell_type": "code",
   "execution_count": 30,
   "id": "ca50bdf1",
   "metadata": {},
   "outputs": [
    {
     "data": {
      "text/plain": [
       "0.837960687960688"
      ]
     },
     "execution_count": 30,
     "metadata": {},
     "output_type": "execute_result"
    }
   ],
   "source": [
    "dtclass.score(X_train, y_train)"
   ]
  },
  {
   "cell_type": "markdown",
   "id": "60ef9a22",
   "metadata": {},
   "source": [
    "#### MLP"
   ]
  },
  {
   "cell_type": "code",
   "execution_count": 31,
   "id": "0dda83f1",
   "metadata": {},
   "outputs": [],
   "source": [
    "mlp2l = MLPClassifier(early_stopping=True, **{\n",
    "    'activation': 'relu',\n",
    "    'alpha': 0.001310842476064518,\n",
    "    'hidden_layer_sizes': (512, 256),\n",
    "    'learning_rate': 'adaptive'\n",
    "})"
   ]
  },
  {
   "cell_type": "code",
   "execution_count": 32,
   "id": "b8f406f8",
   "metadata": {},
   "outputs": [
    {
     "data": {
      "text/html": [
       "<style>#sk-container-id-5 {color: black;background-color: white;}#sk-container-id-5 pre{padding: 0;}#sk-container-id-5 div.sk-toggleable {background-color: white;}#sk-container-id-5 label.sk-toggleable__label {cursor: pointer;display: block;width: 100%;margin-bottom: 0;padding: 0.3em;box-sizing: border-box;text-align: center;}#sk-container-id-5 label.sk-toggleable__label-arrow:before {content: \"▸\";float: left;margin-right: 0.25em;color: #696969;}#sk-container-id-5 label.sk-toggleable__label-arrow:hover:before {color: black;}#sk-container-id-5 div.sk-estimator:hover label.sk-toggleable__label-arrow:before {color: black;}#sk-container-id-5 div.sk-toggleable__content {max-height: 0;max-width: 0;overflow: hidden;text-align: left;background-color: #f0f8ff;}#sk-container-id-5 div.sk-toggleable__content pre {margin: 0.2em;color: black;border-radius: 0.25em;background-color: #f0f8ff;}#sk-container-id-5 input.sk-toggleable__control:checked~div.sk-toggleable__content {max-height: 200px;max-width: 100%;overflow: auto;}#sk-container-id-5 input.sk-toggleable__control:checked~label.sk-toggleable__label-arrow:before {content: \"▾\";}#sk-container-id-5 div.sk-estimator input.sk-toggleable__control:checked~label.sk-toggleable__label {background-color: #d4ebff;}#sk-container-id-5 div.sk-label input.sk-toggleable__control:checked~label.sk-toggleable__label {background-color: #d4ebff;}#sk-container-id-5 input.sk-hidden--visually {border: 0;clip: rect(1px 1px 1px 1px);clip: rect(1px, 1px, 1px, 1px);height: 1px;margin: -1px;overflow: hidden;padding: 0;position: absolute;width: 1px;}#sk-container-id-5 div.sk-estimator {font-family: monospace;background-color: #f0f8ff;border: 1px dotted black;border-radius: 0.25em;box-sizing: border-box;margin-bottom: 0.5em;}#sk-container-id-5 div.sk-estimator:hover {background-color: #d4ebff;}#sk-container-id-5 div.sk-parallel-item::after {content: \"\";width: 100%;border-bottom: 1px solid gray;flex-grow: 1;}#sk-container-id-5 div.sk-label:hover label.sk-toggleable__label {background-color: #d4ebff;}#sk-container-id-5 div.sk-serial::before {content: \"\";position: absolute;border-left: 1px solid gray;box-sizing: border-box;top: 0;bottom: 0;left: 50%;z-index: 0;}#sk-container-id-5 div.sk-serial {display: flex;flex-direction: column;align-items: center;background-color: white;padding-right: 0.2em;padding-left: 0.2em;position: relative;}#sk-container-id-5 div.sk-item {position: relative;z-index: 1;}#sk-container-id-5 div.sk-parallel {display: flex;align-items: stretch;justify-content: center;background-color: white;position: relative;}#sk-container-id-5 div.sk-item::before, #sk-container-id-5 div.sk-parallel-item::before {content: \"\";position: absolute;border-left: 1px solid gray;box-sizing: border-box;top: 0;bottom: 0;left: 50%;z-index: -1;}#sk-container-id-5 div.sk-parallel-item {display: flex;flex-direction: column;z-index: 1;position: relative;background-color: white;}#sk-container-id-5 div.sk-parallel-item:first-child::after {align-self: flex-end;width: 50%;}#sk-container-id-5 div.sk-parallel-item:last-child::after {align-self: flex-start;width: 50%;}#sk-container-id-5 div.sk-parallel-item:only-child::after {width: 0;}#sk-container-id-5 div.sk-dashed-wrapped {border: 1px dashed gray;margin: 0 0.4em 0.5em 0.4em;box-sizing: border-box;padding-bottom: 0.4em;background-color: white;}#sk-container-id-5 div.sk-label label {font-family: monospace;font-weight: bold;display: inline-block;line-height: 1.2em;}#sk-container-id-5 div.sk-label-container {text-align: center;}#sk-container-id-5 div.sk-container {/* jupyter's `normalize.less` sets `[hidden] { display: none; }` but bootstrap.min.css set `[hidden] { display: none !important; }` so we also need the `!important` here to be able to override the default hidden behavior on the sphinx rendered scikit-learn.org. See: https://github.com/scikit-learn/scikit-learn/issues/21755 */display: inline-block !important;position: relative;}#sk-container-id-5 div.sk-text-repr-fallback {display: none;}</style><div id=\"sk-container-id-5\" class=\"sk-top-container\"><div class=\"sk-text-repr-fallback\"><pre>MLPClassifier(alpha=0.001310842476064518, early_stopping=True,\n",
       "              hidden_layer_sizes=(512, 256), learning_rate=&#x27;adaptive&#x27;)</pre><b>In a Jupyter environment, please rerun this cell to show the HTML representation or trust the notebook. <br />On GitHub, the HTML representation is unable to render, please try loading this page with nbviewer.org.</b></div><div class=\"sk-container\" hidden><div class=\"sk-item\"><div class=\"sk-estimator sk-toggleable\"><input class=\"sk-toggleable__control sk-hidden--visually\" id=\"sk-estimator-id-5\" type=\"checkbox\" checked><label for=\"sk-estimator-id-5\" class=\"sk-toggleable__label sk-toggleable__label-arrow\">MLPClassifier</label><div class=\"sk-toggleable__content\"><pre>MLPClassifier(alpha=0.001310842476064518, early_stopping=True,\n",
       "              hidden_layer_sizes=(512, 256), learning_rate=&#x27;adaptive&#x27;)</pre></div></div></div></div></div>"
      ],
      "text/plain": [
       "MLPClassifier(alpha=0.001310842476064518, early_stopping=True,\n",
       "              hidden_layer_sizes=(512, 256), learning_rate='adaptive')"
      ]
     },
     "execution_count": 32,
     "metadata": {},
     "output_type": "execute_result"
    }
   ],
   "source": [
    "mlp2l.fit(X_train, y_train)"
   ]
  },
  {
   "cell_type": "code",
   "execution_count": 33,
   "id": "305bc059",
   "metadata": {},
   "outputs": [
    {
     "data": {
      "text/plain": [
       "0.8322276822276822"
      ]
     },
     "execution_count": 33,
     "metadata": {},
     "output_type": "execute_result"
    }
   ],
   "source": [
    "mlp2l.score(X_train, y_train)"
   ]
  },
  {
   "cell_type": "markdown",
   "id": "04e82a44",
   "metadata": {},
   "source": [
    "### CV Comp"
   ]
  },
  {
   "cell_type": "code",
   "execution_count": 34,
   "id": "7240bb42",
   "metadata": {},
   "outputs": [],
   "source": [
    "def print_cv_metrics(classifier):\n",
    "    y_pred = classifier.predict(X_val)\n",
    "    auc = roc_auc_score(y_val, classifier.predict_proba(X_val)[:,1])\n",
    "    acc = accuracy_score(y_val, y_pred)\n",
    "    prec = precision_score(y_val, y_pred)\n",
    "    rec = recall_score(y_val, y_pred)\n",
    "    f1 = f1_score(y_val, y_pred)\n",
    "    print(f'{classifier} ->')\n",
    "    print(f'AUC: {auc:.4f}')\n",
    "    print(f'Accuracy: {acc:.4f}')\n",
    "    print(f'Precision: {prec:.4f}')\n",
    "    print(f'recall: {rec:.4f}')\n",
    "    print(f'F1: {f1:.4f}\\n')\n",
    "    display(ConfusionMatrixDisplay(confusion_matrix(y_val, y_pred)).plot())\n",
    "    return {\n",
    "        'accuracy': acc,\n",
    "        'precision': prec,\n",
    "        'recall': rec,\n",
    "        'f1': f1,\n",
    "        'AUC': auc\n",
    "    }"
   ]
  },
  {
   "cell_type": "code",
   "execution_count": 35,
   "id": "d3c5de41",
   "metadata": {},
   "outputs": [],
   "source": [
    "res_df = pd.DataFrame()"
   ]
  },
  {
   "cell_type": "code",
   "execution_count": 36,
   "id": "a2cb34c5",
   "metadata": {},
   "outputs": [
    {
     "name": "stdout",
     "output_type": "stream",
     "text": [
      "LogisticRegression(C=8.88888888888889, penalty='l1', random_state=42,\n",
      "                   solver='liblinear') ->\n",
      "AUC: 0.8486\n",
      "Accuracy: 0.8264\n",
      "Precision: 0.7199\n",
      "recall: 0.4353\n",
      "F1: 0.5426\n",
      "\n"
     ]
    },
    {
     "data": {
      "text/plain": [
       "<sklearn.metrics._plot.confusion_matrix.ConfusionMatrixDisplay at 0x2562b240850>"
      ]
     },
     "metadata": {},
     "output_type": "display_data"
    },
    {
     "name": "stderr",
     "output_type": "stream",
     "text": [
      "C:\\Users\\Lucas\\AppData\\Local\\Temp\\ipykernel_30076\\999524755.py:1: FutureWarning: The frame.append method is deprecated and will be removed from pandas in a future version. Use pandas.concat instead.\n",
      "  res_df = res_df.append(pd.DataFrame(data=print_cv_metrics(logisticReg), index=['logRes']))\n"
     ]
    },
    {
     "data": {
      "image/png": "[encoded data removed]",
      "text/plain": [
       "<Figure size 432x288 with 2 Axes>"
      ]
     },
     "metadata": {
      "needs_background": "light"
     },
     "output_type": "display_data"
    }
   ],
   "source": [
    "res_df = res_df.append(pd.DataFrame(data=print_cv_metrics(logisticReg), index=['logRes']))"
   ]
  },
  {
   "cell_type": "code",
   "execution_count": 37,
   "id": "fabe8de9",
   "metadata": {},
   "outputs": [
    {
     "name": "stdout",
     "output_type": "stream",
     "text": [
      "SVC(C=3.8383838383838382, gamma=0.001, probability=True) ->\n",
      "AUC: 0.8750\n",
      "Accuracy: 0.8335\n",
      "Precision: 0.9538\n",
      "recall: 0.3112\n",
      "F1: 0.4693\n",
      "\n"
     ]
    },
    {
     "data": {
      "text/plain": [
       "<sklearn.metrics._plot.confusion_matrix.ConfusionMatrixDisplay at 0x2563c7a7f40>"
      ]
     },
     "metadata": {},
     "output_type": "display_data"
    },
    {
     "name": "stderr",
     "output_type": "stream",
     "text": [
      "C:\\Users\\Lucas\\AppData\\Local\\Temp\\ipykernel_30076\\1036375701.py:1: FutureWarning: The frame.append method is deprecated and will be removed from pandas in a future version. Use pandas.concat instead.\n",
      "  res_df = res_df.append(pd.DataFrame(data=print_cv_metrics(svclass), index=['SVM']))\n"
     ]
    },
    {
     "data": {
      "image/png": "[encoded data removed]",
      "text/plain": [
       "<Figure size 432x288 with 2 Axes>"
      ]
     },
     "metadata": {
      "needs_background": "light"
     },
     "output_type": "display_data"
    }
   ],
   "source": [
    "res_df = res_df.append(pd.DataFrame(data=print_cv_metrics(svclass), index=['SVM']))"
   ]
  },
  {
   "cell_type": "code",
   "execution_count": 38,
   "id": "15e6e69b",
   "metadata": {},
   "outputs": [
    {
     "name": "stdout",
     "output_type": "stream",
     "text": [
      "RandomForestClassifier(max_depth=10, n_estimators=580, random_state=42) ->\n",
      "AUC: 0.8842\n",
      "Accuracy: 0.8506\n",
      "Precision: 0.7918\n",
      "recall: 0.4997\n",
      "F1: 0.6127\n",
      "\n"
     ]
    },
    {
     "data": {
      "text/plain": [
       "<sklearn.metrics._plot.confusion_matrix.ConfusionMatrixDisplay at 0x2563c816f10>"
      ]
     },
     "metadata": {},
     "output_type": "display_data"
    },
    {
     "name": "stderr",
     "output_type": "stream",
     "text": [
      "C:\\Users\\Lucas\\AppData\\Local\\Temp\\ipykernel_30076\\2547662930.py:1: FutureWarning: The frame.append method is deprecated and will be removed from pandas in a future version. Use pandas.concat instead.\n",
      "  res_df = res_df.append(pd.DataFrame(data=print_cv_metrics(rfclass), index=['RandomForest']))\n"
     ]
    },
    {
     "data": {
      "image/png": "[encoded data removed]",
      "text/plain": [
       "<Figure size 432x288 with 2 Axes>"
      ]
     },
     "metadata": {
      "needs_background": "light"
     },
     "output_type": "display_data"
    }
   ],
   "source": [
    "res_df = res_df.append(pd.DataFrame(data=print_cv_metrics(rfclass), index=['RandomForest']))"
   ]
  },
  {
   "cell_type": "code",
   "execution_count": 39,
   "id": "00def0bb",
   "metadata": {},
   "outputs": [
    {
     "name": "stdout",
     "output_type": "stream",
     "text": [
      "DecisionTreeClassifier(criterion='entropy', max_depth=8, min_samples_split=29,\n",
      "                       random_state=42) ->\n",
      "AUC: 0.8669\n",
      "Accuracy: 0.8435\n",
      "Precision: 0.7350\n",
      "recall: 0.5288\n",
      "F1: 0.6151\n",
      "\n"
     ]
    },
    {
     "data": {
      "text/plain": [
       "<sklearn.metrics._plot.confusion_matrix.ConfusionMatrixDisplay at 0x2563c7a7d30>"
      ]
     },
     "metadata": {},
     "output_type": "display_data"
    },
    {
     "name": "stderr",
     "output_type": "stream",
     "text": [
      "C:\\Users\\Lucas\\AppData\\Local\\Temp\\ipykernel_30076\\666425070.py:1: FutureWarning: The frame.append method is deprecated and will be removed from pandas in a future version. Use pandas.concat instead.\n",
      "  res_df = res_df.append(pd.DataFrame(data=print_cv_metrics(dtclass), index=['DecisionTree']))\n"
     ]
    },
    {
     "data": {
      "image/png": "[encoded data removed]",
      "text/plain": [
       "<Figure size 432x288 with 2 Axes>"
      ]
     },
     "metadata": {
      "needs_background": "light"
     },
     "output_type": "display_data"
    }
   ],
   "source": [
    "res_df = res_df.append(pd.DataFrame(data=print_cv_metrics(dtclass), index=['DecisionTree']))"
   ]
  },
  {
   "cell_type": "code",
   "execution_count": 40,
   "id": "498677c6",
   "metadata": {},
   "outputs": [
    {
     "name": "stdout",
     "output_type": "stream",
     "text": [
      "MLPClassifier(alpha=0.001310842476064518, early_stopping=True,\n",
      "              hidden_layer_sizes=(512, 256), learning_rate='adaptive') ->\n",
      "AUC: 0.8659\n",
      "Accuracy: 0.8311\n",
      "Precision: 0.6856\n",
      "recall: 0.5278\n",
      "F1: 0.5964\n",
      "\n"
     ]
    },
    {
     "data": {
      "text/plain": [
       "<sklearn.metrics._plot.confusion_matrix.ConfusionMatrixDisplay at 0x2563ca05b20>"
      ]
     },
     "metadata": {},
     "output_type": "display_data"
    },
    {
     "name": "stderr",
     "output_type": "stream",
     "text": [
      "C:\\Users\\Lucas\\AppData\\Local\\Temp\\ipykernel_30076\\2930082413.py:1: FutureWarning: The frame.append method is deprecated and will be removed from pandas in a future version. Use pandas.concat instead.\n",
      "  res_df = res_df.append(pd.DataFrame(data=print_cv_metrics(mlp2l), index=['MLP']))\n"
     ]
    },
    {
     "data": {
      "image/png": "[encoded data removed]",
      "text/plain": [
       "<Figure size 432x288 with 2 Axes>"
      ]
     },
     "metadata": {
      "needs_background": "light"
     },
     "output_type": "display_data"
    }
   ],
   "source": [
    "res_df = res_df.append(pd.DataFrame(data=print_cv_metrics(mlp2l), index=['MLP']))"
   ]
  },
  {
   "cell_type": "code",
   "execution_count": 41,
   "id": "050f3a50",
   "metadata": {},
   "outputs": [
    {
     "data": {
      "text/html": [
       "<div>\n",
       "<style scoped>\n",
       "    .dataframe tbody tr th:only-of-type {\n",
       "        vertical-align: middle;\n",
       "    }\n",
       "\n",
       "    .dataframe tbody tr th {\n",
       "        vertical-align: top;\n",
       "    }\n",
       "\n",
       "    .dataframe thead th {\n",
       "        text-align: right;\n",
       "    }\n",
       "</style>\n",
       "<table border=\"1\" class=\"dataframe\">\n",
       "  <thead>\n",
       "    <tr style=\"text-align: right;\">\n",
       "      <th></th>\n",
       "      <th>accuracy</th>\n",
       "      <th>precision</th>\n",
       "      <th>recall</th>\n",
       "      <th>f1</th>\n",
       "      <th>AUC</th>\n",
       "    </tr>\n",
       "  </thead>\n",
       "  <tbody>\n",
       "    <tr>\n",
       "      <th>DecisionTree</th>\n",
       "      <td>0.843489</td>\n",
       "      <td>0.735018</td>\n",
       "      <td>0.528831</td>\n",
       "      <td>0.615106</td>\n",
       "      <td>0.866863</td>\n",
       "    </tr>\n",
       "    <tr>\n",
       "      <th>RandomForest</th>\n",
       "      <td>0.850614</td>\n",
       "      <td>0.791770</td>\n",
       "      <td>0.499740</td>\n",
       "      <td>0.612739</td>\n",
       "      <td>0.884216</td>\n",
       "    </tr>\n",
       "    <tr>\n",
       "      <th>MLP</th>\n",
       "      <td>0.831081</td>\n",
       "      <td>0.685560</td>\n",
       "      <td>0.527792</td>\n",
       "      <td>0.596419</td>\n",
       "      <td>0.865930</td>\n",
       "    </tr>\n",
       "    <tr>\n",
       "      <th>logRes</th>\n",
       "      <td>0.826413</td>\n",
       "      <td>0.719931</td>\n",
       "      <td>0.435325</td>\n",
       "      <td>0.542570</td>\n",
       "      <td>0.848562</td>\n",
       "    </tr>\n",
       "    <tr>\n",
       "      <th>SVM</th>\n",
       "      <td>0.833538</td>\n",
       "      <td>0.953822</td>\n",
       "      <td>0.311169</td>\n",
       "      <td>0.469252</td>\n",
       "      <td>0.875026</td>\n",
       "    </tr>\n",
       "  </tbody>\n",
       "</table>\n",
       "</div>"
      ],
      "text/plain": [
       "              accuracy  precision    recall        f1       AUC\n",
       "DecisionTree  0.843489   0.735018  0.528831  0.615106  0.866863\n",
       "RandomForest  0.850614   0.791770  0.499740  0.612739  0.884216\n",
       "MLP           0.831081   0.685560  0.527792  0.596419  0.865930\n",
       "logRes        0.826413   0.719931  0.435325  0.542570  0.848562\n",
       "SVM           0.833538   0.953822  0.311169  0.469252  0.875026"
      ]
     },
     "execution_count": 41,
     "metadata": {},
     "output_type": "execute_result"
    }
   ],
   "source": [
    "res_df.sort_values('f1', ascending=False)"
   ]
  },
  {
   "cell_type": "markdown",
   "id": "de4e700e",
   "metadata": {},
   "source": [
    "### Trying XGB"
   ]
  },
  {
   "cell_type": "code",
   "execution_count": 42,
   "id": "6541e92a",
   "metadata": {},
   "outputs": [],
   "source": [
    "booster = xgb.XGBClassifier()"
   ]
  },
  {
   "cell_type": "code",
   "execution_count": 43,
   "id": "5fcc62e7",
   "metadata": {},
   "outputs": [
    {
     "data": {
      "text/html": [
       "<style>#sk-container-id-6 {color: black;background-color: white;}#sk-container-id-6 pre{padding: 0;}#sk-container-id-6 div.sk-toggleable {background-color: white;}#sk-container-id-6 label.sk-toggleable__label {cursor: pointer;display: block;width: 100%;margin-bottom: 0;padding: 0.3em;box-sizing: border-box;text-align: center;}#sk-container-id-6 label.sk-toggleable__label-arrow:before {content: \"▸\";float: left;margin-right: 0.25em;color: #696969;}#sk-container-id-6 label.sk-toggleable__label-arrow:hover:before {color: black;}#sk-container-id-6 div.sk-estimator:hover label.sk-toggleable__label-arrow:before {color: black;}#sk-container-id-6 div.sk-toggleable__content {max-height: 0;max-width: 0;overflow: hidden;text-align: left;background-color: #f0f8ff;}#sk-container-id-6 div.sk-toggleable__content pre {margin: 0.2em;color: black;border-radius: 0.25em;background-color: #f0f8ff;}#sk-container-id-6 input.sk-toggleable__control:checked~div.sk-toggleable__content {max-height: 200px;max-width: 100%;overflow: auto;}#sk-container-id-6 input.sk-toggleable__control:checked~label.sk-toggleable__label-arrow:before {content: \"▾\";}#sk-container-id-6 div.sk-estimator input.sk-toggleable__control:checked~label.sk-toggleable__label {background-color: #d4ebff;}#sk-container-id-6 div.sk-label input.sk-toggleable__control:checked~label.sk-toggleable__label {background-color: #d4ebff;}#sk-container-id-6 input.sk-hidden--visually {border: 0;clip: rect(1px 1px 1px 1px);clip: rect(1px, 1px, 1px, 1px);height: 1px;margin: -1px;overflow: hidden;padding: 0;position: absolute;width: 1px;}#sk-container-id-6 div.sk-estimator {font-family: monospace;background-color: #f0f8ff;border: 1px dotted black;border-radius: 0.25em;box-sizing: border-box;margin-bottom: 0.5em;}#sk-container-id-6 div.sk-estimator:hover {background-color: #d4ebff;}#sk-container-id-6 div.sk-parallel-item::after {content: \"\";width: 100%;border-bottom: 1px solid gray;flex-grow: 1;}#sk-container-id-6 div.sk-label:hover label.sk-toggleable__label {background-color: #d4ebff;}#sk-container-id-6 div.sk-serial::before {content: \"\";position: absolute;border-left: 1px solid gray;box-sizing: border-box;top: 0;bottom: 0;left: 50%;z-index: 0;}#sk-container-id-6 div.sk-serial {display: flex;flex-direction: column;align-items: center;background-color: white;padding-right: 0.2em;padding-left: 0.2em;position: relative;}#sk-container-id-6 div.sk-item {position: relative;z-index: 1;}#sk-container-id-6 div.sk-parallel {display: flex;align-items: stretch;justify-content: center;background-color: white;position: relative;}#sk-container-id-6 div.sk-item::before, #sk-container-id-6 div.sk-parallel-item::before {content: \"\";position: absolute;border-left: 1px solid gray;box-sizing: border-box;top: 0;bottom: 0;left: 50%;z-index: -1;}#sk-container-id-6 div.sk-parallel-item {display: flex;flex-direction: column;z-index: 1;position: relative;background-color: white;}#sk-container-id-6 div.sk-parallel-item:first-child::after {align-self: flex-end;width: 50%;}#sk-container-id-6 div.sk-parallel-item:last-child::after {align-self: flex-start;width: 50%;}#sk-container-id-6 div.sk-parallel-item:only-child::after {width: 0;}#sk-container-id-6 div.sk-dashed-wrapped {border: 1px dashed gray;margin: 0 0.4em 0.5em 0.4em;box-sizing: border-box;padding-bottom: 0.4em;background-color: white;}#sk-container-id-6 div.sk-label label {font-family: monospace;font-weight: bold;display: inline-block;line-height: 1.2em;}#sk-container-id-6 div.sk-label-container {text-align: center;}#sk-container-id-6 div.sk-container {/* jupyter's `normalize.less` sets `[hidden] { display: none; }` but bootstrap.min.css set `[hidden] { display: none !important; }` so we also need the `!important` here to be able to override the default hidden behavior on the sphinx rendered scikit-learn.org. See: https://github.com/scikit-learn/scikit-learn/issues/21755 */display: inline-block !important;position: relative;}#sk-container-id-6 div.sk-text-repr-fallback {display: none;}</style><div id=\"sk-container-id-6\" class=\"sk-top-container\"><div class=\"sk-text-repr-fallback\"><pre>XGBClassifier(base_score=0.5, booster=&#x27;gbtree&#x27;, callbacks=None,\n",
       "              colsample_bylevel=1, colsample_bynode=1, colsample_bytree=1,\n",
       "              early_stopping_rounds=None, enable_categorical=False,\n",
       "              eval_metric=None, gamma=0, gpu_id=-1, grow_policy=&#x27;depthwise&#x27;,\n",
       "              importance_type=None, interaction_constraints=&#x27;&#x27;,\n",
       "              learning_rate=0.300000012, max_bin=256, max_cat_to_onehot=4,\n",
       "              max_delta_step=0, max_depth=6, max_leaves=0, min_child_weight=1,\n",
       "              missing=nan, monotone_constraints=&#x27;()&#x27;, n_estimators=100,\n",
       "              n_jobs=0, num_parallel_tree=1, predictor=&#x27;auto&#x27;, random_state=0,\n",
       "              reg_alpha=0, reg_lambda=1, ...)</pre><b>In a Jupyter environment, please rerun this cell to show the HTML representation or trust the notebook. <br />On GitHub, the HTML representation is unable to render, please try loading this page with nbviewer.org.</b></div><div class=\"sk-container\" hidden><div class=\"sk-item\"><div class=\"sk-estimator sk-toggleable\"><input class=\"sk-toggleable__control sk-hidden--visually\" id=\"sk-estimator-id-6\" type=\"checkbox\" checked><label for=\"sk-estimator-id-6\" class=\"sk-toggleable__label sk-toggleable__label-arrow\">XGBClassifier</label><div class=\"sk-toggleable__content\"><pre>XGBClassifier(base_score=0.5, booster=&#x27;gbtree&#x27;, callbacks=None,\n",
       "              colsample_bylevel=1, colsample_bynode=1, colsample_bytree=1,\n",
       "              early_stopping_rounds=None, enable_categorical=False,\n",
       "              eval_metric=None, gamma=0, gpu_id=-1, grow_policy=&#x27;depthwise&#x27;,\n",
       "              importance_type=None, interaction_constraints=&#x27;&#x27;,\n",
       "              learning_rate=0.300000012, max_bin=256, max_cat_to_onehot=4,\n",
       "              max_delta_step=0, max_depth=6, max_leaves=0, min_child_weight=1,\n",
       "              missing=nan, monotone_constraints=&#x27;()&#x27;, n_estimators=100,\n",
       "              n_jobs=0, num_parallel_tree=1, predictor=&#x27;auto&#x27;, random_state=0,\n",
       "              reg_alpha=0, reg_lambda=1, ...)</pre></div></div></div></div></div>"
      ],
      "text/plain": [
       "XGBClassifier(base_score=0.5, booster='gbtree', callbacks=None,\n",
       "              colsample_bylevel=1, colsample_bynode=1, colsample_bytree=1,\n",
       "              early_stopping_rounds=None, enable_categorical=False,\n",
       "              eval_metric=None, gamma=0, gpu_id=-1, grow_policy='depthwise',\n",
       "              importance_type=None, interaction_constraints='',\n",
       "              learning_rate=0.300000012, max_bin=256, max_cat_to_onehot=4,\n",
       "              max_delta_step=0, max_depth=6, max_leaves=0, min_child_weight=1,\n",
       "              missing=nan, monotone_constraints='()', n_estimators=100,\n",
       "              n_jobs=0, num_parallel_tree=1, predictor='auto', random_state=0,\n",
       "              reg_alpha=0, reg_lambda=1, ...)"
      ]
     },
     "execution_count": 43,
     "metadata": {},
     "output_type": "execute_result"
    }
   ],
   "source": [
    "booster.fit(X_train, y_train)"
   ]
  },
  {
   "cell_type": "code",
   "execution_count": 44,
   "id": "2108f284",
   "metadata": {},
   "outputs": [
    {
     "data": {
      "text/plain": [
       "0.8614660114660114"
      ]
     },
     "execution_count": 44,
     "metadata": {},
     "output_type": "execute_result"
    }
   ],
   "source": [
    "booster.score(X_train, y_train)"
   ]
  },
  {
   "cell_type": "code",
   "execution_count": 45,
   "id": "656e6546",
   "metadata": {},
   "outputs": [
    {
     "name": "stdout",
     "output_type": "stream",
     "text": [
      "XGBClassifier(base_score=0.5, booster='gbtree', callbacks=None,\n",
      "              colsample_bylevel=1, colsample_bynode=1, colsample_bytree=1,\n",
      "              early_stopping_rounds=None, enable_categorical=False,\n",
      "              eval_metric=None, gamma=0, gpu_id=-1, grow_policy='depthwise',\n",
      "              importance_type=None, interaction_constraints='',\n",
      "              learning_rate=0.300000012, max_bin=256, max_cat_to_onehot=4,\n",
      "              max_delta_step=0, max_depth=6, max_leaves=0, min_child_weight=1,\n",
      "              missing=nan, monotone_constraints='()', n_estimators=100,\n",
      "              n_jobs=0, num_parallel_tree=1, predictor='auto', random_state=0,\n",
      "              reg_alpha=0, reg_lambda=1, ...) ->\n",
      "AUC: 0.8951\n",
      "Accuracy: 0.8566\n",
      "Precision: 0.7880\n",
      "recall: 0.5387\n",
      "F1: 0.6399\n",
      "\n"
     ]
    },
    {
     "data": {
      "text/plain": [
       "<sklearn.metrics._plot.confusion_matrix.ConfusionMatrixDisplay at 0x2563c7c7bb0>"
      ]
     },
     "metadata": {},
     "output_type": "display_data"
    },
    {
     "name": "stderr",
     "output_type": "stream",
     "text": [
      "C:\\Users\\Lucas\\AppData\\Local\\Temp\\ipykernel_30076\\3773494989.py:1: FutureWarning: The frame.append method is deprecated and will be removed from pandas in a future version. Use pandas.concat instead.\n",
      "  res_df = res_df.append(pd.DataFrame(data=print_cv_metrics(booster), index=['XGB default']))\n"
     ]
    },
    {
     "data": {
      "image/png": "[encoded data removed]",
      "text/plain": [
       "<Figure size 432x288 with 2 Axes>"
      ]
     },
     "metadata": {
      "needs_background": "light"
     },
     "output_type": "display_data"
    }
   ],
   "source": [
    "res_df = res_df.append(pd.DataFrame(data=print_cv_metrics(booster), index=['XGB default']))"
   ]
  },
  {
   "cell_type": "code",
   "execution_count": 46,
   "id": "ab3d2513",
   "metadata": {},
   "outputs": [
    {
     "data": {
      "text/html": [
       "<div>\n",
       "<style scoped>\n",
       "    .dataframe tbody tr th:only-of-type {\n",
       "        vertical-align: middle;\n",
       "    }\n",
       "\n",
       "    .dataframe tbody tr th {\n",
       "        vertical-align: top;\n",
       "    }\n",
       "\n",
       "    .dataframe thead th {\n",
       "        text-align: right;\n",
       "    }\n",
       "</style>\n",
       "<table border=\"1\" class=\"dataframe\">\n",
       "  <thead>\n",
       "    <tr style=\"text-align: right;\">\n",
       "      <th></th>\n",
       "      <th>accuracy</th>\n",
       "      <th>precision</th>\n",
       "      <th>recall</th>\n",
       "      <th>f1</th>\n",
       "      <th>AUC</th>\n",
       "    </tr>\n",
       "  </thead>\n",
       "  <tbody>\n",
       "    <tr>\n",
       "      <th>XGB default</th>\n",
       "      <td>0.856634</td>\n",
       "      <td>0.787994</td>\n",
       "      <td>0.538701</td>\n",
       "      <td>0.639926</td>\n",
       "      <td>0.895065</td>\n",
       "    </tr>\n",
       "    <tr>\n",
       "      <th>DecisionTree</th>\n",
       "      <td>0.843489</td>\n",
       "      <td>0.735018</td>\n",
       "      <td>0.528831</td>\n",
       "      <td>0.615106</td>\n",
       "      <td>0.866863</td>\n",
       "    </tr>\n",
       "    <tr>\n",
       "      <th>RandomForest</th>\n",
       "      <td>0.850614</td>\n",
       "      <td>0.791770</td>\n",
       "      <td>0.499740</td>\n",
       "      <td>0.612739</td>\n",
       "      <td>0.884216</td>\n",
       "    </tr>\n",
       "    <tr>\n",
       "      <th>MLP</th>\n",
       "      <td>0.831081</td>\n",
       "      <td>0.685560</td>\n",
       "      <td>0.527792</td>\n",
       "      <td>0.596419</td>\n",
       "      <td>0.865930</td>\n",
       "    </tr>\n",
       "    <tr>\n",
       "      <th>logRes</th>\n",
       "      <td>0.826413</td>\n",
       "      <td>0.719931</td>\n",
       "      <td>0.435325</td>\n",
       "      <td>0.542570</td>\n",
       "      <td>0.848562</td>\n",
       "    </tr>\n",
       "    <tr>\n",
       "      <th>SVM</th>\n",
       "      <td>0.833538</td>\n",
       "      <td>0.953822</td>\n",
       "      <td>0.311169</td>\n",
       "      <td>0.469252</td>\n",
       "      <td>0.875026</td>\n",
       "    </tr>\n",
       "  </tbody>\n",
       "</table>\n",
       "</div>"
      ],
      "text/plain": [
       "              accuracy  precision    recall        f1       AUC\n",
       "XGB default   0.856634   0.787994  0.538701  0.639926  0.895065\n",
       "DecisionTree  0.843489   0.735018  0.528831  0.615106  0.866863\n",
       "RandomForest  0.850614   0.791770  0.499740  0.612739  0.884216\n",
       "MLP           0.831081   0.685560  0.527792  0.596419  0.865930\n",
       "logRes        0.826413   0.719931  0.435325  0.542570  0.848562\n",
       "SVM           0.833538   0.953822  0.311169  0.469252  0.875026"
      ]
     },
     "execution_count": 46,
     "metadata": {},
     "output_type": "execute_result"
    }
   ],
   "source": [
    "res_df.sort_values('f1', ascending=False)"
   ]
  },
  {
   "cell_type": "markdown",
   "id": "4b44775c",
   "metadata": {},
   "source": [
    "### Optimize XGB with optuna"
   ]
  },
  {
   "cell_type": "code",
   "execution_count": 136,
   "id": "d574d537",
   "metadata": {},
   "outputs": [],
   "source": [
    "dtrain = xgb.DMatrix(X_train, label=y_train)\n",
    "dvalid = xgb.DMatrix(X_val, label=y_val)"
   ]
  },
  {
   "cell_type": "code",
   "execution_count": 179,
   "id": "8ba194a1",
   "metadata": {},
   "outputs": [],
   "source": [
    "def objective(score_function, trial):\n",
    "    param = {\n",
    "        'eval_metric': 'auc',\n",
    "        'objective': 'binary:logistic',\n",
    "        'verbosity': 0,\n",
    "        'booster': trial.suggest_categorical('booster', ['gbtree', 'gblinear', 'dart']),\n",
    "        'lambda': trial.suggest_float('lambda', 1e-8, 1.0, log=True),\n",
    "        'alpha': trial.suggest_float('alpha', 1e-8, 1.0, log=True),\n",
    "        'learning_rate': trial.suggest_float('learning_rate', 0.01, 1.0, log=True),\n",
    "        'gamma': trial.suggest_float('gamma', 1e-5, 1e3, log=True),\n",
    "        'n_estimators': trial.suggest_int('n_estimators', 10, 1000),\n",
    "        'max_depth': trial.suggest_int('max_depth', 1, 10),\n",
    "        'min_child_weight': trial.suggest_float('min_child_weight', 0, 10),\n",
    "        'scale_pos_weight': trial.suggest_float('min_child_weight', 1e-1, 10)\n",
    "    }\n",
    "    pruner = optuna.integration.XGBoostPruningCallback(trial, 'validation-auc')\n",
    "    booster = xgb.train(param, dtrain, evals=[(dvalid, 'validation')], callbacks=[pruner], verbose_eval=False)\n",
    "    return score_function(y_val, booster.predict(dvalid).round())"
   ]
  },
  {
   "cell_type": "code",
   "execution_count": 180,
   "id": "6c6554cd",
   "metadata": {},
   "outputs": [],
   "source": [
    "objective_accuracy = partial(objective, accuracy_score)\n",
    "objective_f1 = partial(objective, f1_score)"
   ]
  },
  {
   "cell_type": "code",
   "execution_count": 181,
   "id": "ba60e085",
   "metadata": {},
   "outputs": [],
   "source": [
    "def make_booster(params):\n",
    "    booster = xgb.XGBClassifier(**params)\n",
    "    booster.fit(X_train, y_train)\n",
    "    train_score = booster.score(X_train, y_train)\n",
    "    print(f'{train_score=}')\n",
    "    return booster"
   ]
  },
  {
   "cell_type": "code",
   "execution_count": 182,
   "id": "24558f64",
   "metadata": {
    "scrolled": true
   },
   "outputs": [],
   "source": [
    "def optimize_params(objective_function):\n",
    "    study = optuna.create_study(\n",
    "        direction='maximize',\n",
    "        pruner=optuna.pruners.MedianPruner(\n",
    "            n_startup_trials=30, n_warmup_steps=30, interval_steps=10\n",
    "        )\n",
    "    )\n",
    "    study.optimize(objective_function, n_trials=300)\n",
    "    return study.best_params"
   ]
  },
  {
   "cell_type": "code",
   "execution_count": 183,
   "id": "d6a326ff",
   "metadata": {},
   "outputs": [
    {
     "name": "stderr",
     "output_type": "stream",
     "text": [
      "\u001b[32m[I 2022-05-29 22:51:00,976]\u001b[0m A new study created in memory with name: no-name-b742286b-ead2-4271-8713-c22e4a64e83c\u001b[0m\n",
      "C:\\Users\\Lucas\\anaconda3\\lib\\site-packages\\optuna\\trial\\_trial.py:772: RuntimeWarning: Inconsistent parameter values for distribution with name \"min_child_weight\"! This might be a configuration mistake. Optuna allows to call the same distribution with the same name more then once in a trial. When the parameter values are inconsistent optuna only uses the values of the first call and ignores all following. Using these values: {'low': 0.0, 'high': 10.0}\n",
      "  warnings.warn(\n",
      "\u001b[32m[I 2022-05-29 22:51:01,033]\u001b[0m Trial 0 finished with value: 0.7518427518427518 and parameters: {'booster': 'dart', 'lambda': 0.00981017203853039, 'alpha': 2.8809996304291282e-06, 'learning_rate': 0.27388585135699006, 'gamma': 0.02191919066914053, 'n_estimators': 805, 'max_depth': 6, 'min_child_weight': 4.0168541585749935}. Best is trial 0 with value: 0.7518427518427518.\u001b[0m\n",
      "C:\\Users\\Lucas\\anaconda3\\lib\\site-packages\\optuna\\trial\\_trial.py:772: RuntimeWarning: Inconsistent parameter values for distribution with name \"min_child_weight\"! This might be a configuration mistake. Optuna allows to call the same distribution with the same name more then once in a trial. When the parameter values are inconsistent optuna only uses the values of the first call and ignores all following. Using these values: {'low': 0.0, 'high': 10.0}\n",
      "  warnings.warn(\n",
      "\u001b[32m[I 2022-05-29 22:51:01,056]\u001b[0m Trial 1 finished with value: 0.6524570024570024 and parameters: {'booster': 'gblinear', 'lambda': 0.05114327452873818, 'alpha': 0.13389637976026858, 'learning_rate': 0.08628564332256076, 'gamma': 1.3330548074631458e-05, 'n_estimators': 176, 'max_depth': 7, 'min_child_weight': 3.561259429777097}. Best is trial 0 with value: 0.7518427518427518.\u001b[0m\n",
      "C:\\Users\\Lucas\\anaconda3\\lib\\site-packages\\optuna\\trial\\_trial.py:772: RuntimeWarning: Inconsistent parameter values for distribution with name \"min_child_weight\"! This might be a configuration mistake. Optuna allows to call the same distribution with the same name more then once in a trial. When the parameter values are inconsistent optuna only uses the values of the first call and ignores all following. Using these values: {'low': 0.0, 'high': 10.0}\n",
      "  warnings.warn(\n",
      "\u001b[32m[I 2022-05-29 22:51:01,124]\u001b[0m Trial 2 finished with value: 0.8292383292383292 and parameters: {'booster': 'gbtree', 'lambda': 7.113347384894909e-05, 'alpha': 0.00023770344619295603, 'learning_rate': 0.09295496473089902, 'gamma': 208.7202758075679, 'n_estimators': 560, 'max_depth': 10, 'min_child_weight': 2.0048946612537244}. Best is trial 2 with value: 0.8292383292383292.\u001b[0m\n",
      "C:\\Users\\Lucas\\anaconda3\\lib\\site-packages\\optuna\\trial\\_trial.py:772: RuntimeWarning: Inconsistent parameter values for distribution with name \"min_child_weight\"! This might be a configuration mistake. Optuna allows to call the same distribution with the same name more then once in a trial. When the parameter values are inconsistent optuna only uses the values of the first call and ignores all following. Using these values: {'low': 0.0, 'high': 10.0}\n",
      "  warnings.warn(\n",
      "\u001b[32m[I 2022-05-29 22:51:01,147]\u001b[0m Trial 3 finished with value: 0.5925061425061425 and parameters: {'booster': 'gblinear', 'lambda': 0.004297125827131258, 'alpha': 0.004387704756226525, 'learning_rate': 0.2997867172669594, 'gamma': 11.490349297084974, 'n_estimators': 402, 'max_depth': 6, 'min_child_weight': 7.631708280380089}. Best is trial 2 with value: 0.8292383292383292.\u001b[0m\n",
      "C:\\Users\\Lucas\\anaconda3\\lib\\site-packages\\optuna\\trial\\_trial.py:772: RuntimeWarning: Inconsistent parameter values for distribution with name \"min_child_weight\"! This might be a configuration mistake. Optuna allows to call the same distribution with the same name more then once in a trial. When the parameter values are inconsistent optuna only uses the values of the first call and ignores all following. Using these values: {'low': 0.0, 'high': 10.0}\n",
      "  warnings.warn(\n",
      "\u001b[32m[I 2022-05-29 22:51:01,205]\u001b[0m Trial 4 finished with value: 0.6469287469287469 and parameters: {'booster': 'dart', 'lambda': 2.4129702858870344e-05, 'alpha': 7.766968718318319e-07, 'learning_rate': 0.327186354894098, 'gamma': 0.00022613378855519092, 'n_estimators': 315, 'max_depth': 6, 'min_child_weight': 8.533920189331727}. Best is trial 2 with value: 0.8292383292383292.\u001b[0m\n",
      "C:\\Users\\Lucas\\anaconda3\\lib\\site-packages\\optuna\\trial\\_trial.py:772: RuntimeWarning: Inconsistent parameter values for distribution with name \"min_child_weight\"! This might be a configuration mistake. Optuna allows to call the same distribution with the same name more then once in a trial. When the parameter values are inconsistent optuna only uses the values of the first call and ignores all following. Using these values: {'low': 0.0, 'high': 10.0}\n",
      "  warnings.warn(\n",
      "\u001b[32m[I 2022-05-29 22:51:01,229]\u001b[0m Trial 5 finished with value: 0.49938574938574937 and parameters: {'booster': 'gblinear', 'lambda': 1.3252148698999059e-06, 'alpha': 0.0006386494288549117, 'learning_rate': 0.0256159807058971, 'gamma': 116.70380250762318, 'n_estimators': 378, 'max_depth': 3, 'min_child_weight': 8.507343896179833}. Best is trial 2 with value: 0.8292383292383292.\u001b[0m\n",
      "C:\\Users\\Lucas\\anaconda3\\lib\\site-packages\\optuna\\trial\\_trial.py:772: RuntimeWarning: Inconsistent parameter values for distribution with name \"min_child_weight\"! This might be a configuration mistake. Optuna allows to call the same distribution with the same name more then once in a trial. When the parameter values are inconsistent optuna only uses the values of the first call and ignores all following. Using these values: {'low': 0.0, 'high': 10.0}\n",
      "  warnings.warn(\n",
      "\u001b[32m[I 2022-05-29 22:51:01,296]\u001b[0m Trial 6 finished with value: 0.62997542997543 and parameters: {'booster': 'dart', 'lambda': 0.019480449438349815, 'alpha': 1.8035158348567666e-06, 'learning_rate': 0.5694080631423959, 'gamma': 18.831286327781154, 'n_estimators': 492, 'max_depth': 8, 'min_child_weight': 9.813288407685617}. Best is trial 2 with value: 0.8292383292383292.\u001b[0m\n",
      "C:\\Users\\Lucas\\anaconda3\\lib\\site-packages\\optuna\\trial\\_trial.py:772: RuntimeWarning: Inconsistent parameter values for distribution with name \"min_child_weight\"! This might be a configuration mistake. Optuna allows to call the same distribution with the same name more then once in a trial. When the parameter values are inconsistent optuna only uses the values of the first call and ignores all following. Using these values: {'low': 0.0, 'high': 10.0}\n",
      "  warnings.warn(\n",
      "\u001b[32m[I 2022-05-29 22:51:01,337]\u001b[0m Trial 7 finished with value: 0.8367321867321867 and parameters: {'booster': 'dart', 'lambda': 0.8085067044418542, 'alpha': 6.468189087430526e-08, 'learning_rate': 0.07489192435148825, 'gamma': 1.681388921578573e-05, 'n_estimators': 842, 'max_depth': 3, 'min_child_weight': 1.5862541611811887}. Best is trial 7 with value: 0.8367321867321867.\u001b[0m\n",
      "C:\\Users\\Lucas\\anaconda3\\lib\\site-packages\\optuna\\trial\\_trial.py:772: RuntimeWarning: Inconsistent parameter values for distribution with name \"min_child_weight\"! This might be a configuration mistake. Optuna allows to call the same distribution with the same name more then once in a trial. When the parameter values are inconsistent optuna only uses the values of the first call and ignores all following. Using these values: {'low': 0.0, 'high': 10.0}\n",
      "  warnings.warn(\n",
      "\u001b[32m[I 2022-05-29 22:51:01,384]\u001b[0m Trial 8 finished with value: 0.6933660933660933 and parameters: {'booster': 'gbtree', 'lambda': 4.2497970659474347e-07, 'alpha': 0.0030503847422591237, 'learning_rate': 0.02877572813434555, 'gamma': 0.04127766219697393, 'n_estimators': 453, 'max_depth': 7, 'min_child_weight': 7.026991121548585}. Best is trial 7 with value: 0.8367321867321867.\u001b[0m\n",
      "C:\\Users\\Lucas\\anaconda3\\lib\\site-packages\\optuna\\trial\\_trial.py:772: RuntimeWarning: Inconsistent parameter values for distribution with name \"min_child_weight\"! This might be a configuration mistake. Optuna allows to call the same distribution with the same name more then once in a trial. When the parameter values are inconsistent optuna only uses the values of the first call and ignores all following. Using these values: {'low': 0.0, 'high': 10.0}\n",
      "  warnings.warn(\n",
      "\u001b[32m[I 2022-05-29 22:51:01,406]\u001b[0m Trial 9 finished with value: 0.635995085995086 and parameters: {'booster': 'gblinear', 'lambda': 0.00012489212098725424, 'alpha': 0.003188840940595671, 'learning_rate': 0.031156408153590234, 'gamma': 0.0001362178419113193, 'n_estimators': 849, 'max_depth': 6, 'min_child_weight': 3.8383489349257482}. Best is trial 7 with value: 0.8367321867321867.\u001b[0m\n"
     ]
    },
    {
     "name": "stderr",
     "output_type": "stream",
     "text": [
      "C:\\Users\\Lucas\\anaconda3\\lib\\site-packages\\optuna\\trial\\_trial.py:772: RuntimeWarning: Inconsistent parameter values for distribution with name \"min_child_weight\"! This might be a configuration mistake. Optuna allows to call the same distribution with the same name more then once in a trial. When the parameter values are inconsistent optuna only uses the values of the first call and ignores all following. Using these values: {'low': 0.0, 'high': 10.0}\n",
      "  warnings.warn(\n",
      "\u001b[32m[I 2022-05-29 22:51:01,457]\u001b[0m Trial 10 finished with value: 0.8046683046683046 and parameters: {'booster': 'dart', 'lambda': 0.6049103262894152, 'alpha': 1.8418208777498805e-08, 'learning_rate': 0.010468110147581233, 'gamma': 0.0031448158171672323, 'n_estimators': 993, 'max_depth': 1, 'min_child_weight': 0.19408475630939526}. Best is trial 7 with value: 0.8367321867321867.\u001b[0m\n",
      "C:\\Users\\Lucas\\anaconda3\\lib\\site-packages\\optuna\\trial\\_trial.py:772: RuntimeWarning: Inconsistent parameter values for distribution with name \"min_child_weight\"! This might be a configuration mistake. Optuna allows to call the same distribution with the same name more then once in a trial. When the parameter values are inconsistent optuna only uses the values of the first call and ignores all following. Using these values: {'low': 0.0, 'high': 10.0}\n",
      "  warnings.warn(\n",
      "\u001b[32m[I 2022-05-29 22:51:01,547]\u001b[0m Trial 11 finished with value: 0.8496314496314497 and parameters: {'booster': 'gbtree', 'lambda': 0.00010573997454456209, 'alpha': 7.081680461950775e-05, 'learning_rate': 0.0971153492212145, 'gamma': 0.8116340260632229, 'n_estimators': 771, 'max_depth': 10, 'min_child_weight': 0.9866348007173044}. Best is trial 11 with value: 0.8496314496314497.\u001b[0m\n",
      "C:\\Users\\Lucas\\anaconda3\\lib\\site-packages\\optuna\\trial\\_trial.py:772: RuntimeWarning: Inconsistent parameter values for distribution with name \"min_child_weight\"! This might be a configuration mistake. Optuna allows to call the same distribution with the same name more then once in a trial. When the parameter values are inconsistent optuna only uses the values of the first call and ignores all following. Using these values: {'low': 0.0, 'high': 10.0}\n",
      "  warnings.warn(\n",
      "\u001b[32m[I 2022-05-29 22:51:01,590]\u001b[0m Trial 12 finished with value: 0.792014742014742 and parameters: {'booster': 'gbtree', 'lambda': 0.7285048849040389, 'alpha': 2.3133166972804247e-08, 'learning_rate': 0.14136055488556187, 'gamma': 0.9152553342924581, 'n_estimators': 680, 'max_depth': 3, 'min_child_weight': 0.0074067592853980235}. Best is trial 11 with value: 0.8496314496314497.\u001b[0m\n",
      "C:\\Users\\Lucas\\anaconda3\\lib\\site-packages\\optuna\\trial\\_trial.py:772: RuntimeWarning: Inconsistent parameter values for distribution with name \"min_child_weight\"! This might be a configuration mistake. Optuna allows to call the same distribution with the same name more then once in a trial. When the parameter values are inconsistent optuna only uses the values of the first call and ignores all following. Using these values: {'low': 0.0, 'high': 10.0}\n",
      "  warnings.warn(\n",
      "\u001b[32m[I 2022-05-29 22:51:01,639]\u001b[0m Trial 13 finished with value: 0.8356265356265357 and parameters: {'booster': 'gbtree', 'lambda': 0.0007631504491032019, 'alpha': 1.5328095274489473e-05, 'learning_rate': 0.07654115705205833, 'gamma': 0.49636796900258234, 'n_estimators': 714, 'max_depth': 3, 'min_child_weight': 1.7878284918947078}. Best is trial 11 with value: 0.8496314496314497.\u001b[0m\n",
      "C:\\Users\\Lucas\\anaconda3\\lib\\site-packages\\optuna\\trial\\_trial.py:772: RuntimeWarning: Inconsistent parameter values for distribution with name \"min_child_weight\"! This might be a configuration mistake. Optuna allows to call the same distribution with the same name more then once in a trial. When the parameter values are inconsistent optuna only uses the values of the first call and ignores all following. Using these values: {'low': 0.0, 'high': 10.0}\n",
      "  warnings.warn(\n",
      "\u001b[32m[I 2022-05-29 22:51:01,746]\u001b[0m Trial 14 finished with value: 0.8087223587223588 and parameters: {'booster': 'dart', 'lambda': 1.0214065439574275e-08, 'alpha': 0.7428298699620958, 'learning_rate': 0.04638320404455957, 'gamma': 1.3245420835787622, 'n_estimators': 983, 'max_depth': 10, 'min_child_weight': 2.1194140813708424}. Best is trial 11 with value: 0.8496314496314497.\u001b[0m\n",
      "C:\\Users\\Lucas\\anaconda3\\lib\\site-packages\\optuna\\trial\\_trial.py:772: RuntimeWarning: Inconsistent parameter values for distribution with name \"min_child_weight\"! This might be a configuration mistake. Optuna allows to call the same distribution with the same name more then once in a trial. When the parameter values are inconsistent optuna only uses the values of the first call and ignores all following. Using these values: {'low': 0.0, 'high': 10.0}\n",
      "  warnings.warn(\n",
      "\u001b[32m[I 2022-05-29 22:51:01,799]\u001b[0m Trial 15 finished with value: 0.698034398034398 and parameters: {'booster': 'gbtree', 'lambda': 3.763349829982202e-06, 'alpha': 8.54756360216955e-08, 'learning_rate': 0.17984192475948668, 'gamma': 0.0042184099461918066, 'n_estimators': 648, 'max_depth': 4, 'min_child_weight': 5.11320645424254}. Best is trial 11 with value: 0.8496314496314497.\u001b[0m\n",
      "C:\\Users\\Lucas\\anaconda3\\lib\\site-packages\\optuna\\trial\\_trial.py:772: RuntimeWarning: Inconsistent parameter values for distribution with name \"min_child_weight\"! This might be a configuration mistake. Optuna allows to call the same distribution with the same name more then once in a trial. When the parameter values are inconsistent optuna only uses the values of the first call and ignores all following. Using these values: {'low': 0.0, 'high': 10.0}\n",
      "  warnings.warn(\n",
      "\u001b[32m[I 2022-05-29 22:51:01,854]\u001b[0m Trial 16 finished with value: 0.806019656019656 and parameters: {'booster': 'dart', 'lambda': 7.701014761999301e-08, 'alpha': 2.9135416335537915e-05, 'learning_rate': 0.05533357719109165, 'gamma': 1.113987751587089e-05, 'n_estimators': 853, 'max_depth': 1, 'min_child_weight': 0.9810716663866232}. Best is trial 11 with value: 0.8496314496314497.\u001b[0m\n",
      "C:\\Users\\Lucas\\anaconda3\\lib\\site-packages\\optuna\\trial\\_trial.py:772: RuntimeWarning: Inconsistent parameter values for distribution with name \"min_child_weight\"! This might be a configuration mistake. Optuna allows to call the same distribution with the same name more then once in a trial. When the parameter values are inconsistent optuna only uses the values of the first call and ignores all following. Using these values: {'low': 0.0, 'high': 10.0}\n",
      "  warnings.warn(\n",
      "\u001b[32m[I 2022-05-29 22:51:01,943]\u001b[0m Trial 17 finished with value: 0.7636363636363637 and parameters: {'booster': 'gbtree', 'lambda': 0.0004923820486669414, 'alpha': 2.494104492868247e-07, 'learning_rate': 0.013567410208375407, 'gamma': 0.0006850890545755531, 'n_estimators': 578, 'max_depth': 9, 'min_child_weight': 2.8579985539739545}. Best is trial 11 with value: 0.8496314496314497.\u001b[0m\n",
      "C:\\Users\\Lucas\\anaconda3\\lib\\site-packages\\optuna\\trial\\_trial.py:772: RuntimeWarning: Inconsistent parameter values for distribution with name \"min_child_weight\"! This might be a configuration mistake. Optuna allows to call the same distribution with the same name more then once in a trial. When the parameter values are inconsistent optuna only uses the values of the first call and ignores all following. Using these values: {'low': 0.0, 'high': 10.0}\n",
      "  warnings.warn(\n",
      "\u001b[32m[I 2022-05-29 22:51:02,002]\u001b[0m Trial 18 finished with value: 0.6825552825552825 and parameters: {'booster': 'gbtree', 'lambda': 0.09611103856897646, 'alpha': 1.7130882906972122e-05, 'learning_rate': 0.1494621379493088, 'gamma': 0.13160856470845014, 'n_estimators': 774, 'max_depth': 4, 'min_child_weight': 5.69253723829485}. Best is trial 11 with value: 0.8496314496314497.\u001b[0m\n",
      "C:\\Users\\Lucas\\anaconda3\\lib\\site-packages\\optuna\\trial\\_trial.py:772: RuntimeWarning: Inconsistent parameter values for distribution with name \"min_child_weight\"! This might be a configuration mistake. Optuna allows to call the same distribution with the same name more then once in a trial. When the parameter values are inconsistent optuna only uses the values of the first call and ignores all following. Using these values: {'low': 0.0, 'high': 10.0}\n",
      "  warnings.warn(\n",
      "\u001b[32m[I 2022-05-29 22:51:02,074]\u001b[0m Trial 19 finished with value: 0.8503685503685504 and parameters: {'booster': 'dart', 'lambda': 0.0009039761839836643, 'alpha': 0.02804544263145116, 'learning_rate': 0.6601718168455992, 'gamma': 6.415851515772347, 'n_estimators': 937, 'max_depth': 4, 'min_child_weight': 1.246867429294714}. Best is trial 19 with value: 0.8503685503685504.\u001b[0m\n"
     ]
    },
    {
     "name": "stderr",
     "output_type": "stream",
     "text": [
      "C:\\Users\\Lucas\\anaconda3\\lib\\site-packages\\optuna\\trial\\_trial.py:772: RuntimeWarning: Inconsistent parameter values for distribution with name \"min_child_weight\"! This might be a configuration mistake. Optuna allows to call the same distribution with the same name more then once in a trial. When the parameter values are inconsistent optuna only uses the values of the first call and ignores all following. Using these values: {'low': 0.0, 'high': 10.0}\n",
      "  warnings.warn(\n",
      "\u001b[32m[I 2022-05-29 22:51:02,129]\u001b[0m Trial 20 finished with value: 0.806019656019656 and parameters: {'booster': 'gbtree', 'lambda': 1.0226885905497061e-05, 'alpha': 0.023876016316499465, 'learning_rate': 0.7951381776872917, 'gamma': 704.0700112133557, 'n_estimators': 903, 'max_depth': 5, 'min_child_weight': 0.7395068116912871}. Best is trial 19 with value: 0.8503685503685504.\u001b[0m\n",
      "C:\\Users\\Lucas\\anaconda3\\lib\\site-packages\\optuna\\trial\\_trial.py:772: RuntimeWarning: Inconsistent parameter values for distribution with name \"min_child_weight\"! This might be a configuration mistake. Optuna allows to call the same distribution with the same name more then once in a trial. When the parameter values are inconsistent optuna only uses the values of the first call and ignores all following. Using these values: {'low': 0.0, 'high': 10.0}\n",
      "  warnings.warn(\n",
      "\u001b[32m[I 2022-05-29 22:51:02,185]\u001b[0m Trial 21 finished with value: 0.806019656019656 and parameters: {'booster': 'dart', 'lambda': 0.0014842375093962407, 'alpha': 0.03718089875728289, 'learning_rate': 0.05013968258884791, 'gamma': 7.548753941416489, 'n_estimators': 921, 'max_depth': 2, 'min_child_weight': 1.217906883528453}. Best is trial 19 with value: 0.8503685503685504.\u001b[0m\n",
      "C:\\Users\\Lucas\\anaconda3\\lib\\site-packages\\optuna\\trial\\_trial.py:772: RuntimeWarning: Inconsistent parameter values for distribution with name \"min_child_weight\"! This might be a configuration mistake. Optuna allows to call the same distribution with the same name more then once in a trial. When the parameter values are inconsistent optuna only uses the values of the first call and ignores all following. Using these values: {'low': 0.0, 'high': 10.0}\n",
      "  warnings.warn(\n",
      "\u001b[32m[I 2022-05-29 22:51:02,251]\u001b[0m Trial 22 finished with value: 0.794963144963145 and parameters: {'booster': 'dart', 'lambda': 0.0002764010948078777, 'alpha': 0.00010552152870855354, 'learning_rate': 0.21748313841470188, 'gamma': 4.8421220078749565, 'n_estimators': 38, 'max_depth': 4, 'min_child_weight': 2.838035001391724}. Best is trial 19 with value: 0.8503685503685504.\u001b[0m\n",
      "C:\\Users\\Lucas\\anaconda3\\lib\\site-packages\\optuna\\trial\\_trial.py:772: RuntimeWarning: Inconsistent parameter values for distribution with name \"min_child_weight\"! This might be a configuration mistake. Optuna allows to call the same distribution with the same name more then once in a trial. When the parameter values are inconsistent optuna only uses the values of the first call and ignores all following. Using these values: {'low': 0.0, 'high': 10.0}\n",
      "  warnings.warn(\n",
      "\u001b[32m[I 2022-05-29 22:51:02,306]\u001b[0m Trial 23 finished with value: 0.8014742014742015 and parameters: {'booster': 'dart', 'lambda': 0.16471373645509127, 'alpha': 0.6225168842671768, 'learning_rate': 0.9330470058367929, 'gamma': 0.27469205507927197, 'n_estimators': 752, 'max_depth': 2, 'min_child_weight': 2.8217182433606727}. Best is trial 19 with value: 0.8503685503685504.\u001b[0m\n",
      "C:\\Users\\Lucas\\anaconda3\\lib\\site-packages\\optuna\\trial\\_trial.py:772: RuntimeWarning: Inconsistent parameter values for distribution with name \"min_child_weight\"! This might be a configuration mistake. Optuna allows to call the same distribution with the same name more then once in a trial. When the parameter values are inconsistent optuna only uses the values of the first call and ignores all following. Using these values: {'low': 0.0, 'high': 10.0}\n",
      "  warnings.warn(\n",
      "\u001b[32m[I 2022-05-29 22:51:02,378]\u001b[0m Trial 24 finished with value: 0.8443488943488944 and parameters: {'booster': 'dart', 'lambda': 0.0020925634641559337, 'alpha': 0.00035123591968311556, 'learning_rate': 0.4369467313736941, 'gamma': 44.27257156802122, 'n_estimators': 917, 'max_depth': 5, 'min_child_weight': 1.4336560652956936}. Best is trial 19 with value: 0.8503685503685504.\u001b[0m\n",
      "C:\\Users\\Lucas\\anaconda3\\lib\\site-packages\\optuna\\trial\\_trial.py:772: RuntimeWarning: Inconsistent parameter values for distribution with name \"min_child_weight\"! This might be a configuration mistake. Optuna allows to call the same distribution with the same name more then once in a trial. When the parameter values are inconsistent optuna only uses the values of the first call and ignores all following. Using these values: {'low': 0.0, 'high': 10.0}\n",
      "  warnings.warn(\n",
      "\u001b[32m[I 2022-05-29 22:51:02,469]\u001b[0m Trial 25 finished with value: 0.8484029484029484 and parameters: {'booster': 'dart', 'lambda': 0.002498316343707953, 'alpha': 0.001011413372111866, 'learning_rate': 0.46931779440402704, 'gamma': 44.99673422152735, 'n_estimators': 937, 'max_depth': 8, 'min_child_weight': 0.904575793639298}. Best is trial 19 with value: 0.8503685503685504.\u001b[0m\n",
      "C:\\Users\\Lucas\\anaconda3\\lib\\site-packages\\optuna\\trial\\_trial.py:772: RuntimeWarning: Inconsistent parameter values for distribution with name \"min_child_weight\"! This might be a configuration mistake. Optuna allows to call the same distribution with the same name more then once in a trial. When the parameter values are inconsistent optuna only uses the values of the first call and ignores all following. Using these values: {'low': 0.0, 'high': 10.0}\n",
      "  warnings.warn(\n",
      "\u001b[32m[I 2022-05-29 22:51:02,563]\u001b[0m Trial 26 finished with value: 0.846928746928747 and parameters: {'booster': 'dart', 'lambda': 7.842518659552494e-05, 'alpha': 0.0010612488285978263, 'learning_rate': 0.5811558684690151, 'gamma': 2.2024508720487073, 'n_estimators': 990, 'max_depth': 9, 'min_child_weight': 0.5136487449738096}. Best is trial 19 with value: 0.8503685503685504.\u001b[0m\n",
      "C:\\Users\\Lucas\\anaconda3\\lib\\site-packages\\optuna\\trial\\_trial.py:772: RuntimeWarning: Inconsistent parameter values for distribution with name \"min_child_weight\"! This might be a configuration mistake. Optuna allows to call the same distribution with the same name more then once in a trial. When the parameter values are inconsistent optuna only uses the values of the first call and ignores all following. Using these values: {'low': 0.0, 'high': 10.0}\n",
      "  warnings.warn(\n",
      "\u001b[32m[I 2022-05-29 22:51:02,643]\u001b[0m Trial 27 finished with value: 0.716093366093366 and parameters: {'booster': 'gbtree', 'lambda': 2.679597049022334e-05, 'alpha': 0.01699023632655876, 'learning_rate': 0.47057000119730497, 'gamma': 47.45180133437475, 'n_estimators': 635, 'max_depth': 9, 'min_child_weight': 6.026788455996703}. Best is trial 19 with value: 0.8503685503685504.\u001b[0m\n",
      "C:\\Users\\Lucas\\anaconda3\\lib\\site-packages\\optuna\\trial\\_trial.py:772: RuntimeWarning: Inconsistent parameter values for distribution with name \"min_child_weight\"! This might be a configuration mistake. Optuna allows to call the same distribution with the same name more then once in a trial. When the parameter values are inconsistent optuna only uses the values of the first call and ignores all following. Using these values: {'low': 0.0, 'high': 10.0}\n",
      "  warnings.warn(\n",
      "\u001b[32m[I 2022-05-29 22:51:02,687]\u001b[0m Trial 28 finished with value: 0.7207616707616707 and parameters: {'booster': 'gblinear', 'lambda': 0.011373129432088817, 'alpha': 0.08664782031167706, 'learning_rate': 0.7352489454022063, 'gamma': 313.4373121481116, 'n_estimators': 748, 'max_depth': 8, 'min_child_weight': 4.2843746662483575}. Best is trial 19 with value: 0.8503685503685504.\u001b[0m\n",
      "C:\\Users\\Lucas\\anaconda3\\lib\\site-packages\\optuna\\trial\\_trial.py:772: RuntimeWarning: Inconsistent parameter values for distribution with name \"min_child_weight\"! This might be a configuration mistake. Optuna allows to call the same distribution with the same name more then once in a trial. When the parameter values are inconsistent optuna only uses the values of the first call and ignores all following. Using these values: {'low': 0.0, 'high': 10.0}\n",
      "  warnings.warn(\n",
      "\u001b[32m[I 2022-05-29 22:51:02,780]\u001b[0m Trial 29 finished with value: 0.8171990171990172 and parameters: {'booster': 'dart', 'lambda': 0.004663092111969456, 'alpha': 4.492231450595818e-05, 'learning_rate': 0.23614694679858184, 'gamma': 0.02561894447784755, 'n_estimators': 785, 'max_depth': 8, 'min_child_weight': 2.2524365487691447}. Best is trial 19 with value: 0.8503685503685504.\u001b[0m\n"
     ]
    },
    {
     "name": "stderr",
     "output_type": "stream",
     "text": [
      "C:\\Users\\Lucas\\anaconda3\\lib\\site-packages\\optuna\\trial\\_trial.py:772: RuntimeWarning: Inconsistent parameter values for distribution with name \"min_child_weight\"! This might be a configuration mistake. Optuna allows to call the same distribution with the same name more then once in a trial. When the parameter values are inconsistent optuna only uses the values of the first call and ignores all following. Using these values: {'low': 0.0, 'high': 10.0}\n",
      "  warnings.warn(\n",
      "\u001b[32m[I 2022-05-29 22:51:02,889]\u001b[0m Trial 30 finished with value: 0.7441031941031941 and parameters: {'booster': 'dart', 'lambda': 0.00035458058748794193, 'alpha': 4.402135660344747e-06, 'learning_rate': 0.1320338715897722, 'gamma': 2.2198678609160467, 'n_estimators': 912, 'max_depth': 10, 'min_child_weight': 4.500196369262152}. Best is trial 19 with value: 0.8503685503685504.\u001b[0m\n",
      "C:\\Users\\Lucas\\anaconda3\\lib\\site-packages\\optuna\\trial\\_trial.py:772: RuntimeWarning: Inconsistent parameter values for distribution with name \"min_child_weight\"! This might be a configuration mistake. Optuna allows to call the same distribution with the same name more then once in a trial. When the parameter values are inconsistent optuna only uses the values of the first call and ignores all following. Using these values: {'low': 0.0, 'high': 10.0}\n",
      "  warnings.warn(\n",
      "\u001b[32m[I 2022-05-29 22:51:02,987]\u001b[0m Trial 31 finished with value: 0.8404176904176904 and parameters: {'booster': 'dart', 'lambda': 9.277733958852402e-05, 'alpha': 0.0011781291734683347, 'learning_rate': 0.5663510282209895, 'gamma': 3.346462414762431, 'n_estimators': 989, 'max_depth': 9, 'min_child_weight': 0.3897641282122605}. Best is trial 19 with value: 0.8503685503685504.\u001b[0m\n",
      "C:\\Users\\Lucas\\anaconda3\\lib\\site-packages\\optuna\\trial\\_trial.py:772: RuntimeWarning: Inconsistent parameter values for distribution with name \"min_child_weight\"! This might be a configuration mistake. Optuna allows to call the same distribution with the same name more then once in a trial. When the parameter values are inconsistent optuna only uses the values of the first call and ignores all following. Using these values: {'low': 0.0, 'high': 10.0}\n",
      "  warnings.warn(\n",
      "\u001b[32m[I 2022-05-29 22:51:03,070]\u001b[0m Trial 32 finished with value: 0.8437346437346437 and parameters: {'booster': 'dart', 'lambda': 3.084406908279116e-05, 'alpha': 0.0001455867876028415, 'learning_rate': 0.3466113838194774, 'gamma': 29.997632919166684, 'n_estimators': 939, 'max_depth': 7, 'min_child_weight': 0.7619739373860475}. Best is trial 19 with value: 0.8503685503685504.\u001b[0m\n",
      "C:\\Users\\Lucas\\anaconda3\\lib\\site-packages\\optuna\\trial\\_trial.py:772: RuntimeWarning: Inconsistent parameter values for distribution with name \"min_child_weight\"! This might be a configuration mistake. Optuna allows to call the same distribution with the same name more then once in a trial. When the parameter values are inconsistent optuna only uses the values of the first call and ignores all following. Using these values: {'low': 0.0, 'high': 10.0}\n",
      "  warnings.warn(\n",
      "\u001b[32m[I 2022-05-29 22:51:03,166]\u001b[0m Trial 33 finished with value: 0.7917690417690417 and parameters: {'booster': 'dart', 'lambda': 0.025555015044627098, 'alpha': 0.009310674256249844, 'learning_rate': 0.6346914882511582, 'gamma': 0.17092010686132392, 'n_estimators': 841, 'max_depth': 9, 'min_child_weight': 3.3242026409389247}. Best is trial 19 with value: 0.8503685503685504.\u001b[0m\n",
      "C:\\Users\\Lucas\\anaconda3\\lib\\site-packages\\optuna\\trial\\_trial.py:772: RuntimeWarning: Inconsistent parameter values for distribution with name \"min_child_weight\"! This might be a configuration mistake. Optuna allows to call the same distribution with the same name more then once in a trial. When the parameter values are inconsistent optuna only uses the values of the first call and ignores all following. Using these values: {'low': 0.0, 'high': 10.0}\n",
      "  warnings.warn(\n",
      "\u001b[32m[I 2022-05-29 22:51:03,275]\u001b[0m Trial 34 finished with value: 0.8517199017199018 and parameters: {'booster': 'dart', 'lambda': 0.0001414006633922243, 'alpha': 0.0010430584279877782, 'learning_rate': 0.39430199976078173, 'gamma': 0.5640012168167302, 'n_estimators': 834, 'max_depth': 10, 'min_child_weight': 0.6888491260962594}. Best is trial 34 with value: 0.8517199017199018.\u001b[0m\n",
      "C:\\Users\\Lucas\\anaconda3\\lib\\site-packages\\optuna\\trial\\_trial.py:772: RuntimeWarning: Inconsistent parameter values for distribution with name \"min_child_weight\"! This might be a configuration mistake. Optuna allows to call the same distribution with the same name more then once in a trial. When the parameter values are inconsistent optuna only uses the values of the first call and ignores all following. Using these values: {'low': 0.0, 'high': 10.0}\n",
      "  warnings.warn(\n",
      "\u001b[32m[I 2022-05-29 22:51:03,318]\u001b[0m Trial 35 finished with value: 0.7953316953316953 and parameters: {'booster': 'gblinear', 'lambda': 0.0038104759093990186, 'alpha': 0.13906128989209596, 'learning_rate': 0.40877161859773536, 'gamma': 98.44148446033027, 'n_estimators': 808, 'max_depth': 10, 'min_child_weight': 2.3958011374957757}. Best is trial 34 with value: 0.8517199017199018.\u001b[0m\n",
      "C:\\Users\\Lucas\\anaconda3\\lib\\site-packages\\optuna\\trial\\_trial.py:772: RuntimeWarning: Inconsistent parameter values for distribution with name \"min_child_weight\"! This might be a configuration mistake. Optuna allows to call the same distribution with the same name more then once in a trial. When the parameter values are inconsistent optuna only uses the values of the first call and ignores all following. Using these values: {'low': 0.0, 'high': 10.0}\n",
      "  warnings.warn(\n",
      "\u001b[32m[I 2022-05-29 22:51:03,425]\u001b[0m Trial 36 finished with value: 0.8486486486486486 and parameters: {'booster': 'dart', 'lambda': 0.0009294637221893942, 'alpha': 0.0003613997374692512, 'learning_rate': 0.11473660926912807, 'gamma': 0.05752258885889102, 'n_estimators': 224, 'max_depth': 10, 'min_child_weight': 1.1585889248907597}. Best is trial 34 with value: 0.8517199017199018.\u001b[0m\n",
      "C:\\Users\\Lucas\\anaconda3\\lib\\site-packages\\optuna\\trial\\_trial.py:772: RuntimeWarning: Inconsistent parameter values for distribution with name \"min_child_weight\"! This might be a configuration mistake. Optuna allows to call the same distribution with the same name more then once in a trial. When the parameter values are inconsistent optuna only uses the values of the first call and ignores all following. Using these values: {'low': 0.0, 'high': 10.0}\n",
      "  warnings.warn(\n",
      "\u001b[32m[I 2022-05-29 22:51:03,518]\u001b[0m Trial 37 finished with value: 0.8401719901719902 and parameters: {'booster': 'gbtree', 'lambda': 0.0002018271719193393, 'alpha': 0.0003425023271467994, 'learning_rate': 0.23056582041052284, 'gamma': 0.011078532315235845, 'n_estimators': 219, 'max_depth': 10, 'min_child_weight': 1.6230695284330459}. Best is trial 34 with value: 0.8517199017199018.\u001b[0m\n",
      "C:\\Users\\Lucas\\anaconda3\\lib\\site-packages\\optuna\\trial\\_trial.py:772: RuntimeWarning: Inconsistent parameter values for distribution with name \"min_child_weight\"! This might be a configuration mistake. Optuna allows to call the same distribution with the same name more then once in a trial. When the parameter values are inconsistent optuna only uses the values of the first call and ignores all following. Using these values: {'low': 0.0, 'high': 10.0}\n",
      "  warnings.warn(\n",
      "\u001b[32m[I 2022-05-29 22:51:03,631]\u001b[0m Trial 38 finished with value: 0.7668304668304669 and parameters: {'booster': 'dart', 'lambda': 8.609356128702368e-06, 'alpha': 4.987996003232744e-06, 'learning_rate': 0.10675419903120517, 'gamma': 0.07380862545485165, 'n_estimators': 36, 'max_depth': 10, 'min_child_weight': 3.411855302749247}. Best is trial 34 with value: 0.8517199017199018.\u001b[0m\n",
      "C:\\Users\\Lucas\\anaconda3\\lib\\site-packages\\optuna\\trial\\_trial.py:772: RuntimeWarning: Inconsistent parameter values for distribution with name \"min_child_weight\"! This might be a configuration mistake. Optuna allows to call the same distribution with the same name more then once in a trial. When the parameter values are inconsistent optuna only uses the values of the first call and ignores all following. Using these values: {'low': 0.0, 'high': 10.0}\n",
      "  warnings.warn(\n",
      "\u001b[32m[I 2022-05-29 22:51:03,676]\u001b[0m Trial 39 finished with value: 0.8127764127764128 and parameters: {'booster': 'gblinear', 'lambda': 0.0006103735916611345, 'alpha': 5.873136063352008e-05, 'learning_rate': 0.10339950147558344, 'gamma': 0.47486491840828654, 'n_estimators': 210, 'max_depth': 7, 'min_child_weight': 1.237638290734527}. Best is trial 34 with value: 0.8517199017199018.\u001b[0m\n"
     ]
    },
    {
     "name": "stderr",
     "output_type": "stream",
     "text": [
      "C:\\Users\\Lucas\\anaconda3\\lib\\site-packages\\optuna\\trial\\_trial.py:772: RuntimeWarning: Inconsistent parameter values for distribution with name \"min_child_weight\"! This might be a configuration mistake. Optuna allows to call the same distribution with the same name more then once in a trial. When the parameter values are inconsistent optuna only uses the values of the first call and ignores all following. Using these values: {'low': 0.0, 'high': 10.0}\n",
      "  warnings.warn(\n",
      "\u001b[32m[I 2022-05-29 22:51:03,774]\u001b[0m Trial 40 finished with value: 0.8194103194103194 and parameters: {'booster': 'dart', 'lambda': 0.001126013834157908, 'alpha': 0.00691021312097727, 'learning_rate': 0.31780702692183016, 'gamma': 0.009789907449279725, 'n_estimators': 334, 'max_depth': 9, 'min_child_weight': 2.330890047288915}. Best is trial 34 with value: 0.8517199017199018.\u001b[0m\n",
      "C:\\Users\\Lucas\\anaconda3\\lib\\site-packages\\optuna\\trial\\_trial.py:772: RuntimeWarning: Inconsistent parameter values for distribution with name \"min_child_weight\"! This might be a configuration mistake. Optuna allows to call the same distribution with the same name more then once in a trial. When the parameter values are inconsistent optuna only uses the values of the first call and ignores all following. Using these values: {'low': 0.0, 'high': 10.0}\n",
      "  warnings.warn(\n",
      "\u001b[32m[I 2022-05-29 22:51:03,857]\u001b[0m Trial 41 finished with value: 0.8529484029484029 and parameters: {'booster': 'dart', 'lambda': 0.004707818800276332, 'alpha': 0.0008176227622079906, 'learning_rate': 0.9833978689029912, 'gamma': 16.237842121585242, 'n_estimators': 869, 'max_depth': 8, 'min_child_weight': 0.9536504824632636}. Best is trial 41 with value: 0.8529484029484029.\u001b[0m\n",
      "C:\\Users\\Lucas\\anaconda3\\lib\\site-packages\\optuna\\trial\\_trial.py:772: RuntimeWarning: Inconsistent parameter values for distribution with name \"min_child_weight\"! This might be a configuration mistake. Optuna allows to call the same distribution with the same name more then once in a trial. When the parameter values are inconsistent optuna only uses the values of the first call and ignores all following. Using these values: {'low': 0.0, 'high': 10.0}\n",
      "  warnings.warn(\n",
      "\u001b[32m[I 2022-05-29 22:51:03,952]\u001b[0m Trial 42 finished with value: 0.842997542997543 and parameters: {'booster': 'dart', 'lambda': 0.006975361105931555, 'alpha': 0.002340144952883067, 'learning_rate': 0.9234562606633635, 'gamma': 13.655890242070335, 'n_estimators': 577, 'max_depth': 10, 'min_child_weight': 1.7918155761075392}. Best is trial 41 with value: 0.8529484029484029.\u001b[0m\n",
      "C:\\Users\\Lucas\\anaconda3\\lib\\site-packages\\optuna\\trial\\_trial.py:772: RuntimeWarning: Inconsistent parameter values for distribution with name \"min_child_weight\"! This might be a configuration mistake. Optuna allows to call the same distribution with the same name more then once in a trial. When the parameter values are inconsistent optuna only uses the values of the first call and ignores all following. Using these values: {'low': 0.0, 'high': 10.0}\n",
      "  warnings.warn(\n",
      "\u001b[32m[I 2022-05-29 22:51:04,043]\u001b[0m Trial 43 finished with value: 0.8297297297297297 and parameters: {'booster': 'dart', 'lambda': 5.213800482191042e-05, 'alpha': 0.0002058020112082488, 'learning_rate': 0.9809238841460647, 'gamma': 0.8095415910414127, 'n_estimators': 863, 'max_depth': 8, 'min_child_weight': 0.05460379435677121}. Best is trial 41 with value: 0.8529484029484029.\u001b[0m\n",
      "C:\\Users\\Lucas\\anaconda3\\lib\\site-packages\\optuna\\trial\\_trial.py:772: RuntimeWarning: Inconsistent parameter values for distribution with name \"min_child_weight\"! This might be a configuration mistake. Optuna allows to call the same distribution with the same name more then once in a trial. When the parameter values are inconsistent optuna only uses the values of the first call and ignores all following. Using these values: {'low': 0.0, 'high': 10.0}\n",
      "  warnings.warn(\n",
      "\u001b[32m[I 2022-05-29 22:51:04,145]\u001b[0m Trial 44 finished with value: 0.8501228501228502 and parameters: {'booster': 'dart', 'lambda': 0.00015144547375490434, 'alpha': 0.0005893556396587055, 'learning_rate': 0.7363274266424537, 'gamma': 0.05839212263923388, 'n_estimators': 449, 'max_depth': 10, 'min_child_weight': 1.2630848671265427}. Best is trial 41 with value: 0.8529484029484029.\u001b[0m\n",
      "C:\\Users\\Lucas\\anaconda3\\lib\\site-packages\\optuna\\trial\\_trial.py:772: RuntimeWarning: Inconsistent parameter values for distribution with name \"min_child_weight\"! This might be a configuration mistake. Optuna allows to call the same distribution with the same name more then once in a trial. When the parameter values are inconsistent optuna only uses the values of the first call and ignores all following. Using these values: {'low': 0.0, 'high': 10.0}\n",
      "  warnings.warn(\n",
      "\u001b[32m[I 2022-05-29 22:51:04,238]\u001b[0m Trial 45 finished with value: 0.8422604422604423 and parameters: {'booster': 'dart', 'lambda': 0.00017077422031267907, 'alpha': 0.002299567184271166, 'learning_rate': 0.7598198178451223, 'gamma': 6.677742366271686, 'n_estimators': 449, 'max_depth': 9, 'min_child_weight': 0.4413699493998129}. Best is trial 41 with value: 0.8529484029484029.\u001b[0m\n",
      "C:\\Users\\Lucas\\anaconda3\\lib\\site-packages\\optuna\\trial\\_trial.py:772: RuntimeWarning: Inconsistent parameter values for distribution with name \"min_child_weight\"! This might be a configuration mistake. Optuna allows to call the same distribution with the same name more then once in a trial. When the parameter values are inconsistent optuna only uses the values of the first call and ignores all following. Using these values: {'low': 0.0, 'high': 10.0}\n",
      "  warnings.warn(\n",
      "\u001b[32m[I 2022-05-29 22:51:04,296]\u001b[0m Trial 46 finished with value: 0.8418918918918918 and parameters: {'booster': 'gbtree', 'lambda': 1.0153015581012625e-05, 'alpha': 0.008321787479100716, 'learning_rate': 0.6673312441488809, 'gamma': 0.2596801216864237, 'n_estimators': 518, 'max_depth': 5, 'min_child_weight': 1.8213736384094745}. Best is trial 41 with value: 0.8529484029484029.\u001b[0m\n",
      "C:\\Users\\Lucas\\anaconda3\\lib\\site-packages\\optuna\\trial\\_trial.py:772: RuntimeWarning: Inconsistent parameter values for distribution with name \"min_child_weight\"! This might be a configuration mistake. Optuna allows to call the same distribution with the same name more then once in a trial. When the parameter values are inconsistent optuna only uses the values of the first call and ignores all following. Using these values: {'low': 0.0, 'high': 10.0}\n",
      "  warnings.warn(\n",
      "\u001b[32m[I 2022-05-29 22:51:04,340]\u001b[0m Trial 47 finished with value: 0.6362407862407863 and parameters: {'booster': 'gblinear', 'lambda': 0.016336282168923404, 'alpha': 0.0006782493298173772, 'learning_rate': 0.5276506620010311, 'gamma': 14.34767738487201, 'n_estimators': 699, 'max_depth': 6, 'min_child_weight': 7.144084220123881}. Best is trial 41 with value: 0.8529484029484029.\u001b[0m\n",
      "C:\\Users\\Lucas\\anaconda3\\lib\\site-packages\\optuna\\trial\\_trial.py:772: RuntimeWarning: Inconsistent parameter values for distribution with name \"min_child_weight\"! This might be a configuration mistake. Optuna allows to call the same distribution with the same name more then once in a trial. When the parameter values are inconsistent optuna only uses the values of the first call and ignores all following. Using these values: {'low': 0.0, 'high': 10.0}\n",
      "  warnings.warn(\n",
      "\u001b[32m[I 2022-05-29 22:51:04,422]\u001b[0m Trial 48 finished with value: 0.648034398034398 and parameters: {'booster': 'dart', 'lambda': 4.481898450711971e-06, 'alpha': 0.08170087664256642, 'learning_rate': 0.387137574913249, 'gamma': 1.1250752154864012, 'n_estimators': 815, 'max_depth': 7, 'min_child_weight': 8.702685065290485}. Best is trial 41 with value: 0.8529484029484029.\u001b[0m\n",
      "C:\\Users\\Lucas\\anaconda3\\lib\\site-packages\\optuna\\trial\\_trial.py:772: RuntimeWarning: Inconsistent parameter values for distribution with name \"min_child_weight\"! This might be a configuration mistake. Optuna allows to call the same distribution with the same name more then once in a trial. When the parameter values are inconsistent optuna only uses the values of the first call and ignores all following. Using these values: {'low': 0.0, 'high': 10.0}\n",
      "  warnings.warn(\n",
      "\u001b[32m[I 2022-05-29 22:51:04,516]\u001b[0m Trial 49 finished with value: 0.7966830466830467 and parameters: {'booster': 'gbtree', 'lambda': 5.778915339251614e-05, 'alpha': 1.1905330419163988e-05, 'learning_rate': 0.06142729517455178, 'gamma': 0.3635580415172815, 'n_estimators': 363, 'max_depth': 10, 'min_child_weight': 2.6425906098338103}. Best is trial 41 with value: 0.8529484029484029.\u001b[0m\n"
     ]
    },
    {
     "name": "stderr",
     "output_type": "stream",
     "text": [
      "C:\\Users\\Lucas\\anaconda3\\lib\\site-packages\\optuna\\trial\\_trial.py:772: RuntimeWarning: Inconsistent parameter values for distribution with name \"min_child_weight\"! This might be a configuration mistake. Optuna allows to call the same distribution with the same name more then once in a trial. When the parameter values are inconsistent optuna only uses the values of the first call and ignores all following. Using these values: {'low': 0.0, 'high': 10.0}\n",
      "  warnings.warn(\n",
      "\u001b[32m[I 2022-05-29 22:51:04,607]\u001b[0m Trial 50 finished with value: 0.8496314496314497 and parameters: {'booster': 'dart', 'lambda': 0.06150918321709599, 'alpha': 6.365412888600008e-05, 'learning_rate': 0.29218809038518645, 'gamma': 2.2722640026572396, 'n_estimators': 636, 'max_depth': 8, 'min_child_weight': 1.4920117469102872}. Best is trial 41 with value: 0.8529484029484029.\u001b[0m\n",
      "C:\\Users\\Lucas\\anaconda3\\lib\\site-packages\\optuna\\trial\\_trial.py:772: RuntimeWarning: Inconsistent parameter values for distribution with name \"min_child_weight\"! This might be a configuration mistake. Optuna allows to call the same distribution with the same name more then once in a trial. When the parameter values are inconsistent optuna only uses the values of the first call and ignores all following. Using these values: {'low': 0.0, 'high': 10.0}\n",
      "  warnings.warn(\n",
      "\u001b[32m[I 2022-05-29 22:51:04,699]\u001b[0m Trial 51 finished with value: 0.8503685503685504 and parameters: {'booster': 'dart', 'lambda': 0.10532998902597149, 'alpha': 9.36828931220156e-05, 'learning_rate': 0.2847899829356322, 'gamma': 1.4651105447911614, 'n_estimators': 650, 'max_depth': 8, 'min_child_weight': 1.3971841884024983}. Best is trial 41 with value: 0.8529484029484029.\u001b[0m\n",
      "C:\\Users\\Lucas\\anaconda3\\lib\\site-packages\\optuna\\trial\\_trial.py:772: RuntimeWarning: Inconsistent parameter values for distribution with name \"min_child_weight\"! This might be a configuration mistake. Optuna allows to call the same distribution with the same name more then once in a trial. When the parameter values are inconsistent optuna only uses the values of the first call and ignores all following. Using these values: {'low': 0.0, 'high': 10.0}\n",
      "  warnings.warn(\n",
      "\u001b[32m[I 2022-05-29 22:51:04,783]\u001b[0m Trial 52 finished with value: 0.8501228501228502 and parameters: {'booster': 'dart', 'lambda': 0.04779228454173969, 'alpha': 0.00011227152870393574, 'learning_rate': 0.2877181513925155, 'gamma': 2.5132333873242074, 'n_estimators': 632, 'max_depth': 7, 'min_child_weight': 1.4721294773622149}. Best is trial 41 with value: 0.8529484029484029.\u001b[0m\n",
      "C:\\Users\\Lucas\\anaconda3\\lib\\site-packages\\optuna\\trial\\_trial.py:772: RuntimeWarning: Inconsistent parameter values for distribution with name \"min_child_weight\"! This might be a configuration mistake. Optuna allows to call the same distribution with the same name more then once in a trial. When the parameter values are inconsistent optuna only uses the values of the first call and ignores all following. Using these values: {'low': 0.0, 'high': 10.0}\n",
      "  warnings.warn(\n",
      "\u001b[32m[I 2022-05-29 22:51:04,866]\u001b[0m Trial 53 finished with value: 0.8267813267813268 and parameters: {'booster': 'dart', 'lambda': 0.04065508081314439, 'alpha': 0.00013047657168635028, 'learning_rate': 0.18153745120864923, 'gamma': 7.671085981637715, 'n_estimators': 523, 'max_depth': 7, 'min_child_weight': 2.0075662645244483}. Best is trial 41 with value: 0.8529484029484029.\u001b[0m\n",
      "C:\\Users\\Lucas\\anaconda3\\lib\\site-packages\\optuna\\trial\\_trial.py:772: RuntimeWarning: Inconsistent parameter values for distribution with name \"min_child_weight\"! This might be a configuration mistake. Optuna allows to call the same distribution with the same name more then once in a trial. When the parameter values are inconsistent optuna only uses the values of the first call and ignores all following. Using these values: {'low': 0.0, 'high': 10.0}\n",
      "  warnings.warn(\n",
      "\u001b[32m[I 2022-05-29 22:51:04,952]\u001b[0m Trial 54 finished with value: 0.8297297297297297 and parameters: {'booster': 'dart', 'lambda': 0.2398512467516393, 'alpha': 0.0016935740529589651, 'learning_rate': 0.26931889683140847, 'gamma': 0.11489801309335579, 'n_estimators': 451, 'max_depth': 6, 'min_child_weight': 0.4716441315178419}. Best is trial 41 with value: 0.8529484029484029.\u001b[0m\n",
      "C:\\Users\\Lucas\\anaconda3\\lib\\site-packages\\optuna\\trial\\_trial.py:772: RuntimeWarning: Inconsistent parameter values for distribution with name \"min_child_weight\"! This might be a configuration mistake. Optuna allows to call the same distribution with the same name more then once in a trial. When the parameter values are inconsistent optuna only uses the values of the first call and ignores all following. Using these values: {'low': 0.0, 'high': 10.0}\n",
      "  warnings.warn(\n",
      "\u001b[32m[I 2022-05-29 22:51:05,034]\u001b[0m Trial 55 finished with value: 0.8534398034398034 and parameters: {'booster': 'dart', 'lambda': 0.18832399611367756, 'alpha': 1.2592636540326595e-06, 'learning_rate': 0.8217942111605954, 'gamma': 23.79628022532415, 'n_estimators': 878, 'max_depth': 7, 'min_child_weight': 0.8039032718602952}. Best is trial 55 with value: 0.8534398034398034.\u001b[0m\n",
      "C:\\Users\\Lucas\\anaconda3\\lib\\site-packages\\optuna\\trial\\_trial.py:772: RuntimeWarning: Inconsistent parameter values for distribution with name \"min_child_weight\"! This might be a configuration mistake. Optuna allows to call the same distribution with the same name more then once in a trial. When the parameter values are inconsistent optuna only uses the values of the first call and ignores all following. Using these values: {'low': 0.0, 'high': 10.0}\n",
      "  warnings.warn(\n",
      "\u001b[32m[I 2022-05-29 22:51:05,115]\u001b[0m Trial 56 finished with value: 0.8368550368550368 and parameters: {'booster': 'dart', 'lambda': 0.42170801275496467, 'alpha': 1.2878516837258248e-06, 'learning_rate': 0.8375062254644171, 'gamma': 117.90493844908428, 'n_estimators': 881, 'max_depth': 7, 'min_child_weight': 0.813589236527114}. Best is trial 55 with value: 0.8534398034398034.\u001b[0m\n",
      "C:\\Users\\Lucas\\anaconda3\\lib\\site-packages\\optuna\\trial\\_trial.py:772: RuntimeWarning: Inconsistent parameter values for distribution with name \"min_child_weight\"! This might be a configuration mistake. Optuna allows to call the same distribution with the same name more then once in a trial. When the parameter values are inconsistent optuna only uses the values of the first call and ignores all following. Using these values: {'low': 0.0, 'high': 10.0}\n",
      "  warnings.warn(\n",
      "\u001b[32m[I 2022-05-29 22:51:05,198]\u001b[0m Trial 57 finished with value: 0.8147420147420148 and parameters: {'booster': 'dart', 'lambda': 0.15519665592708462, 'alpha': 5.114363629395703e-07, 'learning_rate': 0.6863890362654343, 'gamma': 202.34027828079925, 'n_estimators': 733, 'max_depth': 8, 'min_child_weight': 0.12691646151679015}. Best is trial 55 with value: 0.8534398034398034.\u001b[0m\n",
      "C:\\Users\\Lucas\\anaconda3\\lib\\site-packages\\optuna\\trial\\_trial.py:772: RuntimeWarning: Inconsistent parameter values for distribution with name \"min_child_weight\"! This might be a configuration mistake. Optuna allows to call the same distribution with the same name more then once in a trial. When the parameter values are inconsistent optuna only uses the values of the first call and ignores all following. Using these values: {'low': 0.0, 'high': 10.0}\n",
      "  warnings.warn(\n",
      "\u001b[32m[I 2022-05-29 22:51:05,268]\u001b[0m Trial 58 finished with value: 0.8457002457002457 and parameters: {'booster': 'dart', 'lambda': 0.3135537147105856, 'alpha': 0.0037384979585739354, 'learning_rate': 0.5194928442024481, 'gamma': 23.31419309134234, 'n_estimators': 819, 'max_depth': 4, 'min_child_weight': 1.1200856523686717}. Best is trial 55 with value: 0.8534398034398034.\u001b[0m\n",
      "C:\\Users\\Lucas\\anaconda3\\lib\\site-packages\\optuna\\trial\\_trial.py:772: RuntimeWarning: Inconsistent parameter values for distribution with name \"min_child_weight\"! This might be a configuration mistake. Optuna allows to call the same distribution with the same name more then once in a trial. When the parameter values are inconsistent optuna only uses the values of the first call and ignores all following. Using these values: {'low': 0.0, 'high': 10.0}\n",
      "  warnings.warn(\n",
      "\u001b[32m[I 2022-05-29 22:51:05,347]\u001b[0m Trial 59 finished with value: 0.7834152334152334 and parameters: {'booster': 'dart', 'lambda': 0.9377271592144265, 'alpha': 1.0521159728089727e-08, 'learning_rate': 0.18491696170349048, 'gamma': 3.80909222981872, 'n_estimators': 614, 'max_depth': 6, 'min_child_weight': 3.15475773014426}. Best is trial 55 with value: 0.8534398034398034.\u001b[0m\n"
     ]
    },
    {
     "name": "stderr",
     "output_type": "stream",
     "text": [
      "C:\\Users\\Lucas\\anaconda3\\lib\\site-packages\\optuna\\trial\\_trial.py:772: RuntimeWarning: Inconsistent parameter values for distribution with name \"min_child_weight\"! This might be a configuration mistake. Optuna allows to call the same distribution with the same name more then once in a trial. When the parameter values are inconsistent optuna only uses the values of the first call and ignores all following. Using these values: {'low': 0.0, 'high': 10.0}\n",
      "  warnings.warn(\n",
      "\u001b[32m[I 2022-05-29 22:51:05,420]\u001b[0m Trial 60 finished with value: 0.8422604422604423 and parameters: {'booster': 'dart', 'lambda': 6.710297486415523e-07, 'alpha': 9.434870439653955e-08, 'learning_rate': 0.3664425936888939, 'gamma': 0.6888333082067427, 'n_estimators': 949, 'max_depth': 5, 'min_child_weight': 0.6674253001364978}. Best is trial 55 with value: 0.8534398034398034.\u001b[0m\n",
      "C:\\Users\\Lucas\\anaconda3\\lib\\site-packages\\optuna\\trial\\_trial.py:772: RuntimeWarning: Inconsistent parameter values for distribution with name \"min_child_weight\"! This might be a configuration mistake. Optuna allows to call the same distribution with the same name more then once in a trial. When the parameter values are inconsistent optuna only uses the values of the first call and ignores all following. Using these values: {'low': 0.0, 'high': 10.0}\n",
      "  warnings.warn(\n",
      "\u001b[32m[I 2022-05-29 22:51:05,502]\u001b[0m Trial 61 finished with value: 0.85 and parameters: {'booster': 'dart', 'lambda': 0.035656653338566914, 'alpha': 0.0005583069019681532, 'learning_rate': 0.8324299714104435, 'gamma': 1.656318512959782, 'n_estimators': 672, 'max_depth': 7, 'min_child_weight': 1.461050874415629}. Best is trial 55 with value: 0.8534398034398034.\u001b[0m\n",
      "C:\\Users\\Lucas\\anaconda3\\lib\\site-packages\\optuna\\trial\\_trial.py:772: RuntimeWarning: Inconsistent parameter values for distribution with name \"min_child_weight\"! This might be a configuration mistake. Optuna allows to call the same distribution with the same name more then once in a trial. When the parameter values are inconsistent optuna only uses the values of the first call and ignores all following. Using these values: {'low': 0.0, 'high': 10.0}\n",
      "  warnings.warn(\n",
      "\u001b[32m[I 2022-05-29 22:51:05,593]\u001b[0m Trial 62 finished with value: 0.8439803439803439 and parameters: {'booster': 'dart', 'lambda': 0.012630588718421194, 'alpha': 1.3888550392192207e-05, 'learning_rate': 0.6275389422577694, 'gamma': 10.250209796829129, 'n_estimators': 878, 'max_depth': 8, 'min_child_weight': 1.9326488433901812}. Best is trial 55 with value: 0.8534398034398034.\u001b[0m\n",
      "C:\\Users\\Lucas\\anaconda3\\lib\\site-packages\\optuna\\trial\\_trial.py:772: RuntimeWarning: Inconsistent parameter values for distribution with name \"min_child_weight\"! This might be a configuration mistake. Optuna allows to call the same distribution with the same name more then once in a trial. When the parameter values are inconsistent optuna only uses the values of the first call and ignores all following. Using these values: {'low': 0.0, 'high': 10.0}\n",
      "  warnings.warn(\n",
      "\u001b[32m[I 2022-05-29 22:51:05,693]\u001b[0m Trial 63 finished with value: 0.855036855036855 and parameters: {'booster': 'dart', 'lambda': 0.07681983938100541, 'alpha': 3.0408387726163893e-05, 'learning_rate': 0.47280941164673407, 'gamma': 4.461477735127685, 'n_estimators': 489, 'max_depth': 9, 'min_child_weight': 1.2759199609554441}. Best is trial 63 with value: 0.855036855036855.\u001b[0m\n",
      "C:\\Users\\Lucas\\anaconda3\\lib\\site-packages\\optuna\\trial\\_trial.py:772: RuntimeWarning: Inconsistent parameter values for distribution with name \"min_child_weight\"! This might be a configuration mistake. Optuna allows to call the same distribution with the same name more then once in a trial. When the parameter values are inconsistent optuna only uses the values of the first call and ignores all following. Using these values: {'low': 0.0, 'high': 10.0}\n",
      "  warnings.warn(\n",
      "\u001b[32m[I 2022-05-29 22:51:05,786]\u001b[0m Trial 64 finished with value: 0.8552825552825553 and parameters: {'booster': 'dart', 'lambda': 0.09236282463407074, 'alpha': 3.0659192614469356e-05, 'learning_rate': 0.48322389699793084, 'gamma': 5.596802140984396, 'n_estimators': 405, 'max_depth': 9, 'min_child_weight': 0.9302310430360554}. Best is trial 64 with value: 0.8552825552825553.\u001b[0m\n",
      "C:\\Users\\Lucas\\anaconda3\\lib\\site-packages\\optuna\\trial\\_trial.py:772: RuntimeWarning: Inconsistent parameter values for distribution with name \"min_child_weight\"! This might be a configuration mistake. Optuna allows to call the same distribution with the same name more then once in a trial. When the parameter values are inconsistent optuna only uses the values of the first call and ignores all following. Using these values: {'low': 0.0, 'high': 10.0}\n",
      "  warnings.warn(\n",
      "\u001b[32m[I 2022-05-29 22:51:05,864]\u001b[0m Trial 65 finished with value: 0.7875921375921376 and parameters: {'booster': 'dart', 'lambda': 0.0904920677839994, 'alpha': 2.680866539708334e-05, 'learning_rate': 0.44728391803986617, 'gamma': 4.736374120855654, 'n_estimators': 383, 'max_depth': 9, 'min_child_weight': 0.008121478800222293}. Best is trial 64 with value: 0.8552825552825553.\u001b[0m\n",
      "C:\\Users\\Lucas\\anaconda3\\lib\\site-packages\\optuna\\trial\\_trial.py:772: RuntimeWarning: Inconsistent parameter values for distribution with name \"min_child_weight\"! This might be a configuration mistake. Optuna allows to call the same distribution with the same name more then once in a trial. When the parameter values are inconsistent optuna only uses the values of the first call and ignores all following. Using these values: {'low': 0.0, 'high': 10.0}\n",
      "  warnings.warn(\n",
      "\u001b[32m[I 2022-05-29 22:51:05,957]\u001b[0m Trial 66 finished with value: 0.8541769041769042 and parameters: {'booster': 'dart', 'lambda': 0.11304465988410722, 'alpha': 2.7605644767496112e-06, 'learning_rate': 0.4970575382424708, 'gamma': 25.08134679465655, 'n_estimators': 283, 'max_depth': 9, 'min_child_weight': 0.9350769241553533}. Best is trial 64 with value: 0.8552825552825553.\u001b[0m\n",
      "C:\\Users\\Lucas\\anaconda3\\lib\\site-packages\\optuna\\trial\\_trial.py:772: RuntimeWarning: Inconsistent parameter values for distribution with name \"min_child_weight\"! This might be a configuration mistake. Optuna allows to call the same distribution with the same name more then once in a trial. When the parameter values are inconsistent optuna only uses the values of the first call and ignores all following. Using these values: {'low': 0.0, 'high': 10.0}\n",
      "  warnings.warn(\n",
      "\u001b[32m[I 2022-05-29 22:51:06,052]\u001b[0m Trial 67 finished with value: 0.8441031941031941 and parameters: {'booster': 'dart', 'lambda': 0.007061983454139842, 'alpha': 2.086604063268476e-06, 'learning_rate': 0.48859512708444275, 'gamma': 74.19082238630371, 'n_estimators': 273, 'max_depth': 9, 'min_child_weight': 0.9622044134065025}. Best is trial 64 with value: 0.8552825552825553.\u001b[0m\n",
      "C:\\Users\\Lucas\\anaconda3\\lib\\site-packages\\optuna\\trial\\_trial.py:772: RuntimeWarning: Inconsistent parameter values for distribution with name \"min_child_weight\"! This might be a configuration mistake. Optuna allows to call the same distribution with the same name more then once in a trial. When the parameter values are inconsistent optuna only uses the values of the first call and ignores all following. Using these values: {'low': 0.0, 'high': 10.0}\n",
      "  warnings.warn(\n",
      "\u001b[32m[I 2022-05-29 22:51:06,146]\u001b[0m Trial 68 finished with value: 0.8428746928746929 and parameters: {'booster': 'dart', 'lambda': 0.024387285161363143, 'alpha': 5.352042125271289e-07, 'learning_rate': 0.9916941671549441, 'gamma': 25.172041252780318, 'n_estimators': 95, 'max_depth': 9, 'min_child_weight': 0.35415959566682786}. Best is trial 64 with value: 0.8552825552825553.\u001b[0m\n",
      "C:\\Users\\Lucas\\anaconda3\\lib\\site-packages\\optuna\\trial\\_trial.py:772: RuntimeWarning: Inconsistent parameter values for distribution with name \"min_child_weight\"! This might be a configuration mistake. Optuna allows to call the same distribution with the same name more then once in a trial. When the parameter values are inconsistent optuna only uses the values of the first call and ignores all following. Using these values: {'low': 0.0, 'high': 10.0}\n",
      "  warnings.warn(\n",
      "\u001b[32m[I 2022-05-29 22:51:06,193]\u001b[0m Trial 69 finished with value: 0.8084766584766585 and parameters: {'booster': 'gblinear', 'lambda': 0.19957639856334183, 'alpha': 8.292058775529778e-06, 'learning_rate': 0.5907841029475877, 'gamma': 41.21127999635113, 'n_estimators': 301, 'max_depth': 9, 'min_child_weight': 2.538296185431478}. Best is trial 64 with value: 0.8552825552825553.\u001b[0m\n"
     ]
    },
    {
     "name": "stderr",
     "output_type": "stream",
     "text": [
      "C:\\Users\\Lucas\\anaconda3\\lib\\site-packages\\optuna\\trial\\_trial.py:772: RuntimeWarning: Inconsistent parameter values for distribution with name \"min_child_weight\"! This might be a configuration mistake. Optuna allows to call the same distribution with the same name more then once in a trial. When the parameter values are inconsistent optuna only uses the values of the first call and ignores all following. Using these values: {'low': 0.0, 'high': 10.0}\n",
      "  warnings.warn(\n",
      "\u001b[32m[I 2022-05-29 22:51:06,277]\u001b[0m Trial 70 finished with value: 0.8131449631449631 and parameters: {'booster': 'dart', 'lambda': 0.09465052054465777, 'alpha': 3.152018003034063e-05, 'learning_rate': 0.39237635191004355, 'gamma': 594.4409654309957, 'n_estimators': 425, 'max_depth': 8, 'min_child_weight': 0.7259342025500972}. Best is trial 64 with value: 0.8552825552825553.\u001b[0m\n",
      "C:\\Users\\Lucas\\anaconda3\\lib\\site-packages\\optuna\\trial\\_trial.py:772: RuntimeWarning: Inconsistent parameter values for distribution with name \"min_child_weight\"! This might be a configuration mistake. Optuna allows to call the same distribution with the same name more then once in a trial. When the parameter values are inconsistent optuna only uses the values of the first call and ignores all following. Using these values: {'low': 0.0, 'high': 10.0}\n",
      "  warnings.warn(\n",
      "\u001b[32m[I 2022-05-29 22:51:06,362]\u001b[0m Trial 71 finished with value: 0.8535626535626536 and parameters: {'booster': 'dart', 'lambda': 0.15681344518729434, 'alpha': 5.737280080656131e-06, 'learning_rate': 0.5368942157226152, 'gamma': 9.295639920201355, 'n_estimators': 486, 'max_depth': 8, 'min_child_weight': 0.9724149984682771}. Best is trial 64 with value: 0.8552825552825553.\u001b[0m\n",
      "C:\\Users\\Lucas\\anaconda3\\lib\\site-packages\\optuna\\trial\\_trial.py:772: RuntimeWarning: Inconsistent parameter values for distribution with name \"min_child_weight\"! This might be a configuration mistake. Optuna allows to call the same distribution with the same name more then once in a trial. When the parameter values are inconsistent optuna only uses the values of the first call and ignores all following. Using these values: {'low': 0.0, 'high': 10.0}\n",
      "  warnings.warn(\n",
      "\u001b[32m[I 2022-05-29 22:51:06,454]\u001b[0m Trial 72 finished with value: 0.8536855036855037 and parameters: {'booster': 'dart', 'lambda': 0.401486770125931, 'alpha': 4.395883322328523e-06, 'learning_rate': 0.5445896988532779, 'gamma': 16.462270022458632, 'n_estimators': 501, 'max_depth': 9, 'min_child_weight': 1.0147510909974884}. Best is trial 64 with value: 0.8552825552825553.\u001b[0m\n",
      "C:\\Users\\Lucas\\anaconda3\\lib\\site-packages\\optuna\\trial\\_trial.py:772: RuntimeWarning: Inconsistent parameter values for distribution with name \"min_child_weight\"! This might be a configuration mistake. Optuna allows to call the same distribution with the same name more then once in a trial. When the parameter values are inconsistent optuna only uses the values of the first call and ignores all following. Using these values: {'low': 0.0, 'high': 10.0}\n",
      "  warnings.warn(\n",
      "\u001b[32m[I 2022-05-29 22:51:06,550]\u001b[0m Trial 73 finished with value: 0.8544226044226044 and parameters: {'booster': 'dart', 'lambda': 0.34459550626246166, 'alpha': 3.5590761698634944e-06, 'learning_rate': 0.5419842471771171, 'gamma': 15.995513185099355, 'n_estimators': 488, 'max_depth': 9, 'min_child_weight': 1.0158716676777293}. Best is trial 64 with value: 0.8552825552825553.\u001b[0m\n",
      "C:\\Users\\Lucas\\anaconda3\\lib\\site-packages\\optuna\\trial\\_trial.py:772: RuntimeWarning: Inconsistent parameter values for distribution with name \"min_child_weight\"! This might be a configuration mistake. Optuna allows to call the same distribution with the same name more then once in a trial. When the parameter values are inconsistent optuna only uses the values of the first call and ignores all following. Using these values: {'low': 0.0, 'high': 10.0}\n",
      "  warnings.warn(\n",
      "\u001b[32m[I 2022-05-29 22:51:06,645]\u001b[0m Trial 74 finished with value: 0.8533169533169533 and parameters: {'booster': 'dart', 'lambda': 0.4413215992169574, 'alpha': 3.038020667648396e-06, 'learning_rate': 0.545478085983311, 'gamma': 14.318152409982485, 'n_estimators': 490, 'max_depth': 9, 'min_child_weight': 0.9998030278106493}. Best is trial 64 with value: 0.8552825552825553.\u001b[0m\n",
      "C:\\Users\\Lucas\\anaconda3\\lib\\site-packages\\optuna\\trial\\_trial.py:772: RuntimeWarning: Inconsistent parameter values for distribution with name \"min_child_weight\"! This might be a configuration mistake. Optuna allows to call the same distribution with the same name more then once in a trial. When the parameter values are inconsistent optuna only uses the values of the first call and ignores all following. Using these values: {'low': 0.0, 'high': 10.0}\n",
      "  warnings.warn(\n",
      "\u001b[32m[I 2022-05-29 22:51:06,738]\u001b[0m Trial 75 finished with value: 0.8296068796068796 and parameters: {'booster': 'dart', 'lambda': 0.5443648130707166, 'alpha': 3.925701183692007e-06, 'learning_rate': 0.5314674864170515, 'gamma': 64.46254767125437, 'n_estimators': 481, 'max_depth': 9, 'min_child_weight': 2.113616985538277}. Best is trial 64 with value: 0.8552825552825553.\u001b[0m\n",
      "C:\\Users\\Lucas\\anaconda3\\lib\\site-packages\\optuna\\trial\\_trial.py:772: RuntimeWarning: Inconsistent parameter values for distribution with name \"min_child_weight\"! This might be a configuration mistake. Optuna allows to call the same distribution with the same name more then once in a trial. When the parameter values are inconsistent optuna only uses the values of the first call and ignores all following. Using these values: {'low': 0.0, 'high': 10.0}\n",
      "  warnings.warn(\n",
      "\u001b[32m[I 2022-05-29 22:51:06,832]\u001b[0m Trial 76 finished with value: 0.8373464373464373 and parameters: {'booster': 'dart', 'lambda': 0.414319423667585, 'alpha': 1.0651775203134676e-06, 'learning_rate': 0.3321681602848464, 'gamma': 140.91017643632364, 'n_estimators': 541, 'max_depth': 9, 'min_child_weight': 1.6859691812675486}. Best is trial 64 with value: 0.8552825552825553.\u001b[0m\n",
      "C:\\Users\\Lucas\\anaconda3\\lib\\site-packages\\optuna\\trial\\_trial.py:772: RuntimeWarning: Inconsistent parameter values for distribution with name \"min_child_weight\"! This might be a configuration mistake. Optuna allows to call the same distribution with the same name more then once in a trial. When the parameter values are inconsistent optuna only uses the values of the first call and ignores all following. Using these values: {'low': 0.0, 'high': 10.0}\n",
      "  warnings.warn(\n",
      "\u001b[32m[I 2022-05-29 22:51:06,927]\u001b[0m Trial 77 finished with value: 0.8385749385749386 and parameters: {'booster': 'dart', 'lambda': 0.14563896762467812, 'alpha': 7.358374473869802e-06, 'learning_rate': 0.45164431030661256, 'gamma': 10.657865556804937, 'n_estimators': 484, 'max_depth': 9, 'min_child_weight': 0.5119835968099047}. Best is trial 64 with value: 0.8552825552825553.\u001b[0m\n",
      "C:\\Users\\Lucas\\anaconda3\\lib\\site-packages\\optuna\\trial\\_trial.py:772: RuntimeWarning: Inconsistent parameter values for distribution with name \"min_child_weight\"! This might be a configuration mistake. Optuna allows to call the same distribution with the same name more then once in a trial. When the parameter values are inconsistent optuna only uses the values of the first call and ignores all following. Using these values: {'low': 0.0, 'high': 10.0}\n",
      "  warnings.warn(\n",
      "\u001b[32m[I 2022-05-29 22:51:07,014]\u001b[0m Trial 78 finished with value: 0.8266584766584767 and parameters: {'booster': 'dart', 'lambda': 0.2877751627840436, 'alpha': 2.868264399893122e-06, 'learning_rate': 0.5794867379278684, 'gamma': 28.538064587142898, 'n_estimators': 405, 'max_depth': 8, 'min_child_weight': 0.3056868296053922}. Best is trial 64 with value: 0.8552825552825553.\u001b[0m\n",
      "C:\\Users\\Lucas\\anaconda3\\lib\\site-packages\\optuna\\trial\\_trial.py:772: RuntimeWarning: Inconsistent parameter values for distribution with name \"min_child_weight\"! This might be a configuration mistake. Optuna allows to call the same distribution with the same name more then once in a trial. When the parameter values are inconsistent optuna only uses the values of the first call and ignores all following. Using these values: {'low': 0.0, 'high': 10.0}\n",
      "  warnings.warn(\n",
      "\u001b[32m[I 2022-05-29 22:51:07,112]\u001b[0m Trial 79 finished with value: 0.847051597051597 and parameters: {'booster': 'dart', 'lambda': 0.9181019277578636, 'alpha': 2.2124407896384325e-07, 'learning_rate': 0.03778140397716696, 'gamma': 18.320908058238917, 'n_estimators': 558, 'max_depth': 9, 'min_child_weight': 1.0712900998713368}. Best is trial 64 with value: 0.8552825552825553.\u001b[0m\n"
     ]
    },
    {
     "name": "stderr",
     "output_type": "stream",
     "text": [
      "C:\\Users\\Lucas\\anaconda3\\lib\\site-packages\\optuna\\trial\\_trial.py:772: RuntimeWarning: Inconsistent parameter values for distribution with name \"min_child_weight\"! This might be a configuration mistake. Optuna allows to call the same distribution with the same name more then once in a trial. When the parameter values are inconsistent optuna only uses the values of the first call and ignores all following. Using these values: {'low': 0.0, 'high': 10.0}\n",
      "  warnings.warn(\n",
      "\u001b[32m[I 2022-05-29 22:51:07,203]\u001b[0m Trial 80 finished with value: 0.6907862407862407 and parameters: {'booster': 'dart', 'lambda': 0.07046051368849127, 'alpha': 2.008559003507931e-06, 'learning_rate': 0.02202546299802369, 'gamma': 309.9799430253878, 'n_estimators': 593, 'max_depth': 8, 'min_child_weight': 5.435380289529672}. Best is trial 64 with value: 0.8552825552825553.\u001b[0m\n",
      "C:\\Users\\Lucas\\anaconda3\\lib\\site-packages\\optuna\\trial\\_trial.py:772: RuntimeWarning: Inconsistent parameter values for distribution with name \"min_child_weight\"! This might be a configuration mistake. Optuna allows to call the same distribution with the same name more then once in a trial. When the parameter values are inconsistent optuna only uses the values of the first call and ignores all following. Using these values: {'low': 0.0, 'high': 10.0}\n",
      "  warnings.warn(\n",
      "\u001b[32m[I 2022-05-29 22:51:07,291]\u001b[0m Trial 81 finished with value: 0.8529484029484029 and parameters: {'booster': 'dart', 'lambda': 0.541669767466775, 'alpha': 6.649301943830474e-06, 'learning_rate': 0.8333410430086005, 'gamma': 13.458350882468713, 'n_estimators': 351, 'max_depth': 8, 'min_child_weight': 0.9680547431467101}. Best is trial 64 with value: 0.8552825552825553.\u001b[0m\n",
      "C:\\Users\\Lucas\\anaconda3\\lib\\site-packages\\optuna\\trial\\_trial.py:772: RuntimeWarning: Inconsistent parameter values for distribution with name \"min_child_weight\"! This might be a configuration mistake. Optuna allows to call the same distribution with the same name more then once in a trial. When the parameter values are inconsistent optuna only uses the values of the first call and ignores all following. Using these values: {'low': 0.0, 'high': 10.0}\n",
      "  warnings.warn(\n",
      "\u001b[32m[I 2022-05-29 22:51:07,387]\u001b[0m Trial 82 finished with value: 0.8557739557739558 and parameters: {'booster': 'dart', 'lambda': 0.5679495021507609, 'alpha': 2.1502740293535645e-05, 'learning_rate': 0.8331364753150831, 'gamma': 8.210021469554391, 'n_estimators': 347, 'max_depth': 9, 'min_child_weight': 0.9240714622260184}. Best is trial 82 with value: 0.8557739557739558.\u001b[0m\n",
      "C:\\Users\\Lucas\\anaconda3\\lib\\site-packages\\optuna\\trial\\_trial.py:772: RuntimeWarning: Inconsistent parameter values for distribution with name \"min_child_weight\"! This might be a configuration mistake. Optuna allows to call the same distribution with the same name more then once in a trial. When the parameter values are inconsistent optuna only uses the values of the first call and ignores all following. Using these values: {'low': 0.0, 'high': 10.0}\n",
      "  warnings.warn(\n",
      "\u001b[32m[I 2022-05-29 22:51:07,479]\u001b[0m Trial 83 finished with value: 0.8485257985257986 and parameters: {'booster': 'dart', 'lambda': 0.3121548857123432, 'alpha': 2.2230003499419246e-05, 'learning_rate': 0.6717433302910096, 'gamma': 5.7811856418692065, 'n_estimators': 416, 'max_depth': 9, 'min_child_weight': 1.6079133607835105}. Best is trial 82 with value: 0.8557739557739558.\u001b[0m\n",
      "C:\\Users\\Lucas\\anaconda3\\lib\\site-packages\\optuna\\trial\\_trial.py:772: RuntimeWarning: Inconsistent parameter values for distribution with name \"min_child_weight\"! This might be a configuration mistake. Optuna allows to call the same distribution with the same name more then once in a trial. When the parameter values are inconsistent optuna only uses the values of the first call and ignores all following. Using these values: {'low': 0.0, 'high': 10.0}\n",
      "  warnings.warn(\n",
      "\u001b[32m[I 2022-05-29 22:51:07,575]\u001b[0m Trial 84 finished with value: 0.7148648648648649 and parameters: {'booster': 'dart', 'lambda': 0.14119038542351153, 'alpha': 3.4340058193624417e-06, 'learning_rate': 0.49236342857815446, 'gamma': 36.44655291746817, 'n_estimators': 291, 'max_depth': 9, 'min_child_weight': 6.203659590015288}. Best is trial 82 with value: 0.8557739557739558.\u001b[0m\n",
      "C:\\Users\\Lucas\\anaconda3\\lib\\site-packages\\optuna\\trial\\_trial.py:772: RuntimeWarning: Inconsistent parameter values for distribution with name \"min_child_weight\"! This might be a configuration mistake. Optuna allows to call the same distribution with the same name more then once in a trial. When the parameter values are inconsistent optuna only uses the values of the first call and ignores all following. Using these values: {'low': 0.0, 'high': 10.0}\n",
      "  warnings.warn(\n",
      "\u001b[32m[I 2022-05-29 22:51:07,674]\u001b[0m Trial 85 finished with value: 0.8340294840294841 and parameters: {'booster': 'dart', 'lambda': 0.7094565300914959, 'alpha': 1.053307315808367e-05, 'learning_rate': 0.7384923528301116, 'gamma': 64.31902785270044, 'n_estimators': 491, 'max_depth': 10, 'min_child_weight': 0.6126672399333505}. Best is trial 82 with value: 0.8557739557739558.\u001b[0m\n",
      "C:\\Users\\Lucas\\anaconda3\\lib\\site-packages\\optuna\\trial\\_trial.py:772: RuntimeWarning: Inconsistent parameter values for distribution with name \"min_child_weight\"! This might be a configuration mistake. Optuna allows to call the same distribution with the same name more then once in a trial. When the parameter values are inconsistent optuna only uses the values of the first call and ignores all following. Using these values: {'low': 0.0, 'high': 10.0}\n",
      "  warnings.warn(\n",
      "\u001b[32m[I 2022-05-29 22:51:07,721]\u001b[0m Trial 86 finished with value: 0.8115479115479115 and parameters: {'booster': 'gblinear', 'lambda': 0.23739873354828442, 'alpha': 8.282186583141336e-07, 'learning_rate': 0.6037048910865059, 'gamma': 3.439434534378855, 'n_estimators': 378, 'max_depth': 9, 'min_child_weight': 1.2416058345248469}. Best is trial 82 with value: 0.8557739557739558.\u001b[0m\n",
      "C:\\Users\\Lucas\\anaconda3\\lib\\site-packages\\optuna\\trial\\_trial.py:772: RuntimeWarning: Inconsistent parameter values for distribution with name \"min_child_weight\"! This might be a configuration mistake. Optuna allows to call the same distribution with the same name more then once in a trial. When the parameter values are inconsistent optuna only uses the values of the first call and ignores all following. Using these values: {'low': 0.0, 'high': 10.0}\n",
      "  warnings.warn(\n",
      "\u001b[32m[I 2022-05-29 22:51:07,818]\u001b[0m Trial 87 finished with value: 0.8223587223587223 and parameters: {'booster': 'dart', 'lambda': 0.42839877654770864, 'alpha': 4.2860505884376706e-05, 'learning_rate': 0.886103933122701, 'gamma': 8.264130696335048, 'n_estimators': 509, 'max_depth': 9, 'min_child_weight': 0.20419459375068827}. Best is trial 82 with value: 0.8557739557739558.\u001b[0m\n",
      "C:\\Users\\Lucas\\anaconda3\\lib\\site-packages\\optuna\\trial\\_trial.py:772: RuntimeWarning: Inconsistent parameter values for distribution with name \"min_child_weight\"! This might be a configuration mistake. Optuna allows to call the same distribution with the same name more then once in a trial. When the parameter values are inconsistent optuna only uses the values of the first call and ignores all following. Using these values: {'low': 0.0, 'high': 10.0}\n",
      "  warnings.warn(\n",
      "\u001b[32m[I 2022-05-29 22:51:07,923]\u001b[0m Trial 88 finished with value: 0.8538083538083538 and parameters: {'booster': 'dart', 'lambda': 0.031075679699975087, 'alpha': 1.8969495443979748e-05, 'learning_rate': 0.41785751992683084, 'gamma': 7.244118144665721e-05, 'n_estimators': 326, 'max_depth': 10, 'min_child_weight': 0.8830728298674058}. Best is trial 82 with value: 0.8557739557739558.\u001b[0m\n",
      "C:\\Users\\Lucas\\anaconda3\\lib\\site-packages\\optuna\\trial\\_trial.py:772: RuntimeWarning: Inconsistent parameter values for distribution with name \"min_child_weight\"! This might be a configuration mistake. Optuna allows to call the same distribution with the same name more then once in a trial. When the parameter values are inconsistent optuna only uses the values of the first call and ignores all following. Using these values: {'low': 0.0, 'high': 10.0}\n",
      "  warnings.warn(\n",
      "\u001b[32m[I 2022-05-29 22:51:08,024]\u001b[0m Trial 89 finished with value: 0.8330466830466831 and parameters: {'booster': 'dart', 'lambda': 0.02895932198799867, 'alpha': 1.8567698882463515e-05, 'learning_rate': 0.4196961470891837, 'gamma': 2.8347565435951002e-05, 'n_estimators': 332, 'max_depth': 10, 'min_child_weight': 2.15448902267632}. Best is trial 82 with value: 0.8557739557739558.\u001b[0m\n"
     ]
    },
    {
     "name": "stderr",
     "output_type": "stream",
     "text": [
      "C:\\Users\\Lucas\\anaconda3\\lib\\site-packages\\optuna\\trial\\_trial.py:772: RuntimeWarning: Inconsistent parameter values for distribution with name \"min_child_weight\"! This might be a configuration mistake. Optuna allows to call the same distribution with the same name more then once in a trial. When the parameter values are inconsistent optuna only uses the values of the first call and ignores all following. Using these values: {'low': 0.0, 'high': 10.0}\n",
      "  warnings.warn(\n",
      "\u001b[32m[I 2022-05-29 22:51:08,127]\u001b[0m Trial 90 finished with value: 0.7723587223587224 and parameters: {'booster': 'dart', 'lambda': 0.08166277537092573, 'alpha': 5.079079447566973e-06, 'learning_rate': 0.3387955068648234, 'gamma': 0.0008622530477443228, 'n_estimators': 430, 'max_depth': 10, 'min_child_weight': 4.010961395386727}. Best is trial 82 with value: 0.8557739557739558.\u001b[0m\n",
      "C:\\Users\\Lucas\\anaconda3\\lib\\site-packages\\optuna\\trial\\_trial.py:772: RuntimeWarning: Inconsistent parameter values for distribution with name \"min_child_weight\"! This might be a configuration mistake. Optuna allows to call the same distribution with the same name more then once in a trial. When the parameter values are inconsistent optuna only uses the values of the first call and ignores all following. Using these values: {'low': 0.0, 'high': 10.0}\n",
      "  warnings.warn(\n",
      "\u001b[32m[I 2022-05-29 22:51:08,227]\u001b[0m Trial 91 finished with value: 0.8504914004914005 and parameters: {'booster': 'dart', 'lambda': 0.13147220062555826, 'alpha': 1.7619386874836235e-06, 'learning_rate': 0.5421660645169268, 'gamma': 22.744389684410088, 'n_estimators': 265, 'max_depth': 10, 'min_child_weight': 0.9073442233685409}. Best is trial 82 with value: 0.8557739557739558.\u001b[0m\n",
      "C:\\Users\\Lucas\\anaconda3\\lib\\site-packages\\optuna\\trial\\_trial.py:772: RuntimeWarning: Inconsistent parameter values for distribution with name \"min_child_weight\"! This might be a configuration mistake. Optuna allows to call the same distribution with the same name more then once in a trial. When the parameter values are inconsistent optuna only uses the values of the first call and ignores all following. Using these values: {'low': 0.0, 'high': 10.0}\n",
      "  warnings.warn(\n",
      "\u001b[32m[I 2022-05-29 22:51:08,319]\u001b[0m Trial 92 finished with value: 0.8525798525798526 and parameters: {'booster': 'dart', 'lambda': 0.060000525463600136, 'alpha': 2.721068728666923e-06, 'learning_rate': 0.6957438385151887, 'gamma': 7.110237071723904e-05, 'n_estimators': 469, 'max_depth': 9, 'min_child_weight': 1.349940832015843}. Best is trial 82 with value: 0.8557739557739558.\u001b[0m\n",
      "C:\\Users\\Lucas\\anaconda3\\lib\\site-packages\\optuna\\trial\\_trial.py:772: RuntimeWarning: Inconsistent parameter values for distribution with name \"min_child_weight\"! This might be a configuration mistake. Optuna allows to call the same distribution with the same name more then once in a trial. When the parameter values are inconsistent optuna only uses the values of the first call and ignores all following. Using these values: {'low': 0.0, 'high': 10.0}\n",
      "  warnings.warn(\n",
      "\u001b[32m[I 2022-05-29 22:51:08,415]\u001b[0m Trial 93 finished with value: 0.846928746928747 and parameters: {'booster': 'dart', 'lambda': 0.23317554886228617, 'alpha': 4.223510745109374e-05, 'learning_rate': 0.44422832911635196, 'gamma': 0.0006252603998151818, 'n_estimators': 544, 'max_depth': 9, 'min_child_weight': 1.781226780890008}. Best is trial 82 with value: 0.8557739557739558.\u001b[0m\n",
      "C:\\Users\\Lucas\\anaconda3\\lib\\site-packages\\optuna\\trial\\_trial.py:772: RuntimeWarning: Inconsistent parameter values for distribution with name \"min_child_weight\"! This might be a configuration mistake. Optuna allows to call the same distribution with the same name more then once in a trial. When the parameter values are inconsistent optuna only uses the values of the first call and ignores all following. Using these values: {'low': 0.0, 'high': 10.0}\n",
      "  warnings.warn(\n",
      "\u001b[32m[I 2022-05-29 22:51:08,506]\u001b[0m Trial 94 finished with value: 0.8535626535626536 and parameters: {'booster': 'dart', 'lambda': 0.5825096267356221, 'alpha': 5.614188922379007e-07, 'learning_rate': 0.7622762577921147, 'gamma': 5.182504684960002, 'n_estimators': 327, 'max_depth': 8, 'min_child_weight': 0.65524394470443}. Best is trial 82 with value: 0.8557739557739558.\u001b[0m\n",
      "C:\\Users\\Lucas\\anaconda3\\lib\\site-packages\\optuna\\trial\\_trial.py:772: RuntimeWarning: Inconsistent parameter values for distribution with name \"min_child_weight\"! This might be a configuration mistake. Optuna allows to call the same distribution with the same name more then once in a trial. When the parameter values are inconsistent optuna only uses the values of the first call and ignores all following. Using these values: {'low': 0.0, 'high': 10.0}\n",
      "  warnings.warn(\n",
      "\u001b[32m[I 2022-05-29 22:51:08,608]\u001b[0m Trial 95 finished with value: 0.8506142506142507 and parameters: {'booster': 'dart', 'lambda': 0.9738950123949774, 'alpha': 4.2090499927123095e-07, 'learning_rate': 0.7850245706044784, 'gamma': 3.3367441837521152, 'n_estimators': 249, 'max_depth': 8, 'min_child_weight': 0.6206051483018037}. Best is trial 82 with value: 0.8557739557739558.\u001b[0m\n",
      "C:\\Users\\Lucas\\anaconda3\\lib\\site-packages\\optuna\\trial\\_trial.py:772: RuntimeWarning: Inconsistent parameter values for distribution with name \"min_child_weight\"! This might be a configuration mistake. Optuna allows to call the same distribution with the same name more then once in a trial. When the parameter values are inconsistent optuna only uses the values of the first call and ignores all following. Using these values: {'low': 0.0, 'high': 10.0}\n",
      "  warnings.warn(\n",
      "\u001b[32m[I 2022-05-29 22:51:08,739]\u001b[0m Trial 96 finished with value: 0.8316953316953317 and parameters: {'booster': 'dart', 'lambda': 0.04746173760441959, 'alpha': 1.2008167046286804e-06, 'learning_rate': 0.6238994225390329, 'gamma': 8.543369208652429, 'n_estimators': 323, 'max_depth': 10, 'min_child_weight': 0.2512984334475199}. Best is trial 82 with value: 0.8557739557739558.\u001b[0m\n",
      "C:\\Users\\Lucas\\anaconda3\\lib\\site-packages\\optuna\\trial\\_trial.py:772: RuntimeWarning: Inconsistent parameter values for distribution with name \"min_child_weight\"! This might be a configuration mistake. Optuna allows to call the same distribution with the same name more then once in a trial. When the parameter values are inconsistent optuna only uses the values of the first call and ignores all following. Using these values: {'low': 0.0, 'high': 10.0}\n",
      "  warnings.warn(\n",
      "\u001b[32m[I 2022-05-29 22:51:08,818]\u001b[0m Trial 97 finished with value: 0.6475429975429975 and parameters: {'booster': 'gbtree', 'lambda': 0.01941075256718996, 'alpha': 1.0547338089534796e-05, 'learning_rate': 0.4959587557808074, 'gamma': 5.236070558544917, 'n_estimators': 187, 'max_depth': 8, 'min_child_weight': 9.407553480912052}. Best is trial 82 with value: 0.8557739557739558.\u001b[0m\n",
      "C:\\Users\\Lucas\\anaconda3\\lib\\site-packages\\optuna\\trial\\_trial.py:772: RuntimeWarning: Inconsistent parameter values for distribution with name \"min_child_weight\"! This might be a configuration mistake. Optuna allows to call the same distribution with the same name more then once in a trial. When the parameter values are inconsistent optuna only uses the values of the first call and ignores all following. Using these values: {'low': 0.0, 'high': 10.0}\n",
      "  warnings.warn(\n",
      "\u001b[32m[I 2022-05-29 22:51:08,915]\u001b[0m Trial 98 finished with value: 0.8441031941031941 and parameters: {'booster': 'dart', 'lambda': 2.2139516286765605e-08, 'alpha': 1.3361324381935847e-05, 'learning_rate': 0.37525031537591635, 'gamma': 61.03705043042356, 'n_estimators': 394, 'max_depth': 8, 'min_child_weight': 0.7941849374840187}. Best is trial 82 with value: 0.8557739557739558.\u001b[0m\n",
      "C:\\Users\\Lucas\\anaconda3\\lib\\site-packages\\optuna\\trial\\_trial.py:772: RuntimeWarning: Inconsistent parameter values for distribution with name \"min_child_weight\"! This might be a configuration mistake. Optuna allows to call the same distribution with the same name more then once in a trial. When the parameter values are inconsistent optuna only uses the values of the first call and ignores all following. Using these values: {'low': 0.0, 'high': 10.0}\n",
      "  warnings.warn(\n",
      "\u001b[32m[I 2022-05-29 22:51:09,006]\u001b[0m Trial 99 finished with value: 0.8544226044226044 and parameters: {'booster': 'dart', 'lambda': 0.1898755840824942, 'alpha': 2.0330545572507118e-07, 'learning_rate': 0.8853980947896304, 'gamma': 1.4896983181856651, 'n_estimators': 369, 'max_depth': 7, 'min_child_weight': 1.215994811454372}. Best is trial 82 with value: 0.8557739557739558.\u001b[0m\n"
     ]
    },
    {
     "name": "stderr",
     "output_type": "stream",
     "text": [
      "C:\\Users\\Lucas\\anaconda3\\lib\\site-packages\\optuna\\trial\\_trial.py:772: RuntimeWarning: Inconsistent parameter values for distribution with name \"min_child_weight\"! This might be a configuration mistake. Optuna allows to call the same distribution with the same name more then once in a trial. When the parameter values are inconsistent optuna only uses the values of the first call and ignores all following. Using these values: {'low': 0.0, 'high': 10.0}\n",
      "  warnings.warn(\n",
      "\u001b[32m[I 2022-05-29 22:51:09,054]\u001b[0m Trial 100 finished with value: 0.8149877149877149 and parameters: {'booster': 'gblinear', 'lambda': 0.6362122192794929, 'alpha': 3.819510659716301e-08, 'learning_rate': 0.25980427089256763, 'gamma': 2.345400091540407, 'n_estimators': 347, 'max_depth': 9, 'min_child_weight': 1.1949072020067488}. Best is trial 82 with value: 0.8557739557739558.\u001b[0m\n",
      "C:\\Users\\Lucas\\anaconda3\\lib\\site-packages\\optuna\\trial\\_trial.py:772: RuntimeWarning: Inconsistent parameter values for distribution with name \"min_child_weight\"! This might be a configuration mistake. Optuna allows to call the same distribution with the same name more then once in a trial. When the parameter values are inconsistent optuna only uses the values of the first call and ignores all following. Using these values: {'low': 0.0, 'high': 10.0}\n",
      "  warnings.warn(\n",
      "\u001b[32m[I 2022-05-29 22:51:09,141]\u001b[0m Trial 101 finished with value: 0.8455773955773955 and parameters: {'booster': 'dart', 'lambda': 0.1831057303830926, 'alpha': 5.570215637154689e-06, 'learning_rate': 0.8742953778972904, 'gamma': 1.0584171590305587, 'n_estimators': 299, 'max_depth': 7, 'min_child_weight': 1.5984102445272705}. Best is trial 82 with value: 0.8557739557739558.\u001b[0m\n",
      "C:\\Users\\Lucas\\anaconda3\\lib\\site-packages\\optuna\\trial\\_trial.py:772: RuntimeWarning: Inconsistent parameter values for distribution with name \"min_child_weight\"! This might be a configuration mistake. Optuna allows to call the same distribution with the same name more then once in a trial. When the parameter values are inconsistent optuna only uses the values of the first call and ignores all following. Using these values: {'low': 0.0, 'high': 10.0}\n",
      "  warnings.warn(\n",
      "\u001b[32m[I 2022-05-29 22:51:09,226]\u001b[0m Trial 102 finished with value: 0.8421375921375921 and parameters: {'booster': 'dart', 'lambda': 0.1102665751983711, 'alpha': 2.9519664626424284e-07, 'learning_rate': 0.7513993518924273, 'gamma': 18.79080764593385, 'n_estimators': 364, 'max_depth': 7, 'min_child_weight': 0.4954992374605594}. Best is trial 82 with value: 0.8557739557739558.\u001b[0m\n",
      "C:\\Users\\Lucas\\anaconda3\\lib\\site-packages\\optuna\\trial\\_trial.py:772: RuntimeWarning: Inconsistent parameter values for distribution with name \"min_child_weight\"! This might be a configuration mistake. Optuna allows to call the same distribution with the same name more then once in a trial. When the parameter values are inconsistent optuna only uses the values of the first call and ignores all following. Using these values: {'low': 0.0, 'high': 10.0}\n",
      "  warnings.warn(\n",
      "\u001b[32m[I 2022-05-29 22:51:09,316]\u001b[0m Trial 103 finished with value: 0.8518427518427518 and parameters: {'booster': 'dart', 'lambda': 0.3515103729787048, 'alpha': 1.1200620219108033e-07, 'learning_rate': 0.6896813319280773, 'gamma': 4.429398459393021, 'n_estimators': 435, 'max_depth': 8, 'min_child_weight': 1.2912807060493798}. Best is trial 82 with value: 0.8557739557739558.\u001b[0m\n",
      "C:\\Users\\Lucas\\anaconda3\\lib\\site-packages\\optuna\\trial\\_trial.py:772: RuntimeWarning: Inconsistent parameter values for distribution with name \"min_child_weight\"! This might be a configuration mistake. Optuna allows to call the same distribution with the same name more then once in a trial. When the parameter values are inconsistent optuna only uses the values of the first call and ignores all following. Using these values: {'low': 0.0, 'high': 10.0}\n",
      "  warnings.warn(\n",
      "\u001b[32m[I 2022-05-29 22:51:09,396]\u001b[0m Trial 104 finished with value: 0.850982800982801 and parameters: {'booster': 'dart', 'lambda': 0.22000700402507697, 'alpha': 1.8254389872636532e-07, 'learning_rate': 0.9083994415726621, 'gamma': 11.12953866977763, 'n_estimators': 468, 'max_depth': 6, 'min_child_weight': 0.7865333535871348}. Best is trial 82 with value: 0.8557739557739558.\u001b[0m\n",
      "C:\\Users\\Lucas\\anaconda3\\lib\\site-packages\\optuna\\trial\\_trial.py:772: RuntimeWarning: Inconsistent parameter values for distribution with name \"min_child_weight\"! This might be a configuration mistake. Optuna allows to call the same distribution with the same name more then once in a trial. When the parameter values are inconsistent optuna only uses the values of the first call and ignores all following. Using these values: {'low': 0.0, 'high': 10.0}\n",
      "  warnings.warn(\n",
      "\u001b[32m[I 2022-05-29 22:51:09,480]\u001b[0m Trial 105 finished with value: 0.8412776412776413 and parameters: {'booster': 'dart', 'lambda': 0.06776649306282051, 'alpha': 7.553621200413817e-07, 'learning_rate': 0.8028324472933062, 'gamma': 1.6486414040550006, 'n_estimators': 320, 'max_depth': 7, 'min_child_weight': 1.9166713122648997}. Best is trial 82 with value: 0.8557739557739558.\u001b[0m\n",
      "C:\\Users\\Lucas\\anaconda3\\lib\\site-packages\\optuna\\trial\\_trial.py:772: RuntimeWarning: Inconsistent parameter values for distribution with name \"min_child_weight\"! This might be a configuration mistake. Optuna allows to call the same distribution with the same name more then once in a trial. When the parameter values are inconsistent optuna only uses the values of the first call and ignores all following. Using these values: {'low': 0.0, 'high': 10.0}\n",
      "  warnings.warn(\n",
      "\u001b[32m[I 2022-05-29 22:51:09,580]\u001b[0m Trial 106 finished with value: 0.8557739557739558 and parameters: {'booster': 'dart', 'lambda': 0.6072677521360411, 'alpha': 1.478428374574717e-06, 'learning_rate': 0.6404859592701058, 'gamma': 2.7685199681176482, 'n_estimators': 395, 'max_depth': 9, 'min_child_weight': 1.03735182933171}. Best is trial 82 with value: 0.8557739557739558.\u001b[0m\n",
      "C:\\Users\\Lucas\\anaconda3\\lib\\site-packages\\optuna\\trial\\_trial.py:772: RuntimeWarning: Inconsistent parameter values for distribution with name \"min_child_weight\"! This might be a configuration mistake. Optuna allows to call the same distribution with the same name more then once in a trial. When the parameter values are inconsistent optuna only uses the values of the first call and ignores all following. Using these values: {'low': 0.0, 'high': 10.0}\n",
      "  warnings.warn(\n",
      "\u001b[32m[I 2022-05-29 22:51:09,689]\u001b[0m Trial 107 finished with value: 0.8527027027027027 and parameters: {'booster': 'dart', 'lambda': 0.6223990948662607, 'alpha': 1.366866766590293e-07, 'learning_rate': 0.6227273601374561, 'gamma': 6.340164842953495, 'n_estimators': 393, 'max_depth': 10, 'min_child_weight': 1.456930915132355}. Best is trial 82 with value: 0.8557739557739558.\u001b[0m\n",
      "C:\\Users\\Lucas\\anaconda3\\lib\\site-packages\\optuna\\trial\\_trial.py:772: RuntimeWarning: Inconsistent parameter values for distribution with name \"min_child_weight\"! This might be a configuration mistake. Optuna allows to call the same distribution with the same name more then once in a trial. When the parameter values are inconsistent optuna only uses the values of the first call and ignores all following. Using these values: {'low': 0.0, 'high': 10.0}\n",
      "  warnings.warn(\n",
      "\u001b[32m[I 2022-05-29 22:51:09,798]\u001b[0m Trial 108 finished with value: 0.8554054054054054 and parameters: {'booster': 'dart', 'lambda': 0.036260141645534254, 'alpha': 3.4024361554462166e-07, 'learning_rate': 0.4154866788137482, 'gamma': 2.971325822961522, 'n_estimators': 234, 'max_depth': 9, 'min_child_weight': 1.0768543944443976}. Best is trial 82 with value: 0.8557739557739558.\u001b[0m\n",
      "C:\\Users\\Lucas\\anaconda3\\lib\\site-packages\\optuna\\trial\\_trial.py:772: RuntimeWarning: Inconsistent parameter values for distribution with name \"min_child_weight\"! This might be a configuration mistake. Optuna allows to call the same distribution with the same name more then once in a trial. When the parameter values are inconsistent optuna only uses the values of the first call and ignores all following. Using these values: {'low': 0.0, 'high': 10.0}\n",
      "  warnings.warn(\n",
      "\u001b[32m[I 2022-05-29 22:51:09,906]\u001b[0m Trial 109 finished with value: 0.8539312039312039 and parameters: {'booster': 'dart', 'lambda': 0.0167290792338097, 'alpha': 1.8276419017250485e-05, 'learning_rate': 0.4682053353346744, 'gamma': 3.0156361662849536, 'n_estimators': 141, 'max_depth': 9, 'min_child_weight': 1.0768001502558653}. Best is trial 82 with value: 0.8557739557739558.\u001b[0m\n"
     ]
    },
    {
     "name": "stderr",
     "output_type": "stream",
     "text": [
      "C:\\Users\\Lucas\\anaconda3\\lib\\site-packages\\optuna\\trial\\_trial.py:772: RuntimeWarning: Inconsistent parameter values for distribution with name \"min_child_weight\"! This might be a configuration mistake. Optuna allows to call the same distribution with the same name more then once in a trial. When the parameter values are inconsistent optuna only uses the values of the first call and ignores all following. Using these values: {'low': 0.0, 'high': 10.0}\n",
      "  warnings.warn(\n",
      "\u001b[32m[I 2022-05-29 22:51:10,014]\u001b[0m Trial 110 finished with value: 0.7524570024570024 and parameters: {'booster': 'dart', 'lambda': 0.03148018545056308, 'alpha': 2.994975131371521e-05, 'learning_rate': 0.4085803558914925, 'gamma': 1.8183027832573735, 'n_estimators': 85, 'max_depth': 9, 'min_child_weight': 4.585622847219621}. Best is trial 82 with value: 0.8557739557739558.\u001b[0m\n",
      "C:\\Users\\Lucas\\anaconda3\\lib\\site-packages\\optuna\\trial\\_trial.py:772: RuntimeWarning: Inconsistent parameter values for distribution with name \"min_child_weight\"! This might be a configuration mistake. Optuna allows to call the same distribution with the same name more then once in a trial. When the parameter values are inconsistent optuna only uses the values of the first call and ignores all following. Using these values: {'low': 0.0, 'high': 10.0}\n",
      "  warnings.warn(\n",
      "\u001b[32m[I 2022-05-29 22:51:10,125]\u001b[0m Trial 111 finished with value: 0.8557739557739558 and parameters: {'booster': 'dart', 'lambda': 0.04373372904199121, 'alpha': 5.733718157166205e-08, 'learning_rate': 0.3638453668956933, 'gamma': 2.9314239292844526, 'n_estimators': 173, 'max_depth': 9, 'min_child_weight': 1.094620533656145}. Best is trial 82 with value: 0.8557739557739558.\u001b[0m\n",
      "C:\\Users\\Lucas\\anaconda3\\lib\\site-packages\\optuna\\trial\\_trial.py:772: RuntimeWarning: Inconsistent parameter values for distribution with name \"min_child_weight\"! This might be a configuration mistake. Optuna allows to call the same distribution with the same name more then once in a trial. When the parameter values are inconsistent optuna only uses the values of the first call and ignores all following. Using these values: {'low': 0.0, 'high': 10.0}\n",
      "  warnings.warn(\n",
      "\u001b[32m[I 2022-05-29 22:51:10,235]\u001b[0m Trial 112 finished with value: 0.8508599508599508 and parameters: {'booster': 'dart', 'lambda': 0.015131711760329434, 'alpha': 5.6622052473271e-08, 'learning_rate': 0.315214414218527, 'gamma': 1.0978609054067554, 'n_estimators': 152, 'max_depth': 9, 'min_child_weight': 1.069397470468997}. Best is trial 82 with value: 0.8557739557739558.\u001b[0m\n",
      "C:\\Users\\Lucas\\anaconda3\\lib\\site-packages\\optuna\\trial\\_trial.py:772: RuntimeWarning: Inconsistent parameter values for distribution with name \"min_child_weight\"! This might be a configuration mistake. Optuna allows to call the same distribution with the same name more then once in a trial. When the parameter values are inconsistent optuna only uses the values of the first call and ignores all following. Using these values: {'low': 0.0, 'high': 10.0}\n",
      "  warnings.warn(\n",
      "\u001b[32m[I 2022-05-29 22:51:10,339]\u001b[0m Trial 113 finished with value: 0.8528255528255528 and parameters: {'booster': 'dart', 'lambda': 0.045562379462987454, 'alpha': 8.092748382218382e-05, 'learning_rate': 0.36063544127434716, 'gamma': 2.8307926488336737, 'n_estimators': 160, 'max_depth': 9, 'min_child_weight': 1.2682077389642288}. Best is trial 82 with value: 0.8557739557739558.\u001b[0m\n",
      "C:\\Users\\Lucas\\anaconda3\\lib\\site-packages\\optuna\\trial\\_trial.py:772: RuntimeWarning: Inconsistent parameter values for distribution with name \"min_child_weight\"! This might be a configuration mistake. Optuna allows to call the same distribution with the same name more then once in a trial. When the parameter values are inconsistent optuna only uses the values of the first call and ignores all following. Using these values: {'low': 0.0, 'high': 10.0}\n",
      "  warnings.warn(\n",
      "\u001b[32m[I 2022-05-29 22:51:10,447]\u001b[0m Trial 114 finished with value: 0.8438574938574939 and parameters: {'booster': 'dart', 'lambda': 0.0888349942257466, 'alpha': 6.83034517008774e-08, 'learning_rate': 0.46284433220192345, 'gamma': 0.5878527268155026, 'n_estimators': 241, 'max_depth': 10, 'min_child_weight': 0.4331366235147446}. Best is trial 82 with value: 0.8557739557739558.\u001b[0m\n",
      "C:\\Users\\Lucas\\anaconda3\\lib\\site-packages\\optuna\\trial\\_trial.py:772: RuntimeWarning: Inconsistent parameter values for distribution with name \"min_child_weight\"! This might be a configuration mistake. Optuna allows to call the same distribution with the same name more then once in a trial. When the parameter values are inconsistent optuna only uses the values of the first call and ignores all following. Using these values: {'low': 0.0, 'high': 10.0}\n",
      "  warnings.warn(\n",
      "\u001b[32m[I 2022-05-29 22:51:10,546]\u001b[0m Trial 115 finished with value: 0.845945945945946 and parameters: {'booster': 'dart', 'lambda': 0.01018304707280929, 'alpha': 3.027162731811432e-07, 'learning_rate': 0.42398612903058036, 'gamma': 0.2251360873073745, 'n_estimators': 281, 'max_depth': 9, 'min_child_weight': 1.5551105503616363}. Best is trial 82 with value: 0.8557739557739558.\u001b[0m\n",
      "C:\\Users\\Lucas\\anaconda3\\lib\\site-packages\\optuna\\trial\\_trial.py:772: RuntimeWarning: Inconsistent parameter values for distribution with name \"min_child_weight\"! This might be a configuration mistake. Optuna allows to call the same distribution with the same name more then once in a trial. When the parameter values are inconsistent optuna only uses the values of the first call and ignores all following. Using these values: {'low': 0.0, 'high': 10.0}\n",
      "  warnings.warn(\n",
      "\u001b[32m[I 2022-05-29 22:51:10,630]\u001b[0m Trial 116 finished with value: 0.8549140049140049 and parameters: {'booster': 'gbtree', 'lambda': 0.031038954613419434, 'alpha': 1.837197891310761e-05, 'learning_rate': 0.4722791575410694, 'gamma': 0.37332541604368175, 'n_estimators': 200, 'max_depth': 9, 'min_child_weight': 1.0684932641024458}. Best is trial 82 with value: 0.8557739557739558.\u001b[0m\n",
      "C:\\Users\\Lucas\\anaconda3\\lib\\site-packages\\optuna\\trial\\_trial.py:772: RuntimeWarning: Inconsistent parameter values for distribution with name \"min_child_weight\"! This might be a configuration mistake. Optuna allows to call the same distribution with the same name more then once in a trial. When the parameter values are inconsistent optuna only uses the values of the first call and ignores all following. Using these values: {'low': 0.0, 'high': 10.0}\n",
      "  warnings.warn(\n",
      "\u001b[32m[I 2022-05-29 22:51:10,718]\u001b[0m Trial 117 finished with value: 0.8454545454545455 and parameters: {'booster': 'gbtree', 'lambda': 0.007745830730108939, 'alpha': 3.407793550886547e-08, 'learning_rate': 0.48768917696539316, 'gamma': 0.3346445398177009, 'n_estimators': 114, 'max_depth': 10, 'min_child_weight': 1.670265153499707}. Best is trial 82 with value: 0.8557739557739558.\u001b[0m\n",
      "C:\\Users\\Lucas\\anaconda3\\lib\\site-packages\\optuna\\trial\\_trial.py:772: RuntimeWarning: Inconsistent parameter values for distribution with name \"min_child_weight\"! This might be a configuration mistake. Optuna allows to call the same distribution with the same name more then once in a trial. When the parameter values are inconsistent optuna only uses the values of the first call and ignores all following. Using these values: {'low': 0.0, 'high': 10.0}\n",
      "  warnings.warn(\n",
      "\u001b[32m[I 2022-05-29 22:51:10,803]\u001b[0m Trial 118 finished with value: 0.8201474201474201 and parameters: {'booster': 'gbtree', 'lambda': 0.02910104230141807, 'alpha': 0.00019923585169242947, 'learning_rate': 0.3582939676363187, 'gamma': 0.7447671206078391, 'n_estimators': 195, 'max_depth': 9, 'min_child_weight': 2.4065109837971645}. Best is trial 82 with value: 0.8557739557739558.\u001b[0m\n",
      "C:\\Users\\Lucas\\anaconda3\\lib\\site-packages\\optuna\\trial\\_trial.py:772: RuntimeWarning: Inconsistent parameter values for distribution with name \"min_child_weight\"! This might be a configuration mistake. Optuna allows to call the same distribution with the same name more then once in a trial. When the parameter values are inconsistent optuna only uses the values of the first call and ignores all following. Using these values: {'low': 0.0, 'high': 10.0}\n",
      "  warnings.warn(\n",
      "\u001b[32m[I 2022-05-29 22:51:10,891]\u001b[0m Trial 119 finished with value: 0.8539312039312039 and parameters: {'booster': 'gbtree', 'lambda': 0.0032272714819756286, 'alpha': 2.071879730213e-05, 'learning_rate': 0.5811167100680505, 'gamma': 1.4884781238008078, 'n_estimators': 135, 'max_depth': 10, 'min_child_weight': 1.362072605057807}. Best is trial 82 with value: 0.8557739557739558.\u001b[0m\n"
     ]
    },
    {
     "name": "stderr",
     "output_type": "stream",
     "text": [
      "C:\\Users\\Lucas\\anaconda3\\lib\\site-packages\\optuna\\trial\\_trial.py:772: RuntimeWarning: Inconsistent parameter values for distribution with name \"min_child_weight\"! This might be a configuration mistake. Optuna allows to call the same distribution with the same name more then once in a trial. When the parameter values are inconsistent optuna only uses the values of the first call and ignores all following. Using these values: {'low': 0.0, 'high': 10.0}\n",
      "  warnings.warn(\n",
      "\u001b[32m[I 2022-05-29 22:51:10,975]\u001b[0m Trial 120 finished with value: 0.8337837837837838 and parameters: {'booster': 'gbtree', 'lambda': 0.005032380867184258, 'alpha': 5.406385395288384e-05, 'learning_rate': 0.5745185778703081, 'gamma': 1.8878577695881822, 'n_estimators': 129, 'max_depth': 9, 'min_child_weight': 2.062355539337477}. Best is trial 82 with value: 0.8557739557739558.\u001b[0m\n",
      "C:\\Users\\Lucas\\anaconda3\\lib\\site-packages\\optuna\\trial\\_trial.py:772: RuntimeWarning: Inconsistent parameter values for distribution with name \"min_child_weight\"! This might be a configuration mistake. Optuna allows to call the same distribution with the same name more then once in a trial. When the parameter values are inconsistent optuna only uses the values of the first call and ignores all following. Using these values: {'low': 0.0, 'high': 10.0}\n",
      "  warnings.warn(\n",
      "\u001b[32m[I 2022-05-29 22:51:11,066]\u001b[0m Trial 121 finished with value: 0.8530712530712531 and parameters: {'booster': 'gbtree', 'lambda': 0.0025241813924804977, 'alpha': 1.8345907354659643e-05, 'learning_rate': 0.4006396554029434, 'gamma': 1.350456889440527, 'n_estimators': 205, 'max_depth': 10, 'min_child_weight': 1.1134105590448375}. Best is trial 82 with value: 0.8557739557739558.\u001b[0m\n",
      "C:\\Users\\Lucas\\anaconda3\\lib\\site-packages\\optuna\\trial\\_trial.py:772: RuntimeWarning: Inconsistent parameter values for distribution with name \"min_child_weight\"! This might be a configuration mistake. Optuna allows to call the same distribution with the same name more then once in a trial. When the parameter values are inconsistent optuna only uses the values of the first call and ignores all following. Using these values: {'low': 0.0, 'high': 10.0}\n",
      "  warnings.warn(\n",
      "\u001b[32m[I 2022-05-29 22:51:11,169]\u001b[0m Trial 122 finished with value: 0.8507371007371007 and parameters: {'booster': 'gbtree', 'lambda': 0.019569910528354637, 'alpha': 3.2533710137844763e-05, 'learning_rate': 0.4588348152000492, 'gamma': 0.3917630550000606, 'n_estimators': 62, 'max_depth': 10, 'min_child_weight': 1.3426986162629544}. Best is trial 82 with value: 0.8557739557739558.\u001b[0m\n",
      "C:\\Users\\Lucas\\anaconda3\\lib\\site-packages\\optuna\\trial\\_trial.py:772: RuntimeWarning: Inconsistent parameter values for distribution with name \"min_child_weight\"! This might be a configuration mistake. Optuna allows to call the same distribution with the same name more then once in a trial. When the parameter values are inconsistent optuna only uses the values of the first call and ignores all following. Using these values: {'low': 0.0, 'high': 10.0}\n",
      "  warnings.warn(\n",
      "\u001b[32m[I 2022-05-29 22:51:11,260]\u001b[0m Trial 123 finished with value: 0.8552825552825553 and parameters: {'booster': 'gbtree', 'lambda': 0.041617161454697384, 'alpha': 8.736901156301543e-06, 'learning_rate': 0.5104045224989159, 'gamma': 3.0262723348918255, 'n_estimators': 137, 'max_depth': 9, 'min_child_weight': 0.8254654480015267}. Best is trial 82 with value: 0.8557739557739558.\u001b[0m\n",
      "C:\\Users\\Lucas\\anaconda3\\lib\\site-packages\\optuna\\trial\\_trial.py:772: RuntimeWarning: Inconsistent parameter values for distribution with name \"min_child_weight\"! This might be a configuration mistake. Optuna allows to call the same distribution with the same name more then once in a trial. When the parameter values are inconsistent optuna only uses the values of the first call and ignores all following. Using these values: {'low': 0.0, 'high': 10.0}\n",
      "  warnings.warn(\n",
      "\u001b[32m[I 2022-05-29 22:51:11,343]\u001b[0m Trial 124 finished with value: 0.8425061425061425 and parameters: {'booster': 'gbtree', 'lambda': 0.051107987472384, 'alpha': 8.94060903105755e-06, 'learning_rate': 0.6433508480323679, 'gamma': 2.8042507499621308, 'n_estimators': 159, 'max_depth': 9, 'min_child_weight': 1.8202931137515679}. Best is trial 82 with value: 0.8557739557739558.\u001b[0m\n",
      "C:\\Users\\Lucas\\anaconda3\\lib\\site-packages\\optuna\\trial\\_trial.py:772: RuntimeWarning: Inconsistent parameter values for distribution with name \"min_child_weight\"! This might be a configuration mistake. Optuna allows to call the same distribution with the same name more then once in a trial. When the parameter values are inconsistent optuna only uses the values of the first call and ignores all following. Using these values: {'low': 0.0, 'high': 10.0}\n",
      "  warnings.warn(\n",
      "\u001b[32m[I 2022-05-29 22:51:11,427]\u001b[0m Trial 125 finished with value: 0.8334152334152334 and parameters: {'booster': 'gbtree', 'lambda': 0.11742671852835512, 'alpha': 2.453164160884773e-05, 'learning_rate': 0.5196444672774408, 'gamma': 4.010970545671673, 'n_estimators': 134, 'max_depth': 9, 'min_child_weight': 0.25853828855425887}. Best is trial 82 with value: 0.8557739557739558.\u001b[0m\n",
      "C:\\Users\\Lucas\\anaconda3\\lib\\site-packages\\optuna\\trial\\_trial.py:772: RuntimeWarning: Inconsistent parameter values for distribution with name \"min_child_weight\"! This might be a configuration mistake. Optuna allows to call the same distribution with the same name more then once in a trial. When the parameter values are inconsistent optuna only uses the values of the first call and ignores all following. Using these values: {'low': 0.0, 'high': 10.0}\n",
      "  warnings.warn(\n",
      "\u001b[32m[I 2022-05-29 22:51:11,513]\u001b[0m Trial 126 finished with value: 0.8515970515970516 and parameters: {'booster': 'gbtree', 'lambda': 0.020859397045178227, 'alpha': 1.4332839475281524e-05, 'learning_rate': 0.5827438969602964, 'gamma': 0.7882233737243534, 'n_estimators': 180, 'max_depth': 9, 'min_child_weight': 0.5640894464991524}. Best is trial 82 with value: 0.8557739557739558.\u001b[0m\n",
      "C:\\Users\\Lucas\\anaconda3\\lib\\site-packages\\optuna\\trial\\_trial.py:772: RuntimeWarning: Inconsistent parameter values for distribution with name \"min_child_weight\"! This might be a configuration mistake. Optuna allows to call the same distribution with the same name more then once in a trial. When the parameter values are inconsistent optuna only uses the values of the first call and ignores all following. Using these values: {'low': 0.0, 'high': 10.0}\n",
      "  warnings.warn(\n",
      "\u001b[32m[I 2022-05-29 22:51:11,598]\u001b[0m Trial 127 finished with value: 0.8508599508599508 and parameters: {'booster': 'gbtree', 'lambda': 0.013285667903511648, 'alpha': 6.972973889606689e-05, 'learning_rate': 0.6813765889600555, 'gamma': 1.333479637845885, 'n_estimators': 231, 'max_depth': 9, 'min_child_weight': 1.4263619073231302}. Best is trial 82 with value: 0.8557739557739558.\u001b[0m\n",
      "C:\\Users\\Lucas\\anaconda3\\lib\\site-packages\\optuna\\trial\\_trial.py:772: RuntimeWarning: Inconsistent parameter values for distribution with name \"min_child_weight\"! This might be a configuration mistake. Optuna allows to call the same distribution with the same name more then once in a trial. When the parameter values are inconsistent optuna only uses the values of the first call and ignores all following. Using these values: {'low': 0.0, 'high': 10.0}\n",
      "  warnings.warn(\n",
      "\u001b[32m[I 2022-05-29 22:51:11,687]\u001b[0m Trial 128 finished with value: 0.8539312039312039 and parameters: {'booster': 'gbtree', 'lambda': 0.05843871360944067, 'alpha': 8.505254901073294e-06, 'learning_rate': 0.3095644948598514, 'gamma': 2.4459399090622056, 'n_estimators': 255, 'max_depth': 9, 'min_child_weight': 1.1779890790911969}. Best is trial 82 with value: 0.8557739557739558.\u001b[0m\n",
      "C:\\Users\\Lucas\\anaconda3\\lib\\site-packages\\optuna\\trial\\_trial.py:772: RuntimeWarning: Inconsistent parameter values for distribution with name \"min_child_weight\"! This might be a configuration mistake. Optuna allows to call the same distribution with the same name more then once in a trial. When the parameter values are inconsistent optuna only uses the values of the first call and ignores all following. Using these values: {'low': 0.0, 'high': 10.0}\n",
      "  warnings.warn(\n"
     ]
    },
    {
     "name": "stderr",
     "output_type": "stream",
     "text": [
      "\u001b[32m[I 2022-05-29 22:51:11,771]\u001b[0m Trial 129 finished with value: 0.8539312039312039 and parameters: {'booster': 'gbtree', 'lambda': 0.08442673439518522, 'alpha': 2.1167711115513847e-06, 'learning_rate': 0.49657349517487376, 'gamma': 6.603179606568674, 'n_estimators': 90, 'max_depth': 9, 'min_child_weight': 0.8164222844482553}. Best is trial 82 with value: 0.8557739557739558.\u001b[0m\n",
      "C:\\Users\\Lucas\\anaconda3\\lib\\site-packages\\optuna\\trial\\_trial.py:772: RuntimeWarning: Inconsistent parameter values for distribution with name \"min_child_weight\"! This might be a configuration mistake. Optuna allows to call the same distribution with the same name more then once in a trial. When the parameter values are inconsistent optuna only uses the values of the first call and ignores all following. Using these values: {'low': 0.0, 'high': 10.0}\n",
      "  warnings.warn(\n",
      "\u001b[32m[I 2022-05-29 22:51:11,860]\u001b[0m Trial 130 finished with value: 0.82997542997543 and parameters: {'booster': 'gbtree', 'lambda': 0.03730575438703158, 'alpha': 3.691496775799578e-05, 'learning_rate': 0.5800241757874408, 'gamma': 0.15783764489328703, 'n_estimators': 61, 'max_depth': 9, 'min_child_weight': 0.11353687302470572}. Best is trial 82 with value: 0.8557739557739558.\u001b[0m\n",
      "C:\\Users\\Lucas\\anaconda3\\lib\\site-packages\\optuna\\trial\\_trial.py:772: RuntimeWarning: Inconsistent parameter values for distribution with name \"min_child_weight\"! This might be a configuration mistake. Optuna allows to call the same distribution with the same name more then once in a trial. When the parameter values are inconsistent optuna only uses the values of the first call and ignores all following. Using these values: {'low': 0.0, 'high': 10.0}\n",
      "  warnings.warn(\n",
      "\u001b[32m[I 2022-05-29 22:51:11,952]\u001b[0m Trial 131 finished with value: 0.8487714987714988 and parameters: {'booster': 'gbtree', 'lambda': 0.07735686194470891, 'alpha': 8.05454137439156e-06, 'learning_rate': 0.08038370510145586, 'gamma': 2.655133051625867, 'n_estimators': 256, 'max_depth': 9, 'min_child_weight': 1.1100003267571898}. Best is trial 82 with value: 0.8557739557739558.\u001b[0m\n",
      "C:\\Users\\Lucas\\anaconda3\\lib\\site-packages\\optuna\\trial\\_trial.py:772: RuntimeWarning: Inconsistent parameter values for distribution with name \"min_child_weight\"! This might be a configuration mistake. Optuna allows to call the same distribution with the same name more then once in a trial. When the parameter values are inconsistent optuna only uses the values of the first call and ignores all following. Using these values: {'low': 0.0, 'high': 10.0}\n",
      "  warnings.warn(\n",
      "\u001b[32m[I 2022-05-29 22:51:12,003]\u001b[0m Trial 132 finished with value: 0.8142506142506143 and parameters: {'booster': 'gbtree', 'lambda': 0.05904975440277888, 'alpha': 2.0568114405715587e-06, 'learning_rate': 0.2497889082419489, 'gamma': 6.670069874276952, 'n_estimators': 171, 'max_depth': 2, 'min_child_weight': 0.6811619842741444}. Best is trial 82 with value: 0.8557739557739558.\u001b[0m\n",
      "C:\\Users\\Lucas\\anaconda3\\lib\\site-packages\\optuna\\trial\\_trial.py:772: RuntimeWarning: Inconsistent parameter values for distribution with name \"min_child_weight\"! This might be a configuration mistake. Optuna allows to call the same distribution with the same name more then once in a trial. When the parameter values are inconsistent optuna only uses the values of the first call and ignores all following. Using these values: {'low': 0.0, 'high': 10.0}\n",
      "  warnings.warn(\n",
      "\u001b[32m[I 2022-05-29 22:51:12,086]\u001b[0m Trial 133 finished with value: 0.8546683046683047 and parameters: {'booster': 'gbtree', 'lambda': 0.12546489415462486, 'alpha': 3.982476257193233e-06, 'learning_rate': 0.48981474928692337, 'gamma': 4.316389822075443, 'n_estimators': 108, 'max_depth': 9, 'min_child_weight': 0.819565585441495}. Best is trial 82 with value: 0.8557739557739558.\u001b[0m\n",
      "C:\\Users\\Lucas\\anaconda3\\lib\\site-packages\\optuna\\trial\\_trial.py:772: RuntimeWarning: Inconsistent parameter values for distribution with name \"min_child_weight\"! This might be a configuration mistake. Optuna allows to call the same distribution with the same name more then once in a trial. When the parameter values are inconsistent optuna only uses the values of the first call and ignores all following. Using these values: {'low': 0.0, 'high': 10.0}\n",
      "  warnings.warn(\n",
      "\u001b[32m[I 2022-05-29 22:51:12,172]\u001b[0m Trial 134 finished with value: 0.8567567567567568 and parameters: {'booster': 'gbtree', 'lambda': 0.1318531757676822, 'alpha': 8.104030830998152e-07, 'learning_rate': 0.5128214513148114, 'gamma': 4.635036109119291, 'n_estimators': 120, 'max_depth': 9, 'min_child_weight': 0.8210184895002797}. Best is trial 134 with value: 0.8567567567567568.\u001b[0m\n",
      "C:\\Users\\Lucas\\anaconda3\\lib\\site-packages\\optuna\\trial\\_trial.py:772: RuntimeWarning: Inconsistent parameter values for distribution with name \"min_child_weight\"! This might be a configuration mistake. Optuna allows to call the same distribution with the same name more then once in a trial. When the parameter values are inconsistent optuna only uses the values of the first call and ignores all following. Using these values: {'low': 0.0, 'high': 10.0}\n",
      "  warnings.warn(\n",
      "\u001b[32m[I 2022-05-29 22:51:12,250]\u001b[0m Trial 135 finished with value: 0.8326781326781327 and parameters: {'booster': 'gbtree', 'lambda': 0.29736527634094484, 'alpha': 6.856030604877272e-07, 'learning_rate': 0.5391077575588588, 'gamma': 9.651644515552624, 'n_estimators': 208, 'max_depth': 8, 'min_child_weight': 0.3649037971763822}. Best is trial 134 with value: 0.8567567567567568.\u001b[0m\n",
      "C:\\Users\\Lucas\\anaconda3\\lib\\site-packages\\optuna\\trial\\_trial.py:772: RuntimeWarning: Inconsistent parameter values for distribution with name \"min_child_weight\"! This might be a configuration mistake. Optuna allows to call the same distribution with the same name more then once in a trial. When the parameter values are inconsistent optuna only uses the values of the first call and ignores all following. Using these values: {'low': 0.0, 'high': 10.0}\n",
      "  warnings.warn(\n",
      "\u001b[32m[I 2022-05-29 22:51:12,336]\u001b[0m Trial 136 finished with value: 0.8552825552825553 and parameters: {'booster': 'gbtree', 'lambda': 0.156260538641656, 'alpha': 3.8406252783943254e-07, 'learning_rate': 0.6465474934723869, 'gamma': 5.008930877426816, 'n_estimators': 125, 'max_depth': 9, 'min_child_weight': 0.8608620511207817}. Best is trial 134 with value: 0.8567567567567568.\u001b[0m\n",
      "C:\\Users\\Lucas\\anaconda3\\lib\\site-packages\\optuna\\trial\\_trial.py:772: RuntimeWarning: Inconsistent parameter values for distribution with name \"min_child_weight\"! This might be a configuration mistake. Optuna allows to call the same distribution with the same name more then once in a trial. When the parameter values are inconsistent optuna only uses the values of the first call and ignores all following. Using these values: {'low': 0.0, 'high': 10.0}\n",
      "  warnings.warn(\n",
      "\u001b[32m[I 2022-05-29 22:51:12,420]\u001b[0m Trial 137 finished with value: 0.8555282555282555 and parameters: {'booster': 'gbtree', 'lambda': 0.15027237038287614, 'alpha': 1.5870400034879826e-07, 'learning_rate': 0.719203359806677, 'gamma': 3.854584363432137, 'n_estimators': 101, 'max_depth': 9, 'min_child_weight': 0.8540771057381293}. Best is trial 134 with value: 0.8567567567567568.\u001b[0m\n",
      "C:\\Users\\Lucas\\anaconda3\\lib\\site-packages\\optuna\\trial\\_trial.py:772: RuntimeWarning: Inconsistent parameter values for distribution with name \"min_child_weight\"! This might be a configuration mistake. Optuna allows to call the same distribution with the same name more then once in a trial. When the parameter values are inconsistent optuna only uses the values of the first call and ignores all following. Using these values: {'low': 0.0, 'high': 10.0}\n",
      "  warnings.warn(\n",
      "\u001b[32m[I 2022-05-29 22:51:12,501]\u001b[0m Trial 138 finished with value: 0.8504914004914005 and parameters: {'booster': 'gbtree', 'lambda': 0.17072781453899213, 'alpha': 1.7163492252448484e-07, 'learning_rate': 0.7262548974505908, 'gamma': 3.9586441438793343, 'n_estimators': 21, 'max_depth': 9, 'min_child_weight': 0.5232056731174084}. Best is trial 134 with value: 0.8567567567567568.\u001b[0m\n",
      "C:\\Users\\Lucas\\anaconda3\\lib\\site-packages\\optuna\\trial\\_trial.py:772: RuntimeWarning: Inconsistent parameter values for distribution with name \"min_child_weight\"! This might be a configuration mistake. Optuna allows to call the same distribution with the same name more then once in a trial. When the parameter values are inconsistent optuna only uses the values of the first call and ignores all following. Using these values: {'low': 0.0, 'high': 10.0}\n",
      "  warnings.warn(\n"
     ]
    },
    {
     "name": "stderr",
     "output_type": "stream",
     "text": [
      "\u001b[32m[I 2022-05-29 22:51:12,585]\u001b[0m Trial 139 finished with value: 0.8556511056511057 and parameters: {'booster': 'gbtree', 'lambda': 0.2805736476281677, 'alpha': 3.538794595394733e-07, 'learning_rate': 0.6511309987196526, 'gamma': 4.180225880988646, 'n_estimators': 103, 'max_depth': 9, 'min_child_weight': 0.8205194184257403}. Best is trial 134 with value: 0.8567567567567568.\u001b[0m\n",
      "C:\\Users\\Lucas\\anaconda3\\lib\\site-packages\\optuna\\trial\\_trial.py:772: RuntimeWarning: Inconsistent parameter values for distribution with name \"min_child_weight\"! This might be a configuration mistake. Optuna allows to call the same distribution with the same name more then once in a trial. When the parameter values are inconsistent optuna only uses the values of the first call and ignores all following. Using these values: {'low': 0.0, 'high': 10.0}\n",
      "  warnings.warn(\n",
      "\u001b[32m[I 2022-05-29 22:51:12,669]\u001b[0m Trial 140 finished with value: 0.855036855036855 and parameters: {'booster': 'gbtree', 'lambda': 0.2048355588364878, 'alpha': 3.4886556372531725e-07, 'learning_rate': 0.6508471694585404, 'gamma': 4.131561690154976, 'n_estimators': 111, 'max_depth': 9, 'min_child_weight': 0.7195077135151685}. Best is trial 134 with value: 0.8567567567567568.\u001b[0m\n",
      "C:\\Users\\Lucas\\anaconda3\\lib\\site-packages\\optuna\\trial\\_trial.py:772: RuntimeWarning: Inconsistent parameter values for distribution with name \"min_child_weight\"! This might be a configuration mistake. Optuna allows to call the same distribution with the same name more then once in a trial. When the parameter values are inconsistent optuna only uses the values of the first call and ignores all following. Using these values: {'low': 0.0, 'high': 10.0}\n",
      "  warnings.warn(\n",
      "\u001b[32m[I 2022-05-29 22:51:12,751]\u001b[0m Trial 141 finished with value: 0.8535626535626536 and parameters: {'booster': 'gbtree', 'lambda': 0.23496496288484883, 'alpha': 3.7129516739003177e-07, 'learning_rate': 0.6437956276699838, 'gamma': 4.233281825788519, 'n_estimators': 99, 'max_depth': 9, 'min_child_weight': 0.7484193493088742}. Best is trial 134 with value: 0.8567567567567568.\u001b[0m\n",
      "C:\\Users\\Lucas\\anaconda3\\lib\\site-packages\\optuna\\trial\\_trial.py:772: RuntimeWarning: Inconsistent parameter values for distribution with name \"min_child_weight\"! This might be a configuration mistake. Optuna allows to call the same distribution with the same name more then once in a trial. When the parameter values are inconsistent optuna only uses the values of the first call and ignores all following. Using these values: {'low': 0.0, 'high': 10.0}\n",
      "  warnings.warn(\n",
      "\u001b[32m[I 2022-05-29 22:51:12,839]\u001b[0m Trial 142 finished with value: 0.8334152334152334 and parameters: {'booster': 'gbtree', 'lambda': 0.12415079378188408, 'alpha': 4.4899714119986734e-07, 'learning_rate': 0.6733189481974191, 'gamma': 12.019224153082686, 'n_estimators': 62, 'max_depth': 9, 'min_child_weight': 0.3650955880971905}. Best is trial 134 with value: 0.8567567567567568.\u001b[0m\n",
      "C:\\Users\\Lucas\\anaconda3\\lib\\site-packages\\optuna\\trial\\_trial.py:772: RuntimeWarning: Inconsistent parameter values for distribution with name \"min_child_weight\"! This might be a configuration mistake. Optuna allows to call the same distribution with the same name more then once in a trial. When the parameter values are inconsistent optuna only uses the values of the first call and ignores all following. Using these values: {'low': 0.0, 'high': 10.0}\n",
      "  warnings.warn(\n",
      "\u001b[32m[I 2022-05-29 22:51:12,940]\u001b[0m Trial 143 finished with value: 0.8568796068796068 and parameters: {'booster': 'gbtree', 'lambda': 0.17314479870379446, 'alpha': 2.2226442119199656e-07, 'learning_rate': 0.9992305236025706, 'gamma': 5.321489910076272, 'n_estimators': 74, 'max_depth': 9, 'min_child_weight': 0.8448903924888164}. Best is trial 143 with value: 0.8568796068796068.\u001b[0m\n",
      "C:\\Users\\Lucas\\anaconda3\\lib\\site-packages\\optuna\\trial\\_trial.py:772: RuntimeWarning: Inconsistent parameter values for distribution with name \"min_child_weight\"! This might be a configuration mistake. Optuna allows to call the same distribution with the same name more then once in a trial. When the parameter values are inconsistent optuna only uses the values of the first call and ignores all following. Using these values: {'low': 0.0, 'high': 10.0}\n",
      "  warnings.warn(\n",
      "\u001b[32m[I 2022-05-29 22:51:13,025]\u001b[0m Trial 144 finished with value: 0.8549140049140049 and parameters: {'booster': 'gbtree', 'lambda': 0.14777255832052905, 'alpha': 2.666784013246104e-07, 'learning_rate': 0.9378006694372815, 'gamma': 5.336431466512917, 'n_estimators': 76, 'max_depth': 9, 'min_child_weight': 0.8764453133119421}. Best is trial 143 with value: 0.8568796068796068.\u001b[0m\n",
      "C:\\Users\\Lucas\\anaconda3\\lib\\site-packages\\optuna\\trial\\_trial.py:772: RuntimeWarning: Inconsistent parameter values for distribution with name \"min_child_weight\"! This might be a configuration mistake. Optuna allows to call the same distribution with the same name more then once in a trial. When the parameter values are inconsistent optuna only uses the values of the first call and ignores all following. Using these values: {'low': 0.0, 'high': 10.0}\n",
      "  warnings.warn(\n",
      "\u001b[32m[I 2022-05-29 22:51:13,113]\u001b[0m Trial 145 finished with value: 0.8524570024570025 and parameters: {'booster': 'gbtree', 'lambda': 0.30752042825443127, 'alpha': 1.278239862915081e-07, 'learning_rate': 0.9198300111653318, 'gamma': 7.236728515746499, 'n_estimators': 77, 'max_depth': 9, 'min_child_weight': 0.59398150882444}. Best is trial 143 with value: 0.8568796068796068.\u001b[0m\n",
      "C:\\Users\\Lucas\\anaconda3\\lib\\site-packages\\optuna\\trial\\_trial.py:772: RuntimeWarning: Inconsistent parameter values for distribution with name \"min_child_weight\"! This might be a configuration mistake. Optuna allows to call the same distribution with the same name more then once in a trial. When the parameter values are inconsistent optuna only uses the values of the first call and ignores all following. Using these values: {'low': 0.0, 'high': 10.0}\n",
      "  warnings.warn(\n",
      "\u001b[32m[I 2022-05-29 22:51:13,197]\u001b[0m Trial 146 finished with value: 0.6959459459459459 and parameters: {'booster': 'gbtree', 'lambda': 0.4402805422358184, 'alpha': 2.928509338898786e-07, 'learning_rate': 0.9819966072183889, 'gamma': 5.118026188414381, 'n_estimators': 118, 'max_depth': 9, 'min_child_weight': 7.926373523853163}. Best is trial 143 with value: 0.8568796068796068.\u001b[0m\n",
      "C:\\Users\\Lucas\\anaconda3\\lib\\site-packages\\optuna\\trial\\_trial.py:772: RuntimeWarning: Inconsistent parameter values for distribution with name \"min_child_weight\"! This might be a configuration mistake. Optuna allows to call the same distribution with the same name more then once in a trial. When the parameter values are inconsistent optuna only uses the values of the first call and ignores all following. Using these values: {'low': 0.0, 'high': 10.0}\n",
      "  warnings.warn(\n",
      "\u001b[32m[I 2022-05-29 22:51:13,287]\u001b[0m Trial 147 finished with value: 0.856019656019656 and parameters: {'booster': 'gbtree', 'lambda': 0.1681260529644057, 'alpha': 9.394895476508201e-08, 'learning_rate': 0.7858832402454559, 'gamma': 8.606997075624943, 'n_estimators': 30, 'max_depth': 8, 'min_child_weight': 0.9327887983466561}. Best is trial 143 with value: 0.8568796068796068.\u001b[0m\n",
      "C:\\Users\\Lucas\\anaconda3\\lib\\site-packages\\optuna\\trial\\_trial.py:772: RuntimeWarning: Inconsistent parameter values for distribution with name \"min_child_weight\"! This might be a configuration mistake. Optuna allows to call the same distribution with the same name more then once in a trial. When the parameter values are inconsistent optuna only uses the values of the first call and ignores all following. Using these values: {'low': 0.0, 'high': 10.0}\n",
      "  warnings.warn(\n",
      "\u001b[32m[I 2022-05-29 22:51:13,367]\u001b[0m Trial 148 finished with value: 0.8533169533169533 and parameters: {'booster': 'gbtree', 'lambda': 0.17854634311280262, 'alpha': 2.4378181116564432e-08, 'learning_rate': 0.808953897318213, 'gamma': 11.528456516832497, 'n_estimators': 37, 'max_depth': 8, 'min_child_weight': 0.7861310129471002}. Best is trial 143 with value: 0.8568796068796068.\u001b[0m\n",
      "C:\\Users\\Lucas\\anaconda3\\lib\\site-packages\\optuna\\trial\\_trial.py:772: RuntimeWarning: Inconsistent parameter values for distribution with name \"min_child_weight\"! This might be a configuration mistake. Optuna allows to call the same distribution with the same name more then once in a trial. When the parameter values are inconsistent optuna only uses the values of the first call and ignores all following. Using these values: {'low': 0.0, 'high': 10.0}\n",
      "  warnings.warn(\n"
     ]
    },
    {
     "name": "stderr",
     "output_type": "stream",
     "text": [
      "\u001b[32m[I 2022-05-29 22:51:13,452]\u001b[0m Trial 149 finished with value: 0.8035626535626536 and parameters: {'booster': 'gbtree', 'lambda': 0.08755376618137366, 'alpha': 6.136065425261903e-08, 'learning_rate': 0.7534532484751144, 'gamma': 2.2687222192680774, 'n_estimators': 14, 'max_depth': 9, 'min_child_weight': 0.012211458239354323}. Best is trial 143 with value: 0.8568796068796068.\u001b[0m\n",
      "C:\\Users\\Lucas\\anaconda3\\lib\\site-packages\\optuna\\trial\\_trial.py:772: RuntimeWarning: Inconsistent parameter values for distribution with name \"min_child_weight\"! This might be a configuration mistake. Optuna allows to call the same distribution with the same name more then once in a trial. When the parameter values are inconsistent optuna only uses the values of the first call and ignores all following. Using these values: {'low': 0.0, 'high': 10.0}\n",
      "  warnings.warn(\n",
      "\u001b[32m[I 2022-05-29 22:51:13,542]\u001b[0m Trial 150 finished with value: 0.8358722358722359 and parameters: {'booster': 'gbtree', 'lambda': 0.302047887067273, 'alpha': 9.437436136216305e-08, 'learning_rate': 0.8595111840895377, 'gamma': 6.915970893904007, 'n_estimators': 50, 'max_depth': 9, 'min_child_weight': 0.2755604835248603}. Best is trial 143 with value: 0.8568796068796068.\u001b[0m\n",
      "C:\\Users\\Lucas\\anaconda3\\lib\\site-packages\\optuna\\trial\\_trial.py:772: RuntimeWarning: Inconsistent parameter values for distribution with name \"min_child_weight\"! This might be a configuration mistake. Optuna allows to call the same distribution with the same name more then once in a trial. When the parameter values are inconsistent optuna only uses the values of the first call and ignores all following. Using these values: {'low': 0.0, 'high': 10.0}\n",
      "  warnings.warn(\n",
      "\u001b[32m[I 2022-05-29 22:51:13,630]\u001b[0m Trial 151 finished with value: 0.8571253071253071 and parameters: {'booster': 'gbtree', 'lambda': 0.13652850560662108, 'alpha': 2.3793047570439531e-07, 'learning_rate': 0.9715363196164758, 'gamma': 5.187932264873153, 'n_estimators': 113, 'max_depth': 9, 'min_child_weight': 0.9219041848389408}. Best is trial 151 with value: 0.8571253071253071.\u001b[0m\n",
      "C:\\Users\\Lucas\\anaconda3\\lib\\site-packages\\optuna\\trial\\_trial.py:772: RuntimeWarning: Inconsistent parameter values for distribution with name \"min_child_weight\"! This might be a configuration mistake. Optuna allows to call the same distribution with the same name more then once in a trial. When the parameter values are inconsistent optuna only uses the values of the first call and ignores all following. Using these values: {'low': 0.0, 'high': 10.0}\n",
      "  warnings.warn(\n",
      "\u001b[32m[I 2022-05-29 22:51:13,709]\u001b[0m Trial 152 finished with value: 0.8555282555282555 and parameters: {'booster': 'gbtree', 'lambda': 0.17005487872605296, 'alpha': 1.6215784673418183e-07, 'learning_rate': 0.9525376965103606, 'gamma': 3.566214523335791, 'n_estimators': 75, 'max_depth': 9, 'min_child_weight': 0.92130057303795}. Best is trial 151 with value: 0.8571253071253071.\u001b[0m\n",
      "C:\\Users\\Lucas\\anaconda3\\lib\\site-packages\\optuna\\trial\\_trial.py:772: RuntimeWarning: Inconsistent parameter values for distribution with name \"min_child_weight\"! This might be a configuration mistake. Optuna allows to call the same distribution with the same name more then once in a trial. When the parameter values are inconsistent optuna only uses the values of the first call and ignores all following. Using these values: {'low': 0.0, 'high': 10.0}\n",
      "  warnings.warn(\n",
      "\u001b[32m[I 2022-05-29 22:51:13,790]\u001b[0m Trial 153 finished with value: 0.8527027027027027 and parameters: {'booster': 'gbtree', 'lambda': 0.7635273825797453, 'alpha': 1.5892714821956779e-07, 'learning_rate': 0.7828227441510985, 'gamma': 3.438487614921168, 'n_estimators': 113, 'max_depth': 9, 'min_child_weight': 0.5757489528484868}. Best is trial 151 with value: 0.8571253071253071.\u001b[0m\n",
      "C:\\Users\\Lucas\\anaconda3\\lib\\site-packages\\optuna\\trial\\_trial.py:772: RuntimeWarning: Inconsistent parameter values for distribution with name \"min_child_weight\"! This might be a configuration mistake. Optuna allows to call the same distribution with the same name more then once in a trial. When the parameter values are inconsistent optuna only uses the values of the first call and ignores all following. Using these values: {'low': 0.0, 'high': 10.0}\n",
      "  warnings.warn(\n",
      "\u001b[32m[I 2022-05-29 22:51:13,872]\u001b[0m Trial 154 finished with value: 0.8556511056511057 and parameters: {'booster': 'gbtree', 'lambda': 0.19646270930019677, 'alpha': 4.0739217258577227e-08, 'learning_rate': 0.7155491623153946, 'gamma': 8.482411089835436, 'n_estimators': 97, 'max_depth': 9, 'min_child_weight': 0.9418045853478093}. Best is trial 151 with value: 0.8571253071253071.\u001b[0m\n",
      "C:\\Users\\Lucas\\anaconda3\\lib\\site-packages\\optuna\\trial\\_trial.py:772: RuntimeWarning: Inconsistent parameter values for distribution with name \"min_child_weight\"! This might be a configuration mistake. Optuna allows to call the same distribution with the same name more then once in a trial. When the parameter values are inconsistent optuna only uses the values of the first call and ignores all following. Using these values: {'low': 0.0, 'high': 10.0}\n",
      "  warnings.warn(\n",
      "\u001b[32m[I 2022-05-29 22:51:13,952]\u001b[0m Trial 155 finished with value: 0.846928746928747 and parameters: {'booster': 'gbtree', 'lambda': 0.48463884177340133, 'alpha': 4.714880554142261e-08, 'learning_rate': 0.9894256886621685, 'gamma': 8.943007788755784, 'n_estimators': 80, 'max_depth': 9, 'min_child_weight': 1.512377418903498}. Best is trial 151 with value: 0.8571253071253071.\u001b[0m\n",
      "C:\\Users\\Lucas\\anaconda3\\lib\\site-packages\\optuna\\trial\\_trial.py:772: RuntimeWarning: Inconsistent parameter values for distribution with name \"min_child_weight\"! This might be a configuration mistake. Optuna allows to call the same distribution with the same name more then once in a trial. When the parameter values are inconsistent optuna only uses the values of the first call and ignores all following. Using these values: {'low': 0.0, 'high': 10.0}\n",
      "  warnings.warn(\n",
      "\u001b[32m[I 2022-05-29 22:51:14,030]\u001b[0m Trial 156 finished with value: 0.8544226044226044 and parameters: {'booster': 'gbtree', 'lambda': 0.11940333763484812, 'alpha': 9.732716328433668e-08, 'learning_rate': 0.8480371885251656, 'gamma': 2.140892466574337, 'n_estimators': 147, 'max_depth': 8, 'min_child_weight': 0.9384832890751466}. Best is trial 151 with value: 0.8571253071253071.\u001b[0m\n",
      "C:\\Users\\Lucas\\anaconda3\\lib\\site-packages\\optuna\\trial\\_trial.py:772: RuntimeWarning: Inconsistent parameter values for distribution with name \"min_child_weight\"! This might be a configuration mistake. Optuna allows to call the same distribution with the same name more then once in a trial. When the parameter values are inconsistent optuna only uses the values of the first call and ignores all following. Using these values: {'low': 0.0, 'high': 10.0}\n",
      "  warnings.warn(\n",
      "\u001b[32m[I 2022-05-29 22:51:14,113]\u001b[0m Trial 157 finished with value: 0.8529484029484029 and parameters: {'booster': 'gbtree', 'lambda': 0.23911247019622864, 'alpha': 7.31805685046941e-08, 'learning_rate': 0.7589475810034955, 'gamma': 8.528642356415968, 'n_estimators': 96, 'max_depth': 9, 'min_child_weight': 1.2834140053635386}. Best is trial 151 with value: 0.8571253071253071.\u001b[0m\n",
      "C:\\Users\\Lucas\\anaconda3\\lib\\site-packages\\optuna\\trial\\_trial.py:772: RuntimeWarning: Inconsistent parameter values for distribution with name \"min_child_weight\"! This might be a configuration mistake. Optuna allows to call the same distribution with the same name more then once in a trial. When the parameter values are inconsistent optuna only uses the values of the first call and ignores all following. Using these values: {'low': 0.0, 'high': 10.0}\n",
      "  warnings.warn(\n",
      "\u001b[32m[I 2022-05-29 22:51:14,198]\u001b[0m Trial 158 finished with value: 0.8542997542997544 and parameters: {'booster': 'gbtree', 'lambda': 0.0635627456183867, 'alpha': 1.749518121430122e-08, 'learning_rate': 0.7180597294410167, 'gamma': 14.09963791772995, 'n_estimators': 47, 'max_depth': 9, 'min_child_weight': 0.9786712094345249}. Best is trial 151 with value: 0.8571253071253071.\u001b[0m\n",
      "C:\\Users\\Lucas\\anaconda3\\lib\\site-packages\\optuna\\trial\\_trial.py:772: RuntimeWarning: Inconsistent parameter values for distribution with name \"min_child_weight\"! This might be a configuration mistake. Optuna allows to call the same distribution with the same name more then once in a trial. When the parameter values are inconsistent optuna only uses the values of the first call and ignores all following. Using these values: {'low': 0.0, 'high': 10.0}\n",
      "  warnings.warn(\n"
     ]
    },
    {
     "name": "stderr",
     "output_type": "stream",
     "text": [
      "\u001b[32m[I 2022-05-29 22:51:14,276]\u001b[0m Trial 159 finished with value: 0.8427518427518428 and parameters: {'booster': 'gbtree', 'lambda': 0.041319114524185276, 'alpha': 1.0257365197467392e-06, 'learning_rate': 0.9972020457918388, 'gamma': 3.2806198554156034, 'n_estimators': 32, 'max_depth': 8, 'min_child_weight': 0.42818777127295116}. Best is trial 151 with value: 0.8571253071253071.\u001b[0m\n",
      "C:\\Users\\Lucas\\anaconda3\\lib\\site-packages\\optuna\\trial\\_trial.py:772: RuntimeWarning: Inconsistent parameter values for distribution with name \"min_child_weight\"! This might be a configuration mistake. Optuna allows to call the same distribution with the same name more then once in a trial. When the parameter values are inconsistent optuna only uses the values of the first call and ignores all following. Using these values: {'low': 0.0, 'high': 10.0}\n",
      "  warnings.warn(\n",
      "\u001b[32m[I 2022-05-29 22:51:14,359]\u001b[0m Trial 160 finished with value: 0.8530712530712531 and parameters: {'booster': 'gbtree', 'lambda': 0.20526835629410725, 'alpha': 6.085004074265266e-07, 'learning_rate': 0.6564275661692374, 'gamma': 5.832346429362872, 'n_estimators': 115, 'max_depth': 9, 'min_child_weight': 0.6539696908706847}. Best is trial 151 with value: 0.8571253071253071.\u001b[0m\n",
      "C:\\Users\\Lucas\\anaconda3\\lib\\site-packages\\optuna\\trial\\_trial.py:772: RuntimeWarning: Inconsistent parameter values for distribution with name \"min_child_weight\"! This might be a configuration mistake. Optuna allows to call the same distribution with the same name more then once in a trial. When the parameter values are inconsistent optuna only uses the values of the first call and ignores all following. Using these values: {'low': 0.0, 'high': 10.0}\n",
      "  warnings.warn(\n",
      "\u001b[32m[I 2022-05-29 22:51:14,439]\u001b[0m Trial 161 finished with value: 0.855896805896806 and parameters: {'booster': 'gbtree', 'lambda': 0.10259936090412582, 'alpha': 2.1788528859663625e-07, 'learning_rate': 0.8589537449451072, 'gamma': 4.009342139299146, 'n_estimators': 127, 'max_depth': 9, 'min_child_weight': 0.7329868997851805}. Best is trial 151 with value: 0.8571253071253071.\u001b[0m\n",
      "C:\\Users\\Lucas\\anaconda3\\lib\\site-packages\\optuna\\trial\\_trial.py:772: RuntimeWarning: Inconsistent parameter values for distribution with name \"min_child_weight\"! This might be a configuration mistake. Optuna allows to call the same distribution with the same name more then once in a trial. When the parameter values are inconsistent optuna only uses the values of the first call and ignores all following. Using these values: {'low': 0.0, 'high': 10.0}\n",
      "  warnings.warn(\n",
      "\u001b[32m[I 2022-05-29 22:51:14,526]\u001b[0m Trial 162 finished with value: 0.8545454545454545 and parameters: {'booster': 'gbtree', 'lambda': 0.08670958861667166, 'alpha': 2.097200809743984e-07, 'learning_rate': 0.8949000576830461, 'gamma': 1.907093561209125, 'n_estimators': 130, 'max_depth': 9, 'min_child_weight': 0.9183280360178778}. Best is trial 151 with value: 0.8571253071253071.\u001b[0m\n",
      "C:\\Users\\Lucas\\anaconda3\\lib\\site-packages\\optuna\\trial\\_trial.py:772: RuntimeWarning: Inconsistent parameter values for distribution with name \"min_child_weight\"! This might be a configuration mistake. Optuna allows to call the same distribution with the same name more then once in a trial. When the parameter values are inconsistent optuna only uses the values of the first call and ignores all following. Using these values: {'low': 0.0, 'high': 10.0}\n",
      "  warnings.warn(\n",
      "\u001b[32m[I 2022-05-29 22:51:14,607]\u001b[0m Trial 163 finished with value: 0.8533169533169533 and parameters: {'booster': 'gbtree', 'lambda': 0.36378680808764996, 'alpha': 1.228528745889834e-07, 'learning_rate': 0.8214301118060499, 'gamma': 3.415928139369772, 'n_estimators': 160, 'max_depth': 9, 'min_child_weight': 1.1741264528520896}. Best is trial 151 with value: 0.8571253071253071.\u001b[0m\n",
      "C:\\Users\\Lucas\\anaconda3\\lib\\site-packages\\optuna\\trial\\_trial.py:772: RuntimeWarning: Inconsistent parameter values for distribution with name \"min_child_weight\"! This might be a configuration mistake. Optuna allows to call the same distribution with the same name more then once in a trial. When the parameter values are inconsistent optuna only uses the values of the first call and ignores all following. Using these values: {'low': 0.0, 'high': 10.0}\n",
      "  warnings.warn(\n",
      "\u001b[32m[I 2022-05-29 22:51:14,688]\u001b[0m Trial 164 finished with value: 0.8524570024570025 and parameters: {'booster': 'gbtree', 'lambda': 0.13965441021532446, 'alpha': 2.2101356093460405e-07, 'learning_rate': 0.7213474781048023, 'gamma': 5.35812197584113, 'n_estimators': 78, 'max_depth': 9, 'min_child_weight': 1.3829994903190101}. Best is trial 151 with value: 0.8571253071253071.\u001b[0m\n",
      "C:\\Users\\Lucas\\anaconda3\\lib\\site-packages\\optuna\\trial\\_trial.py:772: RuntimeWarning: Inconsistent parameter values for distribution with name \"min_child_weight\"! This might be a configuration mistake. Optuna allows to call the same distribution with the same name more then once in a trial. When the parameter values are inconsistent optuna only uses the values of the first call and ignores all following. Using these values: {'low': 0.0, 'high': 10.0}\n",
      "  warnings.warn(\n",
      "\u001b[32m[I 2022-05-29 22:51:14,773]\u001b[0m Trial 165 finished with value: 0.851965601965602 and parameters: {'booster': 'gbtree', 'lambda': 0.24917390283597066, 'alpha': 3.3111887783601746e-07, 'learning_rate': 0.6159923921615973, 'gamma': 0.9406553933340298, 'n_estimators': 98, 'max_depth': 9, 'min_child_weight': 0.6517820615235688}. Best is trial 151 with value: 0.8571253071253071.\u001b[0m\n",
      "C:\\Users\\Lucas\\anaconda3\\lib\\site-packages\\optuna\\trial\\_trial.py:772: RuntimeWarning: Inconsistent parameter values for distribution with name \"min_child_weight\"! This might be a configuration mistake. Optuna allows to call the same distribution with the same name more then once in a trial. When the parameter values are inconsistent optuna only uses the values of the first call and ignores all following. Using these values: {'low': 0.0, 'high': 10.0}\n",
      "  warnings.warn(\n",
      "\u001b[32m[I 2022-05-29 22:51:14,824]\u001b[0m Trial 166 finished with value: 0.8189189189189189 and parameters: {'booster': 'gblinear', 'lambda': 0.0802943779134197, 'alpha': 2.893784111883881e-08, 'learning_rate': 0.881114436332615, 'gamma': 10.59161959539383, 'n_estimators': 174, 'max_depth': 10, 'min_child_weight': 1.1405571522978337}. Best is trial 151 with value: 0.8571253071253071.\u001b[0m\n",
      "C:\\Users\\Lucas\\anaconda3\\lib\\site-packages\\optuna\\trial\\_trial.py:772: RuntimeWarning: Inconsistent parameter values for distribution with name \"min_child_weight\"! This might be a configuration mistake. Optuna allows to call the same distribution with the same name more then once in a trial. When the parameter values are inconsistent optuna only uses the values of the first call and ignores all following. Using these values: {'low': 0.0, 'high': 10.0}\n",
      "  warnings.warn(\n",
      "\u001b[32m[I 2022-05-29 22:51:14,906]\u001b[0m Trial 167 finished with value: 0.8415233415233415 and parameters: {'booster': 'gbtree', 'lambda': 0.6456577050598254, 'alpha': 3.6029200743390187e-07, 'learning_rate': 0.694251614405412, 'gamma': 2.958382899762212, 'n_estimators': 130, 'max_depth': 9, 'min_child_weight': 0.3917091062598712}. Best is trial 151 with value: 0.8571253071253071.\u001b[0m\n",
      "C:\\Users\\Lucas\\anaconda3\\lib\\site-packages\\optuna\\trial\\_trial.py:772: RuntimeWarning: Inconsistent parameter values for distribution with name \"min_child_weight\"! This might be a configuration mistake. Optuna allows to call the same distribution with the same name more then once in a trial. When the parameter values are inconsistent optuna only uses the values of the first call and ignores all following. Using these values: {'low': 0.0, 'high': 10.0}\n",
      "  warnings.warn(\n",
      "\u001b[32m[I 2022-05-29 22:51:14,985]\u001b[0m Trial 168 finished with value: 0.7138820638820639 and parameters: {'booster': 'gbtree', 'lambda': 0.993794869054064, 'alpha': 1.795551821459103e-08, 'learning_rate': 0.8013838147570368, 'gamma': 7.310413648435562, 'n_estimators': 60, 'max_depth': 9, 'min_child_weight': 6.499544513135306}. Best is trial 151 with value: 0.8571253071253071.\u001b[0m\n",
      "C:\\Users\\Lucas\\anaconda3\\lib\\site-packages\\optuna\\trial\\_trial.py:772: RuntimeWarning: Inconsistent parameter values for distribution with name \"min_child_weight\"! This might be a configuration mistake. Optuna allows to call the same distribution with the same name more then once in a trial. When the parameter values are inconsistent optuna only uses the values of the first call and ignores all following. Using these values: {'low': 0.0, 'high': 10.0}\n",
      "  warnings.warn(\n"
     ]
    },
    {
     "name": "stderr",
     "output_type": "stream",
     "text": [
      "\u001b[32m[I 2022-05-29 22:51:15,062]\u001b[0m Trial 169 finished with value: 0.75995085995086 and parameters: {'booster': 'gbtree', 'lambda': 0.11055762445918565, 'alpha': 1.7608428588267094e-07, 'learning_rate': 0.9181193271945212, 'gamma': 16.43541508499823, 'n_estimators': 10, 'max_depth': 8, 'min_child_weight': 3.6306775014531745}. Best is trial 151 with value: 0.8571253071253071.\u001b[0m\n",
      "C:\\Users\\Lucas\\anaconda3\\lib\\site-packages\\optuna\\trial\\_trial.py:772: RuntimeWarning: Inconsistent parameter values for distribution with name \"min_child_weight\"! This might be a configuration mistake. Optuna allows to call the same distribution with the same name more then once in a trial. When the parameter values are inconsistent optuna only uses the values of the first call and ignores all following. Using these values: {'low': 0.0, 'high': 10.0}\n",
      "  warnings.warn(\n",
      "\u001b[32m[I 2022-05-29 22:51:15,153]\u001b[0m Trial 170 finished with value: 0.845945945945946 and parameters: {'booster': 'gbtree', 'lambda': 0.045475920354129326, 'alpha': 9.371634583304791e-08, 'learning_rate': 0.6045454285786245, 'gamma': 2.1677141042756505, 'n_estimators': 141, 'max_depth': 10, 'min_child_weight': 1.6926740062786123}. Best is trial 151 with value: 0.8571253071253071.\u001b[0m\n",
      "C:\\Users\\Lucas\\anaconda3\\lib\\site-packages\\optuna\\trial\\_trial.py:772: RuntimeWarning: Inconsistent parameter values for distribution with name \"min_child_weight\"! This might be a configuration mistake. Optuna allows to call the same distribution with the same name more then once in a trial. When the parameter values are inconsistent optuna only uses the values of the first call and ignores all following. Using these values: {'low': 0.0, 'high': 10.0}\n",
      "  warnings.warn(\n",
      "\u001b[32m[I 2022-05-29 22:51:15,237]\u001b[0m Trial 171 finished with value: 0.8547911547911548 and parameters: {'booster': 'gbtree', 'lambda': 0.1976184895706809, 'alpha': 4.756774253720893e-07, 'learning_rate': 0.6437106057335854, 'gamma': 4.230597081266816, 'n_estimators': 107, 'max_depth': 9, 'min_child_weight': 0.8074886971169629}. Best is trial 151 with value: 0.8571253071253071.\u001b[0m\n",
      "C:\\Users\\Lucas\\anaconda3\\lib\\site-packages\\optuna\\trial\\_trial.py:772: RuntimeWarning: Inconsistent parameter values for distribution with name \"min_child_weight\"! This might be a configuration mistake. Optuna allows to call the same distribution with the same name more then once in a trial. When the parameter values are inconsistent optuna only uses the values of the first call and ignores all following. Using these values: {'low': 0.0, 'high': 10.0}\n",
      "  warnings.warn(\n",
      "\u001b[32m[I 2022-05-29 22:51:15,319]\u001b[0m Trial 172 finished with value: 0.8555282555282555 and parameters: {'booster': 'gbtree', 'lambda': 0.16272695051842237, 'alpha': 7.857576016320684e-07, 'learning_rate': 0.7777933526252685, 'gamma': 4.537638053813702, 'n_estimators': 77, 'max_depth': 9, 'min_child_weight': 0.9782217851376217}. Best is trial 151 with value: 0.8571253071253071.\u001b[0m\n",
      "C:\\Users\\Lucas\\anaconda3\\lib\\site-packages\\optuna\\trial\\_trial.py:772: RuntimeWarning: Inconsistent parameter values for distribution with name \"min_child_weight\"! This might be a configuration mistake. Optuna allows to call the same distribution with the same name more then once in a trial. When the parameter values are inconsistent optuna only uses the values of the first call and ignores all following. Using these values: {'low': 0.0, 'high': 10.0}\n",
      "  warnings.warn(\n",
      "\u001b[32m[I 2022-05-29 22:51:15,399]\u001b[0m Trial 173 finished with value: 0.8552825552825553 and parameters: {'booster': 'gbtree', 'lambda': 0.35340903922308636, 'alpha': 8.962357909513694e-07, 'learning_rate': 0.8006335971118236, 'gamma': 5.744337684137529, 'n_estimators': 72, 'max_depth': 9, 'min_child_weight': 0.9760877712947884}. Best is trial 151 with value: 0.8571253071253071.\u001b[0m\n",
      "C:\\Users\\Lucas\\anaconda3\\lib\\site-packages\\optuna\\trial\\_trial.py:772: RuntimeWarning: Inconsistent parameter values for distribution with name \"min_child_weight\"! This might be a configuration mistake. Optuna allows to call the same distribution with the same name more then once in a trial. When the parameter values are inconsistent optuna only uses the values of the first call and ignores all following. Using these values: {'low': 0.0, 'high': 10.0}\n",
      "  warnings.warn(\n",
      "\u001b[32m[I 2022-05-29 22:51:15,480]\u001b[0m Trial 174 finished with value: 0.8557739557739558 and parameters: {'booster': 'gbtree', 'lambda': 0.4282831311698134, 'alpha': 8.351297638791418e-07, 'learning_rate': 0.8044102309796648, 'gamma': 7.879137072877951, 'n_estimators': 77, 'max_depth': 9, 'min_child_weight': 1.0890354441232195}. Best is trial 151 with value: 0.8571253071253071.\u001b[0m\n",
      "C:\\Users\\Lucas\\anaconda3\\lib\\site-packages\\optuna\\trial\\_trial.py:772: RuntimeWarning: Inconsistent parameter values for distribution with name \"min_child_weight\"! This might be a configuration mistake. Optuna allows to call the same distribution with the same name more then once in a trial. When the parameter values are inconsistent optuna only uses the values of the first call and ignores all following. Using these values: {'low': 0.0, 'high': 10.0}\n",
      "  warnings.warn(\n",
      "\u001b[32m[I 2022-05-29 22:51:15,562]\u001b[0m Trial 175 finished with value: 0.8541769041769042 and parameters: {'booster': 'gbtree', 'lambda': 0.4275158357280789, 'alpha': 1.4056351908594656e-06, 'learning_rate': 0.8033963955320311, 'gamma': 8.607355961683249, 'n_estimators': 69, 'max_depth': 9, 'min_child_weight': 1.0349175911817032}. Best is trial 151 with value: 0.8571253071253071.\u001b[0m\n",
      "C:\\Users\\Lucas\\anaconda3\\lib\\site-packages\\optuna\\trial\\_trial.py:772: RuntimeWarning: Inconsistent parameter values for distribution with name \"min_child_weight\"! This might be a configuration mistake. Optuna allows to call the same distribution with the same name more then once in a trial. When the parameter values are inconsistent optuna only uses the values of the first call and ignores all following. Using these values: {'low': 0.0, 'high': 10.0}\n",
      "  warnings.warn(\n",
      "\u001b[32m[I 2022-05-29 22:51:15,645]\u001b[0m Trial 176 finished with value: 0.8426289926289926 and parameters: {'booster': 'gbtree', 'lambda': 0.3176330987273903, 'alpha': 7.997052423612839e-07, 'learning_rate': 0.7585655172251088, 'gamma': 21.027441491543964, 'n_estimators': 52, 'max_depth': 9, 'min_child_weight': 1.4841108889458898}. Best is trial 151 with value: 0.8571253071253071.\u001b[0m\n",
      "C:\\Users\\Lucas\\anaconda3\\lib\\site-packages\\optuna\\trial\\_trial.py:772: RuntimeWarning: Inconsistent parameter values for distribution with name \"min_child_weight\"! This might be a configuration mistake. Optuna allows to call the same distribution with the same name more then once in a trial. When the parameter values are inconsistent optuna only uses the values of the first call and ignores all following. Using these values: {'low': 0.0, 'high': 10.0}\n",
      "  warnings.warn(\n",
      "\u001b[32m[I 2022-05-29 22:51:15,729]\u001b[0m Trial 177 finished with value: 0.8492628992628992 and parameters: {'booster': 'gbtree', 'lambda': 0.530851952184637, 'alpha': 9.220633748377787e-07, 'learning_rate': 0.8475228509767715, 'gamma': 6.696695482768681, 'n_estimators': 40, 'max_depth': 9, 'min_child_weight': 0.522659261649544}. Best is trial 151 with value: 0.8571253071253071.\u001b[0m\n",
      "C:\\Users\\Lucas\\anaconda3\\lib\\site-packages\\optuna\\trial\\_trial.py:772: RuntimeWarning: Inconsistent parameter values for distribution with name \"min_child_weight\"! This might be a configuration mistake. Optuna allows to call the same distribution with the same name more then once in a trial. When the parameter values are inconsistent optuna only uses the values of the first call and ignores all following. Using these values: {'low': 0.0, 'high': 10.0}\n",
      "  warnings.warn(\n",
      "\u001b[32m[I 2022-05-29 22:51:15,816]\u001b[0m Trial 178 finished with value: 0.8458230958230958 and parameters: {'booster': 'gbtree', 'lambda': 0.1374637730967574, 'alpha': 5.774743944594169e-07, 'learning_rate': 0.021011819864752146, 'gamma': 32.27065779716747, 'n_estimators': 90, 'max_depth': 9, 'min_child_weight': 0.8420981450804674}. Best is trial 151 with value: 0.8571253071253071.\u001b[0m\n",
      "C:\\Users\\Lucas\\anaconda3\\lib\\site-packages\\optuna\\trial\\_trial.py:772: RuntimeWarning: Inconsistent parameter values for distribution with name \"min_child_weight\"! This might be a configuration mistake. Optuna allows to call the same distribution with the same name more then once in a trial. When the parameter values are inconsistent optuna only uses the values of the first call and ignores all following. Using these values: {'low': 0.0, 'high': 10.0}\n",
      "  warnings.warn(\n"
     ]
    },
    {
     "name": "stderr",
     "output_type": "stream",
     "text": [
      "\u001b[32m[I 2022-05-29 22:51:15,903]\u001b[0m Trial 179 finished with value: 0.8540540540540541 and parameters: {'booster': 'gbtree', 'lambda': 0.28210385282565603, 'alpha': 4.725754253641535e-08, 'learning_rate': 0.9203013322126843, 'gamma': 12.149302796283637, 'n_estimators': 83, 'max_depth': 10, 'min_child_weight': 1.144888853489248}. Best is trial 151 with value: 0.8571253071253071.\u001b[0m\n",
      "C:\\Users\\Lucas\\anaconda3\\lib\\site-packages\\optuna\\trial\\_trial.py:772: RuntimeWarning: Inconsistent parameter values for distribution with name \"min_child_weight\"! This might be a configuration mistake. Optuna allows to call the same distribution with the same name more then once in a trial. When the parameter values are inconsistent optuna only uses the values of the first call and ignores all following. Using these values: {'low': 0.0, 'high': 10.0}\n",
      "  warnings.warn(\n",
      "\u001b[32m[I 2022-05-29 22:51:15,984]\u001b[0m Trial 180 finished with value: 0.8531941031941032 and parameters: {'booster': 'gbtree', 'lambda': 0.6823534758974767, 'alpha': 1.3881322689009905e-07, 'learning_rate': 0.721295055295603, 'gamma': 5.617910046983585, 'n_estimators': 31, 'max_depth': 9, 'min_child_weight': 1.3521521670192376}. Best is trial 151 with value: 0.8571253071253071.\u001b[0m\n",
      "C:\\Users\\Lucas\\anaconda3\\lib\\site-packages\\optuna\\trial\\_trial.py:772: RuntimeWarning: Inconsistent parameter values for distribution with name \"min_child_weight\"! This might be a configuration mistake. Optuna allows to call the same distribution with the same name more then once in a trial. When the parameter values are inconsistent optuna only uses the values of the first call and ignores all following. Using these values: {'low': 0.0, 'high': 10.0}\n",
      "  warnings.warn(\n",
      "\u001b[32m[I 2022-05-29 22:51:16,066]\u001b[0m Trial 181 finished with value: 0.8555282555282555 and parameters: {'booster': 'gbtree', 'lambda': 0.17295591017393905, 'alpha': 4.804813101650329e-07, 'learning_rate': 0.8337413004581001, 'gamma': 3.113720493014675, 'n_estimators': 147, 'max_depth': 9, 'min_child_weight': 0.9390244863845925}. Best is trial 151 with value: 0.8571253071253071.\u001b[0m\n",
      "C:\\Users\\Lucas\\anaconda3\\lib\\site-packages\\optuna\\trial\\_trial.py:772: RuntimeWarning: Inconsistent parameter values for distribution with name \"min_child_weight\"! This might be a configuration mistake. Optuna allows to call the same distribution with the same name more then once in a trial. When the parameter values are inconsistent optuna only uses the values of the first call and ignores all following. Using these values: {'low': 0.0, 'high': 10.0}\n",
      "  warnings.warn(\n",
      "\u001b[32m[I 2022-05-29 22:51:16,149]\u001b[0m Trial 182 finished with value: 0.8528255528255528 and parameters: {'booster': 'gbtree', 'lambda': 0.4552689234904109, 'alpha': 1.5430156068977903e-06, 'learning_rate': 0.9744188571801707, 'gamma': 2.6998593231805557, 'n_estimators': 159, 'max_depth': 9, 'min_child_weight': 1.0392003965251815}. Best is trial 151 with value: 0.8571253071253071.\u001b[0m\n",
      "C:\\Users\\Lucas\\anaconda3\\lib\\site-packages\\optuna\\trial\\_trial.py:772: RuntimeWarning: Inconsistent parameter values for distribution with name \"min_child_weight\"! This might be a configuration mistake. Optuna allows to call the same distribution with the same name more then once in a trial. When the parameter values are inconsistent optuna only uses the values of the first call and ignores all following. Using these values: {'low': 0.0, 'high': 10.0}\n",
      "  warnings.warn(\n",
      "\u001b[32m[I 2022-05-29 22:51:16,233]\u001b[0m Trial 183 finished with value: 0.8528255528255528 and parameters: {'booster': 'gbtree', 'lambda': 0.23630697355331526, 'alpha': 4.996388861760326e-07, 'learning_rate': 0.8331052374460599, 'gamma': 1.7165665790055586, 'n_estimators': 125, 'max_depth': 9, 'min_child_weight': 0.7204724108312595}. Best is trial 151 with value: 0.8571253071253071.\u001b[0m\n",
      "C:\\Users\\Lucas\\anaconda3\\lib\\site-packages\\optuna\\trial\\_trial.py:772: RuntimeWarning: Inconsistent parameter values for distribution with name \"min_child_weight\"! This might be a configuration mistake. Optuna allows to call the same distribution with the same name more then once in a trial. When the parameter values are inconsistent optuna only uses the values of the first call and ignores all following. Using these values: {'low': 0.0, 'high': 10.0}\n",
      "  warnings.warn(\n",
      "\u001b[32m[I 2022-05-29 22:51:16,316]\u001b[0m Trial 184 finished with value: 0.8563882063882063 and parameters: {'booster': 'gbtree', 'lambda': 0.16073719112746562, 'alpha': 7.607971666170174e-07, 'learning_rate': 0.7159889035961576, 'gamma': 3.4939030445149135, 'n_estimators': 101, 'max_depth': 9, 'min_child_weight': 0.9466725596882335}. Best is trial 151 with value: 0.8571253071253071.\u001b[0m\n",
      "C:\\Users\\Lucas\\anaconda3\\lib\\site-packages\\optuna\\trial\\_trial.py:772: RuntimeWarning: Inconsistent parameter values for distribution with name \"min_child_weight\"! This might be a configuration mistake. Optuna allows to call the same distribution with the same name more then once in a trial. When the parameter values are inconsistent optuna only uses the values of the first call and ignores all following. Using these values: {'low': 0.0, 'high': 10.0}\n",
      "  warnings.warn(\n",
      "\u001b[32m[I 2022-05-29 22:51:16,400]\u001b[0m Trial 185 finished with value: 0.8496314496314497 and parameters: {'booster': 'gbtree', 'lambda': 0.10473499704209578, 'alpha': 2.409525722152536e-07, 'learning_rate': 0.6980577069739526, 'gamma': 3.4593019799282145, 'n_estimators': 99, 'max_depth': 9, 'min_child_weight': 0.5321669623895414}. Best is trial 151 with value: 0.8571253071253071.\u001b[0m\n",
      "C:\\Users\\Lucas\\anaconda3\\lib\\site-packages\\optuna\\trial\\_trial.py:772: RuntimeWarning: Inconsistent parameter values for distribution with name \"min_child_weight\"! This might be a configuration mistake. Optuna allows to call the same distribution with the same name more then once in a trial. When the parameter values are inconsistent optuna only uses the values of the first call and ignores all following. Using these values: {'low': 0.0, 'high': 10.0}\n",
      "  warnings.warn(\n",
      "\u001b[32m[I 2022-05-29 22:51:16,488]\u001b[0m Trial 186 finished with value: 0.8495085995085995 and parameters: {'booster': 'gbtree', 'lambda': 0.17310370463887192, 'alpha': 3.877123276592937e-07, 'learning_rate': 0.20610890379474808, 'gamma': 9.441003721010562, 'n_estimators': 177, 'max_depth': 9, 'min_child_weight': 1.2751626253160013}. Best is trial 151 with value: 0.8571253071253071.\u001b[0m\n",
      "C:\\Users\\Lucas\\anaconda3\\lib\\site-packages\\optuna\\trial\\_trial.py:772: RuntimeWarning: Inconsistent parameter values for distribution with name \"min_child_weight\"! This might be a configuration mistake. Optuna allows to call the same distribution with the same name more then once in a trial. When the parameter values are inconsistent optuna only uses the values of the first call and ignores all following. Using these values: {'low': 0.0, 'high': 10.0}\n",
      "  warnings.warn(\n",
      "\u001b[32m[I 2022-05-29 22:51:16,571]\u001b[0m Trial 187 finished with value: 0.8547911547911548 and parameters: {'booster': 'gbtree', 'lambda': 0.36217976042241473, 'alpha': 7.906739693029458e-07, 'learning_rate': 0.7743157567957298, 'gamma': 2.6580838471708153, 'n_estimators': 70, 'max_depth': 9, 'min_child_weight': 1.039902213177684}. Best is trial 151 with value: 0.8571253071253071.\u001b[0m\n",
      "C:\\Users\\Lucas\\anaconda3\\lib\\site-packages\\optuna\\trial\\_trial.py:772: RuntimeWarning: Inconsistent parameter values for distribution with name \"min_child_weight\"! This might be a configuration mistake. Optuna allows to call the same distribution with the same name more then once in a trial. When the parameter values are inconsistent optuna only uses the values of the first call and ignores all following. Using these values: {'low': 0.0, 'high': 10.0}\n",
      "  warnings.warn(\n",
      "\u001b[32m[I 2022-05-29 22:51:16,650]\u001b[0m Trial 188 finished with value: 0.8547911547911548 and parameters: {'booster': 'gbtree', 'lambda': 0.15940151050553714, 'alpha': 1.2326835204022735e-06, 'learning_rate': 0.8662892045393359, 'gamma': 5.130775996454209, 'n_estimators': 112, 'max_depth': 8, 'min_child_weight': 0.9278277827809349}. Best is trial 151 with value: 0.8571253071253071.\u001b[0m\n",
      "C:\\Users\\Lucas\\anaconda3\\lib\\site-packages\\optuna\\trial\\_trial.py:772: RuntimeWarning: Inconsistent parameter values for distribution with name \"min_child_weight\"! This might be a configuration mistake. Optuna allows to call the same distribution with the same name more then once in a trial. When the parameter values are inconsistent optuna only uses the values of the first call and ignores all following. Using these values: {'low': 0.0, 'high': 10.0}\n",
      "  warnings.warn(\n"
     ]
    },
    {
     "name": "stderr",
     "output_type": "stream",
     "text": [
      "\u001b[32m[I 2022-05-29 22:51:16,731]\u001b[0m Trial 189 finished with value: 0.8542997542997544 and parameters: {'booster': 'gbtree', 'lambda': 0.2722972808929502, 'alpha': 7.089559877543937e-08, 'learning_rate': 0.905475219970359, 'gamma': 7.3695159162455415, 'n_estimators': 52, 'max_depth': 9, 'min_child_weight': 1.1966839902942599}. Best is trial 151 with value: 0.8571253071253071.\u001b[0m\n",
      "C:\\Users\\Lucas\\anaconda3\\lib\\site-packages\\optuna\\trial\\_trial.py:772: RuntimeWarning: Inconsistent parameter values for distribution with name \"min_child_weight\"! This might be a configuration mistake. Optuna allows to call the same distribution with the same name more then once in a trial. When the parameter values are inconsistent optuna only uses the values of the first call and ignores all following. Using these values: {'low': 0.0, 'high': 10.0}\n",
      "  warnings.warn(\n",
      "\u001b[32m[I 2022-05-29 22:51:16,814]\u001b[0m Trial 190 finished with value: 0.8522113022113023 and parameters: {'booster': 'gbtree', 'lambda': 0.5175717227666511, 'alpha': 6.388493841352179e-07, 'learning_rate': 0.9868893613129717, 'gamma': 1.4738142725832004, 'n_estimators': 150, 'max_depth': 9, 'min_child_weight': 0.6719061987966428}. Best is trial 151 with value: 0.8571253071253071.\u001b[0m\n",
      "C:\\Users\\Lucas\\anaconda3\\lib\\site-packages\\optuna\\trial\\_trial.py:772: RuntimeWarning: Inconsistent parameter values for distribution with name \"min_child_weight\"! This might be a configuration mistake. Optuna allows to call the same distribution with the same name more then once in a trial. When the parameter values are inconsistent optuna only uses the values of the first call and ignores all following. Using these values: {'low': 0.0, 'high': 10.0}\n",
      "  warnings.warn(\n",
      "\u001b[32m[I 2022-05-29 22:51:16,897]\u001b[0m Trial 191 finished with value: 0.855036855036855 and parameters: {'booster': 'gbtree', 'lambda': 0.06452791097553712, 'alpha': 2.513134462921066e-07, 'learning_rate': 0.7126324102008516, 'gamma': 3.8782977326559718, 'n_estimators': 130, 'max_depth': 9, 'min_child_weight': 0.8188743229431501}. Best is trial 151 with value: 0.8571253071253071.\u001b[0m\n",
      "C:\\Users\\Lucas\\anaconda3\\lib\\site-packages\\optuna\\trial\\_trial.py:772: RuntimeWarning: Inconsistent parameter values for distribution with name \"min_child_weight\"! This might be a configuration mistake. Optuna allows to call the same distribution with the same name more then once in a trial. When the parameter values are inconsistent optuna only uses the values of the first call and ignores all following. Using these values: {'low': 0.0, 'high': 10.0}\n",
      "  warnings.warn(\n",
      "\u001b[32m[I 2022-05-29 22:51:16,987]\u001b[0m Trial 192 finished with value: 0.8315724815724815 and parameters: {'booster': 'gbtree', 'lambda': 0.16712370193693163, 'alpha': 9.227636487088108e-07, 'learning_rate': 0.7804640321050843, 'gamma': 4.394659622444195, 'n_estimators': 92, 'max_depth': 9, 'min_child_weight': 0.23007231102987102}. Best is trial 151 with value: 0.8571253071253071.\u001b[0m\n",
      "C:\\Users\\Lucas\\anaconda3\\lib\\site-packages\\optuna\\trial\\_trial.py:772: RuntimeWarning: Inconsistent parameter values for distribution with name \"min_child_weight\"! This might be a configuration mistake. Optuna allows to call the same distribution with the same name more then once in a trial. When the parameter values are inconsistent optuna only uses the values of the first call and ignores all following. Using these values: {'low': 0.0, 'high': 10.0}\n",
      "  warnings.warn(\n",
      "\u001b[32m[I 2022-05-29 22:51:17,069]\u001b[0m Trial 193 finished with value: 0.855036855036855 and parameters: {'booster': 'gbtree', 'lambda': 0.10241780806685544, 'alpha': 1.4975335059397278e-07, 'learning_rate': 0.833368036553282, 'gamma': 2.3477698093372052, 'n_estimators': 69, 'max_depth': 9, 'min_child_weight': 0.9622054140493845}. Best is trial 151 with value: 0.8571253071253071.\u001b[0m\n",
      "C:\\Users\\Lucas\\anaconda3\\lib\\site-packages\\optuna\\trial\\_trial.py:772: RuntimeWarning: Inconsistent parameter values for distribution with name \"min_child_weight\"! This might be a configuration mistake. Optuna allows to call the same distribution with the same name more then once in a trial. When the parameter values are inconsistent optuna only uses the values of the first call and ignores all following. Using these values: {'low': 0.0, 'high': 10.0}\n",
      "  warnings.warn(\n",
      "\u001b[32m[I 2022-05-29 22:51:17,122]\u001b[0m Trial 194 finished with value: 0.7706388206388206 and parameters: {'booster': 'gblinear', 'lambda': 0.16395201529351777, 'alpha': 2.8902572028355606e-07, 'learning_rate': 0.06364701258702496, 'gamma': 6.186687253793009, 'n_estimators': 97, 'max_depth': 9, 'min_child_weight': 0.5018005742447916}. Best is trial 151 with value: 0.8571253071253071.\u001b[0m\n",
      "C:\\Users\\Lucas\\anaconda3\\lib\\site-packages\\optuna\\trial\\_trial.py:772: RuntimeWarning: Inconsistent parameter values for distribution with name \"min_child_weight\"! This might be a configuration mistake. Optuna allows to call the same distribution with the same name more then once in a trial. When the parameter values are inconsistent optuna only uses the values of the first call and ignores all following. Using these values: {'low': 0.0, 'high': 10.0}\n",
      "  warnings.warn(\n",
      "\u001b[32m[I 2022-05-29 22:51:17,214]\u001b[0m Trial 195 finished with value: 0.8545454545454545 and parameters: {'booster': 'gbtree', 'lambda': 2.203220148839636e-06, 'alpha': 3.9477654493007405e-07, 'learning_rate': 0.566028842592395, 'gamma': 3.3072943358712514, 'n_estimators': 147, 'max_depth': 9, 'min_child_weight': 0.7817676491733458}. Best is trial 151 with value: 0.8571253071253071.\u001b[0m\n",
      "C:\\Users\\Lucas\\anaconda3\\lib\\site-packages\\optuna\\trial\\_trial.py:772: RuntimeWarning: Inconsistent parameter values for distribution with name \"min_child_weight\"! This might be a configuration mistake. Optuna allows to call the same distribution with the same name more then once in a trial. When the parameter values are inconsistent optuna only uses the values of the first call and ignores all following. Using these values: {'low': 0.0, 'high': 10.0}\n",
      "  warnings.warn(\n",
      "\u001b[32m[I 2022-05-29 22:51:17,301]\u001b[0m Trial 196 finished with value: 0.8496314496314497 and parameters: {'booster': 'gbtree', 'lambda': 0.34247598767829374, 'alpha': 5.623103914671408e-07, 'learning_rate': 0.6649995440983858, 'gamma': 12.082979725946007, 'n_estimators': 115, 'max_depth': 9, 'min_child_weight': 1.5617666364343288}. Best is trial 151 with value: 0.8571253071253071.\u001b[0m\n",
      "C:\\Users\\Lucas\\anaconda3\\lib\\site-packages\\optuna\\trial\\_trial.py:772: RuntimeWarning: Inconsistent parameter values for distribution with name \"min_child_weight\"! This might be a configuration mistake. Optuna allows to call the same distribution with the same name more then once in a trial. When the parameter values are inconsistent optuna only uses the values of the first call and ignores all following. Using these values: {'low': 0.0, 'high': 10.0}\n",
      "  warnings.warn(\n",
      "\u001b[32m[I 2022-05-29 22:51:17,390]\u001b[0m Trial 197 finished with value: 0.8527027027027027 and parameters: {'booster': 'gbtree', 'lambda': 0.11541803751817992, 'alpha': 1.8426905219232206e-07, 'learning_rate': 0.6204145588571084, 'gamma': 1.0919356341336957, 'n_estimators': 126, 'max_depth': 9, 'min_child_weight': 1.161651443504382}. Best is trial 151 with value: 0.8571253071253071.\u001b[0m\n",
      "C:\\Users\\Lucas\\anaconda3\\lib\\site-packages\\optuna\\trial\\_trial.py:772: RuntimeWarning: Inconsistent parameter values for distribution with name \"min_child_weight\"! This might be a configuration mistake. Optuna allows to call the same distribution with the same name more then once in a trial. When the parameter values are inconsistent optuna only uses the values of the first call and ignores all following. Using these values: {'low': 0.0, 'high': 10.0}\n",
      "  warnings.warn(\n",
      "\u001b[32m[I 2022-05-29 22:51:17,477]\u001b[0m Trial 198 finished with value: 0.8544226044226044 and parameters: {'booster': 'gbtree', 'lambda': 0.0519314385737809, 'alpha': 8.055441684237761e-08, 'learning_rate': 0.7231808468390967, 'gamma': 4.425835901819414, 'n_estimators': 188, 'max_depth': 9, 'min_child_weight': 0.6823064900433945}. Best is trial 151 with value: 0.8571253071253071.\u001b[0m\n",
      "C:\\Users\\Lucas\\anaconda3\\lib\\site-packages\\optuna\\trial\\_trial.py:772: RuntimeWarning: Inconsistent parameter values for distribution with name \"min_child_weight\"! This might be a configuration mistake. Optuna allows to call the same distribution with the same name more then once in a trial. When the parameter values are inconsistent optuna only uses the values of the first call and ignores all following. Using these values: {'low': 0.0, 'high': 10.0}\n",
      "  warnings.warn(\n"
     ]
    },
    {
     "name": "stderr",
     "output_type": "stream",
     "text": [
      "\u001b[32m[I 2022-05-29 22:51:17,564]\u001b[0m Trial 199 finished with value: 0.8501228501228502 and parameters: {'booster': 'gbtree', 'lambda': 0.28319519113731156, 'alpha': 1.1460629430664432e-06, 'learning_rate': 0.7825866107316428, 'gamma': 2.120593319704894, 'n_estimators': 79, 'max_depth': 8, 'min_child_weight': 1.3648746896757162}. Best is trial 151 with value: 0.8571253071253071.\u001b[0m\n",
      "C:\\Users\\Lucas\\anaconda3\\lib\\site-packages\\optuna\\trial\\_trial.py:772: RuntimeWarning: Inconsistent parameter values for distribution with name \"min_child_weight\"! This might be a configuration mistake. Optuna allows to call the same distribution with the same name more then once in a trial. When the parameter values are inconsistent optuna only uses the values of the first call and ignores all following. Using these values: {'low': 0.0, 'high': 10.0}\n",
      "  warnings.warn(\n",
      "\u001b[32m[I 2022-05-29 22:51:17,686]\u001b[0m Trial 200 finished with value: 0.8496314496314497 and parameters: {'booster': 'gbtree', 'lambda': 0.2186485095200791, 'alpha': 6.945651477481409e-07, 'learning_rate': 0.1429067124046296, 'gamma': 8.028323467770521, 'n_estimators': 42, 'max_depth': 10, 'min_child_weight': 0.9173865187108045}. Best is trial 151 with value: 0.8571253071253071.\u001b[0m\n",
      "C:\\Users\\Lucas\\anaconda3\\lib\\site-packages\\optuna\\trial\\_trial.py:772: RuntimeWarning: Inconsistent parameter values for distribution with name \"min_child_weight\"! This might be a configuration mistake. Optuna allows to call the same distribution with the same name more then once in a trial. When the parameter values are inconsistent optuna only uses the values of the first call and ignores all following. Using these values: {'low': 0.0, 'high': 10.0}\n",
      "  warnings.warn(\n",
      "\u001b[32m[I 2022-05-29 22:51:17,776]\u001b[0m Trial 201 finished with value: 0.8563882063882063 and parameters: {'booster': 'gbtree', 'lambda': 0.10438388941522826, 'alpha': 1.1453693762388528e-07, 'learning_rate': 0.8957680326526477, 'gamma': 5.024908938789751, 'n_estimators': 95, 'max_depth': 9, 'min_child_weight': 0.9542722403828672}. Best is trial 151 with value: 0.8571253071253071.\u001b[0m\n",
      "C:\\Users\\Lucas\\anaconda3\\lib\\site-packages\\optuna\\trial\\_trial.py:772: RuntimeWarning: Inconsistent parameter values for distribution with name \"min_child_weight\"! This might be a configuration mistake. Optuna allows to call the same distribution with the same name more then once in a trial. When the parameter values are inconsistent optuna only uses the values of the first call and ignores all following. Using these values: {'low': 0.0, 'high': 10.0}\n",
      "  warnings.warn(\n",
      "\u001b[32m[I 2022-05-29 22:51:17,858]\u001b[0m Trial 202 finished with value: 0.8572481572481573 and parameters: {'booster': 'gbtree', 'lambda': 0.1283831729702344, 'alpha': 1.0931800311627844e-07, 'learning_rate': 0.8788066874054599, 'gamma': 5.5683581800784046, 'n_estimators': 91, 'max_depth': 9, 'min_child_weight': 1.0667676698705593}. Best is trial 202 with value: 0.8572481572481573.\u001b[0m\n",
      "C:\\Users\\Lucas\\anaconda3\\lib\\site-packages\\optuna\\trial\\_trial.py:772: RuntimeWarning: Inconsistent parameter values for distribution with name \"min_child_weight\"! This might be a configuration mistake. Optuna allows to call the same distribution with the same name more then once in a trial. When the parameter values are inconsistent optuna only uses the values of the first call and ignores all following. Using these values: {'low': 0.0, 'high': 10.0}\n",
      "  warnings.warn(\n",
      "\u001b[32m[I 2022-05-29 22:51:17,942]\u001b[0m Trial 203 finished with value: 0.8524570024570025 and parameters: {'booster': 'gbtree', 'lambda': 0.07132371846601242, 'alpha': 1.3103084629110413e-07, 'learning_rate': 0.9102196504333967, 'gamma': 3.4616660443085028, 'n_estimators': 99, 'max_depth': 9, 'min_child_weight': 1.1327724316314098}. Best is trial 202 with value: 0.8572481572481573.\u001b[0m\n",
      "C:\\Users\\Lucas\\anaconda3\\lib\\site-packages\\optuna\\trial\\_trial.py:772: RuntimeWarning: Inconsistent parameter values for distribution with name \"min_child_weight\"! This might be a configuration mistake. Optuna allows to call the same distribution with the same name more then once in a trial. When the parameter values are inconsistent optuna only uses the values of the first call and ignores all following. Using these values: {'low': 0.0, 'high': 10.0}\n",
      "  warnings.warn(\n",
      "\u001b[32m[I 2022-05-29 22:51:18,025]\u001b[0m Trial 204 finished with value: 0.8576167076167076 and parameters: {'booster': 'gbtree', 'lambda': 0.15035296866251563, 'alpha': 4.106228642077862e-08, 'learning_rate': 0.8488459925814333, 'gamma': 5.605279390874427, 'n_estimators': 78, 'max_depth': 9, 'min_child_weight': 0.9982121205733772}. Best is trial 204 with value: 0.8576167076167076.\u001b[0m\n",
      "C:\\Users\\Lucas\\anaconda3\\lib\\site-packages\\optuna\\trial\\_trial.py:772: RuntimeWarning: Inconsistent parameter values for distribution with name \"min_child_weight\"! This might be a configuration mistake. Optuna allows to call the same distribution with the same name more then once in a trial. When the parameter values are inconsistent optuna only uses the values of the first call and ignores all following. Using these values: {'low': 0.0, 'high': 10.0}\n",
      "  warnings.warn(\n",
      "\u001b[32m[I 2022-05-29 22:51:18,106]\u001b[0m Trial 205 finished with value: 0.8529484029484029 and parameters: {'booster': 'gbtree', 'lambda': 0.15182406010897773, 'alpha': 5.15929399899336e-08, 'learning_rate': 0.99009368566658, 'gamma': 9.381564710823065, 'n_estimators': 87, 'max_depth': 9, 'min_child_weight': 0.6072762002602892}. Best is trial 204 with value: 0.8576167076167076.\u001b[0m\n",
      "C:\\Users\\Lucas\\anaconda3\\lib\\site-packages\\optuna\\trial\\_trial.py:772: RuntimeWarning: Inconsistent parameter values for distribution with name \"min_child_weight\"! This might be a configuration mistake. Optuna allows to call the same distribution with the same name more then once in a trial. When the parameter values are inconsistent optuna only uses the values of the first call and ignores all following. Using these values: {'low': 0.0, 'high': 10.0}\n",
      "  warnings.warn(\n",
      "\u001b[32m[I 2022-05-29 22:51:18,192]\u001b[0m Trial 206 finished with value: 0.8502457002457002 and parameters: {'booster': 'gbtree', 'lambda': 0.11357471418384694, 'alpha': 1.2440368647965086e-08, 'learning_rate': 0.8780586636954295, 'gamma': 15.969846877638098, 'n_estimators': 114, 'max_depth': 9, 'min_child_weight': 1.2897402869101926}. Best is trial 204 with value: 0.8576167076167076.\u001b[0m\n",
      "C:\\Users\\Lucas\\anaconda3\\lib\\site-packages\\optuna\\trial\\_trial.py:772: RuntimeWarning: Inconsistent parameter values for distribution with name \"min_child_weight\"! This might be a configuration mistake. Optuna allows to call the same distribution with the same name more then once in a trial. When the parameter values are inconsistent optuna only uses the values of the first call and ignores all following. Using these values: {'low': 0.0, 'high': 10.0}\n",
      "  warnings.warn(\n",
      "\u001b[32m[I 2022-05-29 22:51:18,286]\u001b[0m Trial 207 finished with value: 0.8562653562653563 and parameters: {'booster': 'gbtree', 'lambda': 2.775748295461847e-07, 'alpha': 3.6741868148943124e-08, 'learning_rate': 0.8457608502707983, 'gamma': 5.1919295968895565, 'n_estimators': 57, 'max_depth': 9, 'min_child_weight': 1.0218720126728424}. Best is trial 204 with value: 0.8576167076167076.\u001b[0m\n",
      "C:\\Users\\Lucas\\anaconda3\\lib\\site-packages\\optuna\\trial\\_trial.py:772: RuntimeWarning: Inconsistent parameter values for distribution with name \"min_child_weight\"! This might be a configuration mistake. Optuna allows to call the same distribution with the same name more then once in a trial. When the parameter values are inconsistent optuna only uses the values of the first call and ignores all following. Using these values: {'low': 0.0, 'high': 10.0}\n",
      "  warnings.warn(\n",
      "\u001b[32m[I 2022-05-29 22:51:18,378]\u001b[0m Trial 208 finished with value: 0.8535626535626536 and parameters: {'booster': 'gbtree', 'lambda': 6.773244045012083e-08, 'alpha': 5.4754344317015645e-08, 'learning_rate': 0.8673297616139125, 'gamma': 6.56603197557834, 'n_estimators': 57, 'max_depth': 9, 'min_child_weight': 1.0965729773638146}. Best is trial 204 with value: 0.8576167076167076.\u001b[0m\n",
      "C:\\Users\\Lucas\\anaconda3\\lib\\site-packages\\optuna\\trial\\_trial.py:772: RuntimeWarning: Inconsistent parameter values for distribution with name \"min_child_weight\"! This might be a configuration mistake. Optuna allows to call the same distribution with the same name more then once in a trial. When the parameter values are inconsistent optuna only uses the values of the first call and ignores all following. Using these values: {'low': 0.0, 'high': 10.0}\n",
      "  warnings.warn(\n"
     ]
    },
    {
     "name": "stderr",
     "output_type": "stream",
     "text": [
      "\u001b[32m[I 2022-05-29 22:51:18,462]\u001b[0m Trial 209 finished with value: 0.8481572481572481 and parameters: {'booster': 'gbtree', 'lambda': 0.20248657224640756, 'alpha': 3.073445239500985e-08, 'learning_rate': 0.9967376363813346, 'gamma': 4.683326405633106, 'n_estimators': 47, 'max_depth': 9, 'min_child_weight': 1.4714184765294924}. Best is trial 204 with value: 0.8576167076167076.\u001b[0m\n",
      "C:\\Users\\Lucas\\anaconda3\\lib\\site-packages\\optuna\\trial\\_trial.py:772: RuntimeWarning: Inconsistent parameter values for distribution with name \"min_child_weight\"! This might be a configuration mistake. Optuna allows to call the same distribution with the same name more then once in a trial. When the parameter values are inconsistent optuna only uses the values of the first call and ignores all following. Using these values: {'low': 0.0, 'high': 10.0}\n",
      "  warnings.warn(\n",
      "\u001b[32m[I 2022-05-29 22:51:18,549]\u001b[0m Trial 210 finished with value: 0.8545454545454545 and parameters: {'booster': 'gbtree', 'lambda': 0.0004074493696487194, 'alpha': 1.0151329296825757e-07, 'learning_rate': 0.7466029505289903, 'gamma': 10.759213376251543, 'n_estimators': 25, 'max_depth': 9, 'min_child_weight': 1.0037400497356943}. Best is trial 204 with value: 0.8576167076167076.\u001b[0m\n",
      "C:\\Users\\Lucas\\anaconda3\\lib\\site-packages\\optuna\\trial\\_trial.py:772: RuntimeWarning: Inconsistent parameter values for distribution with name \"min_child_weight\"! This might be a configuration mistake. Optuna allows to call the same distribution with the same name more then once in a trial. When the parameter values are inconsistent optuna only uses the values of the first call and ignores all following. Using these values: {'low': 0.0, 'high': 10.0}\n",
      "  warnings.warn(\n",
      "\u001b[32m[I 2022-05-29 22:51:18,638]\u001b[0m Trial 211 finished with value: 0.855036855036855 and parameters: {'booster': 'gbtree', 'lambda': 0.0796152890924867, 'alpha': 3.889766115552771e-08, 'learning_rate': 0.838103442858858, 'gamma': 7.345903429873498, 'n_estimators': 79, 'max_depth': 9, 'min_child_weight': 0.8299441212108294}. Best is trial 204 with value: 0.8576167076167076.\u001b[0m\n",
      "C:\\Users\\Lucas\\anaconda3\\lib\\site-packages\\optuna\\trial\\_trial.py:772: RuntimeWarning: Inconsistent parameter values for distribution with name \"min_child_weight\"! This might be a configuration mistake. Optuna allows to call the same distribution with the same name more then once in a trial. When the parameter values are inconsistent optuna only uses the values of the first call and ignores all following. Using these values: {'low': 0.0, 'high': 10.0}\n",
      "  warnings.warn(\n",
      "\u001b[32m[I 2022-05-29 22:51:18,723]\u001b[0m Trial 212 finished with value: 0.8568796068796068 and parameters: {'booster': 'gbtree', 'lambda': 1.4057574786379156e-07, 'alpha': 2.2659733702566316e-08, 'learning_rate': 0.8085560503882235, 'gamma': 5.270122800559515, 'n_estimators': 72, 'max_depth': 9, 'min_child_weight': 1.0032881467028902}. Best is trial 204 with value: 0.8576167076167076.\u001b[0m\n",
      "C:\\Users\\Lucas\\anaconda3\\lib\\site-packages\\optuna\\trial\\_trial.py:772: RuntimeWarning: Inconsistent parameter values for distribution with name \"min_child_weight\"! This might be a configuration mistake. Optuna allows to call the same distribution with the same name more then once in a trial. When the parameter values are inconsistent optuna only uses the values of the first call and ignores all following. Using these values: {'low': 0.0, 'high': 10.0}\n",
      "  warnings.warn(\n",
      "\u001b[32m[I 2022-05-29 22:51:18,807]\u001b[0m Trial 213 finished with value: 0.8507371007371007 and parameters: {'booster': 'gbtree', 'lambda': 6.783036142726167e-08, 'alpha': 2.111635350780371e-08, 'learning_rate': 0.9123886786204873, 'gamma': 2.7569228279013394, 'n_estimators': 65, 'max_depth': 9, 'min_child_weight': 1.2872719726938784}. Best is trial 204 with value: 0.8576167076167076.\u001b[0m\n",
      "C:\\Users\\Lucas\\anaconda3\\lib\\site-packages\\optuna\\trial\\_trial.py:772: RuntimeWarning: Inconsistent parameter values for distribution with name \"min_child_weight\"! This might be a configuration mistake. Optuna allows to call the same distribution with the same name more then once in a trial. When the parameter values are inconsistent optuna only uses the values of the first call and ignores all following. Using these values: {'low': 0.0, 'high': 10.0}\n",
      "  warnings.warn(\n",
      "\u001b[32m[I 2022-05-29 22:51:18,891]\u001b[0m Trial 214 finished with value: 0.8530712530712531 and parameters: {'booster': 'gbtree', 'lambda': 0.11178673451922025, 'alpha': 3.203733228687479e-08, 'learning_rate': 0.7892132724515777, 'gamma': 4.0623002823195415, 'n_estimators': 96, 'max_depth': 9, 'min_child_weight': 0.6724278480097147}. Best is trial 204 with value: 0.8576167076167076.\u001b[0m\n",
      "C:\\Users\\Lucas\\anaconda3\\lib\\site-packages\\optuna\\trial\\_trial.py:772: RuntimeWarning: Inconsistent parameter values for distribution with name \"min_child_weight\"! This might be a configuration mistake. Optuna allows to call the same distribution with the same name more then once in a trial. When the parameter values are inconsistent optuna only uses the values of the first call and ignores all following. Using these values: {'low': 0.0, 'high': 10.0}\n",
      "  warnings.warn(\n",
      "\u001b[32m[I 2022-05-29 22:51:18,975]\u001b[0m Trial 215 finished with value: 0.855896805896806 and parameters: {'booster': 'gbtree', 'lambda': 2.7546601913862987e-05, 'alpha': 1.3977446890134508e-08, 'learning_rate': 0.9090373538358855, 'gamma': 5.768561320986572, 'n_estimators': 106, 'max_depth': 9, 'min_child_weight': 1.1093935320900457}. Best is trial 204 with value: 0.8576167076167076.\u001b[0m\n",
      "C:\\Users\\Lucas\\anaconda3\\lib\\site-packages\\optuna\\trial\\_trial.py:772: RuntimeWarning: Inconsistent parameter values for distribution with name \"min_child_weight\"! This might be a configuration mistake. Optuna allows to call the same distribution with the same name more then once in a trial. When the parameter values are inconsistent optuna only uses the values of the first call and ignores all following. Using these values: {'low': 0.0, 'high': 10.0}\n",
      "  warnings.warn(\n",
      "\u001b[32m[I 2022-05-29 22:51:19,058]\u001b[0m Trial 216 finished with value: 0.8545454545454545 and parameters: {'booster': 'gbtree', 'lambda': 1.1757687741931932e-07, 'alpha': 1.6500113607873375e-08, 'learning_rate': 0.9114257589174233, 'gamma': 7.974680390367756, 'n_estimators': 57, 'max_depth': 9, 'min_child_weight': 1.2000898139823781}. Best is trial 204 with value: 0.8576167076167076.\u001b[0m\n",
      "C:\\Users\\Lucas\\anaconda3\\lib\\site-packages\\optuna\\trial\\_trial.py:772: RuntimeWarning: Inconsistent parameter values for distribution with name \"min_child_weight\"! This might be a configuration mistake. Optuna allows to call the same distribution with the same name more then once in a trial. When the parameter values are inconsistent optuna only uses the values of the first call and ignores all following. Using these values: {'low': 0.0, 'high': 10.0}\n",
      "  warnings.warn(\n",
      "\u001b[32m[I 2022-05-29 22:51:19,149]\u001b[0m Trial 217 finished with value: 0.8293611793611794 and parameters: {'booster': 'gbtree', 'lambda': 9.7320337497347e-08, 'alpha': 4.413380323231714e-08, 'learning_rate': 0.12292222013869276, 'gamma': 5.243496055553836, 'n_estimators': 101, 'max_depth': 9, 'min_child_weight': 0.3845693939367425}. Best is trial 204 with value: 0.8576167076167076.\u001b[0m\n",
      "C:\\Users\\Lucas\\anaconda3\\lib\\site-packages\\optuna\\trial\\_trial.py:772: RuntimeWarning: Inconsistent parameter values for distribution with name \"min_child_weight\"! This might be a configuration mistake. Optuna allows to call the same distribution with the same name more then once in a trial. When the parameter values are inconsistent optuna only uses the values of the first call and ignores all following. Using these values: {'low': 0.0, 'high': 10.0}\n",
      "  warnings.warn(\n",
      "\u001b[32m[I 2022-05-29 22:51:19,238]\u001b[0m Trial 218 finished with value: 0.8480343980343981 and parameters: {'booster': 'gbtree', 'lambda': 2.960421947843975e-07, 'alpha': 7.338533063846511e-08, 'learning_rate': 0.010026670165758185, 'gamma': 10.289630227261792, 'n_estimators': 23, 'max_depth': 9, 'min_child_weight': 0.9252960634956545}. Best is trial 204 with value: 0.8576167076167076.\u001b[0m\n",
      "C:\\Users\\Lucas\\anaconda3\\lib\\site-packages\\optuna\\trial\\_trial.py:772: RuntimeWarning: Inconsistent parameter values for distribution with name \"min_child_weight\"! This might be a configuration mistake. Optuna allows to call the same distribution with the same name more then once in a trial. When the parameter values are inconsistent optuna only uses the values of the first call and ignores all following. Using these values: {'low': 0.0, 'high': 10.0}\n",
      "  warnings.warn(\n"
     ]
    },
    {
     "name": "stderr",
     "output_type": "stream",
     "text": [
      "\u001b[32m[I 2022-05-29 22:51:19,329]\u001b[0m Trial 219 finished with value: 0.8535626535626536 and parameters: {'booster': 'gbtree', 'lambda': 1.718218483951196e-05, 'alpha': 2.3724077501403733e-08, 'learning_rate': 0.827767798230519, 'gamma': 5.755623029091511, 'n_estimators': 80, 'max_depth': 9, 'min_child_weight': 0.669201362273861}. Best is trial 204 with value: 0.8576167076167076.\u001b[0m\n",
      "C:\\Users\\Lucas\\anaconda3\\lib\\site-packages\\optuna\\trial\\_trial.py:772: RuntimeWarning: Inconsistent parameter values for distribution with name \"min_child_weight\"! This might be a configuration mistake. Optuna allows to call the same distribution with the same name more then once in a trial. When the parameter values are inconsistent optuna only uses the values of the first call and ignores all following. Using these values: {'low': 0.0, 'high': 10.0}\n",
      "  warnings.warn(\n",
      "\u001b[32m[I 2022-05-29 22:51:19,414]\u001b[0m Trial 220 finished with value: 0.7423832923832924 and parameters: {'booster': 'gbtree', 'lambda': 4.797480840816778e-06, 'alpha': 1.2434488976701567e-08, 'learning_rate': 0.7261640413460331, 'gamma': 0.020980839496220777, 'n_estimators': 105, 'max_depth': 9, 'min_child_weight': 4.873985740345097}. Best is trial 204 with value: 0.8576167076167076.\u001b[0m\n",
      "C:\\Users\\Lucas\\anaconda3\\lib\\site-packages\\optuna\\trial\\_trial.py:772: RuntimeWarning: Inconsistent parameter values for distribution with name \"min_child_weight\"! This might be a configuration mistake. Optuna allows to call the same distribution with the same name more then once in a trial. When the parameter values are inconsistent optuna only uses the values of the first call and ignores all following. Using these values: {'low': 0.0, 'high': 10.0}\n",
      "  warnings.warn(\n",
      "\u001b[32m[I 2022-05-29 22:51:19,495]\u001b[0m Trial 221 finished with value: 0.8547911547911548 and parameters: {'booster': 'gbtree', 'lambda': 0.2307292860316475, 'alpha': 1.0029963373921301e-08, 'learning_rate': 0.8986050039652539, 'gamma': 3.1519075721152108, 'n_estimators': 125, 'max_depth': 9, 'min_child_weight': 1.0543152356471581}. Best is trial 204 with value: 0.8576167076167076.\u001b[0m\n",
      "C:\\Users\\Lucas\\anaconda3\\lib\\site-packages\\optuna\\trial\\_trial.py:772: RuntimeWarning: Inconsistent parameter values for distribution with name \"min_child_weight\"! This might be a configuration mistake. Optuna allows to call the same distribution with the same name more then once in a trial. When the parameter values are inconsistent optuna only uses the values of the first call and ignores all following. Using these values: {'low': 0.0, 'high': 10.0}\n",
      "  warnings.warn(\n",
      "\u001b[32m[I 2022-05-29 22:51:19,553]\u001b[0m Trial 222 finished with value: 0.8514742014742015 and parameters: {'booster': 'gbtree', 'lambda': 3.954648208380357e-05, 'alpha': 1.0705963433304768e-07, 'learning_rate': 0.9912170507082897, 'gamma': 4.130596720460961, 'n_estimators': 71, 'max_depth': 3, 'min_child_weight': 1.121267675180593}. Best is trial 204 with value: 0.8576167076167076.\u001b[0m\n",
      "C:\\Users\\Lucas\\anaconda3\\lib\\site-packages\\optuna\\trial\\_trial.py:772: RuntimeWarning: Inconsistent parameter values for distribution with name \"min_child_weight\"! This might be a configuration mistake. Optuna allows to call the same distribution with the same name more then once in a trial. When the parameter values are inconsistent optuna only uses the values of the first call and ignores all following. Using these values: {'low': 0.0, 'high': 10.0}\n",
      "  warnings.warn(\n",
      "\u001b[32m[I 2022-05-29 22:51:19,639]\u001b[0m Trial 223 finished with value: 0.8533169533169533 and parameters: {'booster': 'gbtree', 'lambda': 4.093174386862722e-07, 'alpha': 2.0169381358900338e-07, 'learning_rate': 0.7976731389337429, 'gamma': 1.8667423326213255, 'n_estimators': 148, 'max_depth': 9, 'min_child_weight': 0.8671376164467064}. Best is trial 204 with value: 0.8576167076167076.\u001b[0m\n",
      "C:\\Users\\Lucas\\anaconda3\\lib\\site-packages\\optuna\\trial\\_trial.py:772: RuntimeWarning: Inconsistent parameter values for distribution with name \"min_child_weight\"! This might be a configuration mistake. Optuna allows to call the same distribution with the same name more then once in a trial. When the parameter values are inconsistent optuna only uses the values of the first call and ignores all following. Using these values: {'low': 0.0, 'high': 10.0}\n",
      "  warnings.warn(\n",
      "\u001b[32m[I 2022-05-29 22:51:19,723]\u001b[0m Trial 224 finished with value: 0.85 and parameters: {'booster': 'gbtree', 'lambda': 2.1464857267326222e-07, 'alpha': 4.0530202118647e-08, 'learning_rate': 0.8500121653160727, 'gamma': 6.710252644972386, 'n_estimators': 44, 'max_depth': 9, 'min_child_weight': 1.4704046875171377}. Best is trial 204 with value: 0.8576167076167076.\u001b[0m\n",
      "C:\\Users\\Lucas\\anaconda3\\lib\\site-packages\\optuna\\trial\\_trial.py:772: RuntimeWarning: Inconsistent parameter values for distribution with name \"min_child_weight\"! This might be a configuration mistake. Optuna allows to call the same distribution with the same name more then once in a trial. When the parameter values are inconsistent optuna only uses the values of the first call and ignores all following. Using these values: {'low': 0.0, 'high': 10.0}\n",
      "  warnings.warn(\n",
      "\u001b[32m[I 2022-05-29 22:51:19,776]\u001b[0m Trial 225 finished with value: 0.8143734643734644 and parameters: {'booster': 'gblinear', 'lambda': 0.14977060641570503, 'alpha': 6.11077148561057e-08, 'learning_rate': 0.7141113807198204, 'gamma': 2.6049910731355617, 'n_estimators': 86, 'max_depth': 9, 'min_child_weight': 0.9741463625792353}. Best is trial 204 with value: 0.8576167076167076.\u001b[0m\n",
      "C:\\Users\\Lucas\\anaconda3\\lib\\site-packages\\optuna\\trial\\_trial.py:772: RuntimeWarning: Inconsistent parameter values for distribution with name \"min_child_weight\"! This might be a configuration mistake. Optuna allows to call the same distribution with the same name more then once in a trial. When the parameter values are inconsistent optuna only uses the values of the first call and ignores all following. Using these values: {'low': 0.0, 'high': 10.0}\n",
      "  warnings.warn(\n",
      "\u001b[32m[I 2022-05-29 22:51:19,862]\u001b[0m Trial 226 finished with value: 0.8523341523341523 and parameters: {'booster': 'gbtree', 'lambda': 1.244509257963409e-07, 'alpha': 1.601498204864364e-07, 'learning_rate': 0.7668998160330728, 'gamma': 14.332390264290252, 'n_estimators': 123, 'max_depth': 9, 'min_child_weight': 1.2654775762171449}. Best is trial 204 with value: 0.8576167076167076.\u001b[0m\n",
      "C:\\Users\\Lucas\\anaconda3\\lib\\site-packages\\optuna\\trial\\_trial.py:772: RuntimeWarning: Inconsistent parameter values for distribution with name \"min_child_weight\"! This might be a configuration mistake. Optuna allows to call the same distribution with the same name more then once in a trial. When the parameter values are inconsistent optuna only uses the values of the first call and ignores all following. Using these values: {'low': 0.0, 'high': 10.0}\n",
      "  warnings.warn(\n",
      "\u001b[32m[I 2022-05-29 22:51:19,948]\u001b[0m Trial 227 finished with value: 0.8498771498771499 and parameters: {'booster': 'gbtree', 'lambda': 0.25205591703332153, 'alpha': 2.788326675783957e-08, 'learning_rate': 0.9162979544535935, 'gamma': 4.097857741033352, 'n_estimators': 108, 'max_depth': 9, 'min_child_weight': 0.5037929000331967}. Best is trial 204 with value: 0.8576167076167076.\u001b[0m\n",
      "C:\\Users\\Lucas\\anaconda3\\lib\\site-packages\\optuna\\trial\\_trial.py:772: RuntimeWarning: Inconsistent parameter values for distribution with name \"min_child_weight\"! This might be a configuration mistake. Optuna allows to call the same distribution with the same name more then once in a trial. When the parameter values are inconsistent optuna only uses the values of the first call and ignores all following. Using these values: {'low': 0.0, 'high': 10.0}\n",
      "  warnings.warn(\n",
      "\u001b[32m[I 2022-05-29 22:51:20,034]\u001b[0m Trial 228 finished with value: 0.8547911547911548 and parameters: {'booster': 'gbtree', 'lambda': 0.09422292637514873, 'alpha': 2.2821089969164672e-07, 'learning_rate': 0.6829930273878023, 'gamma': 8.409835068666098, 'n_estimators': 65, 'max_depth': 9, 'min_child_weight': 0.7839563527984137}. Best is trial 204 with value: 0.8576167076167076.\u001b[0m\n",
      "C:\\Users\\Lucas\\anaconda3\\lib\\site-packages\\optuna\\trial\\_trial.py:772: RuntimeWarning: Inconsistent parameter values for distribution with name \"min_child_weight\"! This might be a configuration mistake. Optuna allows to call the same distribution with the same name more then once in a trial. When the parameter values are inconsistent optuna only uses the values of the first call and ignores all following. Using these values: {'low': 0.0, 'high': 10.0}\n",
      "  warnings.warn(\n"
     ]
    },
    {
     "name": "stderr",
     "output_type": "stream",
     "text": [
      "\u001b[32m[I 2022-05-29 22:51:20,121]\u001b[0m Trial 229 finished with value: 0.8565110565110565 and parameters: {'booster': 'gbtree', 'lambda': 3.5313833307565046e-08, 'alpha': 8.423732352170311e-08, 'learning_rate': 0.8370835009819878, 'gamma': 5.609621027505598, 'n_estimators': 166, 'max_depth': 9, 'min_child_weight': 1.1054586473245231}. Best is trial 204 with value: 0.8576167076167076.\u001b[0m\n",
      "C:\\Users\\Lucas\\anaconda3\\lib\\site-packages\\optuna\\trial\\_trial.py:772: RuntimeWarning: Inconsistent parameter values for distribution with name \"min_child_weight\"! This might be a configuration mistake. Optuna allows to call the same distribution with the same name more then once in a trial. When the parameter values are inconsistent optuna only uses the values of the first call and ignores all following. Using these values: {'low': 0.0, 'high': 10.0}\n",
      "  warnings.warn(\n",
      "\u001b[32m[I 2022-05-29 22:51:20,201]\u001b[0m Trial 230 finished with value: 0.8512285012285012 and parameters: {'booster': 'gbtree', 'lambda': 1.9907648218600828e-07, 'alpha': 8.241915679270063e-08, 'learning_rate': 0.8375918993018836, 'gamma': 5.475318322547776, 'n_estimators': 161, 'max_depth': 8, 'min_child_weight': 1.3442880540676954}. Best is trial 204 with value: 0.8576167076167076.\u001b[0m\n",
      "C:\\Users\\Lucas\\anaconda3\\lib\\site-packages\\optuna\\trial\\_trial.py:772: RuntimeWarning: Inconsistent parameter values for distribution with name \"min_child_weight\"! This might be a configuration mistake. Optuna allows to call the same distribution with the same name more then once in a trial. When the parameter values are inconsistent optuna only uses the values of the first call and ignores all following. Using these values: {'low': 0.0, 'high': 10.0}\n",
      "  warnings.warn(\n",
      "\u001b[32m[I 2022-05-29 22:51:20,288]\u001b[0m Trial 231 finished with value: 0.8513513513513513 and parameters: {'booster': 'gbtree', 'lambda': 2.521053969973879e-08, 'alpha': 1.1730080307355982e-07, 'learning_rate': 0.9177866042377415, 'gamma': 3.276325617543289, 'n_estimators': 142, 'max_depth': 9, 'min_child_weight': 1.1156432314340854}. Best is trial 204 with value: 0.8576167076167076.\u001b[0m\n",
      "C:\\Users\\Lucas\\anaconda3\\lib\\site-packages\\optuna\\trial\\_trial.py:772: RuntimeWarning: Inconsistent parameter values for distribution with name \"min_child_weight\"! This might be a configuration mistake. Optuna allows to call the same distribution with the same name more then once in a trial. When the parameter values are inconsistent optuna only uses the values of the first call and ignores all following. Using these values: {'low': 0.0, 'high': 10.0}\n",
      "  warnings.warn(\n",
      "\u001b[32m[I 2022-05-29 22:51:20,376]\u001b[0m Trial 232 finished with value: 0.856019656019656 and parameters: {'booster': 'gbtree', 'lambda': 1.703957807201219e-06, 'alpha': 3.0498011576574427e-07, 'learning_rate': 0.7649926384127124, 'gamma': 4.789604467784807, 'n_estimators': 89, 'max_depth': 9, 'min_child_weight': 0.9157465015822217}. Best is trial 204 with value: 0.8576167076167076.\u001b[0m\n",
      "C:\\Users\\Lucas\\anaconda3\\lib\\site-packages\\optuna\\trial\\_trial.py:772: RuntimeWarning: Inconsistent parameter values for distribution with name \"min_child_weight\"! This might be a configuration mistake. Optuna allows to call the same distribution with the same name more then once in a trial. When the parameter values are inconsistent optuna only uses the values of the first call and ignores all following. Using these values: {'low': 0.0, 'high': 10.0}\n",
      "  warnings.warn(\n",
      "\u001b[32m[I 2022-05-29 22:51:20,460]\u001b[0m Trial 233 finished with value: 0.7998771498771499 and parameters: {'booster': 'gbtree', 'lambda': 3.877333087151345e-08, 'alpha': 6.974736427583677e-08, 'learning_rate': 0.7553953526979519, 'gamma': 5.861848975512296, 'n_estimators': 93, 'max_depth': 9, 'min_child_weight': 3.0757193737887065}. Best is trial 204 with value: 0.8576167076167076.\u001b[0m\n",
      "C:\\Users\\Lucas\\anaconda3\\lib\\site-packages\\optuna\\trial\\_trial.py:772: RuntimeWarning: Inconsistent parameter values for distribution with name \"min_child_weight\"! This might be a configuration mistake. Optuna allows to call the same distribution with the same name more then once in a trial. When the parameter values are inconsistent optuna only uses the values of the first call and ignores all following. Using these values: {'low': 0.0, 'high': 10.0}\n",
      "  warnings.warn(\n",
      "\u001b[32m[I 2022-05-29 22:51:20,545]\u001b[0m Trial 234 finished with value: 0.855896805896806 and parameters: {'booster': 'gbtree', 'lambda': 0.1605970415854965, 'alpha': 1.4052161933082189e-07, 'learning_rate': 0.8339265447585923, 'gamma': 9.160105632289543, 'n_estimators': 87, 'max_depth': 9, 'min_child_weight': 0.8164515885237287}. Best is trial 204 with value: 0.8576167076167076.\u001b[0m\n",
      "C:\\Users\\Lucas\\anaconda3\\lib\\site-packages\\optuna\\trial\\_trial.py:772: RuntimeWarning: Inconsistent parameter values for distribution with name \"min_child_weight\"! This might be a configuration mistake. Optuna allows to call the same distribution with the same name more then once in a trial. When the parameter values are inconsistent optuna only uses the values of the first call and ignores all following. Using these values: {'low': 0.0, 'high': 10.0}\n",
      "  warnings.warn(\n",
      "\u001b[32m[I 2022-05-29 22:51:20,630]\u001b[0m Trial 235 finished with value: 0.8517199017199018 and parameters: {'booster': 'gbtree', 'lambda': 1.9577016781447768e-08, 'alpha': 1.6854885331142605e-08, 'learning_rate': 0.8217571116884852, 'gamma': 11.678273288765709, 'n_estimators': 54, 'max_depth': 9, 'min_child_weight': 0.7159662306497415}. Best is trial 204 with value: 0.8576167076167076.\u001b[0m\n",
      "C:\\Users\\Lucas\\anaconda3\\lib\\site-packages\\optuna\\trial\\_trial.py:772: RuntimeWarning: Inconsistent parameter values for distribution with name \"min_child_weight\"! This might be a configuration mistake. Optuna allows to call the same distribution with the same name more then once in a trial. When the parameter values are inconsistent optuna only uses the values of the first call and ignores all following. Using these values: {'low': 0.0, 'high': 10.0}\n",
      "  warnings.warn(\n",
      "\u001b[32m[I 2022-05-29 22:51:20,720]\u001b[0m Trial 236 finished with value: 0.851965601965602 and parameters: {'booster': 'gbtree', 'lambda': 5.240416589247972e-07, 'alpha': 3.982297217487067e-08, 'learning_rate': 0.7113697259454644, 'gamma': 18.33734520426076, 'n_estimators': 114, 'max_depth': 9, 'min_child_weight': 0.840583308869943}. Best is trial 204 with value: 0.8576167076167076.\u001b[0m\n",
      "C:\\Users\\Lucas\\anaconda3\\lib\\site-packages\\optuna\\trial\\_trial.py:772: RuntimeWarning: Inconsistent parameter values for distribution with name \"min_child_weight\"! This might be a configuration mistake. Optuna allows to call the same distribution with the same name more then once in a trial. When the parameter values are inconsistent optuna only uses the values of the first call and ignores all following. Using these values: {'low': 0.0, 'high': 10.0}\n",
      "  warnings.warn(\n",
      "\u001b[32m[I 2022-05-29 22:51:20,809]\u001b[0m Trial 237 finished with value: 0.8517199017199018 and parameters: {'booster': 'gbtree', 'lambda': 1.900479161017976e-05, 'alpha': 2.574839305905897e-07, 'learning_rate': 0.7797368605664521, 'gamma': 8.135073600398206, 'n_estimators': 90, 'max_depth': 9, 'min_child_weight': 0.6015281944537136}. Best is trial 204 with value: 0.8576167076167076.\u001b[0m\n",
      "C:\\Users\\Lucas\\anaconda3\\lib\\site-packages\\optuna\\trial\\_trial.py:772: RuntimeWarning: Inconsistent parameter values for distribution with name \"min_child_weight\"! This might be a configuration mistake. Optuna allows to call the same distribution with the same name more then once in a trial. When the parameter values are inconsistent optuna only uses the values of the first call and ignores all following. Using these values: {'low': 0.0, 'high': 10.0}\n",
      "  warnings.warn(\n",
      "\u001b[32m[I 2022-05-29 22:51:20,898]\u001b[0m Trial 238 finished with value: 0.8555282555282555 and parameters: {'booster': 'gbtree', 'lambda': 1.0038370736107996e-06, 'alpha': 8.736680024628627e-08, 'learning_rate': 0.67362509105871, 'gamma': 5.104765400057411, 'n_estimators': 107, 'max_depth': 9, 'min_child_weight': 1.0333996217198136}. Best is trial 204 with value: 0.8576167076167076.\u001b[0m\n",
      "C:\\Users\\Lucas\\anaconda3\\lib\\site-packages\\optuna\\trial\\_trial.py:772: RuntimeWarning: Inconsistent parameter values for distribution with name \"min_child_weight\"! This might be a configuration mistake. Optuna allows to call the same distribution with the same name more then once in a trial. When the parameter values are inconsistent optuna only uses the values of the first call and ignores all following. Using these values: {'low': 0.0, 'high': 10.0}\n",
      "  warnings.warn(\n"
     ]
    },
    {
     "name": "stderr",
     "output_type": "stream",
     "text": [
      "\u001b[32m[I 2022-05-29 22:51:20,949]\u001b[0m Trial 239 finished with value: 0.8061425061425062 and parameters: {'booster': 'gbtree', 'lambda': 6.914341762126376e-06, 'alpha': 1.4444171041040112e-07, 'learning_rate': 0.16100177903466528, 'gamma': 9.12812204067124, 'n_estimators': 82, 'max_depth': 1, 'min_child_weight': 0.8182342525475339}. Best is trial 204 with value: 0.8576167076167076.\u001b[0m\n",
      "C:\\Users\\Lucas\\anaconda3\\lib\\site-packages\\optuna\\trial\\_trial.py:772: RuntimeWarning: Inconsistent parameter values for distribution with name \"min_child_weight\"! This might be a configuration mistake. Optuna allows to call the same distribution with the same name more then once in a trial. When the parameter values are inconsistent optuna only uses the values of the first call and ignores all following. Using these values: {'low': 0.0, 'high': 10.0}\n",
      "  warnings.warn(\n",
      "\u001b[32m[I 2022-05-29 22:51:21,036]\u001b[0m Trial 240 finished with value: 0.8540540540540541 and parameters: {'booster': 'gbtree', 'lambda': 5.176567922694367e-08, 'alpha': 1.8351906241888397e-07, 'learning_rate': 0.9009327441272648, 'gamma': 12.74822445274115, 'n_estimators': 35, 'max_depth': 9, 'min_child_weight': 1.2042677549271743}. Best is trial 204 with value: 0.8576167076167076.\u001b[0m\n",
      "C:\\Users\\Lucas\\anaconda3\\lib\\site-packages\\optuna\\trial\\_trial.py:772: RuntimeWarning: Inconsistent parameter values for distribution with name \"min_child_weight\"! This might be a configuration mistake. Optuna allows to call the same distribution with the same name more then once in a trial. When the parameter values are inconsistent optuna only uses the values of the first call and ignores all following. Using these values: {'low': 0.0, 'high': 10.0}\n",
      "  warnings.warn(\n",
      "\u001b[32m[I 2022-05-29 22:51:21,121]\u001b[0m Trial 241 finished with value: 0.8557739557739558 and parameters: {'booster': 'gbtree', 'lambda': 1.5293498716577006e-06, 'alpha': 9.722447559136487e-08, 'learning_rate': 0.9974908094931311, 'gamma': 5.401800790260099, 'n_estimators': 67, 'max_depth': 9, 'min_child_weight': 1.0051851896109743}. Best is trial 204 with value: 0.8576167076167076.\u001b[0m\n",
      "C:\\Users\\Lucas\\anaconda3\\lib\\site-packages\\optuna\\trial\\_trial.py:772: RuntimeWarning: Inconsistent parameter values for distribution with name \"min_child_weight\"! This might be a configuration mistake. Optuna allows to call the same distribution with the same name more then once in a trial. When the parameter values are inconsistent optuna only uses the values of the first call and ignores all following. Using these values: {'low': 0.0, 'high': 10.0}\n",
      "  warnings.warn(\n",
      "\u001b[32m[I 2022-05-29 22:51:21,209]\u001b[0m Trial 242 finished with value: 0.856019656019656 and parameters: {'booster': 'gbtree', 'lambda': 8.939934962640762e-07, 'alpha': 1.017271264423065e-07, 'learning_rate': 0.687777192941569, 'gamma': 5.287459069459279, 'n_estimators': 103, 'max_depth': 9, 'min_child_weight': 1.06408386797784}. Best is trial 204 with value: 0.8576167076167076.\u001b[0m\n",
      "C:\\Users\\Lucas\\anaconda3\\lib\\site-packages\\optuna\\trial\\_trial.py:772: RuntimeWarning: Inconsistent parameter values for distribution with name \"min_child_weight\"! This might be a configuration mistake. Optuna allows to call the same distribution with the same name more then once in a trial. When the parameter values are inconsistent optuna only uses the values of the first call and ignores all following. Using these values: {'low': 0.0, 'high': 10.0}\n",
      "  warnings.warn(\n",
      "\u001b[32m[I 2022-05-29 22:51:21,292]\u001b[0m Trial 243 finished with value: 0.8573710073710074 and parameters: {'booster': 'gbtree', 'lambda': 2.185411023576934e-06, 'alpha': 1.1163502545144879e-07, 'learning_rate': 0.9940483238202086, 'gamma': 6.713133322680909, 'n_estimators': 64, 'max_depth': 9, 'min_child_weight': 1.0550738256094652}. Best is trial 204 with value: 0.8576167076167076.\u001b[0m\n",
      "C:\\Users\\Lucas\\anaconda3\\lib\\site-packages\\optuna\\trial\\_trial.py:772: RuntimeWarning: Inconsistent parameter values for distribution with name \"min_child_weight\"! This might be a configuration mistake. Optuna allows to call the same distribution with the same name more then once in a trial. When the parameter values are inconsistent optuna only uses the values of the first call and ignores all following. Using these values: {'low': 0.0, 'high': 10.0}\n",
      "  warnings.warn(\n",
      "\u001b[32m[I 2022-05-29 22:51:21,378]\u001b[0m Trial 244 finished with value: 0.8517199017199018 and parameters: {'booster': 'gbtree', 'lambda': 1.5946165296177819e-06, 'alpha': 5.641167242180168e-08, 'learning_rate': 0.9618633795703415, 'gamma': 6.392524442881409, 'n_estimators': 60, 'max_depth': 9, 'min_child_weight': 1.1914772623827223}. Best is trial 204 with value: 0.8576167076167076.\u001b[0m\n",
      "C:\\Users\\Lucas\\anaconda3\\lib\\site-packages\\optuna\\trial\\_trial.py:772: RuntimeWarning: Inconsistent parameter values for distribution with name \"min_child_weight\"! This might be a configuration mistake. Optuna allows to call the same distribution with the same name more then once in a trial. When the parameter values are inconsistent optuna only uses the values of the first call and ignores all following. Using these values: {'low': 0.0, 'high': 10.0}\n",
      "  warnings.warn(\n",
      "\u001b[32m[I 2022-05-29 22:51:21,464]\u001b[0m Trial 245 finished with value: 0.8535626535626536 and parameters: {'booster': 'gbtree', 'lambda': 1.3077170234338937e-06, 'alpha': 9.931916296386818e-08, 'learning_rate': 0.9841234034653552, 'gamma': 7.473185914021777, 'n_estimators': 113, 'max_depth': 9, 'min_child_weight': 1.069225331423346}. Best is trial 204 with value: 0.8576167076167076.\u001b[0m\n",
      "C:\\Users\\Lucas\\anaconda3\\lib\\site-packages\\optuna\\trial\\_trial.py:772: RuntimeWarning: Inconsistent parameter values for distribution with name \"min_child_weight\"! This might be a configuration mistake. Optuna allows to call the same distribution with the same name more then once in a trial. When the parameter values are inconsistent optuna only uses the values of the first call and ignores all following. Using these values: {'low': 0.0, 'high': 10.0}\n",
      "  warnings.warn(\n",
      "\u001b[32m[I 2022-05-29 22:51:21,550]\u001b[0m Trial 246 finished with value: 0.8443488943488944 and parameters: {'booster': 'gbtree', 'lambda': 7.188551399426539e-07, 'alpha': 1.1265487012691117e-07, 'learning_rate': 0.8479088863021547, 'gamma': 9.409846645384421, 'n_estimators': 134, 'max_depth': 9, 'min_child_weight': 1.5949826933259006}. Best is trial 204 with value: 0.8576167076167076.\u001b[0m\n",
      "C:\\Users\\Lucas\\anaconda3\\lib\\site-packages\\optuna\\trial\\_trial.py:772: RuntimeWarning: Inconsistent parameter values for distribution with name \"min_child_weight\"! This might be a configuration mistake. Optuna allows to call the same distribution with the same name more then once in a trial. When the parameter values are inconsistent optuna only uses the values of the first call and ignores all following. Using these values: {'low': 0.0, 'high': 10.0}\n",
      "  warnings.warn(\n",
      "\u001b[32m[I 2022-05-29 22:51:21,619]\u001b[0m Trial 247 finished with value: 0.8541769041769042 and parameters: {'booster': 'gbtree', 'lambda': 1.4739158369011205e-06, 'alpha': 5.872496158853931e-08, 'learning_rate': 0.8673239230125278, 'gamma': 5.7238394583678645, 'n_estimators': 12, 'max_depth': 5, 'min_child_weight': 1.3415643711094076}. Best is trial 204 with value: 0.8576167076167076.\u001b[0m\n",
      "C:\\Users\\Lucas\\anaconda3\\lib\\site-packages\\optuna\\trial\\_trial.py:772: RuntimeWarning: Inconsistent parameter values for distribution with name \"min_child_weight\"! This might be a configuration mistake. Optuna allows to call the same distribution with the same name more then once in a trial. When the parameter values are inconsistent optuna only uses the values of the first call and ignores all following. Using these values: {'low': 0.0, 'high': 10.0}\n",
      "  warnings.warn(\n",
      "\u001b[32m[I 2022-05-29 22:51:21,710]\u001b[0m Trial 248 finished with value: 0.8533169533169533 and parameters: {'booster': 'gbtree', 'lambda': 2.7077817738926812e-06, 'alpha': 8.555971479064135e-08, 'learning_rate': 0.7616965117278987, 'gamma': 13.771650553698516, 'n_estimators': 96, 'max_depth': 9, 'min_child_weight': 0.6878131125430049}. Best is trial 204 with value: 0.8576167076167076.\u001b[0m\n",
      "C:\\Users\\Lucas\\anaconda3\\lib\\site-packages\\optuna\\trial\\_trial.py:772: RuntimeWarning: Inconsistent parameter values for distribution with name \"min_child_weight\"! This might be a configuration mistake. Optuna allows to call the same distribution with the same name more then once in a trial. When the parameter values are inconsistent optuna only uses the values of the first call and ignores all following. Using these values: {'low': 0.0, 'high': 10.0}\n",
      "  warnings.warn(\n"
     ]
    },
    {
     "name": "stderr",
     "output_type": "stream",
     "text": [
      "\u001b[32m[I 2022-05-29 22:51:21,796]\u001b[0m Trial 249 finished with value: 0.8547911547911548 and parameters: {'booster': 'gbtree', 'lambda': 2.0362253096661735e-06, 'alpha': 2.780657924530778e-08, 'learning_rate': 0.9991002221911296, 'gamma': 4.401997745138916, 'n_estimators': 69, 'max_depth': 9, 'min_child_weight': 0.9943966580358518}. Best is trial 204 with value: 0.8576167076167076.\u001b[0m\n",
      "C:\\Users\\Lucas\\anaconda3\\lib\\site-packages\\optuna\\trial\\_trial.py:772: RuntimeWarning: Inconsistent parameter values for distribution with name \"min_child_weight\"! This might be a configuration mistake. Optuna allows to call the same distribution with the same name more then once in a trial. When the parameter values are inconsistent optuna only uses the values of the first call and ignores all following. Using these values: {'low': 0.0, 'high': 10.0}\n",
      "  warnings.warn(\n",
      "\u001b[32m[I 2022-05-29 22:51:21,884]\u001b[0m Trial 250 finished with value: 0.8496314496314497 and parameters: {'booster': 'gbtree', 'lambda': 7.87872887231012e-07, 'alpha': 4.965554204708728e-08, 'learning_rate': 0.8703828335593002, 'gamma': 6.581935703684651, 'n_estimators': 41, 'max_depth': 9, 'min_child_weight': 0.5078869815244617}. Best is trial 204 with value: 0.8576167076167076.\u001b[0m\n",
      "C:\\Users\\Lucas\\anaconda3\\lib\\site-packages\\optuna\\trial\\_trial.py:772: RuntimeWarning: Inconsistent parameter values for distribution with name \"min_child_weight\"! This might be a configuration mistake. Optuna allows to call the same distribution with the same name more then once in a trial. When the parameter values are inconsistent optuna only uses the values of the first call and ignores all following. Using these values: {'low': 0.0, 'high': 10.0}\n",
      "  warnings.warn(\n",
      "\u001b[32m[I 2022-05-29 22:51:21,972]\u001b[0m Trial 251 finished with value: 0.8549140049140049 and parameters: {'booster': 'gbtree', 'lambda': 2.8589854076246527e-06, 'alpha': 1.319181332640493e-07, 'learning_rate': 0.9362246542889219, 'gamma': 9.065913114258914, 'n_estimators': 79, 'max_depth': 9, 'min_child_weight': 0.814057892052428}. Best is trial 204 with value: 0.8576167076167076.\u001b[0m\n",
      "C:\\Users\\Lucas\\anaconda3\\lib\\site-packages\\optuna\\trial\\_trial.py:772: RuntimeWarning: Inconsistent parameter values for distribution with name \"min_child_weight\"! This might be a configuration mistake. Optuna allows to call the same distribution with the same name more then once in a trial. When the parameter values are inconsistent optuna only uses the values of the first call and ignores all following. Using these values: {'low': 0.0, 'high': 10.0}\n",
      "  warnings.warn(\n",
      "\u001b[32m[I 2022-05-29 22:51:22,066]\u001b[0m Trial 252 finished with value: 0.8517199017199018 and parameters: {'booster': 'gbtree', 'lambda': 9.81395672908112e-07, 'alpha': 2.3016211918920842e-08, 'learning_rate': 0.7806512110305022, 'gamma': 5.065502345358262, 'n_estimators': 57, 'max_depth': 10, 'min_child_weight': 1.1966697218325644}. Best is trial 204 with value: 0.8576167076167076.\u001b[0m\n",
      "C:\\Users\\Lucas\\anaconda3\\lib\\site-packages\\optuna\\trial\\_trial.py:772: RuntimeWarning: Inconsistent parameter values for distribution with name \"min_child_weight\"! This might be a configuration mistake. Optuna allows to call the same distribution with the same name more then once in a trial. When the parameter values are inconsistent optuna only uses the values of the first call and ignores all following. Using these values: {'low': 0.0, 'high': 10.0}\n",
      "  warnings.warn(\n",
      "\u001b[32m[I 2022-05-29 22:51:22,154]\u001b[0m Trial 253 finished with value: 0.850982800982801 and parameters: {'booster': 'gbtree', 'lambda': 1.898081912455307e-07, 'alpha': 2.2852715734175742e-07, 'learning_rate': 0.8412714829765168, 'gamma': 2.3516715290042898, 'n_estimators': 137, 'max_depth': 9, 'min_child_weight': 1.384982847861047}. Best is trial 204 with value: 0.8576167076167076.\u001b[0m\n",
      "C:\\Users\\Lucas\\anaconda3\\lib\\site-packages\\optuna\\trial\\_trial.py:772: RuntimeWarning: Inconsistent parameter values for distribution with name \"min_child_weight\"! This might be a configuration mistake. Optuna allows to call the same distribution with the same name more then once in a trial. When the parameter values are inconsistent optuna only uses the values of the first call and ignores all following. Using these values: {'low': 0.0, 'high': 10.0}\n",
      "  warnings.warn(\n",
      "\u001b[32m[I 2022-05-29 22:51:22,243]\u001b[0m Trial 254 finished with value: 0.8546683046683047 and parameters: {'booster': 'gbtree', 'lambda': 1.1980277045356246e-06, 'alpha': 8.165999032296417e-08, 'learning_rate': 0.6390528426656132, 'gamma': 5.094921318961406, 'n_estimators': 107, 'max_depth': 9, 'min_child_weight': 1.076119499248506}. Best is trial 204 with value: 0.8576167076167076.\u001b[0m\n",
      "C:\\Users\\Lucas\\anaconda3\\lib\\site-packages\\optuna\\trial\\_trial.py:772: RuntimeWarning: Inconsistent parameter values for distribution with name \"min_child_weight\"! This might be a configuration mistake. Optuna allows to call the same distribution with the same name more then once in a trial. When the parameter values are inconsistent optuna only uses the values of the first call and ignores all following. Using these values: {'low': 0.0, 'high': 10.0}\n",
      "  warnings.warn(\n",
      "\u001b[32m[I 2022-05-29 22:51:22,331]\u001b[0m Trial 255 finished with value: 0.8542997542997544 and parameters: {'booster': 'gbtree', 'lambda': 4.410129429056636e-06, 'alpha': 9.920748915511093e-08, 'learning_rate': 0.6674793021023387, 'gamma': 11.189969065287917, 'n_estimators': 91, 'max_depth': 9, 'min_child_weight': 1.0014133652945014}. Best is trial 204 with value: 0.8576167076167076.\u001b[0m\n",
      "C:\\Users\\Lucas\\anaconda3\\lib\\site-packages\\optuna\\trial\\_trial.py:772: RuntimeWarning: Inconsistent parameter values for distribution with name \"min_child_weight\"! This might be a configuration mistake. Optuna allows to call the same distribution with the same name more then once in a trial. When the parameter values are inconsistent optuna only uses the values of the first call and ignores all following. Using these values: {'low': 0.0, 'high': 10.0}\n",
      "  warnings.warn(\n",
      "\u001b[32m[I 2022-05-29 22:51:22,422]\u001b[0m Trial 256 finished with value: 0.8515970515970516 and parameters: {'booster': 'gbtree', 'lambda': 3.413542851891232e-07, 'alpha': 4.1823641165572785e-08, 'learning_rate': 0.7679760429003172, 'gamma': 21.20206525253505, 'n_estimators': 34, 'max_depth': 9, 'min_child_weight': 0.666736676243379}. Best is trial 204 with value: 0.8576167076167076.\u001b[0m\n",
      "C:\\Users\\Lucas\\anaconda3\\lib\\site-packages\\optuna\\trial\\_trial.py:772: RuntimeWarning: Inconsistent parameter values for distribution with name \"min_child_weight\"! This might be a configuration mistake. Optuna allows to call the same distribution with the same name more then once in a trial. When the parameter values are inconsistent optuna only uses the values of the first call and ignores all following. Using these values: {'low': 0.0, 'high': 10.0}\n",
      "  warnings.warn(\n",
      "\u001b[32m[I 2022-05-29 22:51:22,510]\u001b[0m Trial 257 finished with value: 0.8474201474201474 and parameters: {'booster': 'gbtree', 'lambda': 1.1244341570680425e-08, 'alpha': 7.545521562219464e-08, 'learning_rate': 0.6908165085133081, 'gamma': 6.25054118035885, 'n_estimators': 116, 'max_depth': 9, 'min_child_weight': 1.6569118401651317}. Best is trial 204 with value: 0.8576167076167076.\u001b[0m\n",
      "C:\\Users\\Lucas\\anaconda3\\lib\\site-packages\\optuna\\trial\\_trial.py:772: RuntimeWarning: Inconsistent parameter values for distribution with name \"min_child_weight\"! This might be a configuration mistake. Optuna allows to call the same distribution with the same name more then once in a trial. When the parameter values are inconsistent optuna only uses the values of the first call and ignores all following. Using these values: {'low': 0.0, 'high': 10.0}\n",
      "  warnings.warn(\n",
      "\u001b[32m[I 2022-05-29 22:51:22,560]\u001b[0m Trial 258 finished with value: 0.23648648648648649 and parameters: {'booster': 'gblinear', 'lambda': 0.00022880457362732165, 'alpha': 0.4840125666407009, 'learning_rate': 0.9974299886325267, 'gamma': 3.5721119829624763, 'n_estimators': 150, 'max_depth': 8, 'min_child_weight': 9.923654595457755}. Best is trial 204 with value: 0.8576167076167076.\u001b[0m\n",
      "C:\\Users\\Lucas\\anaconda3\\lib\\site-packages\\optuna\\trial\\_trial.py:772: RuntimeWarning: Inconsistent parameter values for distribution with name \"min_child_weight\"! This might be a configuration mistake. Optuna allows to call the same distribution with the same name more then once in a trial. When the parameter values are inconsistent optuna only uses the values of the first call and ignores all following. Using these values: {'low': 0.0, 'high': 10.0}\n",
      "  warnings.warn(\n"
     ]
    },
    {
     "name": "stderr",
     "output_type": "stream",
     "text": [
      "\u001b[32m[I 2022-05-29 22:51:22,648]\u001b[0m Trial 259 finished with value: 0.8541769041769042 and parameters: {'booster': 'gbtree', 'lambda': 1.9528503268940712e-06, 'alpha': 1.4619351553783517e-07, 'learning_rate': 0.8945673685740885, 'gamma': 7.81539428783181, 'n_estimators': 86, 'max_depth': 9, 'min_child_weight': 0.7988853108467848}. Best is trial 204 with value: 0.8576167076167076.\u001b[0m\n",
      "C:\\Users\\Lucas\\anaconda3\\lib\\site-packages\\optuna\\trial\\_trial.py:772: RuntimeWarning: Inconsistent parameter values for distribution with name \"min_child_weight\"! This might be a configuration mistake. Optuna allows to call the same distribution with the same name more then once in a trial. When the parameter values are inconsistent optuna only uses the values of the first call and ignores all following. Using these values: {'low': 0.0, 'high': 10.0}\n",
      "  warnings.warn(\n",
      "\u001b[32m[I 2022-05-29 22:51:22,745]\u001b[0m Trial 260 finished with value: 0.8530712530712531 and parameters: {'booster': 'gbtree', 'lambda': 7.203074712296497e-07, 'alpha': 3.329977003383873e-08, 'learning_rate': 0.6875322811321634, 'gamma': 4.585954566410743, 'n_estimators': 56, 'max_depth': 9, 'min_child_weight': 1.2333854454228033}. Best is trial 204 with value: 0.8576167076167076.\u001b[0m\n",
      "C:\\Users\\Lucas\\anaconda3\\lib\\site-packages\\optuna\\trial\\_trial.py:772: RuntimeWarning: Inconsistent parameter values for distribution with name \"min_child_weight\"! This might be a configuration mistake. Optuna allows to call the same distribution with the same name more then once in a trial. When the parameter values are inconsistent optuna only uses the values of the first call and ignores all following. Using these values: {'low': 0.0, 'high': 10.0}\n",
      "  warnings.warn(\n",
      "\u001b[32m[I 2022-05-29 22:51:22,840]\u001b[0m Trial 261 finished with value: 0.8498771498771499 and parameters: {'booster': 'gbtree', 'lambda': 0.4860922848988273, 'alpha': 2.990056493427203e-07, 'learning_rate': 0.997008564944276, 'gamma': 3.348285528680717, 'n_estimators': 68, 'max_depth': 9, 'min_child_weight': 0.460812558325544}. Best is trial 204 with value: 0.8576167076167076.\u001b[0m\n",
      "C:\\Users\\Lucas\\anaconda3\\lib\\site-packages\\optuna\\trial\\_trial.py:772: RuntimeWarning: Inconsistent parameter values for distribution with name \"min_child_weight\"! This might be a configuration mistake. Optuna allows to call the same distribution with the same name more then once in a trial. When the parameter values are inconsistent optuna only uses the values of the first call and ignores all following. Using these values: {'low': 0.0, 'high': 10.0}\n",
      "  warnings.warn(\n",
      "\u001b[32m[I 2022-05-29 22:51:22,945]\u001b[0m Trial 262 finished with value: 0.8474201474201474 and parameters: {'booster': 'gbtree', 'lambda': 7.661668503809752e-05, 'alpha': 5.318616106023e-08, 'learning_rate': 0.09261118484648077, 'gamma': 12.51916544701985, 'n_estimators': 85, 'max_depth': 10, 'min_child_weight': 0.9411151972272896}. Best is trial 204 with value: 0.8576167076167076.\u001b[0m\n",
      "C:\\Users\\Lucas\\anaconda3\\lib\\site-packages\\optuna\\trial\\_trial.py:772: RuntimeWarning: Inconsistent parameter values for distribution with name \"min_child_weight\"! This might be a configuration mistake. Optuna allows to call the same distribution with the same name more then once in a trial. When the parameter values are inconsistent optuna only uses the values of the first call and ignores all following. Using these values: {'low': 0.0, 'high': 10.0}\n",
      "  warnings.warn(\n",
      "\u001b[32m[I 2022-05-29 22:51:23,035]\u001b[0m Trial 263 finished with value: 0.851965601965602 and parameters: {'booster': 'gbtree', 'lambda': 2.643925379870899e-06, 'alpha': 1.653069603482032e-07, 'learning_rate': 0.7368706920750606, 'gamma': 2.0921852519920723, 'n_estimators': 123, 'max_depth': 9, 'min_child_weight': 0.7058397296931008}. Best is trial 204 with value: 0.8576167076167076.\u001b[0m\n",
      "C:\\Users\\Lucas\\anaconda3\\lib\\site-packages\\optuna\\trial\\_trial.py:772: RuntimeWarning: Inconsistent parameter values for distribution with name \"min_child_weight\"! This might be a configuration mistake. Optuna allows to call the same distribution with the same name more then once in a trial. When the parameter values are inconsistent optuna only uses the values of the first call and ignores all following. Using these values: {'low': 0.0, 'high': 10.0}\n",
      "  warnings.warn(\n",
      "\u001b[32m[I 2022-05-29 22:51:23,127]\u001b[0m Trial 264 finished with value: 0.8502457002457002 and parameters: {'booster': 'gbtree', 'lambda': 5.978987938587961e-07, 'alpha': 1.1242971403999248e-07, 'learning_rate': 0.5863702902866883, 'gamma': 7.214476286693267, 'n_estimators': 108, 'max_depth': 9, 'min_child_weight': 1.4924558022276688}. Best is trial 204 with value: 0.8576167076167076.\u001b[0m\n",
      "C:\\Users\\Lucas\\anaconda3\\lib\\site-packages\\optuna\\trial\\_trial.py:772: RuntimeWarning: Inconsistent parameter values for distribution with name \"min_child_weight\"! This might be a configuration mistake. Optuna allows to call the same distribution with the same name more then once in a trial. When the parameter values are inconsistent optuna only uses the values of the first call and ignores all following. Using these values: {'low': 0.0, 'high': 10.0}\n",
      "  warnings.warn(\n",
      "\u001b[32m[I 2022-05-29 22:51:23,211]\u001b[0m Trial 265 finished with value: 0.8555282555282555 and parameters: {'booster': 'gbtree', 'lambda': 0.7259847836018828, 'alpha': 4.3628139452907167e-07, 'learning_rate': 0.8358254573314726, 'gamma': 2.943908711928544, 'n_estimators': 44, 'max_depth': 8, 'min_child_weight': 0.8827485727245703}. Best is trial 204 with value: 0.8576167076167076.\u001b[0m\n",
      "C:\\Users\\Lucas\\anaconda3\\lib\\site-packages\\optuna\\trial\\_trial.py:772: RuntimeWarning: Inconsistent parameter values for distribution with name \"min_child_weight\"! This might be a configuration mistake. Optuna allows to call the same distribution with the same name more then once in a trial. When the parameter values are inconsistent optuna only uses the values of the first call and ignores all following. Using these values: {'low': 0.0, 'high': 10.0}\n",
      "  warnings.warn(\n",
      "\u001b[32m[I 2022-05-29 22:51:23,302]\u001b[0m Trial 266 finished with value: 0.8515970515970516 and parameters: {'booster': 'gbtree', 'lambda': 1.4371555705880028e-07, 'alpha': 1.5676742473756154e-08, 'learning_rate': 0.8982949724070026, 'gamma': 4.063452960240289, 'n_estimators': 97, 'max_depth': 9, 'min_child_weight': 1.189602446044121}. Best is trial 204 with value: 0.8576167076167076.\u001b[0m\n",
      "C:\\Users\\Lucas\\anaconda3\\lib\\site-packages\\optuna\\trial\\_trial.py:772: RuntimeWarning: Inconsistent parameter values for distribution with name \"min_child_weight\"! This might be a configuration mistake. Optuna allows to call the same distribution with the same name more then once in a trial. When the parameter values are inconsistent optuna only uses the values of the first call and ignores all following. Using these values: {'low': 0.0, 'high': 10.0}\n",
      "  warnings.warn(\n",
      "\u001b[32m[I 2022-05-29 22:51:23,401]\u001b[0m Trial 267 finished with value: 0.8547911547911548 and parameters: {'booster': 'gbtree', 'lambda': 0.3521235730678406, 'alpha': 3.181008247171929e-07, 'learning_rate': 0.7703675437654872, 'gamma': 9.363462934973219, 'n_estimators': 66, 'max_depth': 10, 'min_child_weight': 1.0153836494337471}. Best is trial 204 with value: 0.8576167076167076.\u001b[0m\n",
      "C:\\Users\\Lucas\\anaconda3\\lib\\site-packages\\optuna\\trial\\_trial.py:772: RuntimeWarning: Inconsistent parameter values for distribution with name \"min_child_weight\"! This might be a configuration mistake. Optuna allows to call the same distribution with the same name more then once in a trial. When the parameter values are inconsistent optuna only uses the values of the first call and ignores all following. Using these values: {'low': 0.0, 'high': 10.0}\n",
      "  warnings.warn(\n",
      "\u001b[32m[I 2022-05-29 22:51:23,490]\u001b[0m Trial 268 finished with value: 0.8528255528255528 and parameters: {'booster': 'gbtree', 'lambda': 9.968276321601316e-07, 'alpha': 7.180913096924442e-08, 'learning_rate': 0.6505540805636565, 'gamma': 5.539354539622199, 'n_estimators': 124, 'max_depth': 9, 'min_child_weight': 1.3885698842427718}. Best is trial 204 with value: 0.8576167076167076.\u001b[0m\n",
      "C:\\Users\\Lucas\\anaconda3\\lib\\site-packages\\optuna\\trial\\_trial.py:772: RuntimeWarning: Inconsistent parameter values for distribution with name \"min_child_weight\"! This might be a configuration mistake. Optuna allows to call the same distribution with the same name more then once in a trial. When the parameter values are inconsistent optuna only uses the values of the first call and ignores all following. Using these values: {'low': 0.0, 'high': 10.0}\n",
      "  warnings.warn(\n"
     ]
    },
    {
     "name": "stderr",
     "output_type": "stream",
     "text": [
      "\u001b[32m[I 2022-05-29 22:51:23,581]\u001b[0m Trial 269 finished with value: 0.8414004914004914 and parameters: {'booster': 'gbtree', 'lambda': 3.596603041975731e-06, 'alpha': 1.531138820987108e-06, 'learning_rate': 0.8180848332404906, 'gamma': 19.801579337469754, 'n_estimators': 25, 'max_depth': 9, 'min_child_weight': 0.574695870344002}. Best is trial 204 with value: 0.8576167076167076.\u001b[0m\n",
      "C:\\Users\\Lucas\\anaconda3\\lib\\site-packages\\optuna\\trial\\_trial.py:772: RuntimeWarning: Inconsistent parameter values for distribution with name \"min_child_weight\"! This might be a configuration mistake. Optuna allows to call the same distribution with the same name more then once in a trial. When the parameter values are inconsistent optuna only uses the values of the first call and ignores all following. Using these values: {'low': 0.0, 'high': 10.0}\n",
      "  warnings.warn(\n",
      "\u001b[32m[I 2022-05-29 22:51:23,674]\u001b[0m Trial 270 finished with value: 0.8390663390663391 and parameters: {'booster': 'gbtree', 'lambda': 0.001485618407804646, 'alpha': 4.6983992131593054e-07, 'learning_rate': 0.890913770464489, 'gamma': 2.680180209191237, 'n_estimators': 172, 'max_depth': 9, 'min_child_weight': 0.28032491222621525}. Best is trial 204 with value: 0.8576167076167076.\u001b[0m\n",
      "C:\\Users\\Lucas\\anaconda3\\lib\\site-packages\\optuna\\trial\\_trial.py:772: RuntimeWarning: Inconsistent parameter values for distribution with name \"min_child_weight\"! This might be a configuration mistake. Optuna allows to call the same distribution with the same name more then once in a trial. When the parameter values are inconsistent optuna only uses the values of the first call and ignores all following. Using these values: {'low': 0.0, 'high': 10.0}\n",
      "  warnings.warn(\n",
      "\u001b[32m[I 2022-05-29 22:51:23,757]\u001b[0m Trial 271 finished with value: 0.8541769041769042 and parameters: {'booster': 'gbtree', 'lambda': 0.6998115082563737, 'alpha': 2.634131673599277e-07, 'learning_rate': 0.8286064909164317, 'gamma': 1.6847137098107836, 'n_estimators': 41, 'max_depth': 8, 'min_child_weight': 0.8287415239279582}. Best is trial 204 with value: 0.8576167076167076.\u001b[0m\n",
      "C:\\Users\\Lucas\\anaconda3\\lib\\site-packages\\optuna\\trial\\_trial.py:772: RuntimeWarning: Inconsistent parameter values for distribution with name \"min_child_weight\"! This might be a configuration mistake. Optuna allows to call the same distribution with the same name more then once in a trial. When the parameter values are inconsistent optuna only uses the values of the first call and ignores all following. Using these values: {'low': 0.0, 'high': 10.0}\n",
      "  warnings.warn(\n",
      "\u001b[32m[I 2022-05-29 22:51:23,848]\u001b[0m Trial 272 finished with value: 0.8556511056511057 and parameters: {'booster': 'gbtree', 'lambda': 0.22902176802326468, 'alpha': 2.306113771381723e-08, 'learning_rate': 0.7463836058974739, 'gamma': 7.890869226903791, 'n_estimators': 76, 'max_depth': 9, 'min_child_weight': 1.0692603735844581}. Best is trial 204 with value: 0.8576167076167076.\u001b[0m\n",
      "C:\\Users\\Lucas\\anaconda3\\lib\\site-packages\\optuna\\trial\\_trial.py:772: RuntimeWarning: Inconsistent parameter values for distribution with name \"min_child_weight\"! This might be a configuration mistake. Optuna allows to call the same distribution with the same name more then once in a trial. When the parameter values are inconsistent optuna only uses the values of the first call and ignores all following. Using these values: {'low': 0.0, 'high': 10.0}\n",
      "  warnings.warn(\n",
      "\u001b[32m[I 2022-05-29 22:51:23,939]\u001b[0m Trial 273 finished with value: 0.8523341523341523 and parameters: {'booster': 'gbtree', 'lambda': 6.309572942147587e-06, 'alpha': 2.3196082582961636e-08, 'learning_rate': 0.7369279730590117, 'gamma': 15.259582456485505, 'n_estimators': 76, 'max_depth': 9, 'min_child_weight': 1.2396006402302813}. Best is trial 204 with value: 0.8576167076167076.\u001b[0m\n",
      "C:\\Users\\Lucas\\anaconda3\\lib\\site-packages\\optuna\\trial\\_trial.py:772: RuntimeWarning: Inconsistent parameter values for distribution with name \"min_child_weight\"! This might be a configuration mistake. Optuna allows to call the same distribution with the same name more then once in a trial. When the parameter values are inconsistent optuna only uses the values of the first call and ignores all following. Using these values: {'low': 0.0, 'high': 10.0}\n",
      "  warnings.warn(\n",
      "\u001b[32m[I 2022-05-29 22:51:24,028]\u001b[0m Trial 274 finished with value: 0.8563882063882063 and parameters: {'booster': 'gbtree', 'lambda': 1.0653053632752112e-05, 'alpha': 1.633941266835037e-08, 'learning_rate': 0.9110685294822606, 'gamma': 9.880979400656049, 'n_estimators': 56, 'max_depth': 9, 'min_child_weight': 1.0933291368573723}. Best is trial 204 with value: 0.8576167076167076.\u001b[0m\n",
      "C:\\Users\\Lucas\\anaconda3\\lib\\site-packages\\optuna\\trial\\_trial.py:772: RuntimeWarning: Inconsistent parameter values for distribution with name \"min_child_weight\"! This might be a configuration mistake. Optuna allows to call the same distribution with the same name more then once in a trial. When the parameter values are inconsistent optuna only uses the values of the first call and ignores all following. Using these values: {'low': 0.0, 'high': 10.0}\n",
      "  warnings.warn(\n",
      "\u001b[32m[I 2022-05-29 22:51:24,123]\u001b[0m Trial 275 finished with value: 0.8156019656019656 and parameters: {'booster': 'gbtree', 'lambda': 1.7920658798547555e-06, 'alpha': 1.1843809092999377e-08, 'learning_rate': 0.014504120351043261, 'gamma': 981.5713952944833, 'n_estimators': 50, 'max_depth': 9, 'min_child_weight': 1.3971216036816414}. Best is trial 204 with value: 0.8576167076167076.\u001b[0m\n",
      "C:\\Users\\Lucas\\anaconda3\\lib\\site-packages\\optuna\\trial\\_trial.py:772: RuntimeWarning: Inconsistent parameter values for distribution with name \"min_child_weight\"! This might be a configuration mistake. Optuna allows to call the same distribution with the same name more then once in a trial. When the parameter values are inconsistent optuna only uses the values of the first call and ignores all following. Using these values: {'low': 0.0, 'high': 10.0}\n",
      "  warnings.warn(\n",
      "\u001b[32m[I 2022-05-29 22:51:24,178]\u001b[0m Trial 276 finished with value: 0.8152334152334152 and parameters: {'booster': 'gblinear', 'lambda': 9.147300247749115e-06, 'alpha': 2.1424286311449057e-08, 'learning_rate': 0.9149428238743225, 'gamma': 10.399298607530767, 'n_estimators': 61, 'max_depth': 9, 'min_child_weight': 1.7738745010990493}. Best is trial 204 with value: 0.8576167076167076.\u001b[0m\n",
      "C:\\Users\\Lucas\\anaconda3\\lib\\site-packages\\optuna\\trial\\_trial.py:772: RuntimeWarning: Inconsistent parameter values for distribution with name \"min_child_weight\"! This might be a configuration mistake. Optuna allows to call the same distribution with the same name more then once in a trial. When the parameter values are inconsistent optuna only uses the values of the first call and ignores all following. Using these values: {'low': 0.0, 'high': 10.0}\n",
      "  warnings.warn(\n",
      "\u001b[32m[I 2022-05-29 22:51:24,266]\u001b[0m Trial 277 finished with value: 0.6696560196560196 and parameters: {'booster': 'gbtree', 'lambda': 4.709939762025623e-05, 'alpha': 1.619051836005256e-08, 'learning_rate': 0.9193522519483176, 'gamma': 6.971573651854823, 'n_estimators': 33, 'max_depth': 9, 'min_child_weight': 9.294493952300211}. Best is trial 204 with value: 0.8576167076167076.\u001b[0m\n",
      "C:\\Users\\Lucas\\anaconda3\\lib\\site-packages\\optuna\\trial\\_trial.py:772: RuntimeWarning: Inconsistent parameter values for distribution with name \"min_child_weight\"! This might be a configuration mistake. Optuna allows to call the same distribution with the same name more then once in a trial. When the parameter values are inconsistent optuna only uses the values of the first call and ignores all following. Using these values: {'low': 0.0, 'high': 10.0}\n",
      "  warnings.warn(\n",
      "\u001b[32m[I 2022-05-29 22:51:24,356]\u001b[0m Trial 278 finished with value: 0.8552825552825553 and parameters: {'booster': 'gbtree', 'lambda': 3.8947417418397964e-07, 'alpha': 3.0562374010671675e-08, 'learning_rate': 0.839730148823797, 'gamma': 14.031244336317105, 'n_estimators': 79, 'max_depth': 9, 'min_child_weight': 1.1362456989272331}. Best is trial 204 with value: 0.8576167076167076.\u001b[0m\n",
      "C:\\Users\\Lucas\\anaconda3\\lib\\site-packages\\optuna\\trial\\_trial.py:772: RuntimeWarning: Inconsistent parameter values for distribution with name \"min_child_weight\"! This might be a configuration mistake. Optuna allows to call the same distribution with the same name more then once in a trial. When the parameter values are inconsistent optuna only uses the values of the first call and ignores all following. Using these values: {'low': 0.0, 'high': 10.0}\n",
      "  warnings.warn(\n"
     ]
    },
    {
     "name": "stderr",
     "output_type": "stream",
     "text": [
      "\u001b[32m[I 2022-05-29 22:51:24,444]\u001b[0m Trial 279 finished with value: 0.857002457002457 and parameters: {'booster': 'gbtree', 'lambda': 0.0001115431513816104, 'alpha': 4.3215968838580615e-08, 'learning_rate': 0.9998573025120018, 'gamma': 10.29791602823456, 'n_estimators': 88, 'max_depth': 9, 'min_child_weight': 1.0683859972959378}. Best is trial 204 with value: 0.8576167076167076.\u001b[0m\n",
      "C:\\Users\\Lucas\\anaconda3\\lib\\site-packages\\optuna\\trial\\_trial.py:772: RuntimeWarning: Inconsistent parameter values for distribution with name \"min_child_weight\"! This might be a configuration mistake. Optuna allows to call the same distribution with the same name more then once in a trial. When the parameter values are inconsistent optuna only uses the values of the first call and ignores all following. Using these values: {'low': 0.0, 'high': 10.0}\n",
      "  warnings.warn(\n",
      "\u001b[32m[I 2022-05-29 22:51:24,543]\u001b[0m Trial 280 finished with value: 0.8461916461916462 and parameters: {'booster': 'gbtree', 'lambda': 2.3831008434430044e-05, 'alpha': 3.6061868455524485e-08, 'learning_rate': 0.9881632235766409, 'gamma': 18.736447115163532, 'n_estimators': 61, 'max_depth': 10, 'min_child_weight': 1.3133071940761605}. Best is trial 204 with value: 0.8576167076167076.\u001b[0m\n",
      "C:\\Users\\Lucas\\anaconda3\\lib\\site-packages\\optuna\\trial\\_trial.py:772: RuntimeWarning: Inconsistent parameter values for distribution with name \"min_child_weight\"! This might be a configuration mistake. Optuna allows to call the same distribution with the same name more then once in a trial. When the parameter values are inconsistent optuna only uses the values of the first call and ignores all following. Using these values: {'low': 0.0, 'high': 10.0}\n",
      "  warnings.warn(\n",
      "\u001b[32m[I 2022-05-29 22:51:24,636]\u001b[0m Trial 281 finished with value: 0.8495085995085995 and parameters: {'booster': 'gbtree', 'lambda': 1.2707289955141322e-05, 'alpha': 1.79200039440189e-07, 'learning_rate': 0.9151060493716825, 'gamma': 30.371353604705394, 'n_estimators': 13, 'max_depth': 9, 'min_child_weight': 0.682191436149421}. Best is trial 204 with value: 0.8576167076167076.\u001b[0m\n",
      "C:\\Users\\Lucas\\anaconda3\\lib\\site-packages\\optuna\\trial\\_trial.py:772: RuntimeWarning: Inconsistent parameter values for distribution with name \"min_child_weight\"! This might be a configuration mistake. Optuna allows to call the same distribution with the same name more then once in a trial. When the parameter values are inconsistent optuna only uses the values of the first call and ignores all following. Using these values: {'low': 0.0, 'high': 10.0}\n",
      "  warnings.warn(\n",
      "\u001b[32m[I 2022-05-29 22:51:24,726]\u001b[0m Trial 282 finished with value: 0.7379606879606879 and parameters: {'booster': 'gbtree', 'lambda': 0.00010220206522677406, 'alpha': 6.24596468130216e-08, 'learning_rate': 0.99770686435001, 'gamma': 4.541181597740259, 'n_estimators': 101, 'max_depth': 9, 'min_child_weight': 5.423305123286435}. Best is trial 204 with value: 0.8576167076167076.\u001b[0m\n",
      "C:\\Users\\Lucas\\anaconda3\\lib\\site-packages\\optuna\\trial\\_trial.py:772: RuntimeWarning: Inconsistent parameter values for distribution with name \"min_child_weight\"! This might be a configuration mistake. Optuna allows to call the same distribution with the same name more then once in a trial. When the parameter values are inconsistent optuna only uses the values of the first call and ignores all following. Using these values: {'low': 0.0, 'high': 10.0}\n",
      "  warnings.warn(\n",
      "\u001b[32m[I 2022-05-29 22:51:24,817]\u001b[0m Trial 283 finished with value: 0.8461916461916462 and parameters: {'booster': 'gbtree', 'lambda': 3.519929379569679e-05, 'alpha': 1.3605708605948523e-08, 'learning_rate': 0.8284389272772937, 'gamma': 0.005146917054431455, 'n_estimators': 86, 'max_depth': 9, 'min_child_weight': 1.5403316504180735}. Best is trial 204 with value: 0.8576167076167076.\u001b[0m\n",
      "C:\\Users\\Lucas\\anaconda3\\lib\\site-packages\\optuna\\trial\\_trial.py:772: RuntimeWarning: Inconsistent parameter values for distribution with name \"min_child_weight\"! This might be a configuration mistake. Optuna allows to call the same distribution with the same name more then once in a trial. When the parameter values are inconsistent optuna only uses the values of the first call and ignores all following. Using these values: {'low': 0.0, 'high': 10.0}\n",
      "  warnings.warn(\n",
      "\u001b[32m[I 2022-05-29 22:51:24,883]\u001b[0m Trial 284 finished with value: 0.7090909090909091 and parameters: {'booster': 'gbtree', 'lambda': 3.1718331245320415e-06, 'alpha': 2.2178806930912817e-08, 'learning_rate': 0.9082004782422793, 'gamma': 8.903118789741255, 'n_estimators': 51, 'max_depth': 4, 'min_child_weight': 7.090858780646965}. Best is trial 204 with value: 0.8576167076167076.\u001b[0m\n",
      "C:\\Users\\Lucas\\anaconda3\\lib\\site-packages\\optuna\\trial\\_trial.py:772: RuntimeWarning: Inconsistent parameter values for distribution with name \"min_child_weight\"! This might be a configuration mistake. Optuna allows to call the same distribution with the same name more then once in a trial. When the parameter values are inconsistent optuna only uses the values of the first call and ignores all following. Using these values: {'low': 0.0, 'high': 10.0}\n",
      "  warnings.warn(\n",
      "\u001b[32m[I 2022-05-29 22:51:24,975]\u001b[0m Trial 285 finished with value: 0.855036855036855 and parameters: {'booster': 'gbtree', 'lambda': 5.273387571723418e-07, 'alpha': 4.5351934554254553e-08, 'learning_rate': 0.8052248509338761, 'gamma': 12.49251865713052, 'n_estimators': 76, 'max_depth': 9, 'min_child_weight': 1.1580942657148334}. Best is trial 204 with value: 0.8576167076167076.\u001b[0m\n",
      "C:\\Users\\Lucas\\anaconda3\\lib\\site-packages\\optuna\\trial\\_trial.py:772: RuntimeWarning: Inconsistent parameter values for distribution with name \"min_child_weight\"! This might be a configuration mistake. Optuna allows to call the same distribution with the same name more then once in a trial. When the parameter values are inconsistent optuna only uses the values of the first call and ignores all following. Using these values: {'low': 0.0, 'high': 10.0}\n",
      "  warnings.warn(\n",
      "\u001b[32m[I 2022-05-29 22:51:25,064]\u001b[0m Trial 286 finished with value: 0.8562653562653563 and parameters: {'booster': 'gbtree', 'lambda': 6.180168625005587e-06, 'alpha': 9.979851858269415e-08, 'learning_rate': 0.895537413574081, 'gamma': 6.520480347448183, 'n_estimators': 129, 'max_depth': 9, 'min_child_weight': 0.9861081501237414}. Best is trial 204 with value: 0.8576167076167076.\u001b[0m\n",
      "C:\\Users\\Lucas\\anaconda3\\lib\\site-packages\\optuna\\trial\\_trial.py:772: RuntimeWarning: Inconsistent parameter values for distribution with name \"min_child_weight\"! This might be a configuration mistake. Optuna allows to call the same distribution with the same name more then once in a trial. When the parameter values are inconsistent optuna only uses the values of the first call and ignores all following. Using these values: {'low': 0.0, 'high': 10.0}\n",
      "  warnings.warn(\n",
      "\u001b[32m[I 2022-05-29 22:51:25,155]\u001b[0m Trial 287 finished with value: 0.8556511056511057 and parameters: {'booster': 'gbtree', 'lambda': 8.230268234794156e-06, 'alpha': 1.211991658841225e-07, 'learning_rate': 0.9996385491220294, 'gamma': 6.538945411921816, 'n_estimators': 137, 'max_depth': 9, 'min_child_weight': 0.943755952910354}. Best is trial 204 with value: 0.8576167076167076.\u001b[0m\n",
      "C:\\Users\\Lucas\\anaconda3\\lib\\site-packages\\optuna\\trial\\_trial.py:772: RuntimeWarning: Inconsistent parameter values for distribution with name \"min_child_weight\"! This might be a configuration mistake. Optuna allows to call the same distribution with the same name more then once in a trial. When the parameter values are inconsistent optuna only uses the values of the first call and ignores all following. Using these values: {'low': 0.0, 'high': 10.0}\n",
      "  warnings.warn(\n",
      "\u001b[32m[I 2022-05-29 22:51:25,251]\u001b[0m Trial 288 finished with value: 0.8372235872235873 and parameters: {'booster': 'gbtree', 'lambda': 1.356760475751838e-05, 'alpha': 8.556356756530012e-08, 'learning_rate': 0.040699224961360594, 'gamma': 5.810756016428492, 'n_estimators': 164, 'max_depth': 9, 'min_child_weight': 0.5043574715940938}. Best is trial 204 with value: 0.8576167076167076.\u001b[0m\n",
      "C:\\Users\\Lucas\\anaconda3\\lib\\site-packages\\optuna\\trial\\_trial.py:772: RuntimeWarning: Inconsistent parameter values for distribution with name \"min_child_weight\"! This might be a configuration mistake. Optuna allows to call the same distribution with the same name more then once in a trial. When the parameter values are inconsistent optuna only uses the values of the first call and ignores all following. Using these values: {'low': 0.0, 'high': 10.0}\n",
      "  warnings.warn(\n"
     ]
    },
    {
     "name": "stderr",
     "output_type": "stream",
     "text": [
      "\u001b[32m[I 2022-05-29 22:51:25,337]\u001b[0m Trial 289 finished with value: 0.8547911547911548 and parameters: {'booster': 'gbtree', 'lambda': 0.0006448296548658331, 'alpha': 1.1713314005173913e-07, 'learning_rate': 0.9041963280893731, 'gamma': 11.138655646640412, 'n_estimators': 128, 'max_depth': 8, 'min_child_weight': 1.0867122692799076}. Best is trial 204 with value: 0.8576167076167076.\u001b[0m\n",
      "C:\\Users\\Lucas\\anaconda3\\lib\\site-packages\\optuna\\trial\\_trial.py:772: RuntimeWarning: Inconsistent parameter values for distribution with name \"min_child_weight\"! This might be a configuration mistake. Optuna allows to call the same distribution with the same name more then once in a trial. When the parameter values are inconsistent optuna only uses the values of the first call and ignores all following. Using these values: {'low': 0.0, 'high': 10.0}\n",
      "  warnings.warn(\n",
      "\u001b[32m[I 2022-05-29 22:51:25,427]\u001b[0m Trial 290 finished with value: 0.8528255528255528 and parameters: {'booster': 'gbtree', 'lambda': 5.275562581425577e-06, 'alpha': 6.171785523210402e-08, 'learning_rate': 0.8844622854077391, 'gamma': 3.517298007621053, 'n_estimators': 115, 'max_depth': 9, 'min_child_weight': 0.7596713822069163}. Best is trial 204 with value: 0.8576167076167076.\u001b[0m\n",
      "C:\\Users\\Lucas\\anaconda3\\lib\\site-packages\\optuna\\trial\\_trial.py:772: RuntimeWarning: Inconsistent parameter values for distribution with name \"min_child_weight\"! This might be a configuration mistake. Optuna allows to call the same distribution with the same name more then once in a trial. When the parameter values are inconsistent optuna only uses the values of the first call and ignores all following. Using these values: {'low': 0.0, 'high': 10.0}\n",
      "  warnings.warn(\n",
      "\u001b[32m[I 2022-05-29 22:51:25,517]\u001b[0m Trial 291 finished with value: 0.8517199017199018 and parameters: {'booster': 'gbtree', 'lambda': 3.325932674354705e-08, 'alpha': 1.058433500801323e-07, 'learning_rate': 0.9985357875404417, 'gamma': 5.340939917041933, 'n_estimators': 96, 'max_depth': 9, 'min_child_weight': 1.3114555205992453}. Best is trial 204 with value: 0.8576167076167076.\u001b[0m\n",
      "C:\\Users\\Lucas\\anaconda3\\lib\\site-packages\\optuna\\trial\\_trial.py:772: RuntimeWarning: Inconsistent parameter values for distribution with name \"min_child_weight\"! This might be a configuration mistake. Optuna allows to call the same distribution with the same name more then once in a trial. When the parameter values are inconsistent optuna only uses the values of the first call and ignores all following. Using these values: {'low': 0.0, 'high': 10.0}\n",
      "  warnings.warn(\n",
      "\u001b[32m[I 2022-05-29 22:51:25,605]\u001b[0m Trial 292 finished with value: 0.8549140049140049 and parameters: {'booster': 'gbtree', 'lambda': 2.799646406534886e-07, 'alpha': 2.017876064824028e-07, 'learning_rate': 0.8339023823781767, 'gamma': 8.848781550920418, 'n_estimators': 211, 'max_depth': 9, 'min_child_weight': 0.9391333107962655}. Best is trial 204 with value: 0.8576167076167076.\u001b[0m\n",
      "C:\\Users\\Lucas\\anaconda3\\lib\\site-packages\\optuna\\trial\\_trial.py:772: RuntimeWarning: Inconsistent parameter values for distribution with name \"min_child_weight\"! This might be a configuration mistake. Optuna allows to call the same distribution with the same name more then once in a trial. When the parameter values are inconsistent optuna only uses the values of the first call and ignores all following. Using these values: {'low': 0.0, 'high': 10.0}\n",
      "  warnings.warn(\n",
      "\u001b[32m[I 2022-05-29 22:51:25,701]\u001b[0m Trial 293 finished with value: 0.8439803439803439 and parameters: {'booster': 'gbtree', 'lambda': 1.7560652643958115e-06, 'alpha': 5.562768251986962e-08, 'learning_rate': 0.9171621902992647, 'gamma': 16.26758501891763, 'n_estimators': 182, 'max_depth': 10, 'min_child_weight': 1.5532015221998785}. Best is trial 204 with value: 0.8576167076167076.\u001b[0m\n",
      "C:\\Users\\Lucas\\anaconda3\\lib\\site-packages\\optuna\\trial\\_trial.py:772: RuntimeWarning: Inconsistent parameter values for distribution with name \"min_child_weight\"! This might be a configuration mistake. Optuna allows to call the same distribution with the same name more then once in a trial. When the parameter values are inconsistent optuna only uses the values of the first call and ignores all following. Using these values: {'low': 0.0, 'high': 10.0}\n",
      "  warnings.warn(\n",
      "\u001b[32m[I 2022-05-29 22:51:25,792]\u001b[0m Trial 294 finished with value: 0.855036855036855 and parameters: {'booster': 'gbtree', 'lambda': 1.054986848209769e-05, 'alpha': 1.4452562959916433e-07, 'learning_rate': 0.7978323541103476, 'gamma': 4.271435699893269, 'n_estimators': 125, 'max_depth': 9, 'min_child_weight': 0.6358055760445829}. Best is trial 204 with value: 0.8576167076167076.\u001b[0m\n",
      "C:\\Users\\Lucas\\anaconda3\\lib\\site-packages\\optuna\\trial\\_trial.py:772: RuntimeWarning: Inconsistent parameter values for distribution with name \"min_child_weight\"! This might be a configuration mistake. Optuna allows to call the same distribution with the same name more then once in a trial. When the parameter values are inconsistent optuna only uses the values of the first call and ignores all following. Using these values: {'low': 0.0, 'high': 10.0}\n",
      "  warnings.warn(\n",
      "\u001b[32m[I 2022-05-29 22:51:25,879]\u001b[0m Trial 295 finished with value: 0.6931203931203931 and parameters: {'booster': 'gbtree', 'lambda': 1.4784488168010615e-08, 'alpha': 7.405114330545197e-08, 'learning_rate': 0.8636388988881953, 'gamma': 6.213428155791516, 'n_estimators': 38, 'max_depth': 9, 'min_child_weight': 7.597648276815128}. Best is trial 204 with value: 0.8576167076167076.\u001b[0m\n",
      "C:\\Users\\Lucas\\anaconda3\\lib\\site-packages\\optuna\\trial\\_trial.py:772: RuntimeWarning: Inconsistent parameter values for distribution with name \"min_child_weight\"! This might be a configuration mistake. Optuna allows to call the same distribution with the same name more then once in a trial. When the parameter values are inconsistent optuna only uses the values of the first call and ignores all following. Using these values: {'low': 0.0, 'high': 10.0}\n",
      "  warnings.warn(\n",
      "\u001b[32m[I 2022-05-29 22:51:25,967]\u001b[0m Trial 296 finished with value: 0.8533169533169533 and parameters: {'booster': 'gbtree', 'lambda': 0.10322820726804706, 'alpha': 3.334269771486415e-08, 'learning_rate': 0.9158663271201367, 'gamma': 2.295923434241456, 'n_estimators': 64, 'max_depth': 9, 'min_child_weight': 1.1066089283754919}. Best is trial 204 with value: 0.8576167076167076.\u001b[0m\n",
      "C:\\Users\\Lucas\\anaconda3\\lib\\site-packages\\optuna\\trial\\_trial.py:772: RuntimeWarning: Inconsistent parameter values for distribution with name \"min_child_weight\"! This might be a configuration mistake. Optuna allows to call the same distribution with the same name more then once in a trial. When the parameter values are inconsistent optuna only uses the values of the first call and ignores all following. Using these values: {'low': 0.0, 'high': 10.0}\n",
      "  warnings.warn(\n",
      "\u001b[32m[I 2022-05-29 22:51:26,060]\u001b[0m Trial 297 finished with value: 0.8364864864864865 and parameters: {'booster': 'gbtree', 'lambda': 2.289433733806415e-05, 'alpha': 1.005002795051511e-07, 'learning_rate': 0.7885169713688719, 'gamma': 10.920547207918395, 'n_estimators': 147, 'max_depth': 9, 'min_child_weight': 0.37387985523714884}. Best is trial 204 with value: 0.8576167076167076.\u001b[0m\n",
      "C:\\Users\\Lucas\\anaconda3\\lib\\site-packages\\optuna\\trial\\_trial.py:772: RuntimeWarning: Inconsistent parameter values for distribution with name \"min_child_weight\"! This might be a configuration mistake. Optuna allows to call the same distribution with the same name more then once in a trial. When the parameter values are inconsistent optuna only uses the values of the first call and ignores all following. Using these values: {'low': 0.0, 'high': 10.0}\n",
      "  warnings.warn(\n",
      "\u001b[32m[I 2022-05-29 22:51:26,120]\u001b[0m Trial 298 finished with value: 0.8261670761670762 and parameters: {'booster': 'gblinear', 'lambda': 1.3303018115862166e-06, 'alpha': 1.0241441449251171e-08, 'learning_rate': 0.7332474357488002, 'gamma': 7.321614361151797, 'n_estimators': 104, 'max_depth': 8, 'min_child_weight': 0.8314691059239065}. Best is trial 204 with value: 0.8576167076167076.\u001b[0m\n",
      "C:\\Users\\Lucas\\anaconda3\\lib\\site-packages\\optuna\\trial\\_trial.py:772: RuntimeWarning: Inconsistent parameter values for distribution with name \"min_child_weight\"! This might be a configuration mistake. Optuna allows to call the same distribution with the same name more then once in a trial. When the parameter values are inconsistent optuna only uses the values of the first call and ignores all following. Using these values: {'low': 0.0, 'high': 10.0}\n",
      "  warnings.warn(\n"
     ]
    },
    {
     "name": "stderr",
     "output_type": "stream",
     "text": [
      "\u001b[32m[I 2022-05-29 22:51:26,216]\u001b[0m Trial 299 finished with value: 0.8518427518427518 and parameters: {'booster': 'gbtree', 'lambda': 3.4283751802639035e-06, 'alpha': 2.1497098770850074e-07, 'learning_rate': 0.8540102746760672, 'gamma': 3.555592665266031, 'n_estimators': 10, 'max_depth': 9, 'min_child_weight': 1.343698639349039}. Best is trial 204 with value: 0.8576167076167076.\u001b[0m\n"
     ]
    },
    {
     "name": "stdout",
     "output_type": "stream",
     "text": [
      "train_score=0.8544635544635545\n"
     ]
    }
   ],
   "source": [
    "acc_opt_booster = make_booster(optimize_params(objective_accuracy))"
   ]
  },
  {
   "cell_type": "code",
   "execution_count": 184,
   "id": "02fea162",
   "metadata": {},
   "outputs": [
    {
     "data": {
      "text/html": [
       "<style>#sk-container-id-9 {color: black;background-color: white;}#sk-container-id-9 pre{padding: 0;}#sk-container-id-9 div.sk-toggleable {background-color: white;}#sk-container-id-9 label.sk-toggleable__label {cursor: pointer;display: block;width: 100%;margin-bottom: 0;padding: 0.3em;box-sizing: border-box;text-align: center;}#sk-container-id-9 label.sk-toggleable__label-arrow:before {content: \"▸\";float: left;margin-right: 0.25em;color: #696969;}#sk-container-id-9 label.sk-toggleable__label-arrow:hover:before {color: black;}#sk-container-id-9 div.sk-estimator:hover label.sk-toggleable__label-arrow:before {color: black;}#sk-container-id-9 div.sk-toggleable__content {max-height: 0;max-width: 0;overflow: hidden;text-align: left;background-color: #f0f8ff;}#sk-container-id-9 div.sk-toggleable__content pre {margin: 0.2em;color: black;border-radius: 0.25em;background-color: #f0f8ff;}#sk-container-id-9 input.sk-toggleable__control:checked~div.sk-toggleable__content {max-height: 200px;max-width: 100%;overflow: auto;}#sk-container-id-9 input.sk-toggleable__control:checked~label.sk-toggleable__label-arrow:before {content: \"▾\";}#sk-container-id-9 div.sk-estimator input.sk-toggleable__control:checked~label.sk-toggleable__label {background-color: #d4ebff;}#sk-container-id-9 div.sk-label input.sk-toggleable__control:checked~label.sk-toggleable__label {background-color: #d4ebff;}#sk-container-id-9 input.sk-hidden--visually {border: 0;clip: rect(1px 1px 1px 1px);clip: rect(1px, 1px, 1px, 1px);height: 1px;margin: -1px;overflow: hidden;padding: 0;position: absolute;width: 1px;}#sk-container-id-9 div.sk-estimator {font-family: monospace;background-color: #f0f8ff;border: 1px dotted black;border-radius: 0.25em;box-sizing: border-box;margin-bottom: 0.5em;}#sk-container-id-9 div.sk-estimator:hover {background-color: #d4ebff;}#sk-container-id-9 div.sk-parallel-item::after {content: \"\";width: 100%;border-bottom: 1px solid gray;flex-grow: 1;}#sk-container-id-9 div.sk-label:hover label.sk-toggleable__label {background-color: #d4ebff;}#sk-container-id-9 div.sk-serial::before {content: \"\";position: absolute;border-left: 1px solid gray;box-sizing: border-box;top: 0;bottom: 0;left: 50%;z-index: 0;}#sk-container-id-9 div.sk-serial {display: flex;flex-direction: column;align-items: center;background-color: white;padding-right: 0.2em;padding-left: 0.2em;position: relative;}#sk-container-id-9 div.sk-item {position: relative;z-index: 1;}#sk-container-id-9 div.sk-parallel {display: flex;align-items: stretch;justify-content: center;background-color: white;position: relative;}#sk-container-id-9 div.sk-item::before, #sk-container-id-9 div.sk-parallel-item::before {content: \"\";position: absolute;border-left: 1px solid gray;box-sizing: border-box;top: 0;bottom: 0;left: 50%;z-index: -1;}#sk-container-id-9 div.sk-parallel-item {display: flex;flex-direction: column;z-index: 1;position: relative;background-color: white;}#sk-container-id-9 div.sk-parallel-item:first-child::after {align-self: flex-end;width: 50%;}#sk-container-id-9 div.sk-parallel-item:last-child::after {align-self: flex-start;width: 50%;}#sk-container-id-9 div.sk-parallel-item:only-child::after {width: 0;}#sk-container-id-9 div.sk-dashed-wrapped {border: 1px dashed gray;margin: 0 0.4em 0.5em 0.4em;box-sizing: border-box;padding-bottom: 0.4em;background-color: white;}#sk-container-id-9 div.sk-label label {font-family: monospace;font-weight: bold;display: inline-block;line-height: 1.2em;}#sk-container-id-9 div.sk-label-container {text-align: center;}#sk-container-id-9 div.sk-container {/* jupyter's `normalize.less` sets `[hidden] { display: none; }` but bootstrap.min.css set `[hidden] { display: none !important; }` so we also need the `!important` here to be able to override the default hidden behavior on the sphinx rendered scikit-learn.org. See: https://github.com/scikit-learn/scikit-learn/issues/21755 */display: inline-block !important;position: relative;}#sk-container-id-9 div.sk-text-repr-fallback {display: none;}</style><div id=\"sk-container-id-9\" class=\"sk-top-container\"><div class=\"sk-text-repr-fallback\"><pre>XGBClassifier(alpha=4.106228642077862e-08, base_score=0.5, booster=&#x27;gbtree&#x27;,\n",
       "              callbacks=None, colsample_bylevel=1, colsample_bynode=1,\n",
       "              colsample_bytree=1, early_stopping_rounds=None,\n",
       "              enable_categorical=False, eval_metric=None,\n",
       "              gamma=5.605279390874427, gpu_id=-1, grow_policy=&#x27;depthwise&#x27;,\n",
       "              importance_type=None, interaction_constraints=&#x27;&#x27;,\n",
       "              lambda=0.15035296866251563, learning_rate=0.8488459925814333,\n",
       "              max_bin=256, max_cat_to_onehot=4, max_delta_step=0, max_depth=9,\n",
       "              max_leaves=0, min_child_weight=0.9982121205733772, missing=nan,\n",
       "              monotone_constraints=&#x27;()&#x27;, n_estimators=78, n_jobs=0,\n",
       "              num_parallel_tree=1, predictor=&#x27;auto&#x27;, random_state=0, ...)</pre><b>In a Jupyter environment, please rerun this cell to show the HTML representation or trust the notebook. <br />On GitHub, the HTML representation is unable to render, please try loading this page with nbviewer.org.</b></div><div class=\"sk-container\" hidden><div class=\"sk-item\"><div class=\"sk-estimator sk-toggleable\"><input class=\"sk-toggleable__control sk-hidden--visually\" id=\"sk-estimator-id-9\" type=\"checkbox\" checked><label for=\"sk-estimator-id-9\" class=\"sk-toggleable__label sk-toggleable__label-arrow\">XGBClassifier</label><div class=\"sk-toggleable__content\"><pre>XGBClassifier(alpha=4.106228642077862e-08, base_score=0.5, booster=&#x27;gbtree&#x27;,\n",
       "              callbacks=None, colsample_bylevel=1, colsample_bynode=1,\n",
       "              colsample_bytree=1, early_stopping_rounds=None,\n",
       "              enable_categorical=False, eval_metric=None,\n",
       "              gamma=5.605279390874427, gpu_id=-1, grow_policy=&#x27;depthwise&#x27;,\n",
       "              importance_type=None, interaction_constraints=&#x27;&#x27;,\n",
       "              lambda=0.15035296866251563, learning_rate=0.8488459925814333,\n",
       "              max_bin=256, max_cat_to_onehot=4, max_delta_step=0, max_depth=9,\n",
       "              max_leaves=0, min_child_weight=0.9982121205733772, missing=nan,\n",
       "              monotone_constraints=&#x27;()&#x27;, n_estimators=78, n_jobs=0,\n",
       "              num_parallel_tree=1, predictor=&#x27;auto&#x27;, random_state=0, ...)</pre></div></div></div></div></div>"
      ],
      "text/plain": [
       "XGBClassifier(alpha=4.106228642077862e-08, base_score=0.5, booster='gbtree',\n",
       "              callbacks=None, colsample_bylevel=1, colsample_bynode=1,\n",
       "              colsample_bytree=1, early_stopping_rounds=None,\n",
       "              enable_categorical=False, eval_metric=None,\n",
       "              gamma=5.605279390874427, gpu_id=-1, grow_policy='depthwise',\n",
       "              importance_type=None, interaction_constraints='',\n",
       "              lambda=0.15035296866251563, learning_rate=0.8488459925814333,\n",
       "              max_bin=256, max_cat_to_onehot=4, max_delta_step=0, max_depth=9,\n",
       "              max_leaves=0, min_child_weight=0.9982121205733772, missing=nan,\n",
       "              monotone_constraints='()', n_estimators=78, n_jobs=0,\n",
       "              num_parallel_tree=1, predictor='auto', random_state=0, ...)"
      ]
     },
     "execution_count": 184,
     "metadata": {},
     "output_type": "execute_result"
    }
   ],
   "source": [
    "acc_opt_booster"
   ]
  },
  {
   "cell_type": "code",
   "execution_count": 185,
   "id": "354c4a08",
   "metadata": {},
   "outputs": [
    {
     "name": "stdout",
     "output_type": "stream",
     "text": [
      "XGBClassifier(alpha=4.106228642077862e-08, base_score=0.5, booster='gbtree',\n",
      "              callbacks=None, colsample_bylevel=1, colsample_bynode=1,\n",
      "              colsample_bytree=1, early_stopping_rounds=None,\n",
      "              enable_categorical=False, eval_metric=None,\n",
      "              gamma=5.605279390874427, gpu_id=-1, grow_policy='depthwise',\n",
      "              importance_type=None, interaction_constraints='',\n",
      "              lambda=0.15035296866251563, learning_rate=0.8488459925814333,\n",
      "              max_bin=256, max_cat_to_onehot=4, max_delta_step=0, max_depth=9,\n",
      "              max_leaves=0, min_child_weight=0.9982121205733772, missing=nan,\n",
      "              monotone_constraints='()', n_estimators=78, n_jobs=0,\n",
      "              num_parallel_tree=1, predictor='auto', random_state=0, ...) ->\n",
      "AUC: 0.8921\n",
      "Accuracy: 0.8557\n",
      "Precision: 0.7733\n",
      "recall: 0.5512\n",
      "F1: 0.6436\n",
      "\n"
     ]
    },
    {
     "data": {
      "text/plain": [
       "<sklearn.metrics._plot.confusion_matrix.ConfusionMatrixDisplay at 0x2564a45d0a0>"
      ]
     },
     "metadata": {},
     "output_type": "display_data"
    },
    {
     "name": "stderr",
     "output_type": "stream",
     "text": [
      "C:\\Users\\Lucas\\AppData\\Local\\Temp\\ipykernel_30076\\1940732585.py:1: FutureWarning: The frame.append method is deprecated and will be removed from pandas in a future version. Use pandas.concat instead.\n",
      "  res_df = res_df.append(pd.DataFrame(data=print_cv_metrics(acc_opt_booster), index=['XGB optimized for accuracy']))\n"
     ]
    },
    {
     "data": {
      "image/png": "[encoded data removed]",
      "text/plain": [
       "<Figure size 432x288 with 2 Axes>"
      ]
     },
     "metadata": {
      "needs_background": "light"
     },
     "output_type": "display_data"
    }
   ],
   "source": [
    "res_df = res_df.append(pd.DataFrame(data=print_cv_metrics(acc_opt_booster), index=['XGB optimized for accuracy']))"
   ]
  },
  {
   "cell_type": "code",
   "execution_count": 186,
   "id": "42c530bd",
   "metadata": {},
   "outputs": [
    {
     "name": "stderr",
     "output_type": "stream",
     "text": [
      "\u001b[32m[I 2022-05-29 22:51:56,321]\u001b[0m A new study created in memory with name: no-name-2de7bf98-5916-43e8-81c3-bc7fa87a7606\u001b[0m\n",
      "C:\\Users\\Lucas\\anaconda3\\lib\\site-packages\\optuna\\trial\\_trial.py:772: RuntimeWarning: Inconsistent parameter values for distribution with name \"min_child_weight\"! This might be a configuration mistake. Optuna allows to call the same distribution with the same name more then once in a trial. When the parameter values are inconsistent optuna only uses the values of the first call and ignores all following. Using these values: {'low': 0.0, 'high': 10.0}\n",
      "  warnings.warn(\n",
      "\u001b[32m[I 2022-05-29 22:51:56,347]\u001b[0m Trial 0 finished with value: 0.5006134969325153 and parameters: {'booster': 'gblinear', 'lambda': 3.8912220307700976e-06, 'alpha': 2.1706929092369829e-07, 'learning_rate': 0.29383434819015775, 'gamma': 0.17176503893215875, 'n_estimators': 684, 'max_depth': 4, 'min_child_weight': 9.578909317247284}. Best is trial 0 with value: 0.5006134969325153.\u001b[0m\n",
      "C:\\Users\\Lucas\\anaconda3\\lib\\site-packages\\optuna\\trial\\_trial.py:772: RuntimeWarning: Inconsistent parameter values for distribution with name \"min_child_weight\"! This might be a configuration mistake. Optuna allows to call the same distribution with the same name more then once in a trial. When the parameter values are inconsistent optuna only uses the values of the first call and ignores all following. Using these values: {'low': 0.0, 'high': 10.0}\n",
      "  warnings.warn(\n",
      "\u001b[32m[I 2022-05-29 22:51:56,385]\u001b[0m Trial 1 finished with value: 0.611289746337978 and parameters: {'booster': 'gbtree', 'lambda': 1.3434823171176583e-08, 'alpha': 5.798368177874645e-07, 'learning_rate': 0.8576795175982305, 'gamma': 0.00109121284574515, 'n_estimators': 571, 'max_depth': 5, 'min_child_weight': 5.413914182193561}. Best is trial 1 with value: 0.611289746337978.\u001b[0m\n",
      "C:\\Users\\Lucas\\anaconda3\\lib\\site-packages\\optuna\\trial\\_trial.py:772: RuntimeWarning: Inconsistent parameter values for distribution with name \"min_child_weight\"! This might be a configuration mistake. Optuna allows to call the same distribution with the same name more then once in a trial. When the parameter values are inconsistent optuna only uses the values of the first call and ignores all following. Using these values: {'low': 0.0, 'high': 10.0}\n",
      "  warnings.warn(\n",
      "\u001b[32m[I 2022-05-29 22:51:56,446]\u001b[0m Trial 2 finished with value: 0.5969569439948204 and parameters: {'booster': 'gbtree', 'lambda': 0.013900959309949714, 'alpha': 0.00012684537868481993, 'learning_rate': 0.06595056357961163, 'gamma': 14.92289312577184, 'n_estimators': 448, 'max_depth': 9, 'min_child_weight': 0.8481590784674675}. Best is trial 1 with value: 0.611289746337978.\u001b[0m\n",
      "C:\\Users\\Lucas\\anaconda3\\lib\\site-packages\\optuna\\trial\\_trial.py:772: RuntimeWarning: Inconsistent parameter values for distribution with name \"min_child_weight\"! This might be a configuration mistake. Optuna allows to call the same distribution with the same name more then once in a trial. When the parameter values are inconsistent optuna only uses the values of the first call and ignores all following. Using these values: {'low': 0.0, 'high': 10.0}\n",
      "  warnings.warn(\n",
      "\u001b[32m[I 2022-05-29 22:51:56,471]\u001b[0m Trial 3 finished with value: 0.4610244988864142 and parameters: {'booster': 'gblinear', 'lambda': 0.1759300252536423, 'alpha': 5.064967016577497e-06, 'learning_rate': 0.04420335219095472, 'gamma': 0.0016216223602650475, 'n_estimators': 877, 'max_depth': 4, 'min_child_weight': 8.164578915034294}. Best is trial 1 with value: 0.611289746337978.\u001b[0m\n",
      "C:\\Users\\Lucas\\anaconda3\\lib\\site-packages\\optuna\\trial\\_trial.py:772: RuntimeWarning: Inconsistent parameter values for distribution with name \"min_child_weight\"! This might be a configuration mistake. Optuna allows to call the same distribution with the same name more then once in a trial. When the parameter values are inconsistent optuna only uses the values of the first call and ignores all following. Using these values: {'low': 0.0, 'high': 10.0}\n",
      "  warnings.warn(\n",
      "\u001b[32m[I 2022-05-29 22:51:56,496]\u001b[0m Trial 4 finished with value: 0.5231932528718919 and parameters: {'booster': 'gblinear', 'lambda': 0.18917491741828857, 'alpha': 4.166894389894649e-06, 'learning_rate': 0.2506967472630492, 'gamma': 0.0005530138763389645, 'n_estimators': 267, 'max_depth': 9, 'min_child_weight': 5.724923477033974}. Best is trial 1 with value: 0.611289746337978.\u001b[0m\n",
      "C:\\Users\\Lucas\\anaconda3\\lib\\site-packages\\optuna\\trial\\_trial.py:772: RuntimeWarning: Inconsistent parameter values for distribution with name \"min_child_weight\"! This might be a configuration mistake. Optuna allows to call the same distribution with the same name more then once in a trial. When the parameter values are inconsistent optuna only uses the values of the first call and ignores all following. Using these values: {'low': 0.0, 'high': 10.0}\n",
      "  warnings.warn(\n",
      "\u001b[32m[I 2022-05-29 22:51:56,560]\u001b[0m Trial 5 finished with value: 0.6447517569712083 and parameters: {'booster': 'gbtree', 'lambda': 0.0026639010894435105, 'alpha': 2.143061295396829e-08, 'learning_rate': 0.03108647196591917, 'gamma': 0.0035210533644348192, 'n_estimators': 557, 'max_depth': 9, 'min_child_weight': 2.425481773171627}. Best is trial 5 with value: 0.6447517569712083.\u001b[0m\n",
      "C:\\Users\\Lucas\\anaconda3\\lib\\site-packages\\optuna\\trial\\_trial.py:772: RuntimeWarning: Inconsistent parameter values for distribution with name \"min_child_weight\"! This might be a configuration mistake. Optuna allows to call the same distribution with the same name more then once in a trial. When the parameter values are inconsistent optuna only uses the values of the first call and ignores all following. Using these values: {'low': 0.0, 'high': 10.0}\n",
      "  warnings.warn(\n",
      "\u001b[32m[I 2022-05-29 22:51:56,585]\u001b[0m Trial 6 finished with value: 0.5587071240105541 and parameters: {'booster': 'gblinear', 'lambda': 2.3318907033331513e-08, 'alpha': 8.313857258303752e-05, 'learning_rate': 0.10527352139209674, 'gamma': 0.3929325701956094, 'n_estimators': 118, 'max_depth': 9, 'min_child_weight': 3.9377215799745513}. Best is trial 5 with value: 0.6447517569712083.\u001b[0m\n",
      "C:\\Users\\Lucas\\anaconda3\\lib\\site-packages\\optuna\\trial\\_trial.py:772: RuntimeWarning: Inconsistent parameter values for distribution with name \"min_child_weight\"! This might be a configuration mistake. Optuna allows to call the same distribution with the same name more then once in a trial. When the parameter values are inconsistent optuna only uses the values of the first call and ignores all following. Using these values: {'low': 0.0, 'high': 10.0}\n",
      "  warnings.warn(\n",
      "\u001b[32m[I 2022-05-29 22:51:56,610]\u001b[0m Trial 7 finished with value: 0.48033233805011033 and parameters: {'booster': 'gblinear', 'lambda': 0.00228845005859557, 'alpha': 1.294407678711026e-05, 'learning_rate': 0.0855295299739866, 'gamma': 6.282889545165462, 'n_estimators': 210, 'max_depth': 9, 'min_child_weight': 8.718470660878642}. Best is trial 5 with value: 0.6447517569712083.\u001b[0m\n",
      "C:\\Users\\Lucas\\anaconda3\\lib\\site-packages\\optuna\\trial\\_trial.py:772: RuntimeWarning: Inconsistent parameter values for distribution with name \"min_child_weight\"! This might be a configuration mistake. Optuna allows to call the same distribution with the same name more then once in a trial. When the parameter values are inconsistent optuna only uses the values of the first call and ignores all following. Using these values: {'low': 0.0, 'high': 10.0}\n",
      "  warnings.warn(\n",
      "\u001b[32m[I 2022-05-29 22:51:56,656]\u001b[0m Trial 8 finished with value: 0.5266771563438707 and parameters: {'booster': 'gbtree', 'lambda': 4.307263820853625e-05, 'alpha': 3.9766605950843463e-08, 'learning_rate': 0.14615813562579133, 'gamma': 0.005678984487203949, 'n_estimators': 98, 'max_depth': 6, 'min_child_weight': 9.743448105029545}. Best is trial 5 with value: 0.6447517569712083.\u001b[0m\n",
      "C:\\Users\\Lucas\\anaconda3\\lib\\site-packages\\optuna\\trial\\_trial.py:772: RuntimeWarning: Inconsistent parameter values for distribution with name \"min_child_weight\"! This might be a configuration mistake. Optuna allows to call the same distribution with the same name more then once in a trial. When the parameter values are inconsistent optuna only uses the values of the first call and ignores all following. Using these values: {'low': 0.0, 'high': 10.0}\n",
      "  warnings.warn(\n",
      "\u001b[32m[I 2022-05-29 22:51:56,689]\u001b[0m Trial 9 finished with value: 0.6193995381062355 and parameters: {'booster': 'gbtree', 'lambda': 2.5277324093240313e-07, 'alpha': 0.004017116573695914, 'learning_rate': 0.9128346071736083, 'gamma': 593.3876600587031, 'n_estimators': 960, 'max_depth': 4, 'min_child_weight': 2.7938674486312265}. Best is trial 5 with value: 0.6447517569712083.\u001b[0m\n"
     ]
    },
    {
     "name": "stderr",
     "output_type": "stream",
     "text": [
      "C:\\Users\\Lucas\\anaconda3\\lib\\site-packages\\optuna\\trial\\_trial.py:772: RuntimeWarning: Inconsistent parameter values for distribution with name \"min_child_weight\"! This might be a configuration mistake. Optuna allows to call the same distribution with the same name more then once in a trial. When the parameter values are inconsistent optuna only uses the values of the first call and ignores all following. Using these values: {'low': 0.0, 'high': 10.0}\n",
      "  warnings.warn(\n",
      "\u001b[32m[I 2022-05-29 22:51:56,740]\u001b[0m Trial 10 finished with value: 0.2995594713656388 and parameters: {'booster': 'dart', 'lambda': 0.0007251266808861495, 'alpha': 0.9531301369604607, 'learning_rate': 0.010826379427587882, 'gamma': 2.4630190448217855e-05, 'n_estimators': 740, 'max_depth': 1, 'min_child_weight': 0.04039836318830625}. Best is trial 5 with value: 0.6447517569712083.\u001b[0m\n",
      "C:\\Users\\Lucas\\anaconda3\\lib\\site-packages\\optuna\\trial\\_trial.py:772: RuntimeWarning: Inconsistent parameter values for distribution with name \"min_child_weight\"! This might be a configuration mistake. Optuna allows to call the same distribution with the same name more then once in a trial. When the parameter values are inconsistent optuna only uses the values of the first call and ignores all following. Using these values: {'low': 0.0, 'high': 10.0}\n",
      "  warnings.warn(\n",
      "\u001b[32m[I 2022-05-29 22:51:56,808]\u001b[0m Trial 11 finished with value: 0.5854712395355118 and parameters: {'booster': 'gbtree', 'lambda': 1.31187903129046e-06, 'alpha': 0.007820184449491849, 'learning_rate': 0.0159763663664326, 'gamma': 935.8090390675926, 'n_estimators': 948, 'max_depth': 7, 'min_child_weight': 2.5312395308135094}. Best is trial 5 with value: 0.6447517569712083.\u001b[0m\n",
      "C:\\Users\\Lucas\\anaconda3\\lib\\site-packages\\optuna\\trial\\_trial.py:772: RuntimeWarning: Inconsistent parameter values for distribution with name \"min_child_weight\"! This might be a configuration mistake. Optuna allows to call the same distribution with the same name more then once in a trial. When the parameter values are inconsistent optuna only uses the values of the first call and ignores all following. Using these values: {'low': 0.0, 'high': 10.0}\n",
      "  warnings.warn(\n",
      "\u001b[32m[I 2022-05-29 22:51:56,853]\u001b[0m Trial 12 finished with value: 0.5898692810457516 and parameters: {'booster': 'gbtree', 'lambda': 1.0272132819999e-06, 'alpha': 0.0037896580559023964, 'learning_rate': 0.029712912519958966, 'gamma': 459.1585723511126, 'n_estimators': 461, 'max_depth': 2, 'min_child_weight': 2.3121513011164447}. Best is trial 5 with value: 0.6447517569712083.\u001b[0m\n",
      "C:\\Users\\Lucas\\anaconda3\\lib\\site-packages\\optuna\\trial\\_trial.py:772: RuntimeWarning: Inconsistent parameter values for distribution with name \"min_child_weight\"! This might be a configuration mistake. Optuna allows to call the same distribution with the same name more then once in a trial. When the parameter values are inconsistent optuna only uses the values of the first call and ignores all following. Using these values: {'low': 0.0, 'high': 10.0}\n",
      "  warnings.warn(\n",
      "\u001b[32m[I 2022-05-29 22:51:56,939]\u001b[0m Trial 13 finished with value: 0.6425670186839968 and parameters: {'booster': 'dart', 'lambda': 7.296649351364146e-05, 'alpha': 0.0058781362177922096, 'learning_rate': 0.9692786381054064, 'gamma': 0.018796332126956417, 'n_estimators': 795, 'max_depth': 7, 'min_child_weight': 3.560200358417698}. Best is trial 5 with value: 0.6447517569712083.\u001b[0m\n",
      "C:\\Users\\Lucas\\anaconda3\\lib\\site-packages\\optuna\\trial\\_trial.py:772: RuntimeWarning: Inconsistent parameter values for distribution with name \"min_child_weight\"! This might be a configuration mistake. Optuna allows to call the same distribution with the same name more then once in a trial. When the parameter values are inconsistent optuna only uses the values of the first call and ignores all following. Using these values: {'low': 0.0, 'high': 10.0}\n",
      "  warnings.warn(\n",
      "\u001b[32m[I 2022-05-29 22:51:57,026]\u001b[0m Trial 14 finished with value: 0.6105930622901902 and parameters: {'booster': 'dart', 'lambda': 5.200217940694933e-05, 'alpha': 0.24502522998014203, 'learning_rate': 0.028663502468552784, 'gamma': 0.026206201438698812, 'n_estimators': 737, 'max_depth': 7, 'min_child_weight': 4.016377115652633}. Best is trial 5 with value: 0.6447517569712083.\u001b[0m\n",
      "C:\\Users\\Lucas\\anaconda3\\lib\\site-packages\\optuna\\trial\\_trial.py:772: RuntimeWarning: Inconsistent parameter values for distribution with name \"min_child_weight\"! This might be a configuration mistake. Optuna allows to call the same distribution with the same name more then once in a trial. When the parameter values are inconsistent optuna only uses the values of the first call and ignores all following. Using these values: {'low': 0.0, 'high': 10.0}\n",
      "  warnings.warn(\n",
      "\u001b[32m[I 2022-05-29 22:51:57,133]\u001b[0m Trial 15 finished with value: 0.5958611253634342 and parameters: {'booster': 'dart', 'lambda': 0.0005867126356213293, 'alpha': 1.619980129989272e-08, 'learning_rate': 0.46408224132709425, 'gamma': 2.4944923147744998e-05, 'n_estimators': 588, 'max_depth': 10, 'min_child_weight': 6.914539597586566}. Best is trial 5 with value: 0.6447517569712083.\u001b[0m\n",
      "C:\\Users\\Lucas\\anaconda3\\lib\\site-packages\\optuna\\trial\\_trial.py:772: RuntimeWarning: Inconsistent parameter values for distribution with name \"min_child_weight\"! This might be a configuration mistake. Optuna allows to call the same distribution with the same name more then once in a trial. When the parameter values are inconsistent optuna only uses the values of the first call and ignores all following. Using these values: {'low': 0.0, 'high': 10.0}\n",
      "  warnings.warn(\n",
      "\u001b[32m[I 2022-05-29 22:51:57,218]\u001b[0m Trial 16 finished with value: 0.6281287246722288 and parameters: {'booster': 'dart', 'lambda': 0.015623323625853263, 'alpha': 0.0006631560327188421, 'learning_rate': 0.02205768773485577, 'gamma': 0.019634231895332983, 'n_estimators': 351, 'max_depth': 7, 'min_child_weight': 1.2559852843719592}. Best is trial 5 with value: 0.6447517569712083.\u001b[0m\n",
      "C:\\Users\\Lucas\\anaconda3\\lib\\site-packages\\optuna\\trial\\_trial.py:772: RuntimeWarning: Inconsistent parameter values for distribution with name \"min_child_weight\"! This might be a configuration mistake. Optuna allows to call the same distribution with the same name more then once in a trial. When the parameter values are inconsistent optuna only uses the values of the first call and ignores all following. Using these values: {'low': 0.0, 'high': 10.0}\n",
      "  warnings.warn(\n",
      "\u001b[32m[I 2022-05-29 22:51:57,307]\u001b[0m Trial 17 finished with value: 0.6142350084065011 and parameters: {'booster': 'dart', 'lambda': 2.7377218789999825e-05, 'alpha': 0.05237987142272465, 'learning_rate': 0.04502819105183325, 'gamma': 0.00019032249101796008, 'n_estimators': 835, 'max_depth': 8, 'min_child_weight': 4.132426325355865}. Best is trial 5 with value: 0.6447517569712083.\u001b[0m\n",
      "C:\\Users\\Lucas\\anaconda3\\lib\\site-packages\\optuna\\trial\\_trial.py:772: RuntimeWarning: Inconsistent parameter values for distribution with name \"min_child_weight\"! This might be a configuration mistake. Optuna allows to call the same distribution with the same name more then once in a trial. When the parameter values are inconsistent optuna only uses the values of the first call and ignores all following. Using these values: {'low': 0.0, 'high': 10.0}\n",
      "  warnings.warn(\n",
      "\u001b[32m[I 2022-05-29 22:51:57,415]\u001b[0m Trial 18 finished with value: 0.6421599169262721 and parameters: {'booster': 'dart', 'lambda': 0.01125227388965908, 'alpha': 0.031103542375543528, 'learning_rate': 0.1979513624637149, 'gamma': 0.9393305551158221, 'n_estimators': 601, 'max_depth': 10, 'min_child_weight': 3.1727353003648693}. Best is trial 5 with value: 0.6447517569712083.\u001b[0m\n",
      "C:\\Users\\Lucas\\anaconda3\\lib\\site-packages\\optuna\\trial\\_trial.py:772: RuntimeWarning: Inconsistent parameter values for distribution with name \"min_child_weight\"! This might be a configuration mistake. Optuna allows to call the same distribution with the same name more then once in a trial. When the parameter values are inconsistent optuna only uses the values of the first call and ignores all following. Using these values: {'low': 0.0, 'high': 10.0}\n",
      "  warnings.warn(\n",
      "\u001b[32m[I 2022-05-29 22:51:57,479]\u001b[0m Trial 19 finished with value: 0.5965986394557824 and parameters: {'booster': 'gbtree', 'lambda': 0.00031964376016898867, 'alpha': 0.0002430403540522901, 'learning_rate': 0.5877628369469508, 'gamma': 0.03227801130549221, 'n_estimators': 798, 'max_depth': 6, 'min_child_weight': 6.558830776733448}. Best is trial 5 with value: 0.6447517569712083.\u001b[0m\n"
     ]
    },
    {
     "name": "stderr",
     "output_type": "stream",
     "text": [
      "C:\\Users\\Lucas\\anaconda3\\lib\\site-packages\\optuna\\trial\\_trial.py:772: RuntimeWarning: Inconsistent parameter values for distribution with name \"min_child_weight\"! This might be a configuration mistake. Optuna allows to call the same distribution with the same name more then once in a trial. When the parameter values are inconsistent optuna only uses the values of the first call and ignores all following. Using these values: {'low': 0.0, 'high': 10.0}\n",
      "  warnings.warn(\n",
      "\u001b[32m[I 2022-05-29 22:51:57,569]\u001b[0m Trial 20 finished with value: 0.6187138067662298 and parameters: {'booster': 'dart', 'lambda': 0.6902909174113133, 'alpha': 3.0954906335829325e-07, 'learning_rate': 0.05476663813473223, 'gamma': 0.00011107224100576172, 'n_estimators': 670, 'max_depth': 8, 'min_child_weight': 1.2732041810578434}. Best is trial 5 with value: 0.6447517569712083.\u001b[0m\n",
      "C:\\Users\\Lucas\\anaconda3\\lib\\site-packages\\optuna\\trial\\_trial.py:772: RuntimeWarning: Inconsistent parameter values for distribution with name \"min_child_weight\"! This might be a configuration mistake. Optuna allows to call the same distribution with the same name more then once in a trial. When the parameter values are inconsistent optuna only uses the values of the first call and ignores all following. Using these values: {'low': 0.0, 'high': 10.0}\n",
      "  warnings.warn(\n",
      "\u001b[32m[I 2022-05-29 22:51:57,677]\u001b[0m Trial 21 finished with value: 0.6453795728483824 and parameters: {'booster': 'dart', 'lambda': 0.00871192617203987, 'alpha': 0.04471157018579258, 'learning_rate': 0.17515633245885304, 'gamma': 1.171043548352968, 'n_estimators': 576, 'max_depth': 10, 'min_child_weight': 2.774909637902068}. Best is trial 21 with value: 0.6453795728483824.\u001b[0m\n",
      "C:\\Users\\Lucas\\anaconda3\\lib\\site-packages\\optuna\\trial\\_trial.py:772: RuntimeWarning: Inconsistent parameter values for distribution with name \"min_child_weight\"! This might be a configuration mistake. Optuna allows to call the same distribution with the same name more then once in a trial. When the parameter values are inconsistent optuna only uses the values of the first call and ignores all following. Using these values: {'low': 0.0, 'high': 10.0}\n",
      "  warnings.warn(\n",
      "\u001b[32m[I 2022-05-29 22:51:57,785]\u001b[0m Trial 22 finished with value: 0.6704828272772524 and parameters: {'booster': 'dart', 'lambda': 0.003334469163507093, 'alpha': 0.065194627857311, 'learning_rate': 0.40475274089450075, 'gamma': 2.6609227771513027, 'n_estimators': 369, 'max_depth': 10, 'min_child_weight': 2.010032836806844}. Best is trial 22 with value: 0.6704828272772524.\u001b[0m\n",
      "C:\\Users\\Lucas\\anaconda3\\lib\\site-packages\\optuna\\trial\\_trial.py:772: RuntimeWarning: Inconsistent parameter values for distribution with name \"min_child_weight\"! This might be a configuration mistake. Optuna allows to call the same distribution with the same name more then once in a trial. When the parameter values are inconsistent optuna only uses the values of the first call and ignores all following. Using these values: {'low': 0.0, 'high': 10.0}\n",
      "  warnings.warn(\n",
      "\u001b[32m[I 2022-05-29 22:51:57,899]\u001b[0m Trial 23 finished with value: 0.6714068054850179 and parameters: {'booster': 'dart', 'lambda': 0.0031216499145560015, 'alpha': 0.08288691882736368, 'learning_rate': 0.3456768555492683, 'gamma': 2.1484198013095597, 'n_estimators': 377, 'max_depth': 10, 'min_child_weight': 1.893447114042076}. Best is trial 23 with value: 0.6714068054850179.\u001b[0m\n",
      "C:\\Users\\Lucas\\anaconda3\\lib\\site-packages\\optuna\\trial\\_trial.py:772: RuntimeWarning: Inconsistent parameter values for distribution with name \"min_child_weight\"! This might be a configuration mistake. Optuna allows to call the same distribution with the same name more then once in a trial. When the parameter values are inconsistent optuna only uses the values of the first call and ignores all following. Using these values: {'low': 0.0, 'high': 10.0}\n",
      "  warnings.warn(\n",
      "\u001b[32m[I 2022-05-29 22:51:58,003]\u001b[0m Trial 24 finished with value: 0.6679025423728814 and parameters: {'booster': 'dart', 'lambda': 0.03144673855685554, 'alpha': 0.11335398425251636, 'learning_rate': 0.40982141265418326, 'gamma': 4.755071825036525, 'n_estimators': 324, 'max_depth': 10, 'min_child_weight': 1.6500615814536728}. Best is trial 23 with value: 0.6714068054850179.\u001b[0m\n",
      "C:\\Users\\Lucas\\anaconda3\\lib\\site-packages\\optuna\\trial\\_trial.py:772: RuntimeWarning: Inconsistent parameter values for distribution with name \"min_child_weight\"! This might be a configuration mistake. Optuna allows to call the same distribution with the same name more then once in a trial. When the parameter values are inconsistent optuna only uses the values of the first call and ignores all following. Using these values: {'low': 0.0, 'high': 10.0}\n",
      "  warnings.warn(\n",
      "\u001b[32m[I 2022-05-29 22:51:58,072]\u001b[0m Trial 25 finished with value: 0.0 and parameters: {'booster': 'dart', 'lambda': 0.06761804640073357, 'alpha': 0.9064156552666673, 'learning_rate': 0.3532925181605438, 'gamma': 41.64097683636735, 'n_estimators': 354, 'max_depth': 10, 'min_child_weight': 0.016549752817141217}. Best is trial 23 with value: 0.6714068054850179.\u001b[0m\n",
      "C:\\Users\\Lucas\\anaconda3\\lib\\site-packages\\optuna\\trial\\_trial.py:772: RuntimeWarning: Inconsistent parameter values for distribution with name \"min_child_weight\"! This might be a configuration mistake. Optuna allows to call the same distribution with the same name more then once in a trial. When the parameter values are inconsistent optuna only uses the values of the first call and ignores all following. Using these values: {'low': 0.0, 'high': 10.0}\n",
      "  warnings.warn(\n",
      "\u001b[32m[I 2022-05-29 22:51:58,160]\u001b[0m Trial 26 finished with value: 0.6475085684155022 and parameters: {'booster': 'dart', 'lambda': 0.055107886685059365, 'alpha': 0.19890690093009608, 'learning_rate': 0.4703950049204418, 'gamma': 90.90543997424668, 'n_estimators': 375, 'max_depth': 8, 'min_child_weight': 1.8109578552745869}. Best is trial 23 with value: 0.6714068054850179.\u001b[0m\n",
      "C:\\Users\\Lucas\\anaconda3\\lib\\site-packages\\optuna\\trial\\_trial.py:772: RuntimeWarning: Inconsistent parameter values for distribution with name \"min_child_weight\"! This might be a configuration mistake. Optuna allows to call the same distribution with the same name more then once in a trial. When the parameter values are inconsistent optuna only uses the values of the first call and ignores all following. Using these values: {'low': 0.0, 'high': 10.0}\n",
      "  warnings.warn(\n",
      "\u001b[32m[I 2022-05-29 22:51:58,273]\u001b[0m Trial 27 finished with value: 0.6187102633969118 and parameters: {'booster': 'dart', 'lambda': 0.0023975704850924405, 'alpha': 0.0009121637877440953, 'learning_rate': 0.5231228627929277, 'gamma': 2.9686236301891102, 'n_estimators': 223, 'max_depth': 10, 'min_child_weight': 4.870035794941522}. Best is trial 23 with value: 0.6714068054850179.\u001b[0m\n",
      "C:\\Users\\Lucas\\anaconda3\\lib\\site-packages\\optuna\\trial\\_trial.py:772: RuntimeWarning: Inconsistent parameter values for distribution with name \"min_child_weight\"! This might be a configuration mistake. Optuna allows to call the same distribution with the same name more then once in a trial. When the parameter values are inconsistent optuna only uses the values of the first call and ignores all following. Using these values: {'low': 0.0, 'high': 10.0}\n",
      "  warnings.warn(\n",
      "\u001b[32m[I 2022-05-29 22:51:58,371]\u001b[0m Trial 28 finished with value: 0.5782151340346114 and parameters: {'booster': 'dart', 'lambda': 0.7166309470466369, 'alpha': 0.08652470190507115, 'learning_rate': 0.34391030301895287, 'gamma': 28.923962508401196, 'n_estimators': 28, 'max_depth': 8, 'min_child_weight': 0.8205389268583916}. Best is trial 23 with value: 0.6714068054850179.\u001b[0m\n",
      "C:\\Users\\Lucas\\anaconda3\\lib\\site-packages\\optuna\\trial\\_trial.py:772: RuntimeWarning: Inconsistent parameter values for distribution with name \"min_child_weight\"! This might be a configuration mistake. Optuna allows to call the same distribution with the same name more then once in a trial. When the parameter values are inconsistent optuna only uses the values of the first call and ignores all following. Using these values: {'low': 0.0, 'high': 10.0}\n",
      "  warnings.warn(\n",
      "\u001b[32m[I 2022-05-29 22:51:58,433]\u001b[0m Trial 29 finished with value: 0.6287185354691075 and parameters: {'booster': 'dart', 'lambda': 0.0002075419434286189, 'alpha': 0.015744232900023303, 'learning_rate': 0.2745671729044998, 'gamma': 0.1713704310098852, 'n_estimators': 288, 'max_depth': 3, 'min_child_weight': 1.653385836473513}. Best is trial 23 with value: 0.6714068054850179.\u001b[0m\n"
     ]
    },
    {
     "name": "stderr",
     "output_type": "stream",
     "text": [
      "C:\\Users\\Lucas\\anaconda3\\lib\\site-packages\\optuna\\trial\\_trial.py:772: RuntimeWarning: Inconsistent parameter values for distribution with name \"min_child_weight\"! This might be a configuration mistake. Optuna allows to call the same distribution with the same name more then once in a trial. When the parameter values are inconsistent optuna only uses the values of the first call and ignores all following. Using these values: {'low': 0.0, 'high': 10.0}\n",
      "  warnings.warn(\n",
      "\u001b[32m[I 2022-05-29 22:51:58,533]\u001b[0m Trial 30 finished with value: 0.6068915749594083 and parameters: {'booster': 'dart', 'lambda': 1.169615414644857e-05, 'alpha': 0.21746920505022838, 'learning_rate': 0.6622216997787013, 'gamma': 126.58012475220771, 'n_estimators': 426, 'max_depth': 10, 'min_child_weight': 4.6856913730617356}. Best is trial 23 with value: 0.6714068054850179.\u001b[0m\n",
      "C:\\Users\\Lucas\\anaconda3\\lib\\site-packages\\optuna\\trial\\_trial.py:772: RuntimeWarning: Inconsistent parameter values for distribution with name \"min_child_weight\"! This might be a configuration mistake. Optuna allows to call the same distribution with the same name more then once in a trial. When the parameter values are inconsistent optuna only uses the values of the first call and ignores all following. Using these values: {'low': 0.0, 'high': 10.0}\n",
      "  warnings.warn(\n",
      "\u001b[32m[I 2022-05-29 22:51:58,622]\u001b[0m Trial 31 finished with value: 0.6424535916061339 and parameters: {'booster': 'dart', 'lambda': 0.047408172222397106, 'alpha': 0.17714971910312574, 'learning_rate': 0.4250277792803677, 'gamma': 96.62207488369064, 'n_estimators': 366, 'max_depth': 8, 'min_child_weight': 1.8683368352394574}. Best is trial 23 with value: 0.6714068054850179.\u001b[0m\n",
      "C:\\Users\\Lucas\\anaconda3\\lib\\site-packages\\optuna\\trial\\_trial.py:772: RuntimeWarning: Inconsistent parameter values for distribution with name \"min_child_weight\"! This might be a configuration mistake. Optuna allows to call the same distribution with the same name more then once in a trial. When the parameter values are inconsistent optuna only uses the values of the first call and ignores all following. Using these values: {'low': 0.0, 'high': 10.0}\n",
      "  warnings.warn(\n",
      "\u001b[32m[I 2022-05-29 22:51:58,713]\u001b[0m Trial 32 finished with value: 0.6716417910447762 and parameters: {'booster': 'dart', 'lambda': 0.04541437883748392, 'alpha': 0.25491724199196597, 'learning_rate': 0.6954769220803282, 'gamma': 5.217097218114849, 'n_estimators': 498, 'max_depth': 9, 'min_child_weight': 1.7223527633986349}. Best is trial 32 with value: 0.6716417910447762.\u001b[0m\n",
      "C:\\Users\\Lucas\\anaconda3\\lib\\site-packages\\optuna\\trial\\_trial.py:772: RuntimeWarning: Inconsistent parameter values for distribution with name \"min_child_weight\"! This might be a configuration mistake. Optuna allows to call the same distribution with the same name more then once in a trial. When the parameter values are inconsistent optuna only uses the values of the first call and ignores all following. Using these values: {'low': 0.0, 'high': 10.0}\n",
      "  warnings.warn(\n",
      "\u001b[32m[I 2022-05-29 22:51:58,808]\u001b[0m Trial 33 finished with value: 0.5879534565366188 and parameters: {'booster': 'dart', 'lambda': 0.0045902094302631875, 'alpha': 0.48954463262278647, 'learning_rate': 0.7976906689593874, 'gamma': 4.518276428661878, 'n_estimators': 490, 'max_depth': 9, 'min_child_weight': 0.6062397364621499}. Best is trial 32 with value: 0.6716417910447762.\u001b[0m\n",
      "C:\\Users\\Lucas\\anaconda3\\lib\\site-packages\\optuna\\trial\\_trial.py:772: RuntimeWarning: Inconsistent parameter values for distribution with name \"min_child_weight\"! This might be a configuration mistake. Optuna allows to call the same distribution with the same name more then once in a trial. When the parameter values are inconsistent optuna only uses the values of the first call and ignores all following. Using these values: {'low': 0.0, 'high': 10.0}\n",
      "  warnings.warn(\n",
      "\u001b[32m[I 2022-05-29 22:51:58,912]\u001b[0m Trial 34 finished with value: 0.6511531269478495 and parameters: {'booster': 'dart', 'lambda': 0.1739313983767638, 'alpha': 0.012882012580833805, 'learning_rate': 0.6698572049437497, 'gamma': 0.7983631619542603, 'n_estimators': 312, 'max_depth': 10, 'min_child_weight': 3.286599175825395}. Best is trial 32 with value: 0.6716417910447762.\u001b[0m\n",
      "C:\\Users\\Lucas\\anaconda3\\lib\\site-packages\\optuna\\trial\\_trial.py:772: RuntimeWarning: Inconsistent parameter values for distribution with name \"min_child_weight\"! This might be a configuration mistake. Optuna allows to call the same distribution with the same name more then once in a trial. When the parameter values are inconsistent optuna only uses the values of the first call and ignores all following. Using these values: {'low': 0.0, 'high': 10.0}\n",
      "  warnings.warn(\n",
      "\u001b[32m[I 2022-05-29 22:51:58,959]\u001b[0m Trial 35 finished with value: 0.6110552763819096 and parameters: {'booster': 'gblinear', 'lambda': 0.026463770602533652, 'alpha': 0.0014670257534403273, 'learning_rate': 0.2202602651115707, 'gamma': 12.550141972738404, 'n_estimators': 418, 'max_depth': 9, 'min_child_weight': 1.8371407513451607}. Best is trial 32 with value: 0.6716417910447762.\u001b[0m\n",
      "C:\\Users\\Lucas\\anaconda3\\lib\\site-packages\\optuna\\trial\\_trial.py:772: RuntimeWarning: Inconsistent parameter values for distribution with name \"min_child_weight\"! This might be a configuration mistake. Optuna allows to call the same distribution with the same name more then once in a trial. When the parameter values are inconsistent optuna only uses the values of the first call and ignores all following. Using these values: {'low': 0.0, 'high': 10.0}\n",
      "  warnings.warn(\n",
      "\u001b[32m[I 2022-05-29 22:51:59,057]\u001b[0m Trial 36 finished with value: 0.6286438529784537 and parameters: {'booster': 'dart', 'lambda': 0.0012430866608020535, 'alpha': 0.06997763635313284, 'learning_rate': 0.3653822515824714, 'gamma': 2.9044670760859974, 'n_estimators': 503, 'max_depth': 9, 'min_child_weight': 0.983688681499716}. Best is trial 32 with value: 0.6716417910447762.\u001b[0m\n",
      "C:\\Users\\Lucas\\anaconda3\\lib\\site-packages\\optuna\\trial\\_trial.py:772: RuntimeWarning: Inconsistent parameter values for distribution with name \"min_child_weight\"! This might be a configuration mistake. Optuna allows to call the same distribution with the same name more then once in a trial. When the parameter values are inconsistent optuna only uses the values of the first call and ignores all following. Using these values: {'low': 0.0, 'high': 10.0}\n",
      "  warnings.warn(\n",
      "\u001b[32m[I 2022-05-29 22:51:59,134]\u001b[0m Trial 37 finished with value: 0.4242424242424242 and parameters: {'booster': 'dart', 'lambda': 0.18716947440418347, 'alpha': 0.021186682964300728, 'learning_rate': 0.1426558680884799, 'gamma': 0.35603191175542115, 'n_estimators': 224, 'max_depth': 5, 'min_child_weight': 0.6019678929336907}. Best is trial 32 with value: 0.6716417910447762.\u001b[0m\n",
      "C:\\Users\\Lucas\\anaconda3\\lib\\site-packages\\optuna\\trial\\_trial.py:772: RuntimeWarning: Inconsistent parameter values for distribution with name \"min_child_weight\"! This might be a configuration mistake. Optuna allows to call the same distribution with the same name more then once in a trial. When the parameter values are inconsistent optuna only uses the values of the first call and ignores all following. Using these values: {'low': 0.0, 'high': 10.0}\n",
      "  warnings.warn(\n",
      "\u001b[32m[I 2022-05-29 22:51:59,181]\u001b[0m Trial 38 finished with value: 0.5148374272327134 and parameters: {'booster': 'gblinear', 'lambda': 0.00676399337356246, 'alpha': 0.09702002896690327, 'learning_rate': 0.271504779854018, 'gamma': 16.052906384042434, 'n_estimators': 166, 'max_depth': 9, 'min_child_weight': 5.726104648187956}. Best is trial 32 with value: 0.6716417910447762.\u001b[0m\n",
      "C:\\Users\\Lucas\\anaconda3\\lib\\site-packages\\optuna\\trial\\_trial.py:772: RuntimeWarning: Inconsistent parameter values for distribution with name \"min_child_weight\"! This might be a configuration mistake. Optuna allows to call the same distribution with the same name more then once in a trial. When the parameter values are inconsistent optuna only uses the values of the first call and ignores all following. Using these values: {'low': 0.0, 'high': 10.0}\n",
      "  warnings.warn(\n",
      "\u001b[32m[I 2022-05-29 22:51:59,284]\u001b[0m Trial 39 finished with value: 0.6651604157252599 and parameters: {'booster': 'dart', 'lambda': 0.01899201446745491, 'alpha': 0.4007599693083872, 'learning_rate': 0.7015810644194895, 'gamma': 0.0723137609301217, 'n_estimators': 536, 'max_depth': 10, 'min_child_weight': 2.297715104441146}. Best is trial 32 with value: 0.6716417910447762.\u001b[0m\n"
     ]
    },
    {
     "name": "stderr",
     "output_type": "stream",
     "text": [
      "C:\\Users\\Lucas\\anaconda3\\lib\\site-packages\\optuna\\trial\\_trial.py:772: RuntimeWarning: Inconsistent parameter values for distribution with name \"min_child_weight\"! This might be a configuration mistake. Optuna allows to call the same distribution with the same name more then once in a trial. When the parameter values are inconsistent optuna only uses the values of the first call and ignores all following. Using these values: {'low': 0.0, 'high': 10.0}\n",
      "  warnings.warn(\n",
      "\u001b[32m[I 2022-05-29 22:51:59,332]\u001b[0m Trial 40 finished with value: 0.4410368747718145 and parameters: {'booster': 'gblinear', 'lambda': 0.3798585553715388, 'alpha': 2.044181699941747e-05, 'learning_rate': 0.09637030463302891, 'gamma': 1.9597347022737446, 'n_estimators': 402, 'max_depth': 9, 'min_child_weight': 1.5510513577731393}. Best is trial 32 with value: 0.6716417910447762.\u001b[0m\n",
      "C:\\Users\\Lucas\\anaconda3\\lib\\site-packages\\optuna\\trial\\_trial.py:772: RuntimeWarning: Inconsistent parameter values for distribution with name \"min_child_weight\"! This might be a configuration mistake. Optuna allows to call the same distribution with the same name more then once in a trial. When the parameter values are inconsistent optuna only uses the values of the first call and ignores all following. Using these values: {'low': 0.0, 'high': 10.0}\n",
      "  warnings.warn(\n",
      "\u001b[32m[I 2022-05-29 22:51:59,431]\u001b[0m Trial 41 finished with value: 0.670188679245283 and parameters: {'booster': 'dart', 'lambda': 0.03361812155652528, 'alpha': 0.38870824609841326, 'learning_rate': 0.6148865291423421, 'gamma': 0.07570726787431845, 'n_estimators': 533, 'max_depth': 10, 'min_child_weight': 2.049214645539938}. Best is trial 32 with value: 0.6716417910447762.\u001b[0m\n",
      "C:\\Users\\Lucas\\anaconda3\\lib\\site-packages\\optuna\\trial\\_trial.py:772: RuntimeWarning: Inconsistent parameter values for distribution with name \"min_child_weight\"! This might be a configuration mistake. Optuna allows to call the same distribution with the same name more then once in a trial. When the parameter values are inconsistent optuna only uses the values of the first call and ignores all following. Using these values: {'low': 0.0, 'high': 10.0}\n",
      "  warnings.warn(\n",
      "\u001b[32m[I 2022-05-29 22:51:59,534]\u001b[0m Trial 42 finished with value: 0.67622343054869 and parameters: {'booster': 'dart', 'lambda': 0.03849184802999013, 'alpha': 0.9379739500851892, 'learning_rate': 0.5682168537047506, 'gamma': 0.31135563753230133, 'n_estimators': 622, 'max_depth': 10, 'min_child_weight': 2.1420770191038314}. Best is trial 42 with value: 0.67622343054869.\u001b[0m\n",
      "C:\\Users\\Lucas\\anaconda3\\lib\\site-packages\\optuna\\trial\\_trial.py:772: RuntimeWarning: Inconsistent parameter values for distribution with name \"min_child_weight\"! This might be a configuration mistake. Optuna allows to call the same distribution with the same name more then once in a trial. When the parameter values are inconsistent optuna only uses the values of the first call and ignores all following. Using these values: {'low': 0.0, 'high': 10.0}\n",
      "  warnings.warn(\n",
      "\u001b[32m[I 2022-05-29 22:51:59,630]\u001b[0m Trial 43 finished with value: 0.6666666666666666 and parameters: {'booster': 'dart', 'lambda': 0.1483587340810067, 'alpha': 0.5286431431436603, 'learning_rate': 0.5326252109628699, 'gamma': 0.3259110220575657, 'n_estimators': 644, 'max_depth': 9, 'min_child_weight': 2.0781859650862717}. Best is trial 42 with value: 0.67622343054869.\u001b[0m\n",
      "C:\\Users\\Lucas\\anaconda3\\lib\\site-packages\\optuna\\trial\\_trial.py:772: RuntimeWarning: Inconsistent parameter values for distribution with name \"min_child_weight\"! This might be a configuration mistake. Optuna allows to call the same distribution with the same name more then once in a trial. When the parameter values are inconsistent optuna only uses the values of the first call and ignores all following. Using these values: {'low': 0.0, 'high': 10.0}\n",
      "  warnings.warn(\n",
      "\u001b[32m[I 2022-05-29 22:51:59,729]\u001b[0m Trial 44 finished with value: 0.6520994001713796 and parameters: {'booster': 'dart', 'lambda': 0.08800462564268156, 'alpha': 0.702390037702576, 'learning_rate': 0.7928587122866465, 'gamma': 0.08182860154147047, 'n_estimators': 469, 'max_depth': 10, 'min_child_weight': 2.968228498356301}. Best is trial 42 with value: 0.67622343054869.\u001b[0m\n",
      "C:\\Users\\Lucas\\anaconda3\\lib\\site-packages\\optuna\\trial\\_trial.py:772: RuntimeWarning: Inconsistent parameter values for distribution with name \"min_child_weight\"! This might be a configuration mistake. Optuna allows to call the same distribution with the same name more then once in a trial. When the parameter values are inconsistent optuna only uses the values of the first call and ignores all following. Using these values: {'low': 0.0, 'high': 10.0}\n",
      "  warnings.warn(\n",
      "\u001b[32m[I 2022-05-29 22:51:59,829]\u001b[0m Trial 45 finished with value: 0.6415094339622642 and parameters: {'booster': 'dart', 'lambda': 0.003959501105768976, 'alpha': 0.34928165027986546, 'learning_rate': 0.2953610048279863, 'gamma': 0.17909989476891822, 'n_estimators': 534, 'max_depth': 9, 'min_child_weight': 3.6904654859915893}. Best is trial 42 with value: 0.67622343054869.\u001b[0m\n",
      "C:\\Users\\Lucas\\anaconda3\\lib\\site-packages\\optuna\\trial\\_trial.py:772: RuntimeWarning: Inconsistent parameter values for distribution with name \"min_child_weight\"! This might be a configuration mistake. Optuna allows to call the same distribution with the same name more then once in a trial. When the parameter values are inconsistent optuna only uses the values of the first call and ignores all following. Using these values: {'low': 0.0, 'high': 10.0}\n",
      "  warnings.warn(\n",
      "\u001b[32m[I 2022-05-29 22:51:59,932]\u001b[0m Trial 46 finished with value: 0.6644488800177424 and parameters: {'booster': 'dart', 'lambda': 0.0016602513297675244, 'alpha': 0.03307195109681604, 'learning_rate': 0.5880929055056564, 'gamma': 10.459297438577634, 'n_estimators': 630, 'max_depth': 10, 'min_child_weight': 2.54025952081175}. Best is trial 42 with value: 0.67622343054869.\u001b[0m\n",
      "C:\\Users\\Lucas\\anaconda3\\lib\\site-packages\\optuna\\trial\\_trial.py:772: RuntimeWarning: Inconsistent parameter values for distribution with name \"min_child_weight\"! This might be a configuration mistake. Optuna allows to call the same distribution with the same name more then once in a trial. When the parameter values are inconsistent optuna only uses the values of the first call and ignores all following. Using these values: {'low': 0.0, 'high': 10.0}\n",
      "  warnings.warn(\n",
      "\u001b[32m[I 2022-05-29 22:52:00,009]\u001b[0m Trial 47 finished with value: 0.6257991726212861 and parameters: {'booster': 'gbtree', 'lambda': 0.33299536729124235, 'alpha': 0.010116830211278774, 'learning_rate': 0.7954091700118847, 'gamma': 0.004724050700014238, 'n_estimators': 690, 'max_depth': 8, 'min_child_weight': 4.3797887555426795}. Best is trial 42 with value: 0.67622343054869.\u001b[0m\n",
      "C:\\Users\\Lucas\\anaconda3\\lib\\site-packages\\optuna\\trial\\_trial.py:772: RuntimeWarning: Inconsistent parameter values for distribution with name \"min_child_weight\"! This might be a configuration mistake. Optuna allows to call the same distribution with the same name more then once in a trial. When the parameter values are inconsistent optuna only uses the values of the first call and ignores all following. Using these values: {'low': 0.0, 'high': 10.0}\n",
      "  warnings.warn(\n",
      "\u001b[32m[I 2022-05-29 22:52:00,057]\u001b[0m Trial 48 finished with value: 0.3283709059974479 and parameters: {'booster': 'gblinear', 'lambda': 0.0007506015992231647, 'alpha': 0.002502750116327916, 'learning_rate': 0.904425184161919, 'gamma': 0.17449671525081073, 'n_estimators': 448, 'max_depth': 9, 'min_child_weight': 0.3254323883612784}. Best is trial 42 with value: 0.67622343054869.\u001b[0m\n",
      "C:\\Users\\Lucas\\anaconda3\\lib\\site-packages\\optuna\\trial\\_trial.py:772: RuntimeWarning: Inconsistent parameter values for distribution with name \"min_child_weight\"! This might be a configuration mistake. Optuna allows to call the same distribution with the same name more then once in a trial. When the parameter values are inconsistent optuna only uses the values of the first call and ignores all following. Using these values: {'low': 0.0, 'high': 10.0}\n",
      "  warnings.warn(\n",
      "\u001b[32m[I 2022-05-29 22:52:00,166]\u001b[0m Trial 49 finished with value: 0.6173374613003095 and parameters: {'booster': 'dart', 'lambda': 0.007279972489184545, 'alpha': 2.960367360437961e-06, 'learning_rate': 0.13797502616743804, 'gamma': 0.6649979532651936, 'n_estimators': 516, 'max_depth': 10, 'min_child_weight': 1.2524476173247487}. Best is trial 42 with value: 0.67622343054869.\u001b[0m\n"
     ]
    },
    {
     "name": "stderr",
     "output_type": "stream",
     "text": [
      "C:\\Users\\Lucas\\anaconda3\\lib\\site-packages\\optuna\\trial\\_trial.py:772: RuntimeWarning: Inconsistent parameter values for distribution with name \"min_child_weight\"! This might be a configuration mistake. Optuna allows to call the same distribution with the same name more then once in a trial. When the parameter values are inconsistent optuna only uses the values of the first call and ignores all following. Using these values: {'low': 0.0, 'high': 10.0}\n",
      "  warnings.warn(\n",
      "\u001b[32m[I 2022-05-29 22:52:00,262]\u001b[0m Trial 50 finished with value: 0.5567200986436499 and parameters: {'booster': 'dart', 'lambda': 0.00015513866785121544, 'alpha': 0.936802968371629, 'learning_rate': 0.23215751959061992, 'gamma': 0.0016750113408887275, 'n_estimators': 551, 'max_depth': 9, 'min_child_weight': 8.418175805198565}. Best is trial 42 with value: 0.67622343054869.\u001b[0m\n",
      "C:\\Users\\Lucas\\anaconda3\\lib\\site-packages\\optuna\\trial\\_trial.py:772: RuntimeWarning: Inconsistent parameter values for distribution with name \"min_child_weight\"! This might be a configuration mistake. Optuna allows to call the same distribution with the same name more then once in a trial. When the parameter values are inconsistent optuna only uses the values of the first call and ignores all following. Using these values: {'low': 0.0, 'high': 10.0}\n",
      "  warnings.warn(\n",
      "\u001b[32m[I 2022-05-29 22:52:00,362]\u001b[0m Trial 51 finished with value: 0.6648135279129025 and parameters: {'booster': 'dart', 'lambda': 0.02991213139102084, 'alpha': 0.10261201362150385, 'learning_rate': 0.4157368804159404, 'gamma': 1.7526131325140886, 'n_estimators': 283, 'max_depth': 10, 'min_child_weight': 2.3284668564245083}. Best is trial 42 with value: 0.67622343054869.\u001b[0m\n",
      "C:\\Users\\Lucas\\anaconda3\\lib\\site-packages\\optuna\\trial\\_trial.py:772: RuntimeWarning: Inconsistent parameter values for distribution with name \"min_child_weight\"! This might be a configuration mistake. Optuna allows to call the same distribution with the same name more then once in a trial. When the parameter values are inconsistent optuna only uses the values of the first call and ignores all following. Using these values: {'low': 0.0, 'high': 10.0}\n",
      "  warnings.warn(\n",
      "\u001b[32m[I 2022-05-29 22:52:00,465]\u001b[0m Trial 52 finished with value: 0.638888888888889 and parameters: {'booster': 'dart', 'lambda': 0.023412833017973166, 'alpha': 0.14340783236366236, 'learning_rate': 0.3255805068551973, 'gamma': 5.829216361573919, 'n_estimators': 303, 'max_depth': 10, 'min_child_weight': 1.2797080410406987}. Best is trial 42 with value: 0.67622343054869.\u001b[0m\n",
      "C:\\Users\\Lucas\\anaconda3\\lib\\site-packages\\optuna\\trial\\_trial.py:772: RuntimeWarning: Inconsistent parameter values for distribution with name \"min_child_weight\"! This might be a configuration mistake. Optuna allows to call the same distribution with the same name more then once in a trial. When the parameter values are inconsistent optuna only uses the values of the first call and ignores all following. Using these values: {'low': 0.0, 'high': 10.0}\n",
      "  warnings.warn(\n",
      "\u001b[32m[I 2022-05-29 22:52:00,569]\u001b[0m Trial 53 finished with value: 0.6559722523303708 and parameters: {'booster': 'dart', 'lambda': 0.09916087384561793, 'alpha': 0.2999711071256458, 'learning_rate': 0.9908373496538209, 'gamma': 0.4100666762438147, 'n_estimators': 253, 'max_depth': 10, 'min_child_weight': 2.7005954865125306}. Best is trial 42 with value: 0.67622343054869.\u001b[0m\n",
      "C:\\Users\\Lucas\\anaconda3\\lib\\site-packages\\optuna\\trial\\_trial.py:772: RuntimeWarning: Inconsistent parameter values for distribution with name \"min_child_weight\"! This might be a configuration mistake. Optuna allows to call the same distribution with the same name more then once in a trial. When the parameter values are inconsistent optuna only uses the values of the first call and ignores all following. Using these values: {'low': 0.0, 'high': 10.0}\n",
      "  warnings.warn(\n",
      "\u001b[32m[I 2022-05-29 22:52:00,671]\u001b[0m Trial 54 finished with value: 0.6491588018054986 and parameters: {'booster': 'dart', 'lambda': 0.04275493087310454, 'alpha': 0.04885067539036518, 'learning_rate': 0.39672118839762055, 'gamma': 8.314991012188239, 'n_estimators': 328, 'max_depth': 10, 'min_child_weight': 3.2277982682118225}. Best is trial 42 with value: 0.67622343054869.\u001b[0m\n",
      "C:\\Users\\Lucas\\anaconda3\\lib\\site-packages\\optuna\\trial\\_trial.py:772: RuntimeWarning: Inconsistent parameter values for distribution with name \"min_child_weight\"! This might be a configuration mistake. Optuna allows to call the same distribution with the same name more then once in a trial. When the parameter values are inconsistent optuna only uses the values of the first call and ignores all following. Using these values: {'low': 0.0, 'high': 10.0}\n",
      "  warnings.warn(\n",
      "\u001b[32m[I 2022-05-29 22:52:00,755]\u001b[0m Trial 55 finished with value: 0.6711881436824919 and parameters: {'booster': 'gbtree', 'lambda': 0.012690382609187568, 'alpha': 0.12493958615270888, 'learning_rate': 0.5093196984799138, 'gamma': 0.009431719226158965, 'n_estimators': 410, 'max_depth': 9, 'min_child_weight': 2.0055107626407045}. Best is trial 42 with value: 0.67622343054869.\u001b[0m\n",
      "C:\\Users\\Lucas\\anaconda3\\lib\\site-packages\\optuna\\trial\\_trial.py:772: RuntimeWarning: Inconsistent parameter values for distribution with name \"min_child_weight\"! This might be a configuration mistake. Optuna allows to call the same distribution with the same name more then once in a trial. When the parameter values are inconsistent optuna only uses the values of the first call and ignores all following. Using these values: {'low': 0.0, 'high': 10.0}\n",
      "  warnings.warn(\n",
      "\u001b[32m[I 2022-05-29 22:52:00,834]\u001b[0m Trial 56 finished with value: 0.6697950111138552 and parameters: {'booster': 'gbtree', 'lambda': 0.01462753097117328, 'alpha': 0.023725697165283947, 'learning_rate': 0.5155915718580759, 'gamma': 0.04496008685545233, 'n_estimators': 474, 'max_depth': 8, 'min_child_weight': 2.108399904174788}. Best is trial 42 with value: 0.67622343054869.\u001b[0m\n",
      "C:\\Users\\Lucas\\anaconda3\\lib\\site-packages\\optuna\\trial\\_trial.py:772: RuntimeWarning: Inconsistent parameter values for distribution with name \"min_child_weight\"! This might be a configuration mistake. Optuna allows to call the same distribution with the same name more then once in a trial. When the parameter values are inconsistent optuna only uses the values of the first call and ignores all following. Using these values: {'low': 0.0, 'high': 10.0}\n",
      "  warnings.warn(\n",
      "\u001b[32m[I 2022-05-29 22:52:00,911]\u001b[0m Trial 57 finished with value: 0.6224654007080785 and parameters: {'booster': 'gbtree', 'lambda': 0.0036616823030831028, 'alpha': 0.3309378474275961, 'learning_rate': 0.6333876982784901, 'gamma': 0.01064034218288401, 'n_estimators': 408, 'max_depth': 7, 'min_child_weight': 0.9373812701400226}. Best is trial 42 with value: 0.67622343054869.\u001b[0m\n",
      "C:\\Users\\Lucas\\anaconda3\\lib\\site-packages\\optuna\\trial\\_trial.py:772: RuntimeWarning: Inconsistent parameter values for distribution with name \"min_child_weight\"! This might be a configuration mistake. Optuna allows to call the same distribution with the same name more then once in a trial. When the parameter values are inconsistent optuna only uses the values of the first call and ignores all following. Using these values: {'low': 0.0, 'high': 10.0}\n",
      "  warnings.warn(\n",
      "\u001b[32m[I 2022-05-29 22:52:00,982]\u001b[0m Trial 58 finished with value: 0.646583097452487 and parameters: {'booster': 'gbtree', 'lambda': 0.0006414292329233653, 'alpha': 4.752604741092424e-08, 'learning_rate': 0.4735333145791653, 'gamma': 0.007266426083495392, 'n_estimators': 736, 'max_depth': 6, 'min_child_weight': 3.539280129263708}. Best is trial 42 with value: 0.67622343054869.\u001b[0m\n",
      "C:\\Users\\Lucas\\anaconda3\\lib\\site-packages\\optuna\\trial\\_trial.py:772: RuntimeWarning: Inconsistent parameter values for distribution with name \"min_child_weight\"! This might be a configuration mistake. Optuna allows to call the same distribution with the same name more then once in a trial. When the parameter values are inconsistent optuna only uses the values of the first call and ignores all following. Using these values: {'low': 0.0, 'high': 10.0}\n",
      "  warnings.warn(\n",
      "\u001b[32m[I 2022-05-29 22:52:01,073]\u001b[0m Trial 59 finished with value: 0.6576692373607541 and parameters: {'booster': 'gbtree', 'lambda': 0.3594026751099306, 'alpha': 0.006335754765031351, 'learning_rate': 0.7405625733921474, 'gamma': 0.001557024891485142, 'n_estimators': 392, 'max_depth': 9, 'min_child_weight': 2.769031156497913}. Best is trial 42 with value: 0.67622343054869.\u001b[0m\n"
     ]
    },
    {
     "name": "stderr",
     "output_type": "stream",
     "text": [
      "C:\\Users\\Lucas\\anaconda3\\lib\\site-packages\\optuna\\trial\\_trial.py:772: RuntimeWarning: Inconsistent parameter values for distribution with name \"min_child_weight\"! This might be a configuration mistake. Optuna allows to call the same distribution with the same name more then once in a trial. When the parameter values are inconsistent optuna only uses the values of the first call and ignores all following. Using these values: {'low': 0.0, 'high': 10.0}\n",
      "  warnings.warn(\n",
      "\u001b[32m[I 2022-05-29 22:52:01,133]\u001b[0m Trial 60 finished with value: 0.5629397967161844 and parameters: {'booster': 'gbtree', 'lambda': 1.9333064796793338e-08, 'alpha': 0.0547037061077825, 'learning_rate': 0.5733473999671045, 'gamma': 0.013718956699225146, 'n_estimators': 619, 'max_depth': 4, 'min_child_weight': 7.617076126836125}. Best is trial 42 with value: 0.67622343054869.\u001b[0m\n",
      "C:\\Users\\Lucas\\anaconda3\\lib\\site-packages\\optuna\\trial\\_trial.py:772: RuntimeWarning: Inconsistent parameter values for distribution with name \"min_child_weight\"! This might be a configuration mistake. Optuna allows to call the same distribution with the same name more then once in a trial. When the parameter values are inconsistent optuna only uses the values of the first call and ignores all following. Using these values: {'low': 0.0, 'high': 10.0}\n",
      "  warnings.warn(\n",
      "\u001b[32m[I 2022-05-29 22:52:01,211]\u001b[0m Trial 61 finished with value: 0.6707798617966436 and parameters: {'booster': 'gbtree', 'lambda': 0.013771556522695336, 'alpha': 0.018788244432304698, 'learning_rate': 0.49957130581289877, 'gamma': 0.04399765805685641, 'n_estimators': 462, 'max_depth': 8, 'min_child_weight': 2.09900021572024}. Best is trial 42 with value: 0.67622343054869.\u001b[0m\n",
      "C:\\Users\\Lucas\\anaconda3\\lib\\site-packages\\optuna\\trial\\_trial.py:772: RuntimeWarning: Inconsistent parameter values for distribution with name \"min_child_weight\"! This might be a configuration mistake. Optuna allows to call the same distribution with the same name more then once in a trial. When the parameter values are inconsistent optuna only uses the values of the first call and ignores all following. Using these values: {'low': 0.0, 'high': 10.0}\n",
      "  warnings.warn(\n",
      "\u001b[32m[I 2022-05-29 22:52:01,298]\u001b[0m Trial 62 finished with value: 0.5573267933782954 and parameters: {'booster': 'gbtree', 'lambda': 0.010480771115834878, 'alpha': 0.14187956867230767, 'learning_rate': 0.46454244188740323, 'gamma': 0.0438069030561621, 'n_estimators': 435, 'max_depth': 9, 'min_child_weight': 9.441911037710065}. Best is trial 42 with value: 0.67622343054869.\u001b[0m\n",
      "C:\\Users\\Lucas\\anaconda3\\lib\\site-packages\\optuna\\trial\\_trial.py:772: RuntimeWarning: Inconsistent parameter values for distribution with name \"min_child_weight\"! This might be a configuration mistake. Optuna allows to call the same distribution with the same name more then once in a trial. When the parameter values are inconsistent optuna only uses the values of the first call and ignores all following. Using these values: {'low': 0.0, 'high': 10.0}\n",
      "  warnings.warn(\n",
      "\u001b[32m[I 2022-05-29 22:52:01,384]\u001b[0m Trial 63 finished with value: 0.6520750426378624 and parameters: {'booster': 'gbtree', 'lambda': 0.0014125038117646402, 'alpha': 0.21738445384462945, 'learning_rate': 0.31042447244117877, 'gamma': 0.11774908216070296, 'n_estimators': 507, 'max_depth': 8, 'min_child_weight': 1.4660989669101592}. Best is trial 42 with value: 0.67622343054869.\u001b[0m\n",
      "C:\\Users\\Lucas\\anaconda3\\lib\\site-packages\\optuna\\trial\\_trial.py:772: RuntimeWarning: Inconsistent parameter values for distribution with name \"min_child_weight\"! This might be a configuration mistake. Optuna allows to call the same distribution with the same name more then once in a trial. When the parameter values are inconsistent optuna only uses the values of the first call and ignores all following. Using these values: {'low': 0.0, 'high': 10.0}\n",
      "  warnings.warn(\n",
      "\u001b[32m[I 2022-05-29 22:52:01,473]\u001b[0m Trial 64 finished with value: 0.6749054224464061 and parameters: {'booster': 'gbtree', 'lambda': 0.07051305557118677, 'alpha': 0.03155817675441005, 'learning_rate': 0.5962495821821063, 'gamma': 1.3077487779455133, 'n_estimators': 574, 'max_depth': 9, 'min_child_weight': 1.9531010313713177}. Best is trial 42 with value: 0.67622343054869.\u001b[0m\n",
      "C:\\Users\\Lucas\\anaconda3\\lib\\site-packages\\optuna\\trial\\_trial.py:772: RuntimeWarning: Inconsistent parameter values for distribution with name \"min_child_weight\"! This might be a configuration mistake. Optuna allows to call the same distribution with the same name more then once in a trial. When the parameter values are inconsistent optuna only uses the values of the first call and ignores all following. Using these values: {'low': 0.0, 'high': 10.0}\n",
      "  warnings.warn(\n",
      "\u001b[32m[I 2022-05-29 22:52:01,558]\u001b[0m Trial 65 finished with value: 0.6431257835353114 and parameters: {'booster': 'gbtree', 'lambda': 0.005322443107337137, 'alpha': 0.0002627761073136702, 'learning_rate': 0.17772399322748567, 'gamma': 1.5395566008160624, 'n_estimators': 583, 'max_depth': 9, 'min_child_weight': 3.0127151998720865}. Best is trial 42 with value: 0.67622343054869.\u001b[0m\n",
      "C:\\Users\\Lucas\\anaconda3\\lib\\site-packages\\optuna\\trial\\_trial.py:772: RuntimeWarning: Inconsistent parameter values for distribution with name \"min_child_weight\"! This might be a configuration mistake. Optuna allows to call the same distribution with the same name more then once in a trial. When the parameter values are inconsistent optuna only uses the values of the first call and ignores all following. Using these values: {'low': 0.0, 'high': 10.0}\n",
      "  warnings.warn(\n",
      "\u001b[32m[I 2022-05-29 22:52:01,633]\u001b[0m Trial 66 finished with value: 0.6556161395856052 and parameters: {'booster': 'gbtree', 'lambda': 9.269915622580568e-08, 'alpha': 0.03176672782540941, 'learning_rate': 0.8756279636960861, 'gamma': 25.007483036321613, 'n_estimators': 675, 'max_depth': 8, 'min_child_weight': 2.46500371374108}. Best is trial 42 with value: 0.67622343054869.\u001b[0m\n",
      "C:\\Users\\Lucas\\anaconda3\\lib\\site-packages\\optuna\\trial\\_trial.py:772: RuntimeWarning: Inconsistent parameter values for distribution with name \"min_child_weight\"! This might be a configuration mistake. Optuna allows to call the same distribution with the same name more then once in a trial. When the parameter values are inconsistent optuna only uses the values of the first call and ignores all following. Using these values: {'low': 0.0, 'high': 10.0}\n",
      "  warnings.warn(\n",
      "\u001b[32m[I 2022-05-29 22:52:01,686]\u001b[0m Trial 67 finished with value: 0.5906260242543429 and parameters: {'booster': 'gbtree', 'lambda': 0.06991274155630313, 'alpha': 0.0027099374463458487, 'learning_rate': 0.39471484654453504, 'gamma': 0.5813848709201684, 'n_estimators': 452, 'max_depth': 3, 'min_child_weight': 1.0661635051521356}. Best is trial 42 with value: 0.67622343054869.\u001b[0m\n",
      "C:\\Users\\Lucas\\anaconda3\\lib\\site-packages\\optuna\\trial\\_trial.py:772: RuntimeWarning: Inconsistent parameter values for distribution with name \"min_child_weight\"! This might be a configuration mistake. Optuna allows to call the same distribution with the same name more then once in a trial. When the parameter values are inconsistent optuna only uses the values of the first call and ignores all following. Using these values: {'low': 0.0, 'high': 10.0}\n",
      "  warnings.warn(\n",
      "\u001b[32m[I 2022-05-29 22:52:01,766]\u001b[0m Trial 68 finished with value: 0.5964607911172797 and parameters: {'booster': 'gbtree', 'lambda': 0.010401010442830254, 'alpha': 0.015503989391803643, 'learning_rate': 0.07715176573596501, 'gamma': 3.676961884205115, 'n_estimators': 364, 'max_depth': 7, 'min_child_weight': 5.393127446848785}. Best is trial 42 with value: 0.67622343054869.\u001b[0m\n",
      "C:\\Users\\Lucas\\anaconda3\\lib\\site-packages\\optuna\\trial\\_trial.py:772: RuntimeWarning: Inconsistent parameter values for distribution with name \"min_child_weight\"! This might be a configuration mistake. Optuna allows to call the same distribution with the same name more then once in a trial. When the parameter values are inconsistent optuna only uses the values of the first call and ignores all following. Using these values: {'low': 0.0, 'high': 10.0}\n",
      "  warnings.warn(\n",
      "\u001b[32m[I 2022-05-29 22:52:01,860]\u001b[0m Trial 69 finished with value: 0.4809930178432894 and parameters: {'booster': 'gbtree', 'lambda': 0.0028366050878041484, 'alpha': 0.06552420211315899, 'learning_rate': 0.35142780007224994, 'gamma': 0.2554527039881495, 'n_estimators': 572, 'max_depth': 9, 'min_child_weight': 0.3699565733396606}. Best is trial 42 with value: 0.67622343054869.\u001b[0m\n"
     ]
    },
    {
     "name": "stderr",
     "output_type": "stream",
     "text": [
      "C:\\Users\\Lucas\\anaconda3\\lib\\site-packages\\optuna\\trial\\_trial.py:772: RuntimeWarning: Inconsistent parameter values for distribution with name \"min_child_weight\"! This might be a configuration mistake. Optuna allows to call the same distribution with the same name more then once in a trial. When the parameter values are inconsistent optuna only uses the values of the first call and ignores all following. Using these values: {'low': 0.0, 'high': 10.0}\n",
      "  warnings.warn(\n",
      "\u001b[32m[I 2022-05-29 22:52:01,943]\u001b[0m Trial 70 finished with value: 0.6777862016679302 and parameters: {'booster': 'gbtree', 'lambda': 0.9514301698695143, 'alpha': 0.007882202079210985, 'learning_rate': 0.5200197111110227, 'gamma': 0.9824177821412587, 'n_estimators': 483, 'max_depth': 8, 'min_child_weight': 1.8308669444118775}. Best is trial 70 with value: 0.6777862016679302.\u001b[0m\n",
      "C:\\Users\\Lucas\\anaconda3\\lib\\site-packages\\optuna\\trial\\_trial.py:772: RuntimeWarning: Inconsistent parameter values for distribution with name \"min_child_weight\"! This might be a configuration mistake. Optuna allows to call the same distribution with the same name more then once in a trial. When the parameter values are inconsistent optuna only uses the values of the first call and ignores all following. Using these values: {'low': 0.0, 'high': 10.0}\n",
      "  warnings.warn(\n",
      "\u001b[32m[I 2022-05-29 22:52:02,018]\u001b[0m Trial 71 finished with value: 0.6722391084093212 and parameters: {'booster': 'gbtree', 'lambda': 0.6988044356715796, 'alpha': 0.004252680753394088, 'learning_rate': 0.5220659588449301, 'gamma': 1.0498689439603064, 'n_estimators': 488, 'max_depth': 8, 'min_child_weight': 1.843701884543418}. Best is trial 70 with value: 0.6777862016679302.\u001b[0m\n",
      "C:\\Users\\Lucas\\anaconda3\\lib\\site-packages\\optuna\\trial\\_trial.py:772: RuntimeWarning: Inconsistent parameter values for distribution with name \"min_child_weight\"! This might be a configuration mistake. Optuna allows to call the same distribution with the same name more then once in a trial. When the parameter values are inconsistent optuna only uses the values of the first call and ignores all following. Using these values: {'low': 0.0, 'high': 10.0}\n",
      "  warnings.warn(\n",
      "\u001b[32m[I 2022-05-29 22:52:02,094]\u001b[0m Trial 72 finished with value: 0.6677667766776678 and parameters: {'booster': 'gbtree', 'lambda': 0.6655983364608289, 'alpha': 0.005202982438041674, 'learning_rate': 0.5241545608597207, 'gamma': 0.9176892275878734, 'n_estimators': 480, 'max_depth': 8, 'min_child_weight': 1.3786596346239794}. Best is trial 70 with value: 0.6777862016679302.\u001b[0m\n",
      "C:\\Users\\Lucas\\anaconda3\\lib\\site-packages\\optuna\\trial\\_trial.py:772: RuntimeWarning: Inconsistent parameter values for distribution with name \"min_child_weight\"! This might be a configuration mistake. Optuna allows to call the same distribution with the same name more then once in a trial. When the parameter values are inconsistent optuna only uses the values of the first call and ignores all following. Using these values: {'low': 0.0, 'high': 10.0}\n",
      "  warnings.warn(\n",
      "\u001b[32m[I 2022-05-29 22:52:02,165]\u001b[0m Trial 73 finished with value: 0.6774683544303797 and parameters: {'booster': 'gbtree', 'lambda': 0.2752292289834585, 'alpha': 0.009713275436601432, 'learning_rate': 0.7069720396770266, 'gamma': 0.5558318946535044, 'n_estimators': 614, 'max_depth': 7, 'min_child_weight': 1.8230041490591653}. Best is trial 70 with value: 0.6777862016679302.\u001b[0m\n",
      "C:\\Users\\Lucas\\anaconda3\\lib\\site-packages\\optuna\\trial\\_trial.py:772: RuntimeWarning: Inconsistent parameter values for distribution with name \"min_child_weight\"! This might be a configuration mistake. Optuna allows to call the same distribution with the same name more then once in a trial. When the parameter values are inconsistent optuna only uses the values of the first call and ignores all following. Using these values: {'low': 0.0, 'high': 10.0}\n",
      "  warnings.warn(\n",
      "\u001b[32m[I 2022-05-29 22:52:02,237]\u001b[0m Trial 74 finished with value: 0.6697843595739152 and parameters: {'booster': 'gbtree', 'lambda': 0.9265802232337866, 'alpha': 0.0009827982266657157, 'learning_rate': 0.7066175449402151, 'gamma': 1.2655346019990465, 'n_estimators': 589, 'max_depth': 7, 'min_child_weight': 1.6898794057872137}. Best is trial 70 with value: 0.6777862016679302.\u001b[0m\n",
      "C:\\Users\\Lucas\\anaconda3\\lib\\site-packages\\optuna\\trial\\_trial.py:772: RuntimeWarning: Inconsistent parameter values for distribution with name \"min_child_weight\"! This might be a configuration mistake. Optuna allows to call the same distribution with the same name more then once in a trial. When the parameter values are inconsistent optuna only uses the values of the first call and ignores all following. Using these values: {'low': 0.0, 'high': 10.0}\n",
      "  warnings.warn(\n",
      "\u001b[32m[I 2022-05-29 22:52:02,316]\u001b[0m Trial 75 finished with value: 0.5824974057419577 and parameters: {'booster': 'gbtree', 'lambda': 0.2609794939916224, 'alpha': 0.009453075593234874, 'learning_rate': 0.5972819603379881, 'gamma': 0.40405381980227306, 'n_estimators': 644, 'max_depth': 7, 'min_child_weight': 0.6390673637362065}. Best is trial 70 with value: 0.6777862016679302.\u001b[0m\n",
      "C:\\Users\\Lucas\\anaconda3\\lib\\site-packages\\optuna\\trial\\_trial.py:772: RuntimeWarning: Inconsistent parameter values for distribution with name \"min_child_weight\"! This might be a configuration mistake. Optuna allows to call the same distribution with the same name more then once in a trial. When the parameter values are inconsistent optuna only uses the values of the first call and ignores all following. Using these values: {'low': 0.0, 'high': 10.0}\n",
      "  warnings.warn(\n",
      "\u001b[32m[I 2022-05-29 22:52:02,388]\u001b[0m Trial 76 finished with value: 0.6791967044284243 and parameters: {'booster': 'gbtree', 'lambda': 0.5475522566254769, 'alpha': 0.0039776637201154605, 'learning_rate': 0.8255143264742585, 'gamma': 2.1427263718358383, 'n_estimators': 611, 'max_depth': 6, 'min_child_weight': 1.7581369648319798}. Best is trial 76 with value: 0.6791967044284243.\u001b[0m\n",
      "C:\\Users\\Lucas\\anaconda3\\lib\\site-packages\\optuna\\trial\\_trial.py:772: RuntimeWarning: Inconsistent parameter values for distribution with name \"min_child_weight\"! This might be a configuration mistake. Optuna allows to call the same distribution with the same name more then once in a trial. When the parameter values are inconsistent optuna only uses the values of the first call and ignores all following. Using these values: {'low': 0.0, 'high': 10.0}\n",
      "  warnings.warn(\n",
      "\u001b[32m[I 2022-05-29 22:52:02,455]\u001b[0m Trial 77 finished with value: 0.6725239616613419 and parameters: {'booster': 'gbtree', 'lambda': 0.5257368238785959, 'alpha': 0.00034403000253735634, 'learning_rate': 0.8605583518289708, 'gamma': 2.3262030703489365, 'n_estimators': 705, 'max_depth': 6, 'min_child_weight': 1.6520473954770107}. Best is trial 76 with value: 0.6791967044284243.\u001b[0m\n",
      "C:\\Users\\Lucas\\anaconda3\\lib\\site-packages\\optuna\\trial\\_trial.py:772: RuntimeWarning: Inconsistent parameter values for distribution with name \"min_child_weight\"! This might be a configuration mistake. Optuna allows to call the same distribution with the same name more then once in a trial. When the parameter values are inconsistent optuna only uses the values of the first call and ignores all following. Using these values: {'low': 0.0, 'high': 10.0}\n",
      "  warnings.warn(\n",
      "\u001b[32m[I 2022-05-29 22:52:02,522]\u001b[0m Trial 78 finished with value: 0.6480214221957751 and parameters: {'booster': 'gbtree', 'lambda': 0.5106150251603052, 'alpha': 4.429267726705093e-05, 'learning_rate': 0.872103057268359, 'gamma': 6.673568976486151, 'n_estimators': 707, 'max_depth': 6, 'min_child_weight': 1.1199234876929056}. Best is trial 76 with value: 0.6791967044284243.\u001b[0m\n",
      "C:\\Users\\Lucas\\anaconda3\\lib\\site-packages\\optuna\\trial\\_trial.py:772: RuntimeWarning: Inconsistent parameter values for distribution with name \"min_child_weight\"! This might be a configuration mistake. Optuna allows to call the same distribution with the same name more then once in a trial. When the parameter values are inconsistent optuna only uses the values of the first call and ignores all following. Using these values: {'low': 0.0, 'high': 10.0}\n",
      "  warnings.warn(\n",
      "\u001b[32m[I 2022-05-29 22:52:02,584]\u001b[0m Trial 79 finished with value: 0.6593530239099858 and parameters: {'booster': 'gbtree', 'lambda': 0.12633971940467134, 'alpha': 0.00043432551627002315, 'learning_rate': 0.9858628504861563, 'gamma': 0.693600218942865, 'n_estimators': 784, 'max_depth': 5, 'min_child_weight': 1.4843088345561843}. Best is trial 76 with value: 0.6791967044284243.\u001b[0m\n"
     ]
    },
    {
     "name": "stderr",
     "output_type": "stream",
     "text": [
      "C:\\Users\\Lucas\\anaconda3\\lib\\site-packages\\optuna\\trial\\_trial.py:772: RuntimeWarning: Inconsistent parameter values for distribution with name \"min_child_weight\"! This might be a configuration mistake. Optuna allows to call the same distribution with the same name more then once in a trial. When the parameter values are inconsistent optuna only uses the values of the first call and ignores all following. Using these values: {'low': 0.0, 'high': 10.0}\n",
      "  warnings.warn(\n",
      "\u001b[32m[I 2022-05-29 22:52:02,646]\u001b[0m Trial 80 finished with value: 0.614481409001957 and parameters: {'booster': 'gbtree', 'lambda': 0.9567296206067071, 'alpha': 0.0016314251547936728, 'learning_rate': 0.7608831542258641, 'gamma': 2.7178096139314314, 'n_estimators': 612, 'max_depth': 5, 'min_child_weight': 0.8053723733126394}. Best is trial 76 with value: 0.6791967044284243.\u001b[0m\n",
      "C:\\Users\\Lucas\\anaconda3\\lib\\site-packages\\optuna\\trial\\_trial.py:772: RuntimeWarning: Inconsistent parameter values for distribution with name \"min_child_weight\"! This might be a configuration mistake. Optuna allows to call the same distribution with the same name more then once in a trial. When the parameter values are inconsistent optuna only uses the values of the first call and ignores all following. Using these values: {'low': 0.0, 'high': 10.0}\n",
      "  warnings.warn(\n",
      "\u001b[32m[I 2022-05-29 22:52:02,714]\u001b[0m Trial 81 finished with value: 0.6666666666666666 and parameters: {'booster': 'gbtree', 'lambda': 0.22387198895025667, 'alpha': 0.003012597716441483, 'learning_rate': 0.6807533528002735, 'gamma': 1.9681765609025088, 'n_estimators': 653, 'max_depth': 6, 'min_child_weight': 1.7508450461675527}. Best is trial 76 with value: 0.6791967044284243.\u001b[0m\n",
      "C:\\Users\\Lucas\\anaconda3\\lib\\site-packages\\optuna\\trial\\_trial.py:772: RuntimeWarning: Inconsistent parameter values for distribution with name \"min_child_weight\"! This might be a configuration mistake. Optuna allows to call the same distribution with the same name more then once in a trial. When the parameter values are inconsistent optuna only uses the values of the first call and ignores all following. Using these values: {'low': 0.0, 'high': 10.0}\n",
      "  warnings.warn(\n",
      "\u001b[32m[I 2022-05-29 22:52:02,783]\u001b[0m Trial 82 finished with value: 0.6657464918334485 and parameters: {'booster': 'gbtree', 'lambda': 0.49056135528732614, 'alpha': 0.0017429713930103591, 'learning_rate': 0.6533077419399358, 'gamma': 1.1485350757997037, 'n_estimators': 710, 'max_depth': 6, 'min_child_weight': 2.2373693811561157}. Best is trial 76 with value: 0.6791967044284243.\u001b[0m\n",
      "C:\\Users\\Lucas\\anaconda3\\lib\\site-packages\\optuna\\trial\\_trial.py:772: RuntimeWarning: Inconsistent parameter values for distribution with name \"min_child_weight\"! This might be a configuration mistake. Optuna allows to call the same distribution with the same name more then once in a trial. When the parameter values are inconsistent optuna only uses the values of the first call and ignores all following. Using these values: {'low': 0.0, 'high': 10.0}\n",
      "  warnings.warn(\n",
      "\u001b[32m[I 2022-05-29 22:52:02,853]\u001b[0m Trial 83 finished with value: 0.6721479958890031 and parameters: {'booster': 'gbtree', 'lambda': 0.1347530392736811, 'alpha': 7.313531976424404e-05, 'learning_rate': 0.794182963453336, 'gamma': 16.953030321082544, 'n_estimators': 562, 'max_depth': 7, 'min_child_weight': 1.7953321105708373}. Best is trial 76 with value: 0.6791967044284243.\u001b[0m\n",
      "C:\\Users\\Lucas\\anaconda3\\lib\\site-packages\\optuna\\trial\\_trial.py:772: RuntimeWarning: Inconsistent parameter values for distribution with name \"min_child_weight\"! This might be a configuration mistake. Optuna allows to call the same distribution with the same name more then once in a trial. When the parameter values are inconsistent optuna only uses the values of the first call and ignores all following. Using these values: {'low': 0.0, 'high': 10.0}\n",
      "  warnings.warn(\n",
      "\u001b[32m[I 2022-05-29 22:52:02,927]\u001b[0m Trial 84 finished with value: 0.6572484242555965 and parameters: {'booster': 'gbtree', 'lambda': 0.12153987835163471, 'alpha': 6.320719271973578e-05, 'learning_rate': 0.8410956241417431, 'gamma': 19.101888755915752, 'n_estimators': 558, 'max_depth': 7, 'min_child_weight': 2.6484057179821843}. Best is trial 76 with value: 0.6791967044284243.\u001b[0m\n",
      "C:\\Users\\Lucas\\anaconda3\\lib\\site-packages\\optuna\\trial\\_trial.py:772: RuntimeWarning: Inconsistent parameter values for distribution with name \"min_child_weight\"! This might be a configuration mistake. Optuna allows to call the same distribution with the same name more then once in a trial. When the parameter values are inconsistent optuna only uses the values of the first call and ignores all following. Using these values: {'low': 0.0, 'high': 10.0}\n",
      "  warnings.warn(\n",
      "\u001b[32m[I 2022-05-29 22:52:03,001]\u001b[0m Trial 85 finished with value: 0.656121045392022 and parameters: {'booster': 'gbtree', 'lambda': 0.2182902201532259, 'alpha': 0.00011033561723777954, 'learning_rate': 0.7475337300215327, 'gamma': 69.48991324548497, 'n_estimators': 604, 'max_depth': 6, 'min_child_weight': 2.3830425090143352}. Best is trial 76 with value: 0.6791967044284243.\u001b[0m\n",
      "C:\\Users\\Lucas\\anaconda3\\lib\\site-packages\\optuna\\trial\\_trial.py:772: RuntimeWarning: Inconsistent parameter values for distribution with name \"min_child_weight\"! This might be a configuration mistake. Optuna allows to call the same distribution with the same name more then once in a trial. When the parameter values are inconsistent optuna only uses the values of the first call and ignores all following. Using these values: {'low': 0.0, 'high': 10.0}\n",
      "  warnings.warn(\n",
      "\u001b[32m[I 2022-05-29 22:52:03,080]\u001b[0m Trial 86 finished with value: 0.6171428571428572 and parameters: {'booster': 'gbtree', 'lambda': 0.44392377532452737, 'alpha': 0.0004605318350501433, 'learning_rate': 0.012986102938621633, 'gamma': 39.13877887652019, 'n_estimators': 768, 'max_depth': 7, 'min_child_weight': 1.6002191504273697}. Best is trial 76 with value: 0.6791967044284243.\u001b[0m\n",
      "C:\\Users\\Lucas\\anaconda3\\lib\\site-packages\\optuna\\trial\\_trial.py:772: RuntimeWarning: Inconsistent parameter values for distribution with name \"min_child_weight\"! This might be a configuration mistake. Optuna allows to call the same distribution with the same name more then once in a trial. When the parameter values are inconsistent optuna only uses the values of the first call and ignores all following. Using these values: {'low': 0.0, 'high': 10.0}\n",
      "  warnings.warn(\n",
      "\u001b[32m[I 2022-05-29 22:52:03,130]\u001b[0m Trial 87 finished with value: 0.26367713004484306 and parameters: {'booster': 'gblinear', 'lambda': 0.06203776780393835, 'alpha': 0.00021773058333720318, 'learning_rate': 0.5816253787625371, 'gamma': 4.39041440454419, 'n_estimators': 821, 'max_depth': 6, 'min_child_weight': 0.27752077241545736}. Best is trial 76 with value: 0.6791967044284243.\u001b[0m\n",
      "C:\\Users\\Lucas\\anaconda3\\lib\\site-packages\\optuna\\trial\\_trial.py:772: RuntimeWarning: Inconsistent parameter values for distribution with name \"min_child_weight\"! This might be a configuration mistake. Optuna allows to call the same distribution with the same name more then once in a trial. When the parameter values are inconsistent optuna only uses the values of the first call and ignores all following. Using these values: {'low': 0.0, 'high': 10.0}\n",
      "  warnings.warn(\n",
      "\u001b[32m[I 2022-05-29 22:52:03,198]\u001b[0m Trial 88 finished with value: 0.6563220801006501 and parameters: {'booster': 'gbtree', 'lambda': 0.2873169647892847, 'alpha': 2.7615964686441853e-05, 'learning_rate': 0.889622033848979, 'gamma': 11.364382082209977, 'n_estimators': 511, 'max_depth': 7, 'min_child_weight': 2.985121795372187}. Best is trial 76 with value: 0.6791967044284243.\u001b[0m\n",
      "C:\\Users\\Lucas\\anaconda3\\lib\\site-packages\\optuna\\trial\\_trial.py:772: RuntimeWarning: Inconsistent parameter values for distribution with name \"min_child_weight\"! This might be a configuration mistake. Optuna allows to call the same distribution with the same name more then once in a trial. When the parameter values are inconsistent optuna only uses the values of the first call and ignores all following. Using these values: {'low': 0.0, 'high': 10.0}\n",
      "  warnings.warn(\n",
      "\u001b[32m[I 2022-05-29 22:52:03,245]\u001b[0m Trial 89 finished with value: 0.5273175890024674 and parameters: {'booster': 'gbtree', 'lambda': 0.6028815570389656, 'alpha': 0.004230704080283441, 'learning_rate': 0.4479940615339151, 'gamma': 176.43937936487035, 'n_estimators': 560, 'max_depth': 1, 'min_child_weight': 1.1944993744070245}. Best is trial 76 with value: 0.6791967044284243.\u001b[0m\n"
     ]
    },
    {
     "name": "stderr",
     "output_type": "stream",
     "text": [
      "C:\\Users\\Lucas\\anaconda3\\lib\\site-packages\\optuna\\trial\\_trial.py:772: RuntimeWarning: Inconsistent parameter values for distribution with name \"min_child_weight\"! This might be a configuration mistake. Optuna allows to call the same distribution with the same name more then once in a trial. When the parameter values are inconsistent optuna only uses the values of the first call and ignores all following. Using these values: {'low': 0.0, 'high': 10.0}\n",
      "  warnings.warn(\n",
      "\u001b[32m[I 2022-05-29 22:52:03,312]\u001b[0m Trial 90 finished with value: 0.6224459579508439 and parameters: {'booster': 'gbtree', 'lambda': 0.09376423415607985, 'alpha': 7.444043074515741e-06, 'learning_rate': 0.04023421774435576, 'gamma': 0.267439799747192, 'n_estimators': 530, 'max_depth': 6, 'min_child_weight': 1.7957411356016768}. Best is trial 76 with value: 0.6791967044284243.\u001b[0m\n",
      "C:\\Users\\Lucas\\anaconda3\\lib\\site-packages\\optuna\\trial\\_trial.py:772: RuntimeWarning: Inconsistent parameter values for distribution with name \"min_child_weight\"! This might be a configuration mistake. Optuna allows to call the same distribution with the same name more then once in a trial. When the parameter values are inconsistent optuna only uses the values of the first call and ignores all following. Using these values: {'low': 0.0, 'high': 10.0}\n",
      "  warnings.warn(\n",
      "\u001b[32m[I 2022-05-29 22:52:03,388]\u001b[0m Trial 91 finished with value: 0.6728596535274919 and parameters: {'booster': 'gbtree', 'lambda': 0.15998685500755272, 'alpha': 0.008340236437698607, 'learning_rate': 0.8002370831271425, 'gamma': 1.964968367009298, 'n_estimators': 659, 'max_depth': 8, 'min_child_weight': 1.9004400679068718}. Best is trial 76 with value: 0.6791967044284243.\u001b[0m\n",
      "C:\\Users\\Lucas\\anaconda3\\lib\\site-packages\\optuna\\trial\\_trial.py:772: RuntimeWarning: Inconsistent parameter values for distribution with name \"min_child_weight\"! This might be a configuration mistake. Optuna allows to call the same distribution with the same name more then once in a trial. When the parameter values are inconsistent optuna only uses the values of the first call and ignores all following. Using these values: {'low': 0.0, 'high': 10.0}\n",
      "  warnings.warn(\n",
      "\u001b[32m[I 2022-05-29 22:52:03,464]\u001b[0m Trial 92 finished with value: 0.6708701134930644 and parameters: {'booster': 'gbtree', 'lambda': 0.14849055617304682, 'alpha': 0.00822633361217626, 'learning_rate': 0.791302161667108, 'gamma': 0.5479189839496558, 'n_estimators': 664, 'max_depth': 8, 'min_child_weight': 1.9270655318513388}. Best is trial 76 with value: 0.6791967044284243.\u001b[0m\n",
      "C:\\Users\\Lucas\\anaconda3\\lib\\site-packages\\optuna\\trial\\_trial.py:772: RuntimeWarning: Inconsistent parameter values for distribution with name \"min_child_weight\"! This might be a configuration mistake. Optuna allows to call the same distribution with the same name more then once in a trial. When the parameter values are inconsistent optuna only uses the values of the first call and ignores all following. Using these values: {'low': 0.0, 'high': 10.0}\n",
      "  warnings.warn(\n",
      "\u001b[32m[I 2022-05-29 22:52:03,541]\u001b[0m Trial 93 finished with value: 0.6681964203763194 and parameters: {'booster': 'gbtree', 'lambda': 0.9455057009319662, 'alpha': 0.0007975196943380588, 'learning_rate': 0.6980361064036543, 'gamma': 3.1564546536085967, 'n_estimators': 634, 'max_depth': 8, 'min_child_weight': 2.2888188981859376}. Best is trial 76 with value: 0.6791967044284243.\u001b[0m\n",
      "C:\\Users\\Lucas\\anaconda3\\lib\\site-packages\\optuna\\trial\\_trial.py:772: RuntimeWarning: Inconsistent parameter values for distribution with name \"min_child_weight\"! This might be a configuration mistake. Optuna allows to call the same distribution with the same name more then once in a trial. When the parameter values are inconsistent optuna only uses the values of the first call and ignores all following. Using these values: {'low': 0.0, 'high': 10.0}\n",
      "  warnings.warn(\n",
      "\u001b[32m[I 2022-05-29 22:52:03,617]\u001b[0m Trial 94 finished with value: 0.6640819717529771 and parameters: {'booster': 'gbtree', 'lambda': 0.36729654995849254, 'alpha': 0.01033566754142201, 'learning_rate': 0.5598304877672542, 'gamma': 1.1253910968869891, 'n_estimators': 688, 'max_depth': 7, 'min_child_weight': 1.4786899720210407}. Best is trial 76 with value: 0.6791967044284243.\u001b[0m\n",
      "C:\\Users\\Lucas\\anaconda3\\lib\\site-packages\\optuna\\trial\\_trial.py:772: RuntimeWarning: Inconsistent parameter values for distribution with name \"min_child_weight\"! This might be a configuration mistake. Optuna allows to call the same distribution with the same name more then once in a trial. When the parameter values are inconsistent optuna only uses the values of the first call and ignores all following. Using these values: {'low': 0.0, 'high': 10.0}\n",
      "  warnings.warn(\n",
      "\u001b[32m[I 2022-05-29 22:52:03,691]\u001b[0m Trial 95 finished with value: 0.6240101362052581 and parameters: {'booster': 'gbtree', 'lambda': 0.2197671843881988, 'alpha': 0.004633345288796144, 'learning_rate': 0.948610563986629, 'gamma': 8.086974647769134, 'n_estimators': 602, 'max_depth': 8, 'min_child_weight': 0.9266995603385073}. Best is trial 76 with value: 0.6791967044284243.\u001b[0m\n",
      "C:\\Users\\Lucas\\anaconda3\\lib\\site-packages\\optuna\\trial\\_trial.py:772: RuntimeWarning: Inconsistent parameter values for distribution with name \"min_child_weight\"! This might be a configuration mistake. Optuna allows to call the same distribution with the same name more then once in a trial. When the parameter values are inconsistent optuna only uses the values of the first call and ignores all following. Using these values: {'low': 0.0, 'high': 10.0}\n",
      "  warnings.warn(\n",
      "\u001b[32m[I 2022-05-29 22:52:03,767]\u001b[0m Trial 96 finished with value: 0.6692272932670583 and parameters: {'booster': 'gbtree', 'lambda': 0.04692543696926193, 'alpha': 0.029369830018116154, 'learning_rate': 0.6424432421736037, 'gamma': 1.867388273142161, 'n_estimators': 756, 'max_depth': 8, 'min_child_weight': 2.5069917260221293}. Best is trial 76 with value: 0.6791967044284243.\u001b[0m\n",
      "C:\\Users\\Lucas\\anaconda3\\lib\\site-packages\\optuna\\trial\\_trial.py:772: RuntimeWarning: Inconsistent parameter values for distribution with name \"min_child_weight\"! This might be a configuration mistake. Optuna allows to call the same distribution with the same name more then once in a trial. When the parameter values are inconsistent optuna only uses the values of the first call and ignores all following. Using these values: {'low': 0.0, 'high': 10.0}\n",
      "  warnings.warn(\n",
      "\u001b[32m[I 2022-05-29 22:52:03,839]\u001b[0m Trial 97 finished with value: 0.6727595836506729 and parameters: {'booster': 'gbtree', 'lambda': 2.2065167000923422e-06, 'alpha': 0.0001559317042853286, 'learning_rate': 0.8116018747258579, 'gamma': 6.180195211277771, 'n_estimators': 893, 'max_depth': 7, 'min_child_weight': 1.8476950752328163}. Best is trial 76 with value: 0.6791967044284243.\u001b[0m\n",
      "C:\\Users\\Lucas\\anaconda3\\lib\\site-packages\\optuna\\trial\\_trial.py:772: RuntimeWarning: Inconsistent parameter values for distribution with name \"min_child_weight\"! This might be a configuration mistake. Optuna allows to call the same distribution with the same name more then once in a trial. When the parameter values are inconsistent optuna only uses the values of the first call and ignores all following. Using these values: {'low': 0.0, 'high': 10.0}\n",
      "  warnings.warn(\n",
      "\u001b[32m[I 2022-05-29 22:52:03,910]\u001b[0m Trial 98 finished with value: 0.6597641645096348 and parameters: {'booster': 'gbtree', 'lambda': 1.2943275219047178e-06, 'alpha': 0.00018781474140293025, 'learning_rate': 0.8626651334781419, 'gamma': 0.48283089357209863, 'n_estimators': 917, 'max_depth': 7, 'min_child_weight': 1.3339074740660894}. Best is trial 76 with value: 0.6791967044284243.\u001b[0m\n",
      "C:\\Users\\Lucas\\anaconda3\\lib\\site-packages\\optuna\\trial\\_trial.py:772: RuntimeWarning: Inconsistent parameter values for distribution with name \"min_child_weight\"! This might be a configuration mistake. Optuna allows to call the same distribution with the same name more then once in a trial. When the parameter values are inconsistent optuna only uses the values of the first call and ignores all following. Using these values: {'low': 0.0, 'high': 10.0}\n",
      "  warnings.warn(\n",
      "\u001b[32m[I 2022-05-29 22:52:03,977]\u001b[0m Trial 99 finished with value: 0.6771692923230808 and parameters: {'booster': 'gbtree', 'lambda': 5.129014879753449e-06, 'alpha': 0.00039490200370503274, 'learning_rate': 0.7973738067348421, 'gamma': 0.12827098425711708, 'n_estimators': 987, 'max_depth': 6, 'min_child_weight': 1.9359437583327603}. Best is trial 76 with value: 0.6791967044284243.\u001b[0m\n"
     ]
    },
    {
     "name": "stderr",
     "output_type": "stream",
     "text": [
      "C:\\Users\\Lucas\\anaconda3\\lib\\site-packages\\optuna\\trial\\_trial.py:772: RuntimeWarning: Inconsistent parameter values for distribution with name \"min_child_weight\"! This might be a configuration mistake. Optuna allows to call the same distribution with the same name more then once in a trial. When the parameter values are inconsistent optuna only uses the values of the first call and ignores all following. Using these values: {'low': 0.0, 'high': 10.0}\n",
      "  warnings.warn(\n",
      "\u001b[32m[I 2022-05-29 22:52:04,039]\u001b[0m Trial 100 finished with value: 0.6651130272663714 and parameters: {'booster': 'gbtree', 'lambda': 5.360853924880364e-06, 'alpha': 0.00040740156145467875, 'learning_rate': 0.6345909362867576, 'gamma': 0.1290874472226982, 'n_estimators': 987, 'max_depth': 5, 'min_child_weight': 2.175971752990114}. Best is trial 76 with value: 0.6791967044284243.\u001b[0m\n",
      "C:\\Users\\Lucas\\anaconda3\\lib\\site-packages\\optuna\\trial\\_trial.py:772: RuntimeWarning: Inconsistent parameter values for distribution with name \"min_child_weight\"! This might be a configuration mistake. Optuna allows to call the same distribution with the same name more then once in a trial. When the parameter values are inconsistent optuna only uses the values of the first call and ignores all following. Using these values: {'low': 0.0, 'high': 10.0}\n",
      "  warnings.warn(\n",
      "\u001b[32m[I 2022-05-29 22:52:04,109]\u001b[0m Trial 101 finished with value: 0.6781376518218624 and parameters: {'booster': 'gbtree', 'lambda': 2.420406641963752e-06, 'alpha': 5.442959393017584e-05, 'learning_rate': 0.8076001640906013, 'gamma': 0.8188923665310851, 'n_estimators': 897, 'max_depth': 6, 'min_child_weight': 1.9144933685625112}. Best is trial 76 with value: 0.6791967044284243.\u001b[0m\n",
      "C:\\Users\\Lucas\\anaconda3\\lib\\site-packages\\optuna\\trial\\_trial.py:772: RuntimeWarning: Inconsistent parameter values for distribution with name \"min_child_weight\"! This might be a configuration mistake. Optuna allows to call the same distribution with the same name more then once in a trial. When the parameter values are inconsistent optuna only uses the values of the first call and ignores all following. Using these values: {'low': 0.0, 'high': 10.0}\n",
      "  warnings.warn(\n",
      "\u001b[32m[I 2022-05-29 22:52:04,179]\u001b[0m Trial 102 finished with value: 0.6802005012531328 and parameters: {'booster': 'gbtree', 'lambda': 7.391699806840038e-07, 'alpha': 0.00013085324444590148, 'learning_rate': 0.9684332505990781, 'gamma': 0.21006892885989525, 'n_estimators': 899, 'max_depth': 6, 'min_child_weight': 2.0419546609696737}. Best is trial 102 with value: 0.6802005012531328.\u001b[0m\n",
      "C:\\Users\\Lucas\\anaconda3\\lib\\site-packages\\optuna\\trial\\_trial.py:772: RuntimeWarning: Inconsistent parameter values for distribution with name \"min_child_weight\"! This might be a configuration mistake. Optuna allows to call the same distribution with the same name more then once in a trial. When the parameter values are inconsistent optuna only uses the values of the first call and ignores all following. Using these values: {'low': 0.0, 'high': 10.0}\n",
      "  warnings.warn(\n",
      "\u001b[32m[I 2022-05-29 22:52:04,246]\u001b[0m Trial 103 finished with value: 0.656429942418426 and parameters: {'booster': 'gbtree', 'lambda': 5.522453624465094e-07, 'alpha': 0.00016669394933821013, 'learning_rate': 0.992530525291853, 'gamma': 0.33241434146653565, 'n_estimators': 876, 'max_depth': 6, 'min_child_weight': 2.790370052615192}. Best is trial 102 with value: 0.6802005012531328.\u001b[0m\n",
      "C:\\Users\\Lucas\\anaconda3\\lib\\site-packages\\optuna\\trial\\_trial.py:772: RuntimeWarning: Inconsistent parameter values for distribution with name \"min_child_weight\"! This might be a configuration mistake. Optuna allows to call the same distribution with the same name more then once in a trial. When the parameter values are inconsistent optuna only uses the values of the first call and ignores all following. Using these values: {'low': 0.0, 'high': 10.0}\n",
      "  warnings.warn(\n",
      "\u001b[32m[I 2022-05-29 22:52:04,313]\u001b[0m Trial 104 finished with value: 0.666352719566753 and parameters: {'booster': 'gbtree', 'lambda': 2.946804601434906e-06, 'alpha': 4.58469147198884e-05, 'learning_rate': 0.7438422776584033, 'gamma': 0.20095141751393902, 'n_estimators': 916, 'max_depth': 6, 'min_child_weight': 2.0332371677183723}. Best is trial 102 with value: 0.6802005012531328.\u001b[0m\n",
      "C:\\Users\\Lucas\\anaconda3\\lib\\site-packages\\optuna\\trial\\_trial.py:772: RuntimeWarning: Inconsistent parameter values for distribution with name \"min_child_weight\"! This might be a configuration mistake. Optuna allows to call the same distribution with the same name more then once in a trial. When the parameter values are inconsistent optuna only uses the values of the first call and ignores all following. Using these values: {'low': 0.0, 'high': 10.0}\n",
      "  warnings.warn(\n",
      "\u001b[32m[I 2022-05-29 22:52:04,363]\u001b[0m Trial 105 finished with value: 0.6045003040745996 and parameters: {'booster': 'gblinear', 'lambda': 4.378524457305082e-07, 'alpha': 0.00012711893319631678, 'learning_rate': 0.8201833356192416, 'gamma': 0.759725338797161, 'n_estimators': 881, 'max_depth': 5, 'min_child_weight': 3.4270068755045155}. Best is trial 102 with value: 0.6802005012531328.\u001b[0m\n",
      "C:\\Users\\Lucas\\anaconda3\\lib\\site-packages\\optuna\\trial\\_trial.py:772: RuntimeWarning: Inconsistent parameter values for distribution with name \"min_child_weight\"! This might be a configuration mistake. Optuna allows to call the same distribution with the same name more then once in a trial. When the parameter values are inconsistent optuna only uses the values of the first call and ignores all following. Using these values: {'low': 0.0, 'high': 10.0}\n",
      "  warnings.warn(\n",
      "\u001b[32m[I 2022-05-29 22:52:04,432]\u001b[0m Trial 106 finished with value: 0.6613078427112752 and parameters: {'booster': 'gbtree', 'lambda': 2.602718769942715e-06, 'alpha': 0.00033812604631333604, 'learning_rate': 0.9110706279300006, 'gamma': 0.13864645991114213, 'n_estimators': 988, 'max_depth': 6, 'min_child_weight': 2.583156049894508}. Best is trial 102 with value: 0.6802005012531328.\u001b[0m\n",
      "C:\\Users\\Lucas\\anaconda3\\lib\\site-packages\\optuna\\trial\\_trial.py:772: RuntimeWarning: Inconsistent parameter values for distribution with name \"min_child_weight\"! This might be a configuration mistake. Optuna allows to call the same distribution with the same name more then once in a trial. When the parameter values are inconsistent optuna only uses the values of the first call and ignores all following. Using these values: {'low': 0.0, 'high': 10.0}\n",
      "  warnings.warn(\n",
      "\u001b[32m[I 2022-05-29 22:52:04,503]\u001b[0m Trial 107 finished with value: 0.6588971006253552 and parameters: {'booster': 'gbtree', 'lambda': 7.4840001191337016e-06, 'alpha': 0.0005673153522230809, 'learning_rate': 0.703495823266297, 'gamma': 0.07261123145077712, 'n_estimators': 883, 'max_depth': 6, 'min_child_weight': 1.478140341039129}. Best is trial 102 with value: 0.6802005012531328.\u001b[0m\n",
      "C:\\Users\\Lucas\\anaconda3\\lib\\site-packages\\optuna\\trial\\_trial.py:772: RuntimeWarning: Inconsistent parameter values for distribution with name \"min_child_weight\"! This might be a configuration mistake. Optuna allows to call the same distribution with the same name more then once in a trial. When the parameter values are inconsistent optuna only uses the values of the first call and ignores all following. Using these values: {'low': 0.0, 'high': 10.0}\n",
      "  warnings.warn(\n",
      "\u001b[32m[I 2022-05-29 22:52:04,571]\u001b[0m Trial 108 finished with value: 0.6648924373475272 and parameters: {'booster': 'gbtree', 'lambda': 2.3414897943304805e-05, 'alpha': 1.6751716921297745e-05, 'learning_rate': 0.9979998383514922, 'gamma': 0.2443712225201596, 'n_estimators': 955, 'max_depth': 6, 'min_child_weight': 2.3690140298123414}. Best is trial 102 with value: 0.6802005012531328.\u001b[0m\n",
      "C:\\Users\\Lucas\\anaconda3\\lib\\site-packages\\optuna\\trial\\_trial.py:772: RuntimeWarning: Inconsistent parameter values for distribution with name \"min_child_weight\"! This might be a configuration mistake. Optuna allows to call the same distribution with the same name more then once in a trial. When the parameter values are inconsistent optuna only uses the values of the first call and ignores all following. Using these values: {'low': 0.0, 'high': 10.0}\n",
      "  warnings.warn(\n"
     ]
    },
    {
     "name": "stderr",
     "output_type": "stream",
     "text": [
      "\u001b[32m[I 2022-05-29 22:52:04,639]\u001b[0m Trial 109 finished with value: 0.6711039706219876 and parameters: {'booster': 'gbtree', 'lambda': 1.518289298178069e-07, 'alpha': 1.7529373752624872e-06, 'learning_rate': 0.8349356356488729, 'gamma': 1.5024633369867268, 'n_estimators': 851, 'max_depth': 6, 'min_child_weight': 2.1827902156700607}. Best is trial 102 with value: 0.6802005012531328.\u001b[0m\n",
      "C:\\Users\\Lucas\\anaconda3\\lib\\site-packages\\optuna\\trial\\_trial.py:772: RuntimeWarning: Inconsistent parameter values for distribution with name \"min_child_weight\"! This might be a configuration mistake. Optuna allows to call the same distribution with the same name more then once in a trial. When the parameter values are inconsistent optuna only uses the values of the first call and ignores all following. Using these values: {'low': 0.0, 'high': 10.0}\n",
      "  warnings.warn(\n",
      "\u001b[32m[I 2022-05-29 22:52:04,703]\u001b[0m Trial 110 finished with value: 0.5940257976917854 and parameters: {'booster': 'gbtree', 'lambda': 2.8283738172969885e-06, 'alpha': 4.482048354286544e-05, 'learning_rate': 0.6046117465642753, 'gamma': 2.27464596106721, 'n_estimators': 808, 'max_depth': 5, 'min_child_weight': 0.7380778542252171}. Best is trial 102 with value: 0.6802005012531328.\u001b[0m\n",
      "C:\\Users\\Lucas\\anaconda3\\lib\\site-packages\\optuna\\trial\\_trial.py:772: RuntimeWarning: Inconsistent parameter values for distribution with name \"min_child_weight\"! This might be a configuration mistake. Optuna allows to call the same distribution with the same name more then once in a trial. When the parameter values are inconsistent optuna only uses the values of the first call and ignores all following. Using these values: {'low': 0.0, 'high': 10.0}\n",
      "  warnings.warn(\n",
      "\u001b[32m[I 2022-05-29 22:52:04,777]\u001b[0m Trial 111 finished with value: 0.6796992481203008 and parameters: {'booster': 'gbtree', 'lambda': 8.048110176968696e-07, 'alpha': 0.0019096061170707215, 'learning_rate': 0.5737975057799524, 'gamma': 0.8591033715725419, 'n_estimators': 900, 'max_depth': 7, 'min_child_weight': 1.9331784372391259}. Best is trial 102 with value: 0.6802005012531328.\u001b[0m\n",
      "C:\\Users\\Lucas\\anaconda3\\lib\\site-packages\\optuna\\trial\\_trial.py:772: RuntimeWarning: Inconsistent parameter values for distribution with name \"min_child_weight\"! This might be a configuration mistake. Optuna allows to call the same distribution with the same name more then once in a trial. When the parameter values are inconsistent optuna only uses the values of the first call and ignores all following. Using these values: {'low': 0.0, 'high': 10.0}\n",
      "  warnings.warn(\n",
      "\u001b[32m[I 2022-05-29 22:52:04,851]\u001b[0m Trial 112 finished with value: 0.62159681859896 and parameters: {'booster': 'gbtree', 'lambda': 7.846109093818715e-07, 'alpha': 0.0022224750186107156, 'learning_rate': 0.11764350995388421, 'gamma': 0.5567492236397125, 'n_estimators': 937, 'max_depth': 7, 'min_child_weight': 1.2939432012589478}. Best is trial 102 with value: 0.6802005012531328.\u001b[0m\n",
      "C:\\Users\\Lucas\\anaconda3\\lib\\site-packages\\optuna\\trial\\_trial.py:772: RuntimeWarning: Inconsistent parameter values for distribution with name \"min_child_weight\"! This might be a configuration mistake. Optuna allows to call the same distribution with the same name more then once in a trial. When the parameter values are inconsistent optuna only uses the values of the first call and ignores all following. Using these values: {'low': 0.0, 'high': 10.0}\n",
      "  warnings.warn(\n",
      "\u001b[32m[I 2022-05-29 22:52:04,920]\u001b[0m Trial 113 finished with value: 0.6703296703296703 and parameters: {'booster': 'gbtree', 'lambda': 6.628331878502839e-08, 'alpha': 0.0011281163303782208, 'learning_rate': 0.5511589561139086, 'gamma': 0.7941687340241677, 'n_estimators': 850, 'max_depth': 6, 'min_child_weight': 1.6074709003143368}. Best is trial 102 with value: 0.6802005012531328.\u001b[0m\n",
      "C:\\Users\\Lucas\\anaconda3\\lib\\site-packages\\optuna\\trial\\_trial.py:772: RuntimeWarning: Inconsistent parameter values for distribution with name \"min_child_weight\"! This might be a configuration mistake. Optuna allows to call the same distribution with the same name more then once in a trial. When the parameter values are inconsistent optuna only uses the values of the first call and ignores all following. Using these values: {'low': 0.0, 'high': 10.0}\n",
      "  warnings.warn(\n",
      "\u001b[32m[I 2022-05-29 22:52:04,992]\u001b[0m Trial 114 finished with value: 0.6316116988176727 and parameters: {'booster': 'gbtree', 'lambda': 1.5562633679005714e-06, 'alpha': 0.00029512807361141614, 'learning_rate': 0.7475093793647537, 'gamma': 0.10141510685919616, 'n_estimators': 890, 'max_depth': 7, 'min_child_weight': 1.0936785808970548}. Best is trial 102 with value: 0.6802005012531328.\u001b[0m\n",
      "C:\\Users\\Lucas\\anaconda3\\lib\\site-packages\\optuna\\trial\\_trial.py:772: RuntimeWarning: Inconsistent parameter values for distribution with name \"min_child_weight\"! This might be a configuration mistake. Optuna allows to call the same distribution with the same name more then once in a trial. When the parameter values are inconsistent optuna only uses the values of the first call and ignores all following. Using these values: {'low': 0.0, 'high': 10.0}\n",
      "  warnings.warn(\n",
      "\u001b[32m[I 2022-05-29 22:52:05,092]\u001b[0m Trial 115 finished with value: 0.6263639044529637 and parameters: {'booster': 'gbtree', 'lambda': 3.898076728859552e-07, 'alpha': 0.006583294805272213, 'learning_rate': 0.023628842412443563, 'gamma': 4.950220183020087, 'n_estimators': 922, 'max_depth': 7, 'min_child_weight': 1.9155927598622282}. Best is trial 102 with value: 0.6802005012531328.\u001b[0m\n",
      "C:\\Users\\Lucas\\anaconda3\\lib\\site-packages\\optuna\\trial\\_trial.py:772: RuntimeWarning: Inconsistent parameter values for distribution with name \"min_child_weight\"! This might be a configuration mistake. Optuna allows to call the same distribution with the same name more then once in a trial. When the parameter values are inconsistent optuna only uses the values of the first call and ignores all following. Using these values: {'low': 0.0, 'high': 10.0}\n",
      "  warnings.warn(\n",
      "\u001b[32m[I 2022-05-29 22:52:05,167]\u001b[0m Trial 116 finished with value: 0.6700655498907503 and parameters: {'booster': 'gbtree', 'lambda': 1.7999204514496732e-06, 'alpha': 0.0006443133709453083, 'learning_rate': 0.654053321794351, 'gamma': 3.4228867458017227, 'n_estimators': 964, 'max_depth': 6, 'min_child_weight': 2.014247002341113}. Best is trial 102 with value: 0.6802005012531328.\u001b[0m\n",
      "C:\\Users\\Lucas\\anaconda3\\lib\\site-packages\\optuna\\trial\\_trial.py:772: RuntimeWarning: Inconsistent parameter values for distribution with name \"min_child_weight\"! This might be a configuration mistake. Optuna allows to call the same distribution with the same name more then once in a trial. When the parameter values are inconsistent optuna only uses the values of the first call and ignores all following. Using these values: {'low': 0.0, 'high': 10.0}\n",
      "  warnings.warn(\n",
      "\u001b[32m[I 2022-05-29 22:52:05,242]\u001b[0m Trial 117 finished with value: 0.6040291767974991 and parameters: {'booster': 'gbtree', 'lambda': 1.2554514035622606e-05, 'alpha': 0.0001340360766436819, 'learning_rate': 0.48759097687272007, 'gamma': 0.4205824078867654, 'n_estimators': 902, 'max_depth': 7, 'min_child_weight': 6.147164456117146}. Best is trial 102 with value: 0.6802005012531328.\u001b[0m\n",
      "C:\\Users\\Lucas\\anaconda3\\lib\\site-packages\\optuna\\trial\\_trial.py:772: RuntimeWarning: Inconsistent parameter values for distribution with name \"min_child_weight\"! This might be a configuration mistake. Optuna allows to call the same distribution with the same name more then once in a trial. When the parameter values are inconsistent optuna only uses the values of the first call and ignores all following. Using these values: {'low': 0.0, 'high': 10.0}\n",
      "  warnings.warn(\n",
      "\u001b[32m[I 2022-05-29 22:52:05,310]\u001b[0m Trial 118 finished with value: 0.6780383795309168 and parameters: {'booster': 'gbtree', 'lambda': 1.0530523292948792e-06, 'alpha': 0.001409231122521572, 'learning_rate': 0.906547836427148, 'gamma': 1.64908702174493, 'n_estimators': 846, 'max_depth': 6, 'min_child_weight': 1.6487542677241793}. Best is trial 102 with value: 0.6802005012531328.\u001b[0m\n",
      "C:\\Users\\Lucas\\anaconda3\\lib\\site-packages\\optuna\\trial\\_trial.py:772: RuntimeWarning: Inconsistent parameter values for distribution with name \"min_child_weight\"! This might be a configuration mistake. Optuna allows to call the same distribution with the same name more then once in a trial. When the parameter values are inconsistent optuna only uses the values of the first call and ignores all following. Using these values: {'low': 0.0, 'high': 10.0}\n",
      "  warnings.warn(\n",
      "\u001b[32m[I 2022-05-29 22:52:05,361]\u001b[0m Trial 119 finished with value: 0.6187353629976581 and parameters: {'booster': 'gblinear', 'lambda': 8.491608050549202e-07, 'alpha': 0.001162215857808081, 'learning_rate': 0.9174005793659503, 'gamma': 1.4817837732654489, 'n_estimators': 968, 'max_depth': 4, 'min_child_weight': 2.42244704609649}. Best is trial 102 with value: 0.6802005012531328.\u001b[0m\n"
     ]
    },
    {
     "name": "stderr",
     "output_type": "stream",
     "text": [
      "C:\\Users\\Lucas\\anaconda3\\lib\\site-packages\\optuna\\trial\\_trial.py:772: RuntimeWarning: Inconsistent parameter values for distribution with name \"min_child_weight\"! This might be a configuration mistake. Optuna allows to call the same distribution with the same name more then once in a trial. When the parameter values are inconsistent optuna only uses the values of the first call and ignores all following. Using these values: {'low': 0.0, 'high': 10.0}\n",
      "  warnings.warn(\n",
      "\u001b[32m[I 2022-05-29 22:52:05,431]\u001b[0m Trial 120 finished with value: 0.6422476586888658 and parameters: {'booster': 'gbtree', 'lambda': 4.913160984813326e-06, 'alpha': 0.014077846463889317, 'learning_rate': 0.4357687671498016, 'gamma': 0.9905774859357446, 'n_estimators': 1000, 'max_depth': 5, 'min_child_weight': 2.880485954923569}. Best is trial 102 with value: 0.6802005012531328.\u001b[0m\n",
      "C:\\Users\\Lucas\\anaconda3\\lib\\site-packages\\optuna\\trial\\_trial.py:772: RuntimeWarning: Inconsistent parameter values for distribution with name \"min_child_weight\"! This might be a configuration mistake. Optuna allows to call the same distribution with the same name more then once in a trial. When the parameter values are inconsistent optuna only uses the values of the first call and ignores all following. Using these values: {'low': 0.0, 'high': 10.0}\n",
      "  warnings.warn(\n",
      "\u001b[32m[I 2022-05-29 22:52:05,503]\u001b[0m Trial 121 finished with value: 0.672386895475819 and parameters: {'booster': 'gbtree', 'lambda': 6.62665212643852e-07, 'alpha': 0.001590499125807417, 'learning_rate': 0.817936871511553, 'gamma': 0.3178619557453491, 'n_estimators': 857, 'max_depth': 6, 'min_child_weight': 1.6529649307400964}. Best is trial 102 with value: 0.6802005012531328.\u001b[0m\n",
      "C:\\Users\\Lucas\\anaconda3\\lib\\site-packages\\optuna\\trial\\_trial.py:772: RuntimeWarning: Inconsistent parameter values for distribution with name \"min_child_weight\"! This might be a configuration mistake. Optuna allows to call the same distribution with the same name more then once in a trial. When the parameter values are inconsistent optuna only uses the values of the first call and ignores all following. Using these values: {'low': 0.0, 'high': 10.0}\n",
      "  warnings.warn(\n",
      "\u001b[32m[I 2022-05-29 22:52:05,578]\u001b[0m Trial 122 finished with value: 0.6663621831468372 and parameters: {'booster': 'gbtree', 'lambda': 1.2399766683449699e-06, 'alpha': 0.0032588334480601216, 'learning_rate': 0.7434393553449622, 'gamma': 2.635473464647122, 'n_estimators': 704, 'max_depth': 6, 'min_child_weight': 2.2173768821984696}. Best is trial 102 with value: 0.6802005012531328.\u001b[0m\n",
      "C:\\Users\\Lucas\\anaconda3\\lib\\site-packages\\optuna\\trial\\_trial.py:772: RuntimeWarning: Inconsistent parameter values for distribution with name \"min_child_weight\"! This might be a configuration mistake. Optuna allows to call the same distribution with the same name more then once in a trial. When the parameter values are inconsistent optuna only uses the values of the first call and ignores all following. Using these values: {'low': 0.0, 'high': 10.0}\n",
      "  warnings.warn(\n",
      "\u001b[32m[I 2022-05-29 22:52:05,646]\u001b[0m Trial 123 finished with value: 0.6738186462324394 and parameters: {'booster': 'gbtree', 'lambda': 2.024297454417884e-06, 'alpha': 0.0019050752727258113, 'learning_rate': 0.6797356934817382, 'gamma': 0.6764582987152622, 'n_estimators': 830, 'max_depth': 5, 'min_child_weight': 1.883311659501926}. Best is trial 102 with value: 0.6802005012531328.\u001b[0m\n",
      "C:\\Users\\Lucas\\anaconda3\\lib\\site-packages\\optuna\\trial\\_trial.py:772: RuntimeWarning: Inconsistent parameter values for distribution with name \"min_child_weight\"! This might be a configuration mistake. Optuna allows to call the same distribution with the same name more then once in a trial. When the parameter values are inconsistent optuna only uses the values of the first call and ignores all following. Using these values: {'low': 0.0, 'high': 10.0}\n",
      "  warnings.warn(\n",
      "\u001b[32m[I 2022-05-29 22:52:05,709]\u001b[0m Trial 124 finished with value: 0.6703769289147482 and parameters: {'booster': 'gbtree', 'lambda': 1.950066747265866e-06, 'alpha': 0.0056188344882548485, 'learning_rate': 0.6057934695627496, 'gamma': 0.17786658762346463, 'n_estimators': 838, 'max_depth': 5, 'min_child_weight': 1.8899246109557881}. Best is trial 102 with value: 0.6802005012531328.\u001b[0m\n",
      "C:\\Users\\Lucas\\anaconda3\\lib\\site-packages\\optuna\\trial\\_trial.py:772: RuntimeWarning: Inconsistent parameter values for distribution with name \"min_child_weight\"! This might be a configuration mistake. Optuna allows to call the same distribution with the same name more then once in a trial. When the parameter values are inconsistent optuna only uses the values of the first call and ignores all following. Using these values: {'low': 0.0, 'high': 10.0}\n",
      "  warnings.warn(\n",
      "\u001b[32m[I 2022-05-29 22:52:05,772]\u001b[0m Trial 125 finished with value: 0.6560636182902585 and parameters: {'booster': 'gbtree', 'lambda': 2.7459058190712704e-07, 'alpha': 0.0024064736050820857, 'learning_rate': 0.6843108663322962, 'gamma': 0.7392343320938217, 'n_estimators': 869, 'max_depth': 5, 'min_child_weight': 1.4369945659972632}. Best is trial 102 with value: 0.6802005012531328.\u001b[0m\n",
      "C:\\Users\\Lucas\\anaconda3\\lib\\site-packages\\optuna\\trial\\_trial.py:772: RuntimeWarning: Inconsistent parameter values for distribution with name \"min_child_weight\"! This might be a configuration mistake. Optuna allows to call the same distribution with the same name more then once in a trial. When the parameter values are inconsistent optuna only uses the values of the first call and ignores all following. Using these values: {'low': 0.0, 'high': 10.0}\n",
      "  warnings.warn(\n",
      "\u001b[32m[I 2022-05-29 22:52:05,837]\u001b[0m Trial 126 finished with value: 0.6575583957690612 and parameters: {'booster': 'gbtree', 'lambda': 7.361465029007601e-06, 'alpha': 0.0007607817255031297, 'learning_rate': 0.5714476979777834, 'gamma': 0.5251584940239146, 'n_estimators': 940, 'max_depth': 5, 'min_child_weight': 2.6029634992712447}. Best is trial 102 with value: 0.6802005012531328.\u001b[0m\n",
      "C:\\Users\\Lucas\\anaconda3\\lib\\site-packages\\optuna\\trial\\_trial.py:772: RuntimeWarning: Inconsistent parameter values for distribution with name \"min_child_weight\"! This might be a configuration mistake. Optuna allows to call the same distribution with the same name more then once in a trial. When the parameter values are inconsistent optuna only uses the values of the first call and ignores all following. Using these values: {'low': 0.0, 'high': 10.0}\n",
      "  warnings.warn(\n",
      "\u001b[32m[I 2022-05-29 22:52:05,910]\u001b[0m Trial 127 finished with value: 0.6701225259189443 and parameters: {'booster': 'gbtree', 'lambda': 3.628196241812283e-06, 'alpha': 0.012307336657653588, 'learning_rate': 0.772713201930432, 'gamma': 1.3012973112383739, 'n_estimators': 818, 'max_depth': 7, 'min_child_weight': 2.122942128703496}. Best is trial 102 with value: 0.6802005012531328.\u001b[0m\n",
      "C:\\Users\\Lucas\\anaconda3\\lib\\site-packages\\optuna\\trial\\_trial.py:772: RuntimeWarning: Inconsistent parameter values for distribution with name \"min_child_weight\"! This might be a configuration mistake. Optuna allows to call the same distribution with the same name more then once in a trial. When the parameter values are inconsistent optuna only uses the values of the first call and ignores all following. Using these values: {'low': 0.0, 'high': 10.0}\n",
      "  warnings.warn(\n",
      "\u001b[32m[I 2022-05-29 22:52:05,984]\u001b[0m Trial 128 finished with value: 0.6551220529939495 and parameters: {'booster': 'gbtree', 'lambda': 2.503887968544458e-07, 'alpha': 0.001864512232202896, 'learning_rate': 0.6607322477318278, 'gamma': 1.6122709765873488e-05, 'n_estimators': 903, 'max_depth': 7, 'min_child_weight': 3.164065246514166}. Best is trial 102 with value: 0.6802005012531328.\u001b[0m\n",
      "C:\\Users\\Lucas\\anaconda3\\lib\\site-packages\\optuna\\trial\\_trial.py:772: RuntimeWarning: Inconsistent parameter values for distribution with name \"min_child_weight\"! This might be a configuration mistake. Optuna allows to call the same distribution with the same name more then once in a trial. When the parameter values are inconsistent optuna only uses the values of the first call and ignores all following. Using these values: {'low': 0.0, 'high': 10.0}\n",
      "  warnings.warn(\n",
      "\u001b[32m[I 2022-05-29 22:52:06,053]\u001b[0m Trial 129 finished with value: 0.650630683484893 and parameters: {'booster': 'gbtree', 'lambda': 1.0502556271205997e-06, 'alpha': 0.0010958045361134832, 'learning_rate': 0.8790602213247686, 'gamma': 0.36206124349609103, 'n_estimators': 834, 'max_depth': 6, 'min_child_weight': 1.1726785820848629}. Best is trial 102 with value: 0.6802005012531328.\u001b[0m\n"
     ]
    },
    {
     "name": "stderr",
     "output_type": "stream",
     "text": [
      "C:\\Users\\Lucas\\anaconda3\\lib\\site-packages\\optuna\\trial\\_trial.py:772: RuntimeWarning: Inconsistent parameter values for distribution with name \"min_child_weight\"! This might be a configuration mistake. Optuna allows to call the same distribution with the same name more then once in a trial. When the parameter values are inconsistent optuna only uses the values of the first call and ignores all following. Using these values: {'low': 0.0, 'high': 10.0}\n",
      "  warnings.warn(\n",
      "\u001b[32m[I 2022-05-29 22:52:06,114]\u001b[0m Trial 130 finished with value: 0.6541755888650964 and parameters: {'booster': 'gbtree', 'lambda': 1.205685886378712e-05, 'alpha': 7.952736336256684e-05, 'learning_rate': 0.724902951234832, 'gamma': 0.902061602962845, 'n_estimators': 931, 'max_depth': 4, 'min_child_weight': 1.720192001318937}. Best is trial 102 with value: 0.6802005012531328.\u001b[0m\n",
      "C:\\Users\\Lucas\\anaconda3\\lib\\site-packages\\optuna\\trial\\_trial.py:772: RuntimeWarning: Inconsistent parameter values for distribution with name \"min_child_weight\"! This might be a configuration mistake. Optuna allows to call the same distribution with the same name more then once in a trial. When the parameter values are inconsistent optuna only uses the values of the first call and ignores all following. Using these values: {'low': 0.0, 'high': 10.0}\n",
      "  warnings.warn(\n",
      "\u001b[32m[I 2022-05-29 22:52:06,182]\u001b[0m Trial 131 finished with value: 0.6681046104071179 and parameters: {'booster': 'gbtree', 'lambda': 1.9065874809960104e-06, 'alpha': 0.004026643641349515, 'learning_rate': 0.9179122032670336, 'gamma': 2.4556236318685825, 'n_estimators': 792, 'max_depth': 6, 'min_child_weight': 1.6115895875653807}. Best is trial 102 with value: 0.6802005012531328.\u001b[0m\n",
      "C:\\Users\\Lucas\\anaconda3\\lib\\site-packages\\optuna\\trial\\_trial.py:772: RuntimeWarning: Inconsistent parameter values for distribution with name \"min_child_weight\"! This might be a configuration mistake. Optuna allows to call the same distribution with the same name more then once in a trial. When the parameter values are inconsistent optuna only uses the values of the first call and ignores all following. Using these values: {'low': 0.0, 'high': 10.0}\n",
      "  warnings.warn(\n",
      "\u001b[32m[I 2022-05-29 22:52:06,251]\u001b[0m Trial 132 finished with value: 0.6789907569323008 and parameters: {'booster': 'gbtree', 'lambda': 0.5469266821416039, 'alpha': 2.6618015668526753e-05, 'learning_rate': 0.8233896512356388, 'gamma': 6.834735610522327, 'n_estimators': 731, 'max_depth': 6, 'min_child_weight': 2.0195197882938207}. Best is trial 102 with value: 0.6802005012531328.\u001b[0m\n",
      "C:\\Users\\Lucas\\anaconda3\\lib\\site-packages\\optuna\\trial\\_trial.py:772: RuntimeWarning: Inconsistent parameter values for distribution with name \"min_child_weight\"! This might be a configuration mistake. Optuna allows to call the same distribution with the same name more then once in a trial. When the parameter values are inconsistent optuna only uses the values of the first call and ignores all following. Using these values: {'low': 0.0, 'high': 10.0}\n",
      "  warnings.warn(\n",
      "\u001b[32m[I 2022-05-29 22:52:06,319]\u001b[0m Trial 133 finished with value: 0.6806045340050377 and parameters: {'booster': 'gbtree', 'lambda': 1.0019265390552042e-06, 'alpha': 3.296356856171256e-05, 'learning_rate': 0.8105751396146476, 'gamma': 3.9509306362870817, 'n_estimators': 740, 'max_depth': 6, 'min_child_weight': 1.9537504562534806}. Best is trial 133 with value: 0.6806045340050377.\u001b[0m\n",
      "C:\\Users\\Lucas\\anaconda3\\lib\\site-packages\\optuna\\trial\\_trial.py:772: RuntimeWarning: Inconsistent parameter values for distribution with name \"min_child_weight\"! This might be a configuration mistake. Optuna allows to call the same distribution with the same name more then once in a trial. When the parameter values are inconsistent optuna only uses the values of the first call and ignores all following. Using these values: {'low': 0.0, 'high': 10.0}\n",
      "  warnings.warn(\n",
      "\u001b[32m[I 2022-05-29 22:52:06,386]\u001b[0m Trial 134 finished with value: 0.6785988238302225 and parameters: {'booster': 'gbtree', 'lambda': 8.955886544371316e-07, 'alpha': 2.6075570181969666e-05, 'learning_rate': 0.9964569013227055, 'gamma': 3.7638433188475076, 'n_estimators': 735, 'max_depth': 6, 'min_child_weight': 2.004243668009638}. Best is trial 133 with value: 0.6806045340050377.\u001b[0m\n",
      "C:\\Users\\Lucas\\anaconda3\\lib\\site-packages\\optuna\\trial\\_trial.py:772: RuntimeWarning: Inconsistent parameter values for distribution with name \"min_child_weight\"! This might be a configuration mistake. Optuna allows to call the same distribution with the same name more then once in a trial. When the parameter values are inconsistent optuna only uses the values of the first call and ignores all following. Using these values: {'low': 0.0, 'high': 10.0}\n",
      "  warnings.warn(\n",
      "\u001b[32m[I 2022-05-29 22:52:06,456]\u001b[0m Trial 135 finished with value: 0.6630824372759857 and parameters: {'booster': 'gbtree', 'lambda': 3.004097587019487e-07, 'alpha': 9.569321368329674e-06, 'learning_rate': 0.9703332981714683, 'gamma': 8.976959223382842, 'n_estimators': 752, 'max_depth': 6, 'min_child_weight': 2.353871471724684}. Best is trial 133 with value: 0.6806045340050377.\u001b[0m\n",
      "C:\\Users\\Lucas\\anaconda3\\lib\\site-packages\\optuna\\trial\\_trial.py:772: RuntimeWarning: Inconsistent parameter values for distribution with name \"min_child_weight\"! This might be a configuration mistake. Optuna allows to call the same distribution with the same name more then once in a trial. When the parameter values are inconsistent optuna only uses the values of the first call and ignores all following. Using these values: {'low': 0.0, 'high': 10.0}\n",
      "  warnings.warn(\n",
      "\u001b[32m[I 2022-05-29 22:52:06,524]\u001b[0m Trial 136 finished with value: 0.6751560549313358 and parameters: {'booster': 'gbtree', 'lambda': 5.587850888091005e-07, 'alpha': 2.7504126081341452e-05, 'learning_rate': 0.5454144773915742, 'gamma': 3.5548314486329025, 'n_estimators': 733, 'max_depth': 6, 'min_child_weight': 2.094166542600313}. Best is trial 133 with value: 0.6806045340050377.\u001b[0m\n",
      "C:\\Users\\Lucas\\anaconda3\\lib\\site-packages\\optuna\\trial\\_trial.py:772: RuntimeWarning: Inconsistent parameter values for distribution with name \"min_child_weight\"! This might be a configuration mistake. Optuna allows to call the same distribution with the same name more then once in a trial. When the parameter values are inconsistent optuna only uses the values of the first call and ignores all following. Using these values: {'low': 0.0, 'high': 10.0}\n",
      "  warnings.warn(\n",
      "\u001b[32m[I 2022-05-29 22:52:06,595]\u001b[0m Trial 137 finished with value: 0.6726961623075043 and parameters: {'booster': 'gbtree', 'lambda': 4.824343754087853e-07, 'alpha': 2.811710470755677e-05, 'learning_rate': 0.539229017418762, 'gamma': 4.0319218593755215, 'n_estimators': 731, 'max_depth': 6, 'min_child_weight': 2.1283620230427527}. Best is trial 133 with value: 0.6806045340050377.\u001b[0m\n",
      "C:\\Users\\Lucas\\anaconda3\\lib\\site-packages\\optuna\\trial\\_trial.py:772: RuntimeWarning: Inconsistent parameter values for distribution with name \"min_child_weight\"! This might be a configuration mistake. Optuna allows to call the same distribution with the same name more then once in a trial. When the parameter values are inconsistent optuna only uses the values of the first call and ignores all following. Using these values: {'low': 0.0, 'high': 10.0}\n",
      "  warnings.warn(\n",
      "\u001b[32m[I 2022-05-29 22:52:06,665]\u001b[0m Trial 138 finished with value: 0.6611062335381914 and parameters: {'booster': 'gbtree', 'lambda': 1.9826997022662098e-07, 'alpha': 2.9624461108589313e-05, 'learning_rate': 0.47997408107120054, 'gamma': 1.5618542781626028, 'n_estimators': 728, 'max_depth': 6, 'min_child_weight': 2.6301987569208563}. Best is trial 133 with value: 0.6806045340050377.\u001b[0m\n",
      "C:\\Users\\Lucas\\anaconda3\\lib\\site-packages\\optuna\\trial\\_trial.py:772: RuntimeWarning: Inconsistent parameter values for distribution with name \"min_child_weight\"! This might be a configuration mistake. Optuna allows to call the same distribution with the same name more then once in a trial. When the parameter values are inconsistent optuna only uses the values of the first call and ignores all following. Using these values: {'low': 0.0, 'high': 10.0}\n",
      "  warnings.warn(\n",
      "\u001b[32m[I 2022-05-29 22:52:06,734]\u001b[0m Trial 139 finished with value: 0.6533910533910534 and parameters: {'booster': 'gbtree', 'lambda': 8.266709088928807e-07, 'alpha': 1.4760171693276662e-05, 'learning_rate': 0.6184134017372501, 'gamma': 0.00033968692327549513, 'n_estimators': 777, 'max_depth': 6, 'min_child_weight': 1.3361423716220915}. Best is trial 133 with value: 0.6806045340050377.\u001b[0m\n"
     ]
    },
    {
     "name": "stderr",
     "output_type": "stream",
     "text": [
      "C:\\Users\\Lucas\\anaconda3\\lib\\site-packages\\optuna\\trial\\_trial.py:772: RuntimeWarning: Inconsistent parameter values for distribution with name \"min_child_weight\"! This might be a configuration mistake. Optuna allows to call the same distribution with the same name more then once in a trial. When the parameter values are inconsistent optuna only uses the values of the first call and ignores all following. Using these values: {'low': 0.0, 'high': 10.0}\n",
      "  warnings.warn(\n",
      "\u001b[32m[I 2022-05-29 22:52:06,786]\u001b[0m Trial 140 finished with value: 0.5903067020068157 and parameters: {'booster': 'gblinear', 'lambda': 1.4951675692795884e-07, 'alpha': 5.568179515745547e-06, 'learning_rate': 0.3801105982651257, 'gamma': 4.2263128046488925, 'n_estimators': 630, 'max_depth': 6, 'min_child_weight': 3.7601994740855704}. Best is trial 133 with value: 0.6806045340050377.\u001b[0m\n",
      "C:\\Users\\Lucas\\anaconda3\\lib\\site-packages\\optuna\\trial\\_trial.py:772: RuntimeWarning: Inconsistent parameter values for distribution with name \"min_child_weight\"! This might be a configuration mistake. Optuna allows to call the same distribution with the same name more then once in a trial. When the parameter values are inconsistent optuna only uses the values of the first call and ignores all following. Using these values: {'low': 0.0, 'high': 10.0}\n",
      "  warnings.warn(\n",
      "\u001b[32m[I 2022-05-29 22:52:06,850]\u001b[0m Trial 141 finished with value: 0.6803278688524589 and parameters: {'booster': 'gbtree', 'lambda': 5.059445418834072e-07, 'alpha': 2.2919712794357706e-05, 'learning_rate': 0.7035386165940205, 'gamma': 0.5822985892150395, 'n_estimators': 801, 'max_depth': 5, 'min_child_weight': 2.0024880041188062}. Best is trial 133 with value: 0.6806045340050377.\u001b[0m\n",
      "C:\\Users\\Lucas\\anaconda3\\lib\\site-packages\\optuna\\trial\\_trial.py:772: RuntimeWarning: Inconsistent parameter values for distribution with name \"min_child_weight\"! This might be a configuration mistake. Optuna allows to call the same distribution with the same name more then once in a trial. When the parameter values are inconsistent optuna only uses the values of the first call and ignores all following. Using these values: {'low': 0.0, 'high': 10.0}\n",
      "  warnings.warn(\n",
      "\u001b[32m[I 2022-05-29 22:52:06,916]\u001b[0m Trial 142 finished with value: 0.6692932775178527 and parameters: {'booster': 'gbtree', 'lambda': 5.992161312151821e-07, 'alpha': 1.0913843765634319e-05, 'learning_rate': 0.9061549901198545, 'gamma': 0.2177557442666175, 'n_estimators': 723, 'max_depth': 5, 'min_child_weight': 2.085043712174655}. Best is trial 133 with value: 0.6806045340050377.\u001b[0m\n",
      "C:\\Users\\Lucas\\anaconda3\\lib\\site-packages\\optuna\\trial\\_trial.py:772: RuntimeWarning: Inconsistent parameter values for distribution with name \"min_child_weight\"! This might be a configuration mistake. Optuna allows to call the same distribution with the same name more then once in a trial. When the parameter values are inconsistent optuna only uses the values of the first call and ignores all following. Using these values: {'low': 0.0, 'high': 10.0}\n",
      "  warnings.warn(\n",
      "\u001b[32m[I 2022-05-29 22:52:06,986]\u001b[0m Trial 143 finished with value: 0.6665123813931961 and parameters: {'booster': 'gbtree', 'lambda': 9.371408216348155e-07, 'alpha': 5.319469458939152e-05, 'learning_rate': 0.7396526298599201, 'gamma': 5.392199929729019e-05, 'n_estimators': 772, 'max_depth': 6, 'min_child_weight': 2.2754273423443654}. Best is trial 133 with value: 0.6806045340050377.\u001b[0m\n",
      "C:\\Users\\Lucas\\anaconda3\\lib\\site-packages\\optuna\\trial\\_trial.py:772: RuntimeWarning: Inconsistent parameter values for distribution with name \"min_child_weight\"! This might be a configuration mistake. Optuna allows to call the same distribution with the same name more then once in a trial. When the parameter values are inconsistent optuna only uses the values of the first call and ignores all following. Using these values: {'low': 0.0, 'high': 10.0}\n",
      "  warnings.warn(\n",
      "\u001b[32m[I 2022-05-29 22:52:07,055]\u001b[0m Trial 144 finished with value: 0.6629711751662971 and parameters: {'booster': 'gbtree', 'lambda': 3.5819977816914725e-07, 'alpha': 2.0438987890176692e-05, 'learning_rate': 0.8638612200593382, 'gamma': 6.870278923533628, 'n_estimators': 805, 'max_depth': 6, 'min_child_weight': 2.4839697388132613}. Best is trial 133 with value: 0.6806045340050377.\u001b[0m\n",
      "C:\\Users\\Lucas\\anaconda3\\lib\\site-packages\\optuna\\trial\\_trial.py:772: RuntimeWarning: Inconsistent parameter values for distribution with name \"min_child_weight\"! This might be a configuration mistake. Optuna allows to call the same distribution with the same name more then once in a trial. When the parameter values are inconsistent optuna only uses the values of the first call and ignores all following. Using these values: {'low': 0.0, 'high': 10.0}\n",
      "  warnings.warn(\n",
      "\u001b[32m[I 2022-05-29 22:52:07,122]\u001b[0m Trial 145 finished with value: 0.6631461923290717 and parameters: {'booster': 'gbtree', 'lambda': 1.2217014153909771e-06, 'alpha': 3.045477285749119e-05, 'learning_rate': 0.5572530020061836, 'gamma': 1.139563738381919, 'n_estimators': 749, 'max_depth': 5, 'min_child_weight': 1.5254313408369304}. Best is trial 133 with value: 0.6806045340050377.\u001b[0m\n",
      "C:\\Users\\Lucas\\anaconda3\\lib\\site-packages\\optuna\\trial\\_trial.py:772: RuntimeWarning: Inconsistent parameter values for distribution with name \"min_child_weight\"! This might be a configuration mistake. Optuna allows to call the same distribution with the same name more then once in a trial. When the parameter values are inconsistent optuna only uses the values of the first call and ignores all following. Using these values: {'low': 0.0, 'high': 10.0}\n",
      "  warnings.warn(\n",
      "\u001b[32m[I 2022-05-29 22:52:07,197]\u001b[0m Trial 146 finished with value: 0.6677198525539757 and parameters: {'booster': 'gbtree', 'lambda': 5.888973573221575e-07, 'alpha': 8.907523657959186e-05, 'learning_rate': 0.990220410481804, 'gamma': 1.598716322482004, 'n_estimators': 682, 'max_depth': 6, 'min_child_weight': 1.7540782773719261}. Best is trial 133 with value: 0.6806045340050377.\u001b[0m\n",
      "C:\\Users\\Lucas\\anaconda3\\lib\\site-packages\\optuna\\trial\\_trial.py:772: RuntimeWarning: Inconsistent parameter values for distribution with name \"min_child_weight\"! This might be a configuration mistake. Optuna allows to call the same distribution with the same name more then once in a trial. When the parameter values are inconsistent optuna only uses the values of the first call and ignores all following. Using these values: {'low': 0.0, 'high': 10.0}\n",
      "  warnings.warn(\n",
      "\u001b[32m[I 2022-05-29 22:52:07,273]\u001b[0m Trial 147 finished with value: 0.673348753533796 and parameters: {'booster': 'gbtree', 'lambda': 0.00035997973705159827, 'alpha': 1.963742067187245e-05, 'learning_rate': 0.6378731357483879, 'gamma': 12.755808135306815, 'n_estimators': 581, 'max_depth': 6, 'min_child_weight': 1.9784083918606963}. Best is trial 133 with value: 0.6806045340050377.\u001b[0m\n",
      "C:\\Users\\Lucas\\anaconda3\\lib\\site-packages\\optuna\\trial\\_trial.py:772: RuntimeWarning: Inconsistent parameter values for distribution with name \"min_child_weight\"! This might be a configuration mistake. Optuna allows to call the same distribution with the same name more then once in a trial. When the parameter values are inconsistent optuna only uses the values of the first call and ignores all following. Using these values: {'low': 0.0, 'high': 10.0}\n",
      "  warnings.warn(\n",
      "\u001b[32m[I 2022-05-29 22:52:07,348]\u001b[0m Trial 148 finished with value: 0.6705444392740809 and parameters: {'booster': 'gbtree', 'lambda': 0.3206803197950694, 'alpha': 3.7469430773451154e-05, 'learning_rate': 0.8074347995906632, 'gamma': 0.05729575913300885, 'n_estimators': 862, 'max_depth': 6, 'min_child_weight': 2.247098534131629}. Best is trial 133 with value: 0.6806045340050377.\u001b[0m\n",
      "C:\\Users\\Lucas\\anaconda3\\lib\\site-packages\\optuna\\trial\\_trial.py:772: RuntimeWarning: Inconsistent parameter values for distribution with name \"min_child_weight\"! This might be a configuration mistake. Optuna allows to call the same distribution with the same name more then once in a trial. When the parameter values are inconsistent optuna only uses the values of the first call and ignores all following. Using these values: {'low': 0.0, 'high': 10.0}\n",
      "  warnings.warn(\n"
     ]
    },
    {
     "name": "stderr",
     "output_type": "stream",
     "text": [
      "\u001b[32m[I 2022-05-29 22:52:07,416]\u001b[0m Trial 149 finished with value: 0.5706051873198847 and parameters: {'booster': 'gbtree', 'lambda': 1.6611065958908379e-07, 'alpha': 1.261611607089015e-05, 'learning_rate': 0.6887946430851294, 'gamma': 2.7932192929207056, 'n_estimators': 796, 'max_depth': 5, 'min_child_weight': 7.1893274012312895}. Best is trial 133 with value: 0.6806045340050377.\u001b[0m\n",
      "C:\\Users\\Lucas\\anaconda3\\lib\\site-packages\\optuna\\trial\\_trial.py:772: RuntimeWarning: Inconsistent parameter values for distribution with name \"min_child_weight\"! This might be a configuration mistake. Optuna allows to call the same distribution with the same name more then once in a trial. When the parameter values are inconsistent optuna only uses the values of the first call and ignores all following. Using these values: {'low': 0.0, 'high': 10.0}\n",
      "  warnings.warn(\n",
      "\u001b[32m[I 2022-05-29 22:52:07,485]\u001b[0m Trial 150 finished with value: 0.6564589174034936 and parameters: {'booster': 'gbtree', 'lambda': 7.950136856258183e-08, 'alpha': 7.205841676948551e-05, 'learning_rate': 0.7624666013146234, 'gamma': 0.45747869227433996, 'n_estimators': 673, 'max_depth': 6, 'min_child_weight': 2.807776879458014}. Best is trial 133 with value: 0.6806045340050377.\u001b[0m\n",
      "C:\\Users\\Lucas\\anaconda3\\lib\\site-packages\\optuna\\trial\\_trial.py:772: RuntimeWarning: Inconsistent parameter values for distribution with name \"min_child_weight\"! This might be a configuration mistake. Optuna allows to call the same distribution with the same name more then once in a trial. When the parameter values are inconsistent optuna only uses the values of the first call and ignores all following. Using these values: {'low': 0.0, 'high': 10.0}\n",
      "  warnings.warn(\n",
      "\u001b[32m[I 2022-05-29 22:52:07,552]\u001b[0m Trial 151 finished with value: 0.6743718592964825 and parameters: {'booster': 'gbtree', 'lambda': 0.00010377121262203306, 'alpha': 3.549568204182316e-05, 'learning_rate': 0.6661323742953578, 'gamma': 0.6289338390647513, 'n_estimators': 821, 'max_depth': 5, 'min_child_weight': 1.929335514017524}. Best is trial 133 with value: 0.6806045340050377.\u001b[0m\n",
      "C:\\Users\\Lucas\\anaconda3\\lib\\site-packages\\optuna\\trial\\_trial.py:772: RuntimeWarning: Inconsistent parameter values for distribution with name \"min_child_weight\"! This might be a configuration mistake. Optuna allows to call the same distribution with the same name more then once in a trial. When the parameter values are inconsistent optuna only uses the values of the first call and ignores all following. Using these values: {'low': 0.0, 'high': 10.0}\n",
      "  warnings.warn(\n",
      "\u001b[32m[I 2022-05-29 22:52:07,616]\u001b[0m Trial 152 finished with value: 0.6693711967545638 and parameters: {'booster': 'gbtree', 'lambda': 0.67634851414911, 'alpha': 2.5195162379648876e-05, 'learning_rate': 0.5927154877315137, 'gamma': 0.2437933680062856, 'n_estimators': 758, 'max_depth': 4, 'min_child_weight': 2.0191049097152796}. Best is trial 133 with value: 0.6806045340050377.\u001b[0m\n",
      "C:\\Users\\Lucas\\anaconda3\\lib\\site-packages\\optuna\\trial\\_trial.py:772: RuntimeWarning: Inconsistent parameter values for distribution with name \"min_child_weight\"! This might be a configuration mistake. Optuna allows to call the same distribution with the same name more then once in a trial. When the parameter values are inconsistent optuna only uses the values of the first call and ignores all following. Using these values: {'low': 0.0, 'high': 10.0}\n",
      "  warnings.warn(\n",
      "\u001b[32m[I 2022-05-29 22:52:07,686]\u001b[0m Trial 153 finished with value: 0.6597088711892338 and parameters: {'booster': 'gbtree', 'lambda': 1.3181591761404756e-06, 'alpha': 3.5711640742616256e-05, 'learning_rate': 0.5097244816622089, 'gamma': 0.9578979051468934, 'n_estimators': 786, 'max_depth': 5, 'min_child_weight': 1.571496849413932}. Best is trial 133 with value: 0.6806045340050377.\u001b[0m\n",
      "C:\\Users\\Lucas\\anaconda3\\lib\\site-packages\\optuna\\trial\\_trial.py:772: RuntimeWarning: Inconsistent parameter values for distribution with name \"min_child_weight\"! This might be a configuration mistake. Optuna allows to call the same distribution with the same name more then once in a trial. When the parameter values are inconsistent optuna only uses the values of the first call and ignores all following. Using these values: {'low': 0.0, 'high': 10.0}\n",
      "  warnings.warn(\n",
      "\u001b[32m[I 2022-05-29 22:52:07,742]\u001b[0m Trial 154 finished with value: 0.6448284756254836 and parameters: {'booster': 'gbtree', 'lambda': 4.59870231284683e-07, 'alpha': 5.0168088755046937e-05, 'learning_rate': 0.8422489487324987, 'gamma': 0.14439917936716637, 'n_estimators': 817, 'max_depth': 2, 'min_child_weight': 1.7699372143338294}. Best is trial 133 with value: 0.6806045340050377.\u001b[0m\n",
      "C:\\Users\\Lucas\\anaconda3\\lib\\site-packages\\optuna\\trial\\_trial.py:772: RuntimeWarning: Inconsistent parameter values for distribution with name \"min_child_weight\"! This might be a configuration mistake. Optuna allows to call the same distribution with the same name more then once in a trial. When the parameter values are inconsistent optuna only uses the values of the first call and ignores all following. Using these values: {'low': 0.0, 'high': 10.0}\n",
      "  warnings.warn(\n",
      "\u001b[32m[I 2022-05-29 22:52:07,810]\u001b[0m Trial 155 finished with value: 0.6579247434435576 and parameters: {'booster': 'gbtree', 'lambda': 2.870928808607263e-05, 'alpha': 9.702029530166047e-05, 'learning_rate': 0.7134199504133137, 'gamma': 0.6387943179191876, 'n_estimators': 614, 'max_depth': 5, 'min_child_weight': 1.3757928075821777}. Best is trial 133 with value: 0.6806045340050377.\u001b[0m\n",
      "C:\\Users\\Lucas\\anaconda3\\lib\\site-packages\\optuna\\trial\\_trial.py:772: RuntimeWarning: Inconsistent parameter values for distribution with name \"min_child_weight\"! This might be a configuration mistake. Optuna allows to call the same distribution with the same name more then once in a trial. When the parameter values are inconsistent optuna only uses the values of the first call and ignores all following. Using these values: {'low': 0.0, 'high': 10.0}\n",
      "  warnings.warn(\n",
      "\u001b[32m[I 2022-05-29 22:52:07,883]\u001b[0m Trial 156 finished with value: 0.6663650757747116 and parameters: {'booster': 'gbtree', 'lambda': 3.916677401020168e-06, 'alpha': 5.983913352105172e-05, 'learning_rate': 0.44267142320313385, 'gamma': 0.4138054532860454, 'n_estimators': 695, 'max_depth': 6, 'min_child_weight': 2.446347915492361}. Best is trial 133 with value: 0.6806045340050377.\u001b[0m\n",
      "C:\\Users\\Lucas\\anaconda3\\lib\\site-packages\\optuna\\trial\\_trial.py:772: RuntimeWarning: Inconsistent parameter values for distribution with name \"min_child_weight\"! This might be a configuration mistake. Optuna allows to call the same distribution with the same name more then once in a trial. When the parameter values are inconsistent optuna only uses the values of the first call and ignores all following. Using these values: {'low': 0.0, 'high': 10.0}\n",
      "  warnings.warn(\n",
      "\u001b[32m[I 2022-05-29 22:52:07,951]\u001b[0m Trial 157 finished with value: 0.6709838107098381 and parameters: {'booster': 'gbtree', 'lambda': 5.3256390743546704e-05, 'alpha': 4.658674201442989e-06, 'learning_rate': 0.6336374727415282, 'gamma': 3.526164538428631, 'n_estimators': 840, 'max_depth': 5, 'min_child_weight': 2.016535905345794}. Best is trial 133 with value: 0.6806045340050377.\u001b[0m\n",
      "C:\\Users\\Lucas\\anaconda3\\lib\\site-packages\\optuna\\trial\\_trial.py:772: RuntimeWarning: Inconsistent parameter values for distribution with name \"min_child_weight\"! This might be a configuration mistake. Optuna allows to call the same distribution with the same name more then once in a trial. When the parameter values are inconsistent optuna only uses the values of the first call and ignores all following. Using these values: {'low': 0.0, 'high': 10.0}\n",
      "  warnings.warn(\n",
      "\u001b[32m[I 2022-05-29 22:52:08,028]\u001b[0m Trial 158 finished with value: 0.6370644465001543 and parameters: {'booster': 'gbtree', 'lambda': 8.124561203488642e-07, 'alpha': 7.802588393031938e-06, 'learning_rate': 0.9110150249718082, 'gamma': 1.812892674193699, 'n_estimators': 652, 'max_depth': 6, 'min_child_weight': 1.0119236125133448}. Best is trial 133 with value: 0.6806045340050377.\u001b[0m\n",
      "C:\\Users\\Lucas\\anaconda3\\lib\\site-packages\\optuna\\trial\\_trial.py:772: RuntimeWarning: Inconsistent parameter values for distribution with name \"min_child_weight\"! This might be a configuration mistake. Optuna allows to call the same distribution with the same name more then once in a trial. When the parameter values are inconsistent optuna only uses the values of the first call and ignores all following. Using these values: {'low': 0.0, 'high': 10.0}\n",
      "  warnings.warn(\n"
     ]
    },
    {
     "name": "stderr",
     "output_type": "stream",
     "text": [
      "\u001b[32m[I 2022-05-29 22:52:08,104]\u001b[0m Trial 159 finished with value: 0.6643243243243243 and parameters: {'booster': 'gbtree', 'lambda': 0.0001237093117006134, 'alpha': 1.604227112896379e-05, 'learning_rate': 0.7883496588870379, 'gamma': 5.850798866769896, 'n_estimators': 741, 'max_depth': 6, 'min_child_weight': 1.7186261548013235}. Best is trial 133 with value: 0.6806045340050377.\u001b[0m\n",
      "C:\\Users\\Lucas\\anaconda3\\lib\\site-packages\\optuna\\trial\\_trial.py:772: RuntimeWarning: Inconsistent parameter values for distribution with name \"min_child_weight\"! This might be a configuration mistake. Optuna allows to call the same distribution with the same name more then once in a trial. When the parameter values are inconsistent optuna only uses the values of the first call and ignores all following. Using these values: {'low': 0.0, 'high': 10.0}\n",
      "  warnings.warn(\n",
      "\u001b[32m[I 2022-05-29 22:52:08,178]\u001b[0m Trial 160 finished with value: 0.6669735327963177 and parameters: {'booster': 'gbtree', 'lambda': 0.8871505267248051, 'alpha': 0.00021868761287640616, 'learning_rate': 0.9872165711093309, 'gamma': 0.298592237590421, 'n_estimators': 718, 'max_depth': 6, 'min_child_weight': 2.241983787151874}. Best is trial 133 with value: 0.6806045340050377.\u001b[0m\n",
      "C:\\Users\\Lucas\\anaconda3\\lib\\site-packages\\optuna\\trial\\_trial.py:772: RuntimeWarning: Inconsistent parameter values for distribution with name \"min_child_weight\"! This might be a configuration mistake. Optuna allows to call the same distribution with the same name more then once in a trial. When the parameter values are inconsistent optuna only uses the values of the first call and ignores all following. Using these values: {'low': 0.0, 'high': 10.0}\n",
      "  warnings.warn(\n",
      "\u001b[32m[I 2022-05-29 22:52:08,246]\u001b[0m Trial 161 finished with value: 0.6761349226477301 and parameters: {'booster': 'gbtree', 'lambda': 1.683520371162088e-06, 'alpha': 0.0032343658144998655, 'learning_rate': 0.6893334394848702, 'gamma': 0.6918734806532293, 'n_estimators': 833, 'max_depth': 5, 'min_child_weight': 1.8926312422714344}. Best is trial 133 with value: 0.6806045340050377.\u001b[0m\n",
      "C:\\Users\\Lucas\\anaconda3\\lib\\site-packages\\optuna\\trial\\_trial.py:772: RuntimeWarning: Inconsistent parameter values for distribution with name \"min_child_weight\"! This might be a configuration mistake. Optuna allows to call the same distribution with the same name more then once in a trial. When the parameter values are inconsistent optuna only uses the values of the first call and ignores all following. Using these values: {'low': 0.0, 'high': 10.0}\n",
      "  warnings.warn(\n",
      "\u001b[32m[I 2022-05-29 22:52:08,311]\u001b[0m Trial 162 finished with value: 0.6215494211932324 and parameters: {'booster': 'gbtree', 'lambda': 1.465895896232634e-06, 'alpha': 2.020134007052574e-05, 'learning_rate': 0.06034352262876985, 'gamma': 0.9803143814776264, 'n_estimators': 867, 'max_depth': 5, 'min_child_weight': 1.9607295408534284}. Best is trial 133 with value: 0.6806045340050377.\u001b[0m\n",
      "C:\\Users\\Lucas\\anaconda3\\lib\\site-packages\\optuna\\trial\\_trial.py:772: RuntimeWarning: Inconsistent parameter values for distribution with name \"min_child_weight\"! This might be a configuration mistake. Optuna allows to call the same distribution with the same name more then once in a trial. When the parameter values are inconsistent optuna only uses the values of the first call and ignores all following. Using these values: {'low': 0.0, 'high': 10.0}\n",
      "  warnings.warn(\n",
      "\u001b[32m[I 2022-05-29 22:52:08,379]\u001b[0m Trial 163 finished with value: 0.6535612535612536 and parameters: {'booster': 'gbtree', 'lambda': 1.0794121187336967e-06, 'alpha': 0.0030115987014269663, 'learning_rate': 0.7070232769410936, 'gamma': 0.633144773760518, 'n_estimators': 539, 'max_depth': 5, 'min_child_weight': 1.4901506816341297}. Best is trial 133 with value: 0.6806045340050377.\u001b[0m\n",
      "C:\\Users\\Lucas\\anaconda3\\lib\\site-packages\\optuna\\trial\\_trial.py:772: RuntimeWarning: Inconsistent parameter values for distribution with name \"min_child_weight\"! This might be a configuration mistake. Optuna allows to call the same distribution with the same name more then once in a trial. When the parameter values are inconsistent optuna only uses the values of the first call and ignores all following. Using these values: {'low': 0.0, 'high': 10.0}\n",
      "  warnings.warn(\n",
      "\u001b[32m[I 2022-05-29 22:52:08,453]\u001b[0m Trial 164 finished with value: 0.6680595455732568 and parameters: {'booster': 'gbtree', 'lambda': 0.42653853609184367, 'alpha': 4.0815551971938034e-05, 'learning_rate': 0.5590648133431579, 'gamma': 1.3393074662881652, 'n_estimators': 909, 'max_depth': 5, 'min_child_weight': 1.8208048411446058}. Best is trial 133 with value: 0.6806045340050377.\u001b[0m\n",
      "C:\\Users\\Lucas\\anaconda3\\lib\\site-packages\\optuna\\trial\\_trial.py:772: RuntimeWarning: Inconsistent parameter values for distribution with name \"min_child_weight\"! This might be a configuration mistake. Optuna allows to call the same distribution with the same name more then once in a trial. When the parameter values are inconsistent optuna only uses the values of the first call and ignores all following. Using these values: {'low': 0.0, 'high': 10.0}\n",
      "  warnings.warn(\n",
      "\u001b[32m[I 2022-05-29 22:52:08,529]\u001b[0m Trial 165 finished with value: 0.6737864077669903 and parameters: {'booster': 'gbtree', 'lambda': 6.010106894892081e-07, 'alpha': 0.019365674710388078, 'learning_rate': 0.8289024268735578, 'gamma': 0.10618479282314365, 'n_estimators': 769, 'max_depth': 6, 'min_child_weight': 2.1580307641400545}. Best is trial 133 with value: 0.6806045340050377.\u001b[0m\n",
      "C:\\Users\\Lucas\\anaconda3\\lib\\site-packages\\optuna\\trial\\_trial.py:772: RuntimeWarning: Inconsistent parameter values for distribution with name \"min_child_weight\"! This might be a configuration mistake. Optuna allows to call the same distribution with the same name more then once in a trial. When the parameter values are inconsistent optuna only uses the values of the first call and ignores all following. Using these values: {'low': 0.0, 'high': 10.0}\n",
      "  warnings.warn(\n",
      "\u001b[32m[I 2022-05-29 22:52:08,613]\u001b[0m Trial 166 finished with value: 0.6692272932670583 and parameters: {'booster': 'gbtree', 'lambda': 4.0090005002527797e-07, 'alpha': 0.008129031011405727, 'learning_rate': 0.6387350082738349, 'gamma': 2.1210090238043713, 'n_estimators': 803, 'max_depth': 7, 'min_child_weight': 2.402213511561531}. Best is trial 133 with value: 0.6806045340050377.\u001b[0m\n",
      "C:\\Users\\Lucas\\anaconda3\\lib\\site-packages\\optuna\\trial\\_trial.py:772: RuntimeWarning: Inconsistent parameter values for distribution with name \"min_child_weight\"! This might be a configuration mistake. Optuna allows to call the same distribution with the same name more then once in a trial. When the parameter values are inconsistent optuna only uses the values of the first call and ignores all following. Using these values: {'low': 0.0, 'high': 10.0}\n",
      "  warnings.warn(\n",
      "\u001b[32m[I 2022-05-29 22:52:08,686]\u001b[0m Trial 167 finished with value: 0.6778200253485425 and parameters: {'booster': 'gbtree', 'lambda': 2.285337381844971e-06, 'alpha': 2.4311947899233516e-05, 'learning_rate': 0.7433798633774424, 'gamma': 0.497290730530453, 'n_estimators': 887, 'max_depth': 6, 'min_child_weight': 1.8871757518192531}. Best is trial 133 with value: 0.6806045340050377.\u001b[0m\n",
      "C:\\Users\\Lucas\\anaconda3\\lib\\site-packages\\optuna\\trial\\_trial.py:772: RuntimeWarning: Inconsistent parameter values for distribution with name \"min_child_weight\"! This might be a configuration mistake. Optuna allows to call the same distribution with the same name more then once in a trial. When the parameter values are inconsistent optuna only uses the values of the first call and ignores all following. Using these values: {'low': 0.0, 'high': 10.0}\n",
      "  warnings.warn(\n",
      "\u001b[32m[I 2022-05-29 22:52:08,740]\u001b[0m Trial 168 finished with value: 0.5953615279672579 and parameters: {'booster': 'gblinear', 'lambda': 3.832507951125271e-06, 'alpha': 3.2029534826932127e-06, 'learning_rate': 0.7450947274240767, 'gamma': 0.35620193684579365, 'n_estimators': 893, 'max_depth': 6, 'min_child_weight': 1.6352786439397213}. Best is trial 133 with value: 0.6806045340050377.\u001b[0m\n",
      "C:\\Users\\Lucas\\anaconda3\\lib\\site-packages\\optuna\\trial\\_trial.py:772: RuntimeWarning: Inconsistent parameter values for distribution with name \"min_child_weight\"! This might be a configuration mistake. Optuna allows to call the same distribution with the same name more then once in a trial. When the parameter values are inconsistent optuna only uses the values of the first call and ignores all following. Using these values: {'low': 0.0, 'high': 10.0}\n",
      "  warnings.warn(\n",
      "\u001b[32m[I 2022-05-29 22:52:08,814]\u001b[0m Trial 169 finished with value: 0.6493283795370105 and parameters: {'booster': 'gbtree', 'lambda': 2.2771892949291836e-06, 'alpha': 0.005645630704927789, 'learning_rate': 0.8911949535475907, 'gamma': 3.160374216226087, 'n_estimators': 951, 'max_depth': 6, 'min_child_weight': 1.2396673052409333}. Best is trial 133 with value: 0.6806045340050377.\u001b[0m\n"
     ]
    },
    {
     "name": "stderr",
     "output_type": "stream",
     "text": [
      "C:\\Users\\Lucas\\anaconda3\\lib\\site-packages\\optuna\\trial\\_trial.py:772: RuntimeWarning: Inconsistent parameter values for distribution with name \"min_child_weight\"! This might be a configuration mistake. Optuna allows to call the same distribution with the same name more then once in a trial. When the parameter values are inconsistent optuna only uses the values of the first call and ignores all following. Using these values: {'low': 0.0, 'high': 10.0}\n",
      "  warnings.warn(\n",
      "\u001b[32m[I 2022-05-29 22:52:08,908]\u001b[0m Trial 170 finished with value: 0.6621175434734757 and parameters: {'booster': 'dart', 'lambda': 2.980101899308974e-06, 'alpha': 1.1961524084817085e-05, 'learning_rate': 0.787141064212157, 'gamma': 0.19260610369632564, 'n_estimators': 855, 'max_depth': 6, 'min_child_weight': 2.6448727923411743}. Best is trial 133 with value: 0.6806045340050377.\u001b[0m\n",
      "C:\\Users\\Lucas\\anaconda3\\lib\\site-packages\\optuna\\trial\\_trial.py:772: RuntimeWarning: Inconsistent parameter values for distribution with name \"min_child_weight\"! This might be a configuration mistake. Optuna allows to call the same distribution with the same name more then once in a trial. When the parameter values are inconsistent optuna only uses the values of the first call and ignores all following. Using these values: {'low': 0.0, 'high': 10.0}\n",
      "  warnings.warn(\n",
      "\u001b[32m[I 2022-05-29 22:52:08,978]\u001b[0m Trial 171 finished with value: 0.6739684156902701 and parameters: {'booster': 'gbtree', 'lambda': 6.251582236528112e-06, 'alpha': 2.7880822294014775e-05, 'learning_rate': 0.6735837193292914, 'gamma': 0.5612845846649344, 'n_estimators': 827, 'max_depth': 5, 'min_child_weight': 1.8512437690628565}. Best is trial 133 with value: 0.6806045340050377.\u001b[0m\n",
      "C:\\Users\\Lucas\\anaconda3\\lib\\site-packages\\optuna\\trial\\_trial.py:772: RuntimeWarning: Inconsistent parameter values for distribution with name \"min_child_weight\"! This might be a configuration mistake. Optuna allows to call the same distribution with the same name more then once in a trial. When the parameter values are inconsistent optuna only uses the values of the first call and ignores all following. Using these values: {'low': 0.0, 'high': 10.0}\n",
      "  warnings.warn(\n",
      "\u001b[32m[I 2022-05-29 22:52:09,054]\u001b[0m Trial 172 finished with value: 0.6699834162520729 and parameters: {'booster': 'gbtree', 'lambda': 1.5512212958280157e-06, 'alpha': 2.238833395858396e-05, 'learning_rate': 0.601390961309975, 'gamma': 0.870009065975448, 'n_estimators': 871, 'max_depth': 6, 'min_child_weight': 2.0992948738951576}. Best is trial 133 with value: 0.6806045340050377.\u001b[0m\n",
      "C:\\Users\\Lucas\\anaconda3\\lib\\site-packages\\optuna\\trial\\_trial.py:772: RuntimeWarning: Inconsistent parameter values for distribution with name \"min_child_weight\"! This might be a configuration mistake. Optuna allows to call the same distribution with the same name more then once in a trial. When the parameter values are inconsistent optuna only uses the values of the first call and ignores all following. Using these values: {'low': 0.0, 'high': 10.0}\n",
      "  warnings.warn(\n",
      "\u001b[32m[I 2022-05-29 22:52:09,133]\u001b[0m Trial 173 finished with value: 0.6766269941757407 and parameters: {'booster': 'gbtree', 'lambda': 7.990358558152045e-07, 'alpha': 5.677005464175657e-05, 'learning_rate': 0.7195258103518894, 'gamma': 1.2631443907042454, 'n_estimators': 923, 'max_depth': 7, 'min_child_weight': 1.9146923744603976}. Best is trial 133 with value: 0.6806045340050377.\u001b[0m\n",
      "C:\\Users\\Lucas\\anaconda3\\lib\\site-packages\\optuna\\trial\\_trial.py:772: RuntimeWarning: Inconsistent parameter values for distribution with name \"min_child_weight\"! This might be a configuration mistake. Optuna allows to call the same distribution with the same name more then once in a trial. When the parameter values are inconsistent optuna only uses the values of the first call and ignores all following. Using these values: {'low': 0.0, 'high': 10.0}\n",
      "  warnings.warn(\n",
      "\u001b[32m[I 2022-05-29 22:52:09,212]\u001b[0m Trial 174 finished with value: 0.6725206611570247 and parameters: {'booster': 'gbtree', 'lambda': 8.525811629138255e-07, 'alpha': 5.980748029855559e-05, 'learning_rate': 0.868549997473425, 'gamma': 1.3369204329822546, 'n_estimators': 906, 'max_depth': 7, 'min_child_weight': 1.6340091475464265}. Best is trial 133 with value: 0.6806045340050377.\u001b[0m\n",
      "C:\\Users\\Lucas\\anaconda3\\lib\\site-packages\\optuna\\trial\\_trial.py:772: RuntimeWarning: Inconsistent parameter values for distribution with name \"min_child_weight\"! This might be a configuration mistake. Optuna allows to call the same distribution with the same name more then once in a trial. When the parameter values are inconsistent optuna only uses the values of the first call and ignores all following. Using these values: {'low': 0.0, 'high': 10.0}\n",
      "  warnings.warn(\n",
      "\u001b[32m[I 2022-05-29 22:52:09,289]\u001b[0m Trial 175 finished with value: 0.6680299931833674 and parameters: {'booster': 'gbtree', 'lambda': 6.820364343751697e-07, 'alpha': 0.00011401946450812605, 'learning_rate': 0.7372849463136419, 'gamma': 5.000007287020375, 'n_estimators': 940, 'max_depth': 7, 'min_child_weight': 2.2865479381495852}. Best is trial 133 with value: 0.6806045340050377.\u001b[0m\n",
      "C:\\Users\\Lucas\\anaconda3\\lib\\site-packages\\optuna\\trial\\_trial.py:772: RuntimeWarning: Inconsistent parameter values for distribution with name \"min_child_weight\"! This might be a configuration mistake. Optuna allows to call the same distribution with the same name more then once in a trial. When the parameter values are inconsistent optuna only uses the values of the first call and ignores all following. Using these values: {'low': 0.0, 'high': 10.0}\n",
      "  warnings.warn(\n",
      "\u001b[32m[I 2022-05-29 22:52:09,368]\u001b[0m Trial 176 finished with value: 0.6551823140970429 and parameters: {'booster': 'gbtree', 'lambda': 2.7622723127050235e-07, 'alpha': 0.0035121245064814607, 'learning_rate': 0.5331099124733858, 'gamma': 0.44055079643783096, 'n_estimators': 597, 'max_depth': 7, 'min_child_weight': 1.4191476972392585}. Best is trial 133 with value: 0.6806045340050377.\u001b[0m\n",
      "C:\\Users\\Lucas\\anaconda3\\lib\\site-packages\\optuna\\trial\\_trial.py:772: RuntimeWarning: Inconsistent parameter values for distribution with name \"min_child_weight\"! This might be a configuration mistake. Optuna allows to call the same distribution with the same name more then once in a trial. When the parameter values are inconsistent optuna only uses the values of the first call and ignores all following. Using these values: {'low': 0.0, 'high': 10.0}\n",
      "  warnings.warn(\n",
      "\u001b[32m[I 2022-05-29 22:52:09,440]\u001b[0m Trial 177 finished with value: 0.6720362446513969 and parameters: {'booster': 'gbtree', 'lambda': 1.0797071219811684e-06, 'alpha': 8.371521871549627e-05, 'learning_rate': 0.9202715607601768, 'gamma': 1.837407167239831, 'n_estimators': 972, 'max_depth': 6, 'min_child_weight': 2.0368292717619414}. Best is trial 133 with value: 0.6806045340050377.\u001b[0m\n",
      "C:\\Users\\Lucas\\anaconda3\\lib\\site-packages\\optuna\\trial\\_trial.py:772: RuntimeWarning: Inconsistent parameter values for distribution with name \"min_child_weight\"! This might be a configuration mistake. Optuna allows to call the same distribution with the same name more then once in a trial. When the parameter values are inconsistent optuna only uses the values of the first call and ignores all following. Using these values: {'low': 0.0, 'high': 10.0}\n",
      "  warnings.warn(\n",
      "\u001b[32m[I 2022-05-29 22:52:09,527]\u001b[0m Trial 178 finished with value: 0.6700715015321757 and parameters: {'booster': 'gbtree', 'lambda': 1.651533771507826e-06, 'alpha': 0.0013316036136466623, 'learning_rate': 0.805742502880758, 'gamma': 1.1336836942535469, 'n_estimators': 918, 'max_depth': 9, 'min_child_weight': 1.7395874051692561}. Best is trial 133 with value: 0.6806045340050377.\u001b[0m\n",
      "C:\\Users\\Lucas\\anaconda3\\lib\\site-packages\\optuna\\trial\\_trial.py:772: RuntimeWarning: Inconsistent parameter values for distribution with name \"min_child_weight\"! This might be a configuration mistake. Optuna allows to call the same distribution with the same name more then once in a trial. When the parameter values are inconsistent optuna only uses the values of the first call and ignores all following. Using these values: {'low': 0.0, 'high': 10.0}\n",
      "  warnings.warn(\n"
     ]
    },
    {
     "name": "stderr",
     "output_type": "stream",
     "text": [
      "\u001b[32m[I 2022-05-29 22:52:09,604]\u001b[0m Trial 179 finished with value: 0.6678733031674208 and parameters: {'booster': 'gbtree', 'lambda': 5.753975319950894e-07, 'alpha': 1.5243938002689572e-05, 'learning_rate': 0.7088201454694665, 'gamma': 2.5271662687818717, 'n_estimators': 882, 'max_depth': 7, 'min_child_weight': 2.459811276514071}. Best is trial 133 with value: 0.6806045340050377.\u001b[0m\n",
      "C:\\Users\\Lucas\\anaconda3\\lib\\site-packages\\optuna\\trial\\_trial.py:772: RuntimeWarning: Inconsistent parameter values for distribution with name \"min_child_weight\"! This might be a configuration mistake. Optuna allows to call the same distribution with the same name more then once in a trial. When the parameter values are inconsistent optuna only uses the values of the first call and ignores all following. Using these values: {'low': 0.0, 'high': 10.0}\n",
      "  warnings.warn(\n",
      "\u001b[32m[I 2022-05-29 22:52:09,675]\u001b[0m Trial 180 finished with value: 0.6666666666666667 and parameters: {'booster': 'gbtree', 'lambda': 0.2859145822736774, 'alpha': 0.0023889641278379815, 'learning_rate': 0.5889631965230603, 'gamma': 9.869650552233106, 'n_estimators': 90, 'max_depth': 6, 'min_child_weight': 2.2102748970528046}. Best is trial 133 with value: 0.6806045340050377.\u001b[0m\n",
      "C:\\Users\\Lucas\\anaconda3\\lib\\site-packages\\optuna\\trial\\_trial.py:772: RuntimeWarning: Inconsistent parameter values for distribution with name \"min_child_weight\"! This might be a configuration mistake. Optuna allows to call the same distribution with the same name more then once in a trial. When the parameter values are inconsistent optuna only uses the values of the first call and ignores all following. Using these values: {'low': 0.0, 'high': 10.0}\n",
      "  warnings.warn(\n",
      "\u001b[32m[I 2022-05-29 22:52:09,746]\u001b[0m Trial 181 finished with value: 0.677410969586691 and parameters: {'booster': 'gbtree', 'lambda': 2.5345680337177726e-06, 'alpha': 4.270834288735673e-05, 'learning_rate': 0.6695175337407668, 'gamma': 0.5963787116442515, 'n_estimators': 841, 'max_depth': 6, 'min_child_weight': 1.8611157092493873}. Best is trial 133 with value: 0.6806045340050377.\u001b[0m\n",
      "C:\\Users\\Lucas\\anaconda3\\lib\\site-packages\\optuna\\trial\\_trial.py:772: RuntimeWarning: Inconsistent parameter values for distribution with name \"min_child_weight\"! This might be a configuration mistake. Optuna allows to call the same distribution with the same name more then once in a trial. When the parameter values are inconsistent optuna only uses the values of the first call and ignores all following. Using these values: {'low': 0.0, 'high': 10.0}\n",
      "  warnings.warn(\n",
      "\u001b[32m[I 2022-05-29 22:52:09,818]\u001b[0m Trial 182 finished with value: 0.6713578316393015 and parameters: {'booster': 'gbtree', 'lambda': 2.927187943643191e-06, 'alpha': 5.6614769999491906e-05, 'learning_rate': 0.7603720170458617, 'gamma': 0.7439941349109758, 'n_estimators': 634, 'max_depth': 6, 'min_child_weight': 1.7804441606056784}. Best is trial 133 with value: 0.6806045340050377.\u001b[0m\n",
      "C:\\Users\\Lucas\\anaconda3\\lib\\site-packages\\optuna\\trial\\_trial.py:772: RuntimeWarning: Inconsistent parameter values for distribution with name \"min_child_weight\"! This might be a configuration mistake. Optuna allows to call the same distribution with the same name more then once in a trial. When the parameter values are inconsistent optuna only uses the values of the first call and ignores all following. Using these values: {'low': 0.0, 'high': 10.0}\n",
      "  warnings.warn(\n",
      "\u001b[32m[I 2022-05-29 22:52:09,897]\u001b[0m Trial 183 finished with value: 0.67523953605648 and parameters: {'booster': 'gbtree', 'lambda': 2.2994427785170297e-06, 'alpha': 4.2314354204034825e-05, 'learning_rate': 0.4860547933385161, 'gamma': 0.2517089184850469, 'n_estimators': 855, 'max_depth': 6, 'min_child_weight': 1.9876587434120547}. Best is trial 133 with value: 0.6806045340050377.\u001b[0m\n",
      "C:\\Users\\Lucas\\anaconda3\\lib\\site-packages\\optuna\\trial\\_trial.py:772: RuntimeWarning: Inconsistent parameter values for distribution with name \"min_child_weight\"! This might be a configuration mistake. Optuna allows to call the same distribution with the same name more then once in a trial. When the parameter values are inconsistent optuna only uses the values of the first call and ignores all following. Using these values: {'low': 0.0, 'high': 10.0}\n",
      "  warnings.warn(\n",
      "\u001b[32m[I 2022-05-29 22:52:09,976]\u001b[0m Trial 184 finished with value: 0.6696083838940983 and parameters: {'booster': 'gbtree', 'lambda': 4.32337789962084e-06, 'alpha': 3.8280265979106245e-05, 'learning_rate': 0.48621107182721274, 'gamma': 0.23238492109860737, 'n_estimators': 886, 'max_depth': 6, 'min_child_weight': 1.5616348281017691}. Best is trial 133 with value: 0.6806045340050377.\u001b[0m\n",
      "C:\\Users\\Lucas\\anaconda3\\lib\\site-packages\\optuna\\trial\\_trial.py:772: RuntimeWarning: Inconsistent parameter values for distribution with name \"min_child_weight\"! This might be a configuration mistake. Optuna allows to call the same distribution with the same name more then once in a trial. When the parameter values are inconsistent optuna only uses the values of the first call and ignores all following. Using these values: {'low': 0.0, 'high': 10.0}\n",
      "  warnings.warn(\n",
      "\u001b[32m[I 2022-05-29 22:52:10,053]\u001b[0m Trial 185 finished with value: 0.6783715012722646 and parameters: {'booster': 'gbtree', 'lambda': 2.182287167936323e-06, 'alpha': 2.2912939148361702e-05, 'learning_rate': 0.8709419891232487, 'gamma': 0.3328888960149288, 'n_estimators': 841, 'max_depth': 6, 'min_child_weight': 1.9902613949698416}. Best is trial 133 with value: 0.6806045340050377.\u001b[0m\n",
      "C:\\Users\\Lucas\\anaconda3\\lib\\site-packages\\optuna\\trial\\_trial.py:772: RuntimeWarning: Inconsistent parameter values for distribution with name \"min_child_weight\"! This might be a configuration mistake. Optuna allows to call the same distribution with the same name more then once in a trial. When the parameter values are inconsistent optuna only uses the values of the first call and ignores all following. Using these values: {'low': 0.0, 'high': 10.0}\n",
      "  warnings.warn(\n",
      "\u001b[32m[I 2022-05-29 22:52:10,129]\u001b[0m Trial 186 finished with value: 0.674225245653817 and parameters: {'booster': 'gbtree', 'lambda': 2.736606286652076e-06, 'alpha': 8.21482342208333e-06, 'learning_rate': 0.9132029349084012, 'gamma': 0.2939988074819124, 'n_estimators': 850, 'max_depth': 6, 'min_child_weight': 1.9144725990292384}. Best is trial 133 with value: 0.6806045340050377.\u001b[0m\n",
      "C:\\Users\\Lucas\\anaconda3\\lib\\site-packages\\optuna\\trial\\_trial.py:772: RuntimeWarning: Inconsistent parameter values for distribution with name \"min_child_weight\"! This might be a configuration mistake. Optuna allows to call the same distribution with the same name more then once in a trial. When the parameter values are inconsistent optuna only uses the values of the first call and ignores all following. Using these values: {'low': 0.0, 'high': 10.0}\n",
      "  warnings.warn(\n",
      "\u001b[32m[I 2022-05-29 22:52:10,206]\u001b[0m Trial 187 finished with value: 0.6608841634023503 and parameters: {'booster': 'gbtree', 'lambda': 8.145820340896623e-06, 'alpha': 1.921593196473048e-05, 'learning_rate': 0.8397670643463311, 'gamma': 0.13204239300946793, 'n_estimators': 844, 'max_depth': 6, 'min_child_weight': 1.3609223316677581}. Best is trial 133 with value: 0.6806045340050377.\u001b[0m\n",
      "C:\\Users\\Lucas\\anaconda3\\lib\\site-packages\\optuna\\trial\\_trial.py:772: RuntimeWarning: Inconsistent parameter values for distribution with name \"min_child_weight\"! This might be a configuration mistake. Optuna allows to call the same distribution with the same name more then once in a trial. When the parameter values are inconsistent optuna only uses the values of the first call and ignores all following. Using these values: {'low': 0.0, 'high': 10.0}\n",
      "  warnings.warn(\n",
      "\u001b[32m[I 2022-05-29 22:52:10,300]\u001b[0m Trial 188 finished with value: 0.6766066838046272 and parameters: {'booster': 'dart', 'lambda': 1.9796120386897338e-06, 'alpha': 0.00015618737680959287, 'learning_rate': 0.9889657342765923, 'gamma': 0.3880680784990282, 'n_estimators': 868, 'max_depth': 6, 'min_child_weight': 1.6757941138562484}. Best is trial 133 with value: 0.6806045340050377.\u001b[0m\n",
      "C:\\Users\\Lucas\\anaconda3\\lib\\site-packages\\optuna\\trial\\_trial.py:772: RuntimeWarning: Inconsistent parameter values for distribution with name \"min_child_weight\"! This might be a configuration mistake. Optuna allows to call the same distribution with the same name more then once in a trial. When the parameter values are inconsistent optuna only uses the values of the first call and ignores all following. Using these values: {'low': 0.0, 'high': 10.0}\n",
      "  warnings.warn(\n"
     ]
    },
    {
     "name": "stderr",
     "output_type": "stream",
     "text": [
      "\u001b[32m[I 2022-05-29 22:52:10,392]\u001b[0m Trial 189 finished with value: 0.6761290322580645 and parameters: {'booster': 'dart', 'lambda': 1.3863317998724541e-06, 'alpha': 0.00016952699518407458, 'learning_rate': 0.944813811562801, 'gamma': 0.5110766469885595, 'n_estimators': 926, 'max_depth': 7, 'min_child_weight': 1.6214279400467935}. Best is trial 133 with value: 0.6806045340050377.\u001b[0m\n",
      "C:\\Users\\Lucas\\anaconda3\\lib\\site-packages\\optuna\\trial\\_trial.py:772: RuntimeWarning: Inconsistent parameter values for distribution with name \"min_child_weight\"! This might be a configuration mistake. Optuna allows to call the same distribution with the same name more then once in a trial. When the parameter values are inconsistent optuna only uses the values of the first call and ignores all following. Using these values: {'low': 0.0, 'high': 10.0}\n",
      "  warnings.warn(\n",
      "\u001b[32m[I 2022-05-29 22:52:10,481]\u001b[0m Trial 190 finished with value: 0.647515081873025 and parameters: {'booster': 'dart', 'lambda': 1.8446864567328051e-06, 'alpha': 0.00012709813868245711, 'learning_rate': 0.9688846536918062, 'gamma': 0.3978304193545285, 'n_estimators': 898, 'max_depth': 6, 'min_child_weight': 1.2199227409749267}. Best is trial 133 with value: 0.6806045340050377.\u001b[0m\n",
      "C:\\Users\\Lucas\\anaconda3\\lib\\site-packages\\optuna\\trial\\_trial.py:772: RuntimeWarning: Inconsistent parameter values for distribution with name \"min_child_weight\"! This might be a configuration mistake. Optuna allows to call the same distribution with the same name more then once in a trial. When the parameter values are inconsistent optuna only uses the values of the first call and ignores all following. Using these values: {'low': 0.0, 'high': 10.0}\n",
      "  warnings.warn(\n",
      "\u001b[32m[I 2022-05-29 22:52:10,578]\u001b[0m Trial 191 finished with value: 0.6659734858331167 and parameters: {'booster': 'dart', 'lambda': 1.1364582129735029e-06, 'alpha': 0.00018145566552347993, 'learning_rate': 0.8662382388690701, 'gamma': 0.49963568485862225, 'n_estimators': 928, 'max_depth': 7, 'min_child_weight': 1.6728766978655543}. Best is trial 133 with value: 0.6806045340050377.\u001b[0m\n",
      "C:\\Users\\Lucas\\anaconda3\\lib\\site-packages\\optuna\\trial\\_trial.py:772: RuntimeWarning: Inconsistent parameter values for distribution with name \"min_child_weight\"! This might be a configuration mistake. Optuna allows to call the same distribution with the same name more then once in a trial. When the parameter values are inconsistent optuna only uses the values of the first call and ignores all following. Using these values: {'low': 0.0, 'high': 10.0}\n",
      "  warnings.warn(\n",
      "\u001b[32m[I 2022-05-29 22:52:10,676]\u001b[0m Trial 192 finished with value: 0.6603157321720196 and parameters: {'booster': 'dart', 'lambda': 1.627624681618621e-06, 'alpha': 0.0005439272582564915, 'learning_rate': 0.9958322474903049, 'gamma': 0.8248436373369012, 'n_estimators': 868, 'max_depth': 7, 'min_child_weight': 1.5110570905974838}. Best is trial 133 with value: 0.6806045340050377.\u001b[0m\n",
      "C:\\Users\\Lucas\\anaconda3\\lib\\site-packages\\optuna\\trial\\_trial.py:772: RuntimeWarning: Inconsistent parameter values for distribution with name \"min_child_weight\"! This might be a configuration mistake. Optuna allows to call the same distribution with the same name more then once in a trial. When the parameter values are inconsistent optuna only uses the values of the first call and ignores all following. Using these values: {'low': 0.0, 'high': 10.0}\n",
      "  warnings.warn(\n",
      "\u001b[32m[I 2022-05-29 22:52:10,767]\u001b[0m Trial 193 finished with value: 0.6767600302800909 and parameters: {'booster': 'dart', 'lambda': 9.409576918049186e-07, 'alpha': 8.443600481759624e-05, 'learning_rate': 0.8193433278302238, 'gamma': 0.1776157683698101, 'n_estimators': 921, 'max_depth': 7, 'min_child_weight': 1.8384323888164926}. Best is trial 133 with value: 0.6806045340050377.\u001b[0m\n",
      "C:\\Users\\Lucas\\anaconda3\\lib\\site-packages\\optuna\\trial\\_trial.py:772: RuntimeWarning: Inconsistent parameter values for distribution with name \"min_child_weight\"! This might be a configuration mistake. Optuna allows to call the same distribution with the same name more then once in a trial. When the parameter values are inconsistent optuna only uses the values of the first call and ignores all following. Using these values: {'low': 0.0, 'high': 10.0}\n",
      "  warnings.warn(\n",
      "\u001b[32m[I 2022-05-29 22:52:10,864]\u001b[0m Trial 194 finished with value: 0.6773292713886774 and parameters: {'booster': 'dart', 'lambda': 9.979035791612056e-07, 'alpha': 8.241032632486529e-05, 'learning_rate': 0.7920690914932477, 'gamma': 0.0849222015652656, 'n_estimators': 892, 'max_depth': 6, 'min_child_weight': 1.8273089667244349}. Best is trial 133 with value: 0.6806045340050377.\u001b[0m\n",
      "C:\\Users\\Lucas\\anaconda3\\lib\\site-packages\\optuna\\trial\\_trial.py:772: RuntimeWarning: Inconsistent parameter values for distribution with name \"min_child_weight\"! This might be a configuration mistake. Optuna allows to call the same distribution with the same name more then once in a trial. When the parameter values are inconsistent optuna only uses the values of the first call and ignores all following. Using these values: {'low': 0.0, 'high': 10.0}\n",
      "  warnings.warn(\n",
      "\u001b[32m[I 2022-05-29 22:52:10,961]\u001b[0m Trial 195 finished with value: 0.6779333655239015 and parameters: {'booster': 'dart', 'lambda': 9.658912848808146e-07, 'alpha': 9.429858881082963e-05, 'learning_rate': 0.8112494754052517, 'gamma': 0.02904747449012564, 'n_estimators': 952, 'max_depth': 6, 'min_child_weight': 2.2545307731145137}. Best is trial 133 with value: 0.6806045340050377.\u001b[0m\n",
      "C:\\Users\\Lucas\\anaconda3\\lib\\site-packages\\optuna\\trial\\_trial.py:772: RuntimeWarning: Inconsistent parameter values for distribution with name \"min_child_weight\"! This might be a configuration mistake. Optuna allows to call the same distribution with the same name more then once in a trial. When the parameter values are inconsistent optuna only uses the values of the first call and ignores all following. Using these values: {'low': 0.0, 'high': 10.0}\n",
      "  warnings.warn(\n",
      "\u001b[32m[I 2022-05-29 22:52:11,049]\u001b[0m Trial 196 finished with value: 0.6769601930036189 and parameters: {'booster': 'dart', 'lambda': 8.115547426184992e-07, 'alpha': 8.958845592233714e-05, 'learning_rate': 0.8094176373986548, 'gamma': 0.1895473152471674, 'n_estimators': 962, 'max_depth': 6, 'min_child_weight': 2.279091766868091}. Best is trial 133 with value: 0.6806045340050377.\u001b[0m\n",
      "C:\\Users\\Lucas\\anaconda3\\lib\\site-packages\\optuna\\trial\\_trial.py:772: RuntimeWarning: Inconsistent parameter values for distribution with name \"min_child_weight\"! This might be a configuration mistake. Optuna allows to call the same distribution with the same name more then once in a trial. When the parameter values are inconsistent optuna only uses the values of the first call and ignores all following. Using these values: {'low': 0.0, 'high': 10.0}\n",
      "  warnings.warn(\n",
      "\u001b[32m[I 2022-05-29 22:52:11,142]\u001b[0m Trial 197 finished with value: 0.6674301420064132 and parameters: {'booster': 'dart', 'lambda': 8.707721026291374e-07, 'alpha': 8.009705863280764e-05, 'learning_rate': 0.8193013519597218, 'gamma': 0.030644441923940214, 'n_estimators': 945, 'max_depth': 6, 'min_child_weight': 2.2975031696977033}. Best is trial 133 with value: 0.6806045340050377.\u001b[0m\n",
      "C:\\Users\\Lucas\\anaconda3\\lib\\site-packages\\optuna\\trial\\_trial.py:772: RuntimeWarning: Inconsistent parameter values for distribution with name \"min_child_weight\"! This might be a configuration mistake. Optuna allows to call the same distribution with the same name more then once in a trial. When the parameter values are inconsistent optuna only uses the values of the first call and ignores all following. Using these values: {'low': 0.0, 'high': 10.0}\n",
      "  warnings.warn(\n",
      "\u001b[32m[I 2022-05-29 22:52:11,235]\u001b[0m Trial 198 finished with value: 0.6733764677689912 and parameters: {'booster': 'dart', 'lambda': 3.9406027763590207e-07, 'alpha': 0.00010459284502964079, 'learning_rate': 0.8267939482251475, 'gamma': 0.13360876145749326, 'n_estimators': 961, 'max_depth': 6, 'min_child_weight': 2.14854658869232}. Best is trial 133 with value: 0.6806045340050377.\u001b[0m\n",
      "C:\\Users\\Lucas\\anaconda3\\lib\\site-packages\\optuna\\trial\\_trial.py:772: RuntimeWarning: Inconsistent parameter values for distribution with name \"min_child_weight\"! This might be a configuration mistake. Optuna allows to call the same distribution with the same name more then once in a trial. When the parameter values are inconsistent optuna only uses the values of the first call and ignores all following. Using these values: {'low': 0.0, 'high': 10.0}\n",
      "  warnings.warn(\n"
     ]
    },
    {
     "name": "stderr",
     "output_type": "stream",
     "text": [
      "\u001b[32m[I 2022-05-29 22:52:11,323]\u001b[0m Trial 199 finished with value: 0.6104997293884177 and parameters: {'booster': 'dart', 'lambda': 1.139810263365761e-06, 'alpha': 5.6466676126049724e-05, 'learning_rate': 0.8036368594069103, 'gamma': 0.09955282217578133, 'n_estimators': 981, 'max_depth': 6, 'min_child_weight': 5.282469158112848}. Best is trial 133 with value: 0.6806045340050377.\u001b[0m\n",
      "C:\\Users\\Lucas\\anaconda3\\lib\\site-packages\\optuna\\trial\\_trial.py:772: RuntimeWarning: Inconsistent parameter values for distribution with name \"min_child_weight\"! This might be a configuration mistake. Optuna allows to call the same distribution with the same name more then once in a trial. When the parameter values are inconsistent optuna only uses the values of the first call and ignores all following. Using these values: {'low': 0.0, 'high': 10.0}\n",
      "  warnings.warn(\n",
      "\u001b[32m[I 2022-05-29 22:52:11,420]\u001b[0m Trial 200 finished with value: 0.6611098925202895 and parameters: {'booster': 'dart', 'lambda': 7.993536969913625e-07, 'alpha': 7.286498653846847e-05, 'learning_rate': 0.755852391358757, 'gamma': 0.04880351535784904, 'n_estimators': 992, 'max_depth': 7, 'min_child_weight': 2.486359047064885}. Best is trial 133 with value: 0.6806045340050377.\u001b[0m\n",
      "C:\\Users\\Lucas\\anaconda3\\lib\\site-packages\\optuna\\trial\\_trial.py:772: RuntimeWarning: Inconsistent parameter values for distribution with name \"min_child_weight\"! This might be a configuration mistake. Optuna allows to call the same distribution with the same name more then once in a trial. When the parameter values are inconsistent optuna only uses the values of the first call and ignores all following. Using these values: {'low': 0.0, 'high': 10.0}\n",
      "  warnings.warn(\n",
      "\u001b[32m[I 2022-05-29 22:52:11,508]\u001b[0m Trial 201 finished with value: 0.6668295065950172 and parameters: {'booster': 'dart', 'lambda': 9.366327248923038e-07, 'alpha': 0.00024549038289012153, 'learning_rate': 0.9954715740000709, 'gamma': 0.0674834292907554, 'n_estimators': 910, 'max_depth': 6, 'min_child_weight': 1.828010629878183}. Best is trial 133 with value: 0.6806045340050377.\u001b[0m\n",
      "C:\\Users\\Lucas\\anaconda3\\lib\\site-packages\\optuna\\trial\\_trial.py:772: RuntimeWarning: Inconsistent parameter values for distribution with name \"min_child_weight\"! This might be a configuration mistake. Optuna allows to call the same distribution with the same name more then once in a trial. When the parameter values are inconsistent optuna only uses the values of the first call and ignores all following. Using these values: {'low': 0.0, 'high': 10.0}\n",
      "  warnings.warn(\n",
      "\u001b[32m[I 2022-05-29 22:52:11,597]\u001b[0m Trial 202 finished with value: 0.6783042394014962 and parameters: {'booster': 'dart', 'lambda': 7.114830745878912e-07, 'alpha': 0.00015365371308082436, 'learning_rate': 0.8858002098156323, 'gamma': 0.19076893043513396, 'n_estimators': 954, 'max_depth': 6, 'min_child_weight': 2.0528692335713132}. Best is trial 133 with value: 0.6806045340050377.\u001b[0m\n",
      "C:\\Users\\Lucas\\anaconda3\\lib\\site-packages\\optuna\\trial\\_trial.py:772: RuntimeWarning: Inconsistent parameter values for distribution with name \"min_child_weight\"! This might be a configuration mistake. Optuna allows to call the same distribution with the same name more then once in a trial. When the parameter values are inconsistent optuna only uses the values of the first call and ignores all following. Using these values: {'low': 0.0, 'high': 10.0}\n",
      "  warnings.warn(\n",
      "\u001b[32m[I 2022-05-29 22:52:11,692]\u001b[0m Trial 203 finished with value: 0.6642857142857143 and parameters: {'booster': 'dart', 'lambda': 1.0177772063173028e-08, 'alpha': 9.587917227618177e-05, 'learning_rate': 0.8783883621167738, 'gamma': 0.021897376820809007, 'n_estimators': 955, 'max_depth': 6, 'min_child_weight': 2.1244516155313202}. Best is trial 133 with value: 0.6806045340050377.\u001b[0m\n",
      "C:\\Users\\Lucas\\anaconda3\\lib\\site-packages\\optuna\\trial\\_trial.py:772: RuntimeWarning: Inconsistent parameter values for distribution with name \"min_child_weight\"! This might be a configuration mistake. Optuna allows to call the same distribution with the same name more then once in a trial. When the parameter values are inconsistent optuna only uses the values of the first call and ignores all following. Using these values: {'low': 0.0, 'high': 10.0}\n",
      "  warnings.warn(\n",
      "\u001b[32m[I 2022-05-29 22:52:11,785]\u001b[0m Trial 204 finished with value: 0.6760634281399446 and parameters: {'booster': 'dart', 'lambda': 5.347500686923113e-07, 'alpha': 5.5989839290315674e-05, 'learning_rate': 0.7512932637903907, 'gamma': 0.183707863914498, 'n_estimators': 973, 'max_depth': 6, 'min_child_weight': 1.9079024297962002}. Best is trial 133 with value: 0.6806045340050377.\u001b[0m\n",
      "C:\\Users\\Lucas\\anaconda3\\lib\\site-packages\\optuna\\trial\\_trial.py:772: RuntimeWarning: Inconsistent parameter values for distribution with name \"min_child_weight\"! This might be a configuration mistake. Optuna allows to call the same distribution with the same name more then once in a trial. When the parameter values are inconsistent optuna only uses the values of the first call and ignores all following. Using these values: {'low': 0.0, 'high': 10.0}\n",
      "  warnings.warn(\n",
      "\u001b[32m[I 2022-05-29 22:52:11,879]\u001b[0m Trial 205 finished with value: 0.6617050067658998 and parameters: {'booster': 'dart', 'lambda': 6.759998813971245e-07, 'alpha': 0.00012535682701929655, 'learning_rate': 0.8691672908588631, 'gamma': 0.09442927845305786, 'n_estimators': 942, 'max_depth': 6, 'min_child_weight': 2.2662590739209363}. Best is trial 133 with value: 0.6806045340050377.\u001b[0m\n",
      "C:\\Users\\Lucas\\anaconda3\\lib\\site-packages\\optuna\\trial\\_trial.py:772: RuntimeWarning: Inconsistent parameter values for distribution with name \"min_child_weight\"! This might be a configuration mistake. Optuna allows to call the same distribution with the same name more then once in a trial. When the parameter values are inconsistent optuna only uses the values of the first call and ignores all following. Using these values: {'low': 0.0, 'high': 10.0}\n",
      "  warnings.warn(\n",
      "\u001b[32m[I 2022-05-29 22:52:11,966]\u001b[0m Trial 206 finished with value: 0.5487071557426337 and parameters: {'booster': 'dart', 'lambda': 3.2374560945695276e-07, 'alpha': 3.5849051991074276e-05, 'learning_rate': 0.7095745316781389, 'gamma': 0.01383584861733758, 'n_estimators': 919, 'max_depth': 6, 'min_child_weight': 9.961770689508189}. Best is trial 133 with value: 0.6806045340050377.\u001b[0m\n",
      "C:\\Users\\Lucas\\anaconda3\\lib\\site-packages\\optuna\\trial\\_trial.py:772: RuntimeWarning: Inconsistent parameter values for distribution with name \"min_child_weight\"! This might be a configuration mistake. Optuna allows to call the same distribution with the same name more then once in a trial. When the parameter values are inconsistent optuna only uses the values of the first call and ignores all following. Using these values: {'low': 0.0, 'high': 10.0}\n",
      "  warnings.warn(\n",
      "\u001b[32m[I 2022-05-29 22:52:12,055]\u001b[0m Trial 207 finished with value: 0.5618396519577377 and parameters: {'booster': 'dart', 'lambda': 4.6997712962006686e-07, 'alpha': 7.498491805052975e-05, 'learning_rate': 0.785486233942127, 'gamma': 0.15414989399703688, 'n_estimators': 897, 'max_depth': 6, 'min_child_weight': 9.257245622797589}. Best is trial 133 with value: 0.6806045340050377.\u001b[0m\n",
      "C:\\Users\\Lucas\\anaconda3\\lib\\site-packages\\optuna\\trial\\_trial.py:772: RuntimeWarning: Inconsistent parameter values for distribution with name \"min_child_weight\"! This might be a configuration mistake. Optuna allows to call the same distribution with the same name more then once in a trial. When the parameter values are inconsistent optuna only uses the values of the first call and ignores all following. Using these values: {'low': 0.0, 'high': 10.0}\n",
      "  warnings.warn(\n",
      "\u001b[32m[I 2022-05-29 22:52:12,145]\u001b[0m Trial 208 finished with value: 0.6668297455968689 and parameters: {'booster': 'dart', 'lambda': 1.106341293785314e-06, 'alpha': 2.5612867237214507e-05, 'learning_rate': 0.8933671864099666, 'gamma': 0.03553018039595837, 'n_estimators': 931, 'max_depth': 6, 'min_child_weight': 2.042382107239331}. Best is trial 133 with value: 0.6806045340050377.\u001b[0m\n",
      "C:\\Users\\Lucas\\anaconda3\\lib\\site-packages\\optuna\\trial\\_trial.py:772: RuntimeWarning: Inconsistent parameter values for distribution with name \"min_child_weight\"! This might be a configuration mistake. Optuna allows to call the same distribution with the same name more then once in a trial. When the parameter values are inconsistent optuna only uses the values of the first call and ignores all following. Using these values: {'low': 0.0, 'high': 10.0}\n",
      "  warnings.warn(\n"
     ]
    },
    {
     "name": "stderr",
     "output_type": "stream",
     "text": [
      "\u001b[32m[I 2022-05-29 22:52:12,241]\u001b[0m Trial 209 finished with value: 0.6742886178861789 and parameters: {'booster': 'dart', 'lambda': 7.906543440338048e-07, 'alpha': 5.6601869927451054e-05, 'learning_rate': 0.6653580839796575, 'gamma': 0.08525689490398976, 'n_estimators': 957, 'max_depth': 7, 'min_child_weight': 1.8150901073114483}. Best is trial 133 with value: 0.6806045340050377.\u001b[0m\n",
      "C:\\Users\\Lucas\\anaconda3\\lib\\site-packages\\optuna\\trial\\_trial.py:772: RuntimeWarning: Inconsistent parameter values for distribution with name \"min_child_weight\"! This might be a configuration mistake. Optuna allows to call the same distribution with the same name more then once in a trial. When the parameter values are inconsistent optuna only uses the values of the first call and ignores all following. Using these values: {'low': 0.0, 'high': 10.0}\n",
      "  warnings.warn(\n",
      "\u001b[32m[I 2022-05-29 22:52:12,330]\u001b[0m Trial 210 finished with value: 0.6714023831347388 and parameters: {'booster': 'dart', 'lambda': 0.6492442030275551, 'alpha': 0.0002838078198152451, 'learning_rate': 0.7723912727195466, 'gamma': 0.265260530921173, 'n_estimators': 979, 'max_depth': 6, 'min_child_weight': 2.3411546167973296}. Best is trial 133 with value: 0.6806045340050377.\u001b[0m\n",
      "C:\\Users\\Lucas\\anaconda3\\lib\\site-packages\\optuna\\trial\\_trial.py:772: RuntimeWarning: Inconsistent parameter values for distribution with name \"min_child_weight\"! This might be a configuration mistake. Optuna allows to call the same distribution with the same name more then once in a trial. When the parameter values are inconsistent optuna only uses the values of the first call and ignores all following. Using these values: {'low': 0.0, 'high': 10.0}\n",
      "  warnings.warn(\n",
      "\u001b[32m[I 2022-05-29 22:52:12,418]\u001b[0m Trial 211 finished with value: 0.6257343187417094 and parameters: {'booster': 'dart', 'lambda': 2.2754997176181335e-06, 'alpha': 0.0001633914028499943, 'learning_rate': 0.9189376748604513, 'gamma': 0.18184743927912678, 'n_estimators': 885, 'max_depth': 6, 'min_child_weight': 4.335172656749174}. Best is trial 133 with value: 0.6806045340050377.\u001b[0m\n",
      "C:\\Users\\Lucas\\anaconda3\\lib\\site-packages\\optuna\\trial\\_trial.py:772: RuntimeWarning: Inconsistent parameter values for distribution with name \"min_child_weight\"! This might be a configuration mistake. Optuna allows to call the same distribution with the same name more then once in a trial. When the parameter values are inconsistent optuna only uses the values of the first call and ignores all following. Using these values: {'low': 0.0, 'high': 10.0}\n",
      "  warnings.warn(\n",
      "\u001b[32m[I 2022-05-29 22:52:12,506]\u001b[0m Trial 212 finished with value: 0.6783564511907877 and parameters: {'booster': 'dart', 'lambda': 1.3626419589457415e-06, 'alpha': 0.0001205156420022913, 'learning_rate': 0.8463430140888184, 'gamma': 0.36087213347069813, 'n_estimators': 875, 'max_depth': 6, 'min_child_weight': 1.6867862372195295}. Best is trial 133 with value: 0.6806045340050377.\u001b[0m\n",
      "C:\\Users\\Lucas\\anaconda3\\lib\\site-packages\\optuna\\trial\\_trial.py:772: RuntimeWarning: Inconsistent parameter values for distribution with name \"min_child_weight\"! This might be a configuration mistake. Optuna allows to call the same distribution with the same name more then once in a trial. When the parameter values are inconsistent optuna only uses the values of the first call and ignores all following. Using these values: {'low': 0.0, 'high': 10.0}\n",
      "  warnings.warn(\n",
      "\u001b[32m[I 2022-05-29 22:52:12,594]\u001b[0m Trial 213 finished with value: 0.6775244299674267 and parameters: {'booster': 'dart', 'lambda': 1.297492477152428e-06, 'alpha': 0.00011880397781793446, 'learning_rate': 0.8153623557615113, 'gamma': 0.2873234652316359, 'n_estimators': 934, 'max_depth': 6, 'min_child_weight': 1.9861222486913628}. Best is trial 133 with value: 0.6806045340050377.\u001b[0m\n",
      "C:\\Users\\Lucas\\anaconda3\\lib\\site-packages\\optuna\\trial\\_trial.py:772: RuntimeWarning: Inconsistent parameter values for distribution with name \"min_child_weight\"! This might be a configuration mistake. Optuna allows to call the same distribution with the same name more then once in a trial. When the parameter values are inconsistent optuna only uses the values of the first call and ignores all following. Using these values: {'low': 0.0, 'high': 10.0}\n",
      "  warnings.warn(\n",
      "\u001b[32m[I 2022-05-29 22:52:12,683]\u001b[0m Trial 214 finished with value: 0.6619021440351841 and parameters: {'booster': 'dart', 'lambda': 1.330801536121434e-06, 'alpha': 0.00011269630975232308, 'learning_rate': 0.8469642645670923, 'gamma': 0.26801960821857346, 'n_estimators': 901, 'max_depth': 6, 'min_child_weight': 1.4862739207068711}. Best is trial 133 with value: 0.6806045340050377.\u001b[0m\n",
      "C:\\Users\\Lucas\\anaconda3\\lib\\site-packages\\optuna\\trial\\_trial.py:772: RuntimeWarning: Inconsistent parameter values for distribution with name \"min_child_weight\"! This might be a configuration mistake. Optuna allows to call the same distribution with the same name more then once in a trial. When the parameter values are inconsistent optuna only uses the values of the first call and ignores all following. Using these values: {'low': 0.0, 'high': 10.0}\n",
      "  warnings.warn(\n",
      "\u001b[32m[I 2022-05-29 22:52:12,774]\u001b[0m Trial 215 finished with value: 0.6741048261546446 and parameters: {'booster': 'dart', 'lambda': 3.938172902837475e-06, 'alpha': 0.00021946417903260883, 'learning_rate': 0.8186818563793196, 'gamma': 0.18366357108607712, 'n_estimators': 946, 'max_depth': 6, 'min_child_weight': 1.7552262962058185}. Best is trial 133 with value: 0.6806045340050377.\u001b[0m\n",
      "C:\\Users\\Lucas\\anaconda3\\lib\\site-packages\\optuna\\trial\\_trial.py:772: RuntimeWarning: Inconsistent parameter values for distribution with name \"min_child_weight\"! This might be a configuration mistake. Optuna allows to call the same distribution with the same name more then once in a trial. When the parameter values are inconsistent optuna only uses the values of the first call and ignores all following. Using these values: {'low': 0.0, 'high': 10.0}\n",
      "  warnings.warn(\n",
      "\u001b[32m[I 2022-05-29 22:52:12,864]\u001b[0m Trial 216 finished with value: 0.6745913818722139 and parameters: {'booster': 'dart', 'lambda': 1.2653960984606009e-06, 'alpha': 9.805877318703209e-05, 'learning_rate': 0.916915685912607, 'gamma': 0.34122500024403235, 'n_estimators': 881, 'max_depth': 6, 'min_child_weight': 2.1193402363697578}. Best is trial 133 with value: 0.6806045340050377.\u001b[0m\n",
      "C:\\Users\\Lucas\\anaconda3\\lib\\site-packages\\optuna\\trial\\_trial.py:772: RuntimeWarning: Inconsistent parameter values for distribution with name \"min_child_weight\"! This might be a configuration mistake. Optuna allows to call the same distribution with the same name more then once in a trial. When the parameter values are inconsistent optuna only uses the values of the first call and ignores all following. Using these values: {'low': 0.0, 'high': 10.0}\n",
      "  warnings.warn(\n",
      "\u001b[32m[I 2022-05-29 22:52:12,954]\u001b[0m Trial 217 finished with value: 0.6754098360655738 and parameters: {'booster': 'dart', 'lambda': 2.958628168139326e-06, 'alpha': 3.579002229277299e-05, 'learning_rate': 0.7711615092455508, 'gamma': 0.13102953676161405, 'n_estimators': 915, 'max_depth': 6, 'min_child_weight': 2.0158858291519244}. Best is trial 133 with value: 0.6806045340050377.\u001b[0m\n",
      "C:\\Users\\Lucas\\anaconda3\\lib\\site-packages\\optuna\\trial\\_trial.py:772: RuntimeWarning: Inconsistent parameter values for distribution with name \"min_child_weight\"! This might be a configuration mistake. Optuna allows to call the same distribution with the same name more then once in a trial. When the parameter values are inconsistent optuna only uses the values of the first call and ignores all following. Using these values: {'low': 0.0, 'high': 10.0}\n",
      "  warnings.warn(\n",
      "\u001b[32m[I 2022-05-29 22:52:13,047]\u001b[0m Trial 218 finished with value: 0.6733590733590733 and parameters: {'booster': 'dart', 'lambda': 6.315106241818921e-07, 'alpha': 0.0004175604394952811, 'learning_rate': 0.8599797802616209, 'gamma': 0.21829044987761514, 'n_estimators': 968, 'max_depth': 6, 'min_child_weight': 1.7214136424188042}. Best is trial 133 with value: 0.6806045340050377.\u001b[0m\n",
      "C:\\Users\\Lucas\\anaconda3\\lib\\site-packages\\optuna\\trial\\_trial.py:772: RuntimeWarning: Inconsistent parameter values for distribution with name \"min_child_weight\"! This might be a configuration mistake. Optuna allows to call the same distribution with the same name more then once in a trial. When the parameter values are inconsistent optuna only uses the values of the first call and ignores all following. Using these values: {'low': 0.0, 'high': 10.0}\n",
      "  warnings.warn(\n"
     ]
    },
    {
     "name": "stderr",
     "output_type": "stream",
     "text": [
      "\u001b[32m[I 2022-05-29 22:52:13,140]\u001b[0m Trial 219 finished with value: 0.6608154020385051 and parameters: {'booster': 'dart', 'lambda': 1.5828948189961715e-06, 'alpha': 7.68786465459455e-05, 'learning_rate': 0.7041386045476774, 'gamma': 0.35675383521301907, 'n_estimators': 487, 'max_depth': 6, 'min_child_weight': 1.4870150008491683}. Best is trial 133 with value: 0.6806045340050377.\u001b[0m\n",
      "C:\\Users\\Lucas\\anaconda3\\lib\\site-packages\\optuna\\trial\\_trial.py:772: RuntimeWarning: Inconsistent parameter values for distribution with name \"min_child_weight\"! This might be a configuration mistake. Optuna allows to call the same distribution with the same name more then once in a trial. When the parameter values are inconsistent optuna only uses the values of the first call and ignores all following. Using these values: {'low': 0.0, 'high': 10.0}\n",
      "  warnings.warn(\n",
      "\u001b[32m[I 2022-05-29 22:52:13,196]\u001b[0m Trial 220 finished with value: 0.6161980293198751 and parameters: {'booster': 'gblinear', 'lambda': 1.0623018776973983e-06, 'alpha': 2.485966190063331e-05, 'learning_rate': 0.8262717441852954, 'gamma': 0.5276751048775561, 'n_estimators': 433, 'max_depth': 6, 'min_child_weight': 2.260432033063915}. Best is trial 133 with value: 0.6806045340050377.\u001b[0m\n",
      "C:\\Users\\Lucas\\anaconda3\\lib\\site-packages\\optuna\\trial\\_trial.py:772: RuntimeWarning: Inconsistent parameter values for distribution with name \"min_child_weight\"! This might be a configuration mistake. Optuna allows to call the same distribution with the same name more then once in a trial. When the parameter values are inconsistent optuna only uses the values of the first call and ignores all following. Using these values: {'low': 0.0, 'high': 10.0}\n",
      "  warnings.warn(\n",
      "\u001b[32m[I 2022-05-29 22:52:13,289]\u001b[0m Trial 221 finished with value: 0.6723319170207447 and parameters: {'booster': 'dart', 'lambda': 7.284493225734149e-07, 'alpha': 4.348603929459755e-05, 'learning_rate': 0.7189391605430318, 'gamma': 0.06402782509466433, 'n_estimators': 933, 'max_depth': 7, 'min_child_weight': 1.984371261367655}. Best is trial 133 with value: 0.6806045340050377.\u001b[0m\n",
      "C:\\Users\\Lucas\\anaconda3\\lib\\site-packages\\optuna\\trial\\_trial.py:772: RuntimeWarning: Inconsistent parameter values for distribution with name \"min_child_weight\"! This might be a configuration mistake. Optuna allows to call the same distribution with the same name more then once in a trial. When the parameter values are inconsistent optuna only uses the values of the first call and ignores all following. Using these values: {'low': 0.0, 'high': 10.0}\n",
      "  warnings.warn(\n",
      "\u001b[32m[I 2022-05-29 22:52:13,378]\u001b[0m Trial 222 finished with value: 0.6770752016653656 and parameters: {'booster': 'dart', 'lambda': 4.041815449875204e-07, 'alpha': 0.00014247975773532069, 'learning_rate': 0.7548025672263133, 'gamma': 1.0202659724985748, 'n_estimators': 909, 'max_depth': 6, 'min_child_weight': 1.8714689090529129}. Best is trial 133 with value: 0.6806045340050377.\u001b[0m\n",
      "C:\\Users\\Lucas\\anaconda3\\lib\\site-packages\\optuna\\trial\\_trial.py:772: RuntimeWarning: Inconsistent parameter values for distribution with name \"min_child_weight\"! This might be a configuration mistake. Optuna allows to call the same distribution with the same name more then once in a trial. When the parameter values are inconsistent optuna only uses the values of the first call and ignores all following. Using these values: {'low': 0.0, 'high': 10.0}\n",
      "  warnings.warn(\n",
      "\u001b[32m[I 2022-05-29 22:52:13,466]\u001b[0m Trial 223 finished with value: 0.6699228791773779 and parameters: {'booster': 'dart', 'lambda': 2.1671708114073966e-07, 'alpha': 0.00015437738037657957, 'learning_rate': 0.7788667745374763, 'gamma': 0.8727506876148104, 'n_estimators': 894, 'max_depth': 6, 'min_child_weight': 1.804994144007599}. Best is trial 133 with value: 0.6806045340050377.\u001b[0m\n",
      "C:\\Users\\Lucas\\anaconda3\\lib\\site-packages\\optuna\\trial\\_trial.py:772: RuntimeWarning: Inconsistent parameter values for distribution with name \"min_child_weight\"! This might be a configuration mistake. Optuna allows to call the same distribution with the same name more then once in a trial. When the parameter values are inconsistent optuna only uses the values of the first call and ignores all following. Using these values: {'low': 0.0, 'high': 10.0}\n",
      "  warnings.warn(\n",
      "\u001b[32m[I 2022-05-29 22:52:13,555]\u001b[0m Trial 224 finished with value: 0.6673049305887985 and parameters: {'booster': 'dart', 'lambda': 3.8664730673256196e-07, 'alpha': 1.2482439110677522e-07, 'learning_rate': 0.9119378045631444, 'gamma': 0.5515625190665109, 'n_estimators': 870, 'max_depth': 6, 'min_child_weight': 2.108338176175299}. Best is trial 133 with value: 0.6806045340050377.\u001b[0m\n",
      "C:\\Users\\Lucas\\anaconda3\\lib\\site-packages\\optuna\\trial\\_trial.py:772: RuntimeWarning: Inconsistent parameter values for distribution with name \"min_child_weight\"! This might be a configuration mistake. Optuna allows to call the same distribution with the same name more then once in a trial. When the parameter values are inconsistent optuna only uses the values of the first call and ignores all following. Using these values: {'low': 0.0, 'high': 10.0}\n",
      "  warnings.warn(\n",
      "\u001b[32m[I 2022-05-29 22:52:13,649]\u001b[0m Trial 225 finished with value: 0.6691568836712914 and parameters: {'booster': 'dart', 'lambda': 0.9438949309738001, 'alpha': 0.0002785559452568015, 'learning_rate': 0.6386838603830546, 'gamma': 0.32711512291675093, 'n_estimators': 997, 'max_depth': 6, 'min_child_weight': 1.6822413649901256}. Best is trial 133 with value: 0.6806045340050377.\u001b[0m\n",
      "C:\\Users\\Lucas\\anaconda3\\lib\\site-packages\\optuna\\trial\\_trial.py:772: RuntimeWarning: Inconsistent parameter values for distribution with name \"min_child_weight\"! This might be a configuration mistake. Optuna allows to call the same distribution with the same name more then once in a trial. When the parameter values are inconsistent optuna only uses the values of the first call and ignores all following. Using these values: {'low': 0.0, 'high': 10.0}\n",
      "  warnings.warn(\n",
      "\u001b[32m[I 2022-05-29 22:52:13,739]\u001b[0m Trial 226 finished with value: 0.669971301852335 and parameters: {'booster': 'dart', 'lambda': 5.008990843899091e-07, 'alpha': 0.00012327090107755993, 'learning_rate': 0.7670497713270416, 'gamma': 0.11245437848282436, 'n_estimators': 905, 'max_depth': 6, 'min_child_weight': 1.8585206607265858}. Best is trial 133 with value: 0.6806045340050377.\u001b[0m\n",
      "C:\\Users\\Lucas\\anaconda3\\lib\\site-packages\\optuna\\trial\\_trial.py:772: RuntimeWarning: Inconsistent parameter values for distribution with name \"min_child_weight\"! This might be a configuration mistake. Optuna allows to call the same distribution with the same name more then once in a trial. When the parameter values are inconsistent optuna only uses the values of the first call and ignores all following. Using these values: {'low': 0.0, 'high': 10.0}\n",
      "  warnings.warn(\n",
      "\u001b[32m[I 2022-05-29 22:52:13,829]\u001b[0m Trial 227 finished with value: 0.6665181554912009 and parameters: {'booster': 'dart', 'lambda': 0.45686591943813387, 'alpha': 8.740185687168293e-05, 'learning_rate': 0.8523825849202853, 'gamma': 0.21147887431171414, 'n_estimators': 932, 'max_depth': 6, 'min_child_weight': 2.403592673769757}. Best is trial 133 with value: 0.6806045340050377.\u001b[0m\n",
      "C:\\Users\\Lucas\\anaconda3\\lib\\site-packages\\optuna\\trial\\_trial.py:772: RuntimeWarning: Inconsistent parameter values for distribution with name \"min_child_weight\"! This might be a configuration mistake. Optuna allows to call the same distribution with the same name more then once in a trial. When the parameter values are inconsistent optuna only uses the values of the first call and ignores all following. Using these values: {'low': 0.0, 'high': 10.0}\n",
      "  warnings.warn(\n",
      "\u001b[32m[I 2022-05-29 22:52:13,917]\u001b[0m Trial 228 finished with value: 0.6628940986257074 and parameters: {'booster': 'dart', 'lambda': 2.3706739681454203e-06, 'alpha': 1.8733750484721208e-05, 'learning_rate': 0.9041081436486241, 'gamma': 0.7251007432028749, 'n_estimators': 853, 'max_depth': 6, 'min_child_weight': 1.5484103501005202}. Best is trial 133 with value: 0.6806045340050377.\u001b[0m\n",
      "C:\\Users\\Lucas\\anaconda3\\lib\\site-packages\\optuna\\trial\\_trial.py:772: RuntimeWarning: Inconsistent parameter values for distribution with name \"min_child_weight\"! This might be a configuration mistake. Optuna allows to call the same distribution with the same name more then once in a trial. When the parameter values are inconsistent optuna only uses the values of the first call and ignores all following. Using these values: {'low': 0.0, 'high': 10.0}\n",
      "  warnings.warn(\n"
     ]
    },
    {
     "name": "stderr",
     "output_type": "stream",
     "text": [
      "\u001b[32m[I 2022-05-29 22:52:14,008]\u001b[0m Trial 229 finished with value: 0.674209308305477 and parameters: {'booster': 'dart', 'lambda': 9.972664463266591e-07, 'alpha': 0.0001992107903932821, 'learning_rate': 0.6664389390809949, 'gamma': 0.434285226346307, 'n_estimators': 879, 'max_depth': 6, 'min_child_weight': 1.9482463285142546}. Best is trial 133 with value: 0.6806045340050377.\u001b[0m\n",
      "C:\\Users\\Lucas\\anaconda3\\lib\\site-packages\\optuna\\trial\\_trial.py:772: RuntimeWarning: Inconsistent parameter values for distribution with name \"min_child_weight\"! This might be a configuration mistake. Optuna allows to call the same distribution with the same name more then once in a trial. When the parameter values are inconsistent optuna only uses the values of the first call and ignores all following. Using these values: {'low': 0.0, 'high': 10.0}\n",
      "  warnings.warn(\n",
      "\u001b[32m[I 2022-05-29 22:52:14,084]\u001b[0m Trial 230 finished with value: 0.6454841130848136 and parameters: {'booster': 'gbtree', 'lambda': 1.7677603595660826e-06, 'alpha': 1.260848333335244e-05, 'learning_rate': 0.08177315041995371, 'gamma': 0.9770934393519216, 'n_estimators': 814, 'max_depth': 6, 'min_child_weight': 2.182121153135479}. Best is trial 133 with value: 0.6806045340050377.\u001b[0m\n",
      "C:\\Users\\Lucas\\anaconda3\\lib\\site-packages\\optuna\\trial\\_trial.py:772: RuntimeWarning: Inconsistent parameter values for distribution with name \"min_child_weight\"! This might be a configuration mistake. Optuna allows to call the same distribution with the same name more then once in a trial. When the parameter values are inconsistent optuna only uses the values of the first call and ignores all following. Using these values: {'low': 0.0, 'high': 10.0}\n",
      "  warnings.warn(\n",
      "\u001b[32m[I 2022-05-29 22:52:14,165]\u001b[0m Trial 231 finished with value: 0.675546619753707 and parameters: {'booster': 'gbtree', 'lambda': 7.312052777001678e-07, 'alpha': 6.615932482405526e-05, 'learning_rate': 0.7066372127977015, 'gamma': 1.4022303711385535, 'n_estimators': 919, 'max_depth': 7, 'min_child_weight': 1.90239301001718}. Best is trial 133 with value: 0.6806045340050377.\u001b[0m\n",
      "C:\\Users\\Lucas\\anaconda3\\lib\\site-packages\\optuna\\trial\\_trial.py:772: RuntimeWarning: Inconsistent parameter values for distribution with name \"min_child_weight\"! This might be a configuration mistake. Optuna allows to call the same distribution with the same name more then once in a trial. When the parameter values are inconsistent optuna only uses the values of the first call and ignores all following. Using these values: {'low': 0.0, 'high': 10.0}\n",
      "  warnings.warn(\n",
      "\u001b[32m[I 2022-05-29 22:52:14,242]\u001b[0m Trial 232 finished with value: 0.6764631365594121 and parameters: {'booster': 'gbtree', 'lambda': 8.406604495656365e-07, 'alpha': 5.771002912134469e-05, 'learning_rate': 0.7452585643897843, 'gamma': 1.9470454908772805, 'n_estimators': 913, 'max_depth': 6, 'min_child_weight': 1.9542257585695386}. Best is trial 133 with value: 0.6806045340050377.\u001b[0m\n",
      "C:\\Users\\Lucas\\anaconda3\\lib\\site-packages\\optuna\\trial\\_trial.py:772: RuntimeWarning: Inconsistent parameter values for distribution with name \"min_child_weight\"! This might be a configuration mistake. Optuna allows to call the same distribution with the same name more then once in a trial. When the parameter values are inconsistent optuna only uses the values of the first call and ignores all following. Using these values: {'low': 0.0, 'high': 10.0}\n",
      "  warnings.warn(\n",
      "\u001b[32m[I 2022-05-29 22:52:14,323]\u001b[0m Trial 233 finished with value: 0.6736020806241872 and parameters: {'booster': 'gbtree', 'lambda': 3.0288979463729396e-07, 'alpha': 4.158929293453085e-05, 'learning_rate': 0.8118067596612929, 'gamma': 1.0583230733971085, 'n_estimators': 960, 'max_depth': 7, 'min_child_weight': 1.6981297742824444}. Best is trial 133 with value: 0.6806045340050377.\u001b[0m\n",
      "C:\\Users\\Lucas\\anaconda3\\lib\\site-packages\\optuna\\trial\\_trial.py:772: RuntimeWarning: Inconsistent parameter values for distribution with name \"min_child_weight\"! This might be a configuration mistake. Optuna allows to call the same distribution with the same name more then once in a trial. When the parameter values are inconsistent optuna only uses the values of the first call and ignores all following. Using these values: {'low': 0.0, 'high': 10.0}\n",
      "  warnings.warn(\n",
      "\u001b[32m[I 2022-05-29 22:52:14,399]\u001b[0m Trial 234 finished with value: 0.6741741741741742 and parameters: {'booster': 'gbtree', 'lambda': 4.998127257396942e-07, 'alpha': 0.00011733714951001169, 'learning_rate': 0.9884222344005891, 'gamma': 0.6903264747816865, 'n_estimators': 943, 'max_depth': 6, 'min_child_weight': 2.0983997685116127}. Best is trial 133 with value: 0.6806045340050377.\u001b[0m\n",
      "C:\\Users\\Lucas\\anaconda3\\lib\\site-packages\\optuna\\trial\\_trial.py:772: RuntimeWarning: Inconsistent parameter values for distribution with name \"min_child_weight\"! This might be a configuration mistake. Optuna allows to call the same distribution with the same name more then once in a trial. When the parameter values are inconsistent optuna only uses the values of the first call and ignores all following. Using these values: {'low': 0.0, 'high': 10.0}\n",
      "  warnings.warn(\n",
      "\u001b[32m[I 2022-05-29 22:52:14,476]\u001b[0m Trial 235 finished with value: 0.6728730281872253 and parameters: {'booster': 'gbtree', 'lambda': 1.114019993931679e-06, 'alpha': 3.0210300936208557e-05, 'learning_rate': 0.7209941817073581, 'gamma': 0.28352953703458983, 'n_estimators': 895, 'max_depth': 6, 'min_child_weight': 1.7733594163691642}. Best is trial 133 with value: 0.6806045340050377.\u001b[0m\n",
      "C:\\Users\\Lucas\\anaconda3\\lib\\site-packages\\optuna\\trial\\_trial.py:772: RuntimeWarning: Inconsistent parameter values for distribution with name \"min_child_weight\"! This might be a configuration mistake. Optuna allows to call the same distribution with the same name more then once in a trial. When the parameter values are inconsistent optuna only uses the values of the first call and ignores all following. Using these values: {'low': 0.0, 'high': 10.0}\n",
      "  warnings.warn(\n",
      "\u001b[32m[I 2022-05-29 22:52:14,557]\u001b[0m Trial 236 finished with value: 0.6538573508005823 and parameters: {'booster': 'gbtree', 'lambda': 1.519635503231263e-06, 'alpha': 0.010997969353602616, 'learning_rate': 0.8253486918185492, 'gamma': 1.324508177299367, 'n_estimators': 844, 'max_depth': 6, 'min_child_weight': 1.3547243977375052}. Best is trial 133 with value: 0.6806045340050377.\u001b[0m\n",
      "C:\\Users\\Lucas\\anaconda3\\lib\\site-packages\\optuna\\trial\\_trial.py:772: RuntimeWarning: Inconsistent parameter values for distribution with name \"min_child_weight\"! This might be a configuration mistake. Optuna allows to call the same distribution with the same name more then once in a trial. When the parameter values are inconsistent optuna only uses the values of the first call and ignores all following. Using these values: {'low': 0.0, 'high': 10.0}\n",
      "  warnings.warn(\n",
      "\u001b[32m[I 2022-05-29 22:52:14,649]\u001b[0m Trial 237 finished with value: 0.6599732262382866 and parameters: {'booster': 'dart', 'lambda': 6.860585010594826e-07, 'alpha': 8.019677444792281e-05, 'learning_rate': 0.6466114122112283, 'gamma': 0.16130646232573662, 'n_estimators': 922, 'max_depth': 6, 'min_child_weight': 2.324392836052181}. Best is trial 133 with value: 0.6806045340050377.\u001b[0m\n",
      "C:\\Users\\Lucas\\anaconda3\\lib\\site-packages\\optuna\\trial\\_trial.py:772: RuntimeWarning: Inconsistent parameter values for distribution with name \"min_child_weight\"! This might be a configuration mistake. Optuna allows to call the same distribution with the same name more then once in a trial. When the parameter values are inconsistent optuna only uses the values of the first call and ignores all following. Using these values: {'low': 0.0, 'high': 10.0}\n",
      "  warnings.warn(\n",
      "\u001b[32m[I 2022-05-29 22:52:14,739]\u001b[0m Trial 238 finished with value: 0.6477304372041213 and parameters: {'booster': 'gbtree', 'lambda': 4.0712007170588703e-07, 'alpha': 5.423971082472895e-05, 'learning_rate': 0.2018194414487571, 'gamma': 0.5301421330931925, 'n_estimators': 877, 'max_depth': 6, 'min_child_weight': 1.5898020578880683}. Best is trial 133 with value: 0.6806045340050377.\u001b[0m\n",
      "C:\\Users\\Lucas\\anaconda3\\lib\\site-packages\\optuna\\trial\\_trial.py:772: RuntimeWarning: Inconsistent parameter values for distribution with name \"min_child_weight\"! This might be a configuration mistake. Optuna allows to call the same distribution with the same name more then once in a trial. When the parameter values are inconsistent optuna only uses the values of the first call and ignores all following. Using these values: {'low': 0.0, 'high': 10.0}\n",
      "  warnings.warn(\n"
     ]
    },
    {
     "name": "stderr",
     "output_type": "stream",
     "text": [
      "\u001b[32m[I 2022-05-29 22:52:14,822]\u001b[0m Trial 239 finished with value: 0.6278935185185185 and parameters: {'booster': 'gbtree', 'lambda': 2.1844763304105017e-06, 'alpha': 0.0001468148803779661, 'learning_rate': 0.042454317370518004, 'gamma': 2.093866003656444, 'n_estimators': 947, 'max_depth': 7, 'min_child_weight': 1.9981097702311055}. Best is trial 133 with value: 0.6806045340050377.\u001b[0m\n",
      "C:\\Users\\Lucas\\anaconda3\\lib\\site-packages\\optuna\\trial\\_trial.py:772: RuntimeWarning: Inconsistent parameter values for distribution with name \"min_child_weight\"! This might be a configuration mistake. Optuna allows to call the same distribution with the same name more then once in a trial. When the parameter values are inconsistent optuna only uses the values of the first call and ignores all following. Using these values: {'low': 0.0, 'high': 10.0}\n",
      "  warnings.warn(\n",
      "\u001b[32m[I 2022-05-29 22:52:14,896]\u001b[0m Trial 240 finished with value: 0.6776315789473684 and parameters: {'booster': 'gbtree', 'lambda': 1.0094804129865413e-06, 'alpha': 0.007539235914311168, 'learning_rate': 0.898012549067068, 'gamma': 3.964687983938693, 'n_estimators': 456, 'max_depth': 6, 'min_child_weight': 1.8650372122699566}. Best is trial 133 with value: 0.6806045340050377.\u001b[0m\n",
      "C:\\Users\\Lucas\\anaconda3\\lib\\site-packages\\optuna\\trial\\_trial.py:772: RuntimeWarning: Inconsistent parameter values for distribution with name \"min_child_weight\"! This might be a configuration mistake. Optuna allows to call the same distribution with the same name more then once in a trial. When the parameter values are inconsistent optuna only uses the values of the first call and ignores all following. Using these values: {'low': 0.0, 'high': 10.0}\n",
      "  warnings.warn(\n",
      "\u001b[32m[I 2022-05-29 22:52:14,973]\u001b[0m Trial 241 finished with value: 0.6724225495175216 and parameters: {'booster': 'gbtree', 'lambda': 9.910605797853761e-07, 'alpha': 0.006792923203414063, 'learning_rate': 0.8997326382495338, 'gamma': 4.496368471608137, 'n_estimators': 458, 'max_depth': 6, 'min_child_weight': 1.864920698514298}. Best is trial 133 with value: 0.6806045340050377.\u001b[0m\n",
      "C:\\Users\\Lucas\\anaconda3\\lib\\site-packages\\optuna\\trial\\_trial.py:772: RuntimeWarning: Inconsistent parameter values for distribution with name \"min_child_weight\"! This might be a configuration mistake. Optuna allows to call the same distribution with the same name more then once in a trial. When the parameter values are inconsistent optuna only uses the values of the first call and ignores all following. Using these values: {'low': 0.0, 'high': 10.0}\n",
      "  warnings.warn(\n",
      "\u001b[32m[I 2022-05-29 22:52:15,048]\u001b[0m Trial 242 finished with value: 0.6731564857629593 and parameters: {'booster': 'gbtree', 'lambda': 1.4833222894168314e-06, 'alpha': 0.013556756164155593, 'learning_rate': 0.7870862223742605, 'gamma': 7.4980818103570215, 'n_estimators': 503, 'max_depth': 6, 'min_child_weight': 2.127856086149115}. Best is trial 133 with value: 0.6806045340050377.\u001b[0m\n",
      "C:\\Users\\Lucas\\anaconda3\\lib\\site-packages\\optuna\\trial\\_trial.py:772: RuntimeWarning: Inconsistent parameter values for distribution with name \"min_child_weight\"! This might be a configuration mistake. Optuna allows to call the same distribution with the same name more then once in a trial. When the parameter values are inconsistent optuna only uses the values of the first call and ignores all following. Using these values: {'low': 0.0, 'high': 10.0}\n",
      "  warnings.warn(\n",
      "\u001b[32m[I 2022-05-29 22:52:15,125]\u001b[0m Trial 243 finished with value: 0.6739412834502468 and parameters: {'booster': 'gbtree', 'lambda': 6.574292647501043e-07, 'alpha': 0.004753982034999782, 'learning_rate': 0.9085005210176609, 'gamma': 2.9726089399380857, 'n_estimators': 907, 'max_depth': 6, 'min_child_weight': 1.7726457466674193}. Best is trial 133 with value: 0.6806045340050377.\u001b[0m\n",
      "C:\\Users\\Lucas\\anaconda3\\lib\\site-packages\\optuna\\trial\\_trial.py:772: RuntimeWarning: Inconsistent parameter values for distribution with name \"min_child_weight\"! This might be a configuration mistake. Optuna allows to call the same distribution with the same name more then once in a trial. When the parameter values are inconsistent optuna only uses the values of the first call and ignores all following. Using these values: {'low': 0.0, 'high': 10.0}\n",
      "  warnings.warn(\n",
      "\u001b[32m[I 2022-05-29 22:52:15,201]\u001b[0m Trial 244 finished with value: 0.6770170526851617 and parameters: {'booster': 'gbtree', 'lambda': 1.0391358613408201e-06, 'alpha': 0.008105729283864327, 'learning_rate': 0.7457732409008359, 'gamma': 5.417569367821274, 'n_estimators': 462, 'max_depth': 6, 'min_child_weight': 1.9838430678154562}. Best is trial 133 with value: 0.6806045340050377.\u001b[0m\n",
      "C:\\Users\\Lucas\\anaconda3\\lib\\site-packages\\optuna\\trial\\_trial.py:772: RuntimeWarning: Inconsistent parameter values for distribution with name \"min_child_weight\"! This might be a configuration mistake. Optuna allows to call the same distribution with the same name more then once in a trial. When the parameter values are inconsistent optuna only uses the values of the first call and ignores all following. Using these values: {'low': 0.0, 'high': 10.0}\n",
      "  warnings.warn(\n",
      "\u001b[32m[I 2022-05-29 22:52:15,277]\u001b[0m Trial 245 finished with value: 0.6695255963548645 and parameters: {'booster': 'gbtree', 'lambda': 1.2733442306478795e-06, 'alpha': 0.006547031367572538, 'learning_rate': 0.8377927121498483, 'gamma': 5.418782251250854, 'n_estimators': 468, 'max_depth': 6, 'min_child_weight': 1.5796247188508956}. Best is trial 133 with value: 0.6806045340050377.\u001b[0m\n",
      "C:\\Users\\Lucas\\anaconda3\\lib\\site-packages\\optuna\\trial\\_trial.py:772: RuntimeWarning: Inconsistent parameter values for distribution with name \"min_child_weight\"! This might be a configuration mistake. Optuna allows to call the same distribution with the same name more then once in a trial. When the parameter values are inconsistent optuna only uses the values of the first call and ignores all following. Using these values: {'low': 0.0, 'high': 10.0}\n",
      "  warnings.warn(\n",
      "\u001b[32m[I 2022-05-29 22:52:15,352]\u001b[0m Trial 246 finished with value: 0.6691346598796853 and parameters: {'booster': 'gbtree', 'lambda': 3.2471716913976925e-06, 'alpha': 0.010868926507405232, 'learning_rate': 0.9983272657684868, 'gamma': 0.0035455334774037225, 'n_estimators': 440, 'max_depth': 6, 'min_child_weight': 2.229990774394637}. Best is trial 133 with value: 0.6806045340050377.\u001b[0m\n",
      "C:\\Users\\Lucas\\anaconda3\\lib\\site-packages\\optuna\\trial\\_trial.py:772: RuntimeWarning: Inconsistent parameter values for distribution with name \"min_child_weight\"! This might be a configuration mistake. Optuna allows to call the same distribution with the same name more then once in a trial. When the parameter values are inconsistent optuna only uses the values of the first call and ignores all following. Using these values: {'low': 0.0, 'high': 10.0}\n",
      "  warnings.warn(\n",
      "\u001b[32m[I 2022-05-29 22:52:15,442]\u001b[0m Trial 247 finished with value: 0.6824762855716426 and parameters: {'booster': 'dart', 'lambda': 5.086568295649317e-06, 'alpha': 0.00866135474944813, 'learning_rate': 0.7723948017859771, 'gamma': 3.6887919995833887, 'n_estimators': 833, 'max_depth': 6, 'min_child_weight': 2.0200098506386523}. Best is trial 247 with value: 0.6824762855716426.\u001b[0m\n",
      "C:\\Users\\Lucas\\anaconda3\\lib\\site-packages\\optuna\\trial\\_trial.py:772: RuntimeWarning: Inconsistent parameter values for distribution with name \"min_child_weight\"! This might be a configuration mistake. Optuna allows to call the same distribution with the same name more then once in a trial. When the parameter values are inconsistent optuna only uses the values of the first call and ignores all following. Using these values: {'low': 0.0, 'high': 10.0}\n",
      "  warnings.warn(\n",
      "\u001b[32m[I 2022-05-29 22:52:15,500]\u001b[0m Trial 248 finished with value: 0.6181483187471212 and parameters: {'booster': 'gblinear', 'lambda': 5.181699710652384e-06, 'alpha': 0.008340659902829247, 'learning_rate': 0.7483881851921304, 'gamma': 7.050554471261352, 'n_estimators': 463, 'max_depth': 6, 'min_child_weight': 2.5739338286562683}. Best is trial 247 with value: 0.6824762855716426.\u001b[0m\n",
      "C:\\Users\\Lucas\\anaconda3\\lib\\site-packages\\optuna\\trial\\_trial.py:772: RuntimeWarning: Inconsistent parameter values for distribution with name \"min_child_weight\"! This might be a configuration mistake. Optuna allows to call the same distribution with the same name more then once in a trial. When the parameter values are inconsistent optuna only uses the values of the first call and ignores all following. Using these values: {'low': 0.0, 'high': 10.0}\n",
      "  warnings.warn(\n"
     ]
    },
    {
     "name": "stderr",
     "output_type": "stream",
     "text": [
      "\u001b[32m[I 2022-05-29 22:52:15,575]\u001b[0m Trial 249 finished with value: 0.6690510252742012 and parameters: {'booster': 'gbtree', 'lambda': 0.621156287155194, 'alpha': 0.015346030765591975, 'learning_rate': 0.6751913467079985, 'gamma': 4.453380205526783, 'n_estimators': 836, 'max_depth': 6, 'min_child_weight': 2.051275451820058}. Best is trial 247 with value: 0.6824762855716426.\u001b[0m\n",
      "C:\\Users\\Lucas\\anaconda3\\lib\\site-packages\\optuna\\trial\\_trial.py:772: RuntimeWarning: Inconsistent parameter values for distribution with name \"min_child_weight\"! This might be a configuration mistake. Optuna allows to call the same distribution with the same name more then once in a trial. When the parameter values are inconsistent optuna only uses the values of the first call and ignores all following. Using these values: {'low': 0.0, 'high': 10.0}\n",
      "  warnings.warn(\n",
      "\u001b[32m[I 2022-05-29 22:52:15,653]\u001b[0m Trial 250 finished with value: 0.6674172483674847 and parameters: {'booster': 'gbtree', 'lambda': 2.2693630921872084e-06, 'alpha': 0.005181614914705802, 'learning_rate': 0.7675633613660326, 'gamma': 3.0235323107608276, 'n_estimators': 788, 'max_depth': 6, 'min_child_weight': 2.3550530240777525}. Best is trial 247 with value: 0.6824762855716426.\u001b[0m\n",
      "C:\\Users\\Lucas\\anaconda3\\lib\\site-packages\\optuna\\trial\\_trial.py:772: RuntimeWarning: Inconsistent parameter values for distribution with name \"min_child_weight\"! This might be a configuration mistake. Optuna allows to call the same distribution with the same name more then once in a trial. When the parameter values are inconsistent optuna only uses the values of the first call and ignores all following. Using these values: {'low': 0.0, 'high': 10.0}\n",
      "  warnings.warn(\n",
      "\u001b[32m[I 2022-05-29 22:52:15,752]\u001b[0m Trial 251 finished with value: 0.6767295597484277 and parameters: {'booster': 'dart', 'lambda': 8.540942912432276e-06, 'alpha': 0.0038552808457491664, 'learning_rate': 0.8969623526373891, 'gamma': 8.91168454245214, 'n_estimators': 416, 'max_depth': 6, 'min_child_weight': 2.058922229220031}. Best is trial 247 with value: 0.6824762855716426.\u001b[0m\n",
      "C:\\Users\\Lucas\\anaconda3\\lib\\site-packages\\optuna\\trial\\_trial.py:772: RuntimeWarning: Inconsistent parameter values for distribution with name \"min_child_weight\"! This might be a configuration mistake. Optuna allows to call the same distribution with the same name more then once in a trial. When the parameter values are inconsistent optuna only uses the values of the first call and ignores all following. Using these values: {'low': 0.0, 'high': 10.0}\n",
      "  warnings.warn(\n",
      "\u001b[32m[I 2022-05-29 22:52:15,831]\u001b[0m Trial 252 finished with value: 0.6719829877724615 and parameters: {'booster': 'gbtree', 'lambda': 3.1595796574966053e-06, 'alpha': 0.007453357266513857, 'learning_rate': 0.8461026716276069, 'gamma': 3.8365803300722243, 'n_estimators': 477, 'max_depth': 6, 'min_child_weight': 1.6787638341513083}. Best is trial 247 with value: 0.6824762855716426.\u001b[0m\n",
      "C:\\Users\\Lucas\\anaconda3\\lib\\site-packages\\optuna\\trial\\_trial.py:772: RuntimeWarning: Inconsistent parameter values for distribution with name \"min_child_weight\"! This might be a configuration mistake. Optuna allows to call the same distribution with the same name more then once in a trial. When the parameter values are inconsistent optuna only uses the values of the first call and ignores all following. Using these values: {'low': 0.0, 'high': 10.0}\n",
      "  warnings.warn(\n",
      "\u001b[32m[I 2022-05-29 22:52:15,909]\u001b[0m Trial 253 finished with value: 0.6712071395021137 and parameters: {'booster': 'gbtree', 'lambda': 1.5980196914292305e-05, 'alpha': 0.008126963270475388, 'learning_rate': 0.6226313253848829, 'gamma': 5.819803280088141, 'n_estimators': 450, 'max_depth': 6, 'min_child_weight': 2.1617594287425135}. Best is trial 247 with value: 0.6824762855716426.\u001b[0m\n",
      "C:\\Users\\Lucas\\anaconda3\\lib\\site-packages\\optuna\\trial\\_trial.py:772: RuntimeWarning: Inconsistent parameter values for distribution with name \"min_child_weight\"! This might be a configuration mistake. Optuna allows to call the same distribution with the same name more then once in a trial. When the parameter values are inconsistent optuna only uses the values of the first call and ignores all following. Using these values: {'low': 0.0, 'high': 10.0}\n",
      "  warnings.warn(\n",
      "\u001b[32m[I 2022-05-29 22:52:15,998]\u001b[0m Trial 254 finished with value: 0.652 and parameters: {'booster': 'dart', 'lambda': 4.749062407185261e-06, 'alpha': 0.011103577419184257, 'learning_rate': 0.7295967949017076, 'gamma': 13.552873542308165, 'n_estimators': 815, 'max_depth': 6, 'min_child_weight': 1.4555544721450384}. Best is trial 247 with value: 0.6824762855716426.\u001b[0m\n",
      "C:\\Users\\Lucas\\anaconda3\\lib\\site-packages\\optuna\\trial\\_trial.py:772: RuntimeWarning: Inconsistent parameter values for distribution with name \"min_child_weight\"! This might be a configuration mistake. Optuna allows to call the same distribution with the same name more then once in a trial. When the parameter values are inconsistent optuna only uses the values of the first call and ignores all following. Using these values: {'low': 0.0, 'high': 10.0}\n",
      "  warnings.warn(\n",
      "\u001b[32m[I 2022-05-29 22:52:16,075]\u001b[0m Trial 255 finished with value: 0.6785532348446256 and parameters: {'booster': 'gbtree', 'lambda': 1.775113902299076e-06, 'alpha': 0.026279633106787728, 'learning_rate': 0.9254665704231463, 'gamma': 2.8734831842147996, 'n_estimators': 495, 'max_depth': 6, 'min_child_weight': 1.9324149256949623}. Best is trial 247 with value: 0.6824762855716426.\u001b[0m\n",
      "C:\\Users\\Lucas\\anaconda3\\lib\\site-packages\\optuna\\trial\\_trial.py:772: RuntimeWarning: Inconsistent parameter values for distribution with name \"min_child_weight\"! This might be a configuration mistake. Optuna allows to call the same distribution with the same name more then once in a trial. When the parameter values are inconsistent optuna only uses the values of the first call and ignores all following. Using these values: {'low': 0.0, 'high': 10.0}\n",
      "  warnings.warn(\n",
      "\u001b[32m[I 2022-05-29 22:52:16,153]\u001b[0m Trial 256 finished with value: 0.6767703161745493 and parameters: {'booster': 'gbtree', 'lambda': 3.653217265251445e-08, 'alpha': 0.022923010359175586, 'learning_rate': 0.9336794225774778, 'gamma': 2.19622378648728, 'n_estimators': 529, 'max_depth': 6, 'min_child_weight': 1.876754124913091}. Best is trial 247 with value: 0.6824762855716426.\u001b[0m\n",
      "C:\\Users\\Lucas\\anaconda3\\lib\\site-packages\\optuna\\trial\\_trial.py:772: RuntimeWarning: Inconsistent parameter values for distribution with name \"min_child_weight\"! This might be a configuration mistake. Optuna allows to call the same distribution with the same name more then once in a trial. When the parameter values are inconsistent optuna only uses the values of the first call and ignores all following. Using these values: {'low': 0.0, 'high': 10.0}\n",
      "  warnings.warn(\n",
      "\u001b[32m[I 2022-05-29 22:52:16,230]\u001b[0m Trial 257 finished with value: 0.6705416116248349 and parameters: {'booster': 'gbtree', 'lambda': 1.6791094710080956e-06, 'alpha': 1.902255174719268e-05, 'learning_rate': 0.9921764181808388, 'gamma': 3.2757908646951104, 'n_estimators': 513, 'max_depth': 6, 'min_child_weight': 1.6624374917289098}. Best is trial 247 with value: 0.6824762855716426.\u001b[0m\n",
      "C:\\Users\\Lucas\\anaconda3\\lib\\site-packages\\optuna\\trial\\_trial.py:772: RuntimeWarning: Inconsistent parameter values for distribution with name \"min_child_weight\"! This might be a configuration mistake. Optuna allows to call the same distribution with the same name more then once in a trial. When the parameter values are inconsistent optuna only uses the values of the first call and ignores all following. Using these values: {'low': 0.0, 'high': 10.0}\n",
      "  warnings.warn(\n",
      "\u001b[32m[I 2022-05-29 22:52:16,307]\u001b[0m Trial 258 finished with value: 0.6729999999999999 and parameters: {'booster': 'gbtree', 'lambda': 2.2736421282514985e-06, 'alpha': 0.015796053777161922, 'learning_rate': 0.8670909546868997, 'gamma': 1.8515730946875062, 'n_estimators': 859, 'max_depth': 6, 'min_child_weight': 1.9963250147492058}. Best is trial 247 with value: 0.6824762855716426.\u001b[0m\n",
      "C:\\Users\\Lucas\\anaconda3\\lib\\site-packages\\optuna\\trial\\_trial.py:772: RuntimeWarning: Inconsistent parameter values for distribution with name \"min_child_weight\"! This might be a configuration mistake. Optuna allows to call the same distribution with the same name more then once in a trial. When the parameter values are inconsistent optuna only uses the values of the first call and ignores all following. Using these values: {'low': 0.0, 'high': 10.0}\n",
      "  warnings.warn(\n"
     ]
    },
    {
     "name": "stderr",
     "output_type": "stream",
     "text": [
      "\u001b[32m[I 2022-05-29 22:52:16,385]\u001b[0m Trial 259 finished with value: 0.6529411764705881 and parameters: {'booster': 'gbtree', 'lambda': 5.74018206720535e-06, 'alpha': 0.005076439067691527, 'learning_rate': 0.6810063713826204, 'gamma': 4.103580942702577, 'n_estimators': 829, 'max_depth': 6, 'min_child_weight': 1.308749885007356}. Best is trial 247 with value: 0.6824762855716426.\u001b[0m\n",
      "C:\\Users\\Lucas\\anaconda3\\lib\\site-packages\\optuna\\trial\\_trial.py:772: RuntimeWarning: Inconsistent parameter values for distribution with name \"min_child_weight\"! This might be a configuration mistake. Optuna allows to call the same distribution with the same name more then once in a trial. When the parameter values are inconsistent optuna only uses the values of the first call and ignores all following. Using these values: {'low': 0.0, 'high': 10.0}\n",
      "  warnings.warn(\n",
      "\u001b[32m[I 2022-05-29 22:52:16,463]\u001b[0m Trial 260 finished with value: 0.676175382989963 and parameters: {'booster': 'gbtree', 'lambda': 1.2983624117327126e-06, 'alpha': 0.051736800706419, 'learning_rate': 0.9290124608222882, 'gamma': 2.48552050050942, 'n_estimators': 485, 'max_depth': 6, 'min_child_weight': 1.7461313253258375}. Best is trial 247 with value: 0.6824762855716426.\u001b[0m\n",
      "C:\\Users\\Lucas\\anaconda3\\lib\\site-packages\\optuna\\trial\\_trial.py:772: RuntimeWarning: Inconsistent parameter values for distribution with name \"min_child_weight\"! This might be a configuration mistake. Optuna allows to call the same distribution with the same name more then once in a trial. When the parameter values are inconsistent optuna only uses the values of the first call and ignores all following. Using these values: {'low': 0.0, 'high': 10.0}\n",
      "  warnings.warn(\n",
      "\u001b[32m[I 2022-05-29 22:52:16,535]\u001b[0m Trial 261 finished with value: 0.6760140210315473 and parameters: {'booster': 'gbtree', 'lambda': 3.7864757927583252e-06, 'alpha': 0.02098083042154742, 'learning_rate': 0.7847248679326871, 'gamma': 6.569719162963897, 'n_estimators': 761, 'max_depth': 5, 'min_child_weight': 1.869018120708056}. Best is trial 247 with value: 0.6824762855716426.\u001b[0m\n",
      "C:\\Users\\Lucas\\anaconda3\\lib\\site-packages\\optuna\\trial\\_trial.py:772: RuntimeWarning: Inconsistent parameter values for distribution with name \"min_child_weight\"! This might be a configuration mistake. Optuna allows to call the same distribution with the same name more then once in a trial. When the parameter values are inconsistent optuna only uses the values of the first call and ignores all following. Using these values: {'low': 0.0, 'high': 10.0}\n",
      "  warnings.warn(\n",
      "\u001b[32m[I 2022-05-29 22:52:16,613]\u001b[0m Trial 262 finished with value: 0.6628383921246923 and parameters: {'booster': 'gbtree', 'lambda': 1.7335236417844909e-06, 'alpha': 0.0007624417433426316, 'learning_rate': 0.8616642948268242, 'gamma': 0.9210497950768605, 'n_estimators': 502, 'max_depth': 6, 'min_child_weight': 1.5351938791418902}. Best is trial 247 with value: 0.6824762855716426.\u001b[0m\n",
      "C:\\Users\\Lucas\\anaconda3\\lib\\site-packages\\optuna\\trial\\_trial.py:772: RuntimeWarning: Inconsistent parameter values for distribution with name \"min_child_weight\"! This might be a configuration mistake. Optuna allows to call the same distribution with the same name more then once in a trial. When the parameter values are inconsistent optuna only uses the values of the first call and ignores all following. Using these values: {'low': 0.0, 'high': 10.0}\n",
      "  warnings.warn(\n",
      "\u001b[32m[I 2022-05-29 22:52:16,690]\u001b[0m Trial 263 finished with value: 0.6723728007608178 and parameters: {'booster': 'gbtree', 'lambda': 5.102520544789992e-07, 'alpha': 1.39931084311796e-05, 'learning_rate': 0.7386667528407763, 'gamma': 1.550330678122941, 'n_estimators': 862, 'max_depth': 6, 'min_child_weight': 2.022662104368468}. Best is trial 247 with value: 0.6824762855716426.\u001b[0m\n",
      "C:\\Users\\Lucas\\anaconda3\\lib\\site-packages\\optuna\\trial\\_trial.py:772: RuntimeWarning: Inconsistent parameter values for distribution with name \"min_child_weight\"! This might be a configuration mistake. Optuna allows to call the same distribution with the same name more then once in a trial. When the parameter values are inconsistent optuna only uses the values of the first call and ignores all following. Using these values: {'low': 0.0, 'high': 10.0}\n",
      "  warnings.warn(\n",
      "\u001b[32m[I 2022-05-29 22:52:16,766]\u001b[0m Trial 264 finished with value: 0.6639892904953146 and parameters: {'booster': 'gbtree', 'lambda': 1.1558376746813231e-06, 'alpha': 0.002546118226996907, 'learning_rate': 0.9184812976444938, 'gamma': 0.45175818221238534, 'n_estimators': 712, 'max_depth': 6, 'min_child_weight': 2.4515847919880285}. Best is trial 247 with value: 0.6824762855716426.\u001b[0m\n",
      "C:\\Users\\Lucas\\anaconda3\\lib\\site-packages\\optuna\\trial\\_trial.py:772: RuntimeWarning: Inconsistent parameter values for distribution with name \"min_child_weight\"! This might be a configuration mistake. Optuna allows to call the same distribution with the same name more then once in a trial. When the parameter values are inconsistent optuna only uses the values of the first call and ignores all following. Using these values: {'low': 0.0, 'high': 10.0}\n",
      "  warnings.warn(\n",
      "\u001b[32m[I 2022-05-29 22:52:16,842]\u001b[0m Trial 265 finished with value: 0.665131275909719 and parameters: {'booster': 'gbtree', 'lambda': 2.096728415888846e-06, 'alpha': 2.8492583092819892e-05, 'learning_rate': 0.6177366534282943, 'gamma': 0.6916311417833322, 'n_estimators': 481, 'max_depth': 6, 'min_child_weight': 2.159473265148971}. Best is trial 247 with value: 0.6824762855716426.\u001b[0m\n",
      "C:\\Users\\Lucas\\anaconda3\\lib\\site-packages\\optuna\\trial\\_trial.py:772: RuntimeWarning: Inconsistent parameter values for distribution with name \"min_child_weight\"! This might be a configuration mistake. Optuna allows to call the same distribution with the same name more then once in a trial. When the parameter values are inconsistent optuna only uses the values of the first call and ignores all following. Using these values: {'low': 0.0, 'high': 10.0}\n",
      "  warnings.warn(\n",
      "\u001b[32m[I 2022-05-29 22:52:16,918]\u001b[0m Trial 266 finished with value: 0.6687931951089846 and parameters: {'booster': 'gbtree', 'lambda': 2.9655040101619838e-06, 'alpha': 0.03487242590841294, 'learning_rate': 0.8036777774764412, 'gamma': 5.114618836625854, 'n_estimators': 439, 'max_depth': 6, 'min_child_weight': 1.775596051431459}. Best is trial 247 with value: 0.6824762855716426.\u001b[0m\n",
      "C:\\Users\\Lucas\\anaconda3\\lib\\site-packages\\optuna\\trial\\_trial.py:772: RuntimeWarning: Inconsistent parameter values for distribution with name \"min_child_weight\"! This might be a configuration mistake. Optuna allows to call the same distribution with the same name more then once in a trial. When the parameter values are inconsistent optuna only uses the values of the first call and ignores all following. Using these values: {'low': 0.0, 'high': 10.0}\n",
      "  warnings.warn(\n",
      "\u001b[32m[I 2022-05-29 22:52:16,995]\u001b[0m Trial 267 finished with value: 0.6242001163467132 and parameters: {'booster': 'gbtree', 'lambda': 0.7190747913723738, 'alpha': 0.0003540358425312336, 'learning_rate': 0.03573198598435179, 'gamma': 3.2076037914191082, 'n_estimators': 841, 'max_depth': 6, 'min_child_weight': 1.9269101527462371}. Best is trial 247 with value: 0.6824762855716426.\u001b[0m\n",
      "C:\\Users\\Lucas\\anaconda3\\lib\\site-packages\\optuna\\trial\\_trial.py:772: RuntimeWarning: Inconsistent parameter values for distribution with name \"min_child_weight\"! This might be a configuration mistake. Optuna allows to call the same distribution with the same name more then once in a trial. When the parameter values are inconsistent optuna only uses the values of the first call and ignores all following. Using these values: {'low': 0.0, 'high': 10.0}\n",
      "  warnings.warn(\n",
      "\u001b[32m[I 2022-05-29 22:52:17,069]\u001b[0m Trial 268 finished with value: 0.6556348074179743 and parameters: {'booster': 'gbtree', 'lambda': 0.3970925566927024, 'alpha': 0.0037083781682891587, 'learning_rate': 0.6896571554017689, 'gamma': 0.01528188027459186, 'n_estimators': 886, 'max_depth': 5, 'min_child_weight': 1.4350665516651553}. Best is trial 247 with value: 0.6824762855716426.\u001b[0m\n",
      "C:\\Users\\Lucas\\anaconda3\\lib\\site-packages\\optuna\\trial\\_trial.py:772: RuntimeWarning: Inconsistent parameter values for distribution with name \"min_child_weight\"! This might be a configuration mistake. Optuna allows to call the same distribution with the same name more then once in a trial. When the parameter values are inconsistent optuna only uses the values of the first call and ignores all following. Using these values: {'low': 0.0, 'high': 10.0}\n",
      "  warnings.warn(\n"
     ]
    },
    {
     "name": "stderr",
     "output_type": "stream",
     "text": [
      "\u001b[32m[I 2022-05-29 22:52:17,147]\u001b[0m Trial 269 finished with value: 0.6612859833198816 and parameters: {'booster': 'gbtree', 'lambda': 9.337740427639711e-07, 'alpha': 0.0015262556422148293, 'learning_rate': 0.8547371562608942, 'gamma': 9.60677737321812, 'n_estimators': 783, 'max_depth': 6, 'min_child_weight': 1.6763902137337896}. Best is trial 247 with value: 0.6824762855716426.\u001b[0m\n",
      "C:\\Users\\Lucas\\anaconda3\\lib\\site-packages\\optuna\\trial\\_trial.py:772: RuntimeWarning: Inconsistent parameter values for distribution with name \"min_child_weight\"! This might be a configuration mistake. Optuna allows to call the same distribution with the same name more then once in a trial. When the parameter values are inconsistent optuna only uses the values of the first call and ignores all following. Using these values: {'low': 0.0, 'high': 10.0}\n",
      "  warnings.warn(\n",
      "\u001b[32m[I 2022-05-29 22:52:17,225]\u001b[0m Trial 270 finished with value: 0.6534700691628905 and parameters: {'booster': 'gbtree', 'lambda': 0.974475200465064, 'alpha': 3.284985136588986e-05, 'learning_rate': 0.16478585997589837, 'gamma': 1.0929221950447487, 'n_estimators': 798, 'max_depth': 6, 'min_child_weight': 2.1738596106978556}. Best is trial 247 with value: 0.6824762855716426.\u001b[0m\n",
      "C:\\Users\\Lucas\\anaconda3\\lib\\site-packages\\optuna\\trial\\_trial.py:772: RuntimeWarning: Inconsistent parameter values for distribution with name \"min_child_weight\"! This might be a configuration mistake. Optuna allows to call the same distribution with the same name more then once in a trial. When the parameter values are inconsistent optuna only uses the values of the first call and ignores all following. Using these values: {'low': 0.0, 'high': 10.0}\n",
      "  warnings.warn(\n",
      "\u001b[32m[I 2022-05-29 22:52:17,317]\u001b[0m Trial 271 finished with value: 0.6717133484733787 and parameters: {'booster': 'gbtree', 'lambda': 3.4175387774529453e-07, 'alpha': 2.2984743153354703e-05, 'learning_rate': 0.7627613612903015, 'gamma': 0.3709775194472625, 'n_estimators': 522, 'max_depth': 8, 'min_child_weight': 1.9607086310030113}. Best is trial 247 with value: 0.6824762855716426.\u001b[0m\n",
      "C:\\Users\\Lucas\\anaconda3\\lib\\site-packages\\optuna\\trial\\_trial.py:772: RuntimeWarning: Inconsistent parameter values for distribution with name \"min_child_weight\"! This might be a configuration mistake. Optuna allows to call the same distribution with the same name more then once in a trial. When the parameter values are inconsistent optuna only uses the values of the first call and ignores all following. Using these values: {'low': 0.0, 'high': 10.0}\n",
      "  warnings.warn(\n",
      "\u001b[32m[I 2022-05-29 22:52:17,376]\u001b[0m Trial 272 finished with value: 0.6156760596732181 and parameters: {'booster': 'gblinear', 'lambda': 6.262977112678766e-07, 'alpha': 0.00023423984461027516, 'learning_rate': 0.9949811640799214, 'gamma': 1.6654968766674483, 'n_estimators': 862, 'max_depth': 6, 'min_child_weight': 2.350631889883163}. Best is trial 247 with value: 0.6824762855716426.\u001b[0m\n",
      "C:\\Users\\Lucas\\anaconda3\\lib\\site-packages\\optuna\\trial\\_trial.py:772: RuntimeWarning: Inconsistent parameter values for distribution with name \"min_child_weight\"! This might be a configuration mistake. Optuna allows to call the same distribution with the same name more then once in a trial. When the parameter values are inconsistent optuna only uses the values of the first call and ignores all following. Using these values: {'low': 0.0, 'high': 10.0}\n",
      "  warnings.warn(\n",
      "\u001b[32m[I 2022-05-29 22:52:17,455]\u001b[0m Trial 273 finished with value: 0.6593587284187449 and parameters: {'booster': 'gbtree', 'lambda': 1.4050070556361206e-06, 'alpha': 0.006141299865985849, 'learning_rate': 0.9124318953840208, 'gamma': 2.433866232057194, 'n_estimators': 546, 'max_depth': 6, 'min_child_weight': 1.5741540107661858}. Best is trial 247 with value: 0.6824762855716426.\u001b[0m\n",
      "C:\\Users\\Lucas\\anaconda3\\lib\\site-packages\\optuna\\trial\\_trial.py:772: RuntimeWarning: Inconsistent parameter values for distribution with name \"min_child_weight\"! This might be a configuration mistake. Optuna allows to call the same distribution with the same name more then once in a trial. When the parameter values are inconsistent optuna only uses the values of the first call and ignores all following. Using these values: {'low': 0.0, 'high': 10.0}\n",
      "  warnings.warn(\n",
      "\u001b[32m[I 2022-05-29 22:52:17,541]\u001b[0m Trial 274 finished with value: 0.6795168337188384 and parameters: {'booster': 'dart', 'lambda': 2.411498032480598e-06, 'alpha': 0.01099298581825593, 'learning_rate': 0.7011564503448987, 'gamma': 0.008835340671000622, 'n_estimators': 871, 'max_depth': 5, 'min_child_weight': 1.8425278148108395}. Best is trial 247 with value: 0.6824762855716426.\u001b[0m\n",
      "C:\\Users\\Lucas\\anaconda3\\lib\\site-packages\\optuna\\trial\\_trial.py:772: RuntimeWarning: Inconsistent parameter values for distribution with name \"min_child_weight\"! This might be a configuration mistake. Optuna allows to call the same distribution with the same name more then once in a trial. When the parameter values are inconsistent optuna only uses the values of the first call and ignores all following. Using these values: {'low': 0.0, 'high': 10.0}\n",
      "  warnings.warn(\n",
      "\u001b[32m[I 2022-05-29 22:52:17,627]\u001b[0m Trial 275 finished with value: 0.6144468149954283 and parameters: {'booster': 'dart', 'lambda': 3.976216090411918e-06, 'alpha': 4.395130960577571e-05, 'learning_rate': 0.11866788351537662, 'gamma': 0.008386824327277307, 'n_estimators': 878, 'max_depth': 5, 'min_child_weight': 1.2850188227738837}. Best is trial 247 with value: 0.6824762855716426.\u001b[0m\n",
      "C:\\Users\\Lucas\\anaconda3\\lib\\site-packages\\optuna\\trial\\_trial.py:772: RuntimeWarning: Inconsistent parameter values for distribution with name \"min_child_weight\"! This might be a configuration mistake. Optuna allows to call the same distribution with the same name more then once in a trial. When the parameter values are inconsistent optuna only uses the values of the first call and ignores all following. Using these values: {'low': 0.0, 'high': 10.0}\n",
      "  warnings.warn(\n",
      "\u001b[32m[I 2022-05-29 22:52:17,713]\u001b[0m Trial 276 finished with value: 0.6089965397923875 and parameters: {'booster': 'dart', 'lambda': 2.151064310171632e-06, 'alpha': 0.013225539370207911, 'learning_rate': 0.24904648001579408, 'gamma': 0.001331981629410147, 'n_estimators': 838, 'max_depth': 5, 'min_child_weight': 1.1007064005241738}. Best is trial 247 with value: 0.6824762855716426.\u001b[0m\n",
      "C:\\Users\\Lucas\\anaconda3\\lib\\site-packages\\optuna\\trial\\_trial.py:772: RuntimeWarning: Inconsistent parameter values for distribution with name \"min_child_weight\"! This might be a configuration mistake. Optuna allows to call the same distribution with the same name more then once in a trial. When the parameter values are inconsistent optuna only uses the values of the first call and ignores all following. Using these values: {'low': 0.0, 'high': 10.0}\n",
      "  warnings.warn(\n",
      "\u001b[32m[I 2022-05-29 22:52:17,804]\u001b[0m Trial 277 finished with value: 0.6072746441750132 and parameters: {'booster': 'dart', 'lambda': 7.034388055296054e-06, 'alpha': 0.027447137311962137, 'learning_rate': 0.619282520402266, 'gamma': 0.022410241707397745, 'n_estimators': 893, 'max_depth': 6, 'min_child_weight': 5.853095487414981}. Best is trial 247 with value: 0.6824762855716426.\u001b[0m\n",
      "C:\\Users\\Lucas\\anaconda3\\lib\\site-packages\\optuna\\trial\\_trial.py:772: RuntimeWarning: Inconsistent parameter values for distribution with name \"min_child_weight\"! This might be a configuration mistake. Optuna allows to call the same distribution with the same name more then once in a trial. When the parameter values are inconsistent optuna only uses the values of the first call and ignores all following. Using these values: {'low': 0.0, 'high': 10.0}\n",
      "  warnings.warn(\n",
      "\u001b[32m[I 2022-05-29 22:52:17,889]\u001b[0m Trial 278 finished with value: 0.6740817382307295 and parameters: {'booster': 'dart', 'lambda': 2.7142508580855718e-06, 'alpha': 0.00016760239353374133, 'learning_rate': 0.676176045878674, 'gamma': 0.005585775910322826, 'n_estimators': 816, 'max_depth': 5, 'min_child_weight': 1.7798984242288163}. Best is trial 247 with value: 0.6824762855716426.\u001b[0m\n",
      "C:\\Users\\Lucas\\anaconda3\\lib\\site-packages\\optuna\\trial\\_trial.py:772: RuntimeWarning: Inconsistent parameter values for distribution with name \"min_child_weight\"! This might be a configuration mistake. Optuna allows to call the same distribution with the same name more then once in a trial. When the parameter values are inconsistent optuna only uses the values of the first call and ignores all following. Using these values: {'low': 0.0, 'high': 10.0}\n",
      "  warnings.warn(\n"
     ]
    },
    {
     "name": "stderr",
     "output_type": "stream",
     "text": [
      "\u001b[32m[I 2022-05-29 22:52:17,975]\u001b[0m Trial 279 finished with value: 0.6684709066305818 and parameters: {'booster': 'dart', 'lambda': 1.6641569094463234e-06, 'alpha': 1.759617288003136e-05, 'learning_rate': 0.8271534026841467, 'gamma': 0.5904157806553687, 'n_estimators': 872, 'max_depth': 5, 'min_child_weight': 1.6431988354594629}. Best is trial 247 with value: 0.6824762855716426.\u001b[0m\n",
      "C:\\Users\\Lucas\\anaconda3\\lib\\site-packages\\optuna\\trial\\_trial.py:772: RuntimeWarning: Inconsistent parameter values for distribution with name \"min_child_weight\"! This might be a configuration mistake. Optuna allows to call the same distribution with the same name more then once in a trial. When the parameter values are inconsistent optuna only uses the values of the first call and ignores all following. Using these values: {'low': 0.0, 'high': 10.0}\n",
      "  warnings.warn(\n",
      "\u001b[32m[I 2022-05-29 22:52:18,061]\u001b[0m Trial 280 finished with value: 0.6556674523248339 and parameters: {'booster': 'dart', 'lambda': 3.4259035558207067e-06, 'alpha': 0.010456876771916885, 'learning_rate': 0.9984060255575344, 'gamma': 0.2657982832187063, 'n_estimators': 847, 'max_depth': 5, 'min_child_weight': 2.677195295202317}. Best is trial 247 with value: 0.6824762855716426.\u001b[0m\n",
      "C:\\Users\\Lucas\\anaconda3\\lib\\site-packages\\optuna\\trial\\_trial.py:772: RuntimeWarning: Inconsistent parameter values for distribution with name \"min_child_weight\"! This might be a configuration mistake. Optuna allows to call the same distribution with the same name more then once in a trial. When the parameter values are inconsistent optuna only uses the values of the first call and ignores all following. Using these values: {'low': 0.0, 'high': 10.0}\n",
      "  warnings.warn(\n",
      "\u001b[32m[I 2022-05-29 22:52:18,151]\u001b[0m Trial 281 finished with value: 0.6740812379110251 and parameters: {'booster': 'dart', 'lambda': 0.46959674093871695, 'alpha': 0.00011245106346654957, 'learning_rate': 0.8004311457055703, 'gamma': 0.8291456676954089, 'n_estimators': 898, 'max_depth': 6, 'min_child_weight': 2.1921477163175687}. Best is trial 247 with value: 0.6824762855716426.\u001b[0m\n",
      "C:\\Users\\Lucas\\anaconda3\\lib\\site-packages\\optuna\\trial\\_trial.py:772: RuntimeWarning: Inconsistent parameter values for distribution with name \"min_child_weight\"! This might be a configuration mistake. Optuna allows to call the same distribution with the same name more then once in a trial. When the parameter values are inconsistent optuna only uses the values of the first call and ignores all following. Using these values: {'low': 0.0, 'high': 10.0}\n",
      "  warnings.warn(\n",
      "\u001b[32m[I 2022-05-29 22:52:18,235]\u001b[0m Trial 282 finished with value: 0.6025331724969843 and parameters: {'booster': 'dart', 'lambda': 4.915477537661006e-07, 'alpha': 3.472665600327877e-05, 'learning_rate': 0.015633609359110637, 'gamma': 0.0032027100511378133, 'n_estimators': 692, 'max_depth': 5, 'min_child_weight': 1.8675374529692874}. Best is trial 247 with value: 0.6824762855716426.\u001b[0m\n",
      "C:\\Users\\Lucas\\anaconda3\\lib\\site-packages\\optuna\\trial\\_trial.py:772: RuntimeWarning: Inconsistent parameter values for distribution with name \"min_child_weight\"! This might be a configuration mistake. Optuna allows to call the same distribution with the same name more then once in a trial. When the parameter values are inconsistent optuna only uses the values of the first call and ignores all following. Using these values: {'low': 0.0, 'high': 10.0}\n",
      "  warnings.warn(\n",
      "\u001b[32m[I 2022-05-29 22:52:18,314]\u001b[0m Trial 283 finished with value: 0.659799713876967 and parameters: {'booster': 'gbtree', 'lambda': 2.4952121784517455e-07, 'alpha': 0.018512578263756335, 'learning_rate': 0.7112510514426115, 'gamma': 0.4363857794169335, 'n_estimators': 732, 'max_depth': 6, 'min_child_weight': 1.4318880068531572}. Best is trial 247 with value: 0.6824762855716426.\u001b[0m\n",
      "C:\\Users\\Lucas\\anaconda3\\lib\\site-packages\\optuna\\trial\\_trial.py:772: RuntimeWarning: Inconsistent parameter values for distribution with name \"min_child_weight\"! This might be a configuration mistake. Optuna allows to call the same distribution with the same name more then once in a trial. When the parameter values are inconsistent optuna only uses the values of the first call and ignores all following. Using these values: {'low': 0.0, 'high': 10.0}\n",
      "  warnings.warn(\n",
      "\u001b[32m[I 2022-05-29 22:52:18,402]\u001b[0m Trial 284 finished with value: 0.5788519637462236 and parameters: {'booster': 'dart', 'lambda': 7.943495652125595e-07, 'alpha': 5.1369461184566226e-05, 'learning_rate': 0.8762083975171542, 'gamma': 962.0778973434416, 'n_estimators': 862, 'max_depth': 6, 'min_child_weight': 2.057565370123638}. Best is trial 247 with value: 0.6824762855716426.\u001b[0m\n",
      "C:\\Users\\Lucas\\anaconda3\\lib\\site-packages\\optuna\\trial\\_trial.py:772: RuntimeWarning: Inconsistent parameter values for distribution with name \"min_child_weight\"! This might be a configuration mistake. Optuna allows to call the same distribution with the same name more then once in a trial. When the parameter values are inconsistent optuna only uses the values of the first call and ignores all following. Using these values: {'low': 0.0, 'high': 10.0}\n",
      "  warnings.warn(\n",
      "\u001b[32m[I 2022-05-29 22:52:18,469]\u001b[0m Trial 285 finished with value: 0.6654334038054968 and parameters: {'booster': 'gbtree', 'lambda': 0.0008686345407605684, 'alpha': 0.0009770051351081649, 'learning_rate': 0.7488675308687702, 'gamma': 0.08344621185508269, 'n_estimators': 1000, 'max_depth': 4, 'min_child_weight': 1.756864883852756}. Best is trial 247 with value: 0.6824762855716426.\u001b[0m\n",
      "C:\\Users\\Lucas\\anaconda3\\lib\\site-packages\\optuna\\trial\\_trial.py:772: RuntimeWarning: Inconsistent parameter values for distribution with name \"min_child_weight\"! This might be a configuration mistake. Optuna allows to call the same distribution with the same name more then once in a trial. When the parameter values are inconsistent optuna only uses the values of the first call and ignores all following. Using these values: {'low': 0.0, 'high': 10.0}\n",
      "  warnings.warn(\n",
      "\u001b[32m[I 2022-05-29 22:52:18,558]\u001b[0m Trial 286 finished with value: 0.6613686534216335 and parameters: {'booster': 'gbtree', 'lambda': 1.448456843249341e-06, 'alpha': 2.6295287825104992e-05, 'learning_rate': 0.591568547159899, 'gamma': 0.038367050560523405, 'n_estimators': 881, 'max_depth': 8, 'min_child_weight': 2.519551393741458}. Best is trial 247 with value: 0.6824762855716426.\u001b[0m\n",
      "C:\\Users\\Lucas\\anaconda3\\lib\\site-packages\\optuna\\trial\\_trial.py:772: RuntimeWarning: Inconsistent parameter values for distribution with name \"min_child_weight\"! This might be a configuration mistake. Optuna allows to call the same distribution with the same name more then once in a trial. When the parameter values are inconsistent optuna only uses the values of the first call and ignores all following. Using these values: {'low': 0.0, 'high': 10.0}\n",
      "  warnings.warn(\n",
      "\u001b[32m[I 2022-05-29 22:52:18,657]\u001b[0m Trial 287 finished with value: 0.6693283231564114 and parameters: {'booster': 'dart', 'lambda': 0.0003780699700895466, 'alpha': 9.500633516916161e-06, 'learning_rate': 0.6486447027781203, 'gamma': 1.1543810697490708, 'n_estimators': 825, 'max_depth': 6, 'min_child_weight': 2.2631104590688738}. Best is trial 247 with value: 0.6824762855716426.\u001b[0m\n",
      "C:\\Users\\Lucas\\anaconda3\\lib\\site-packages\\optuna\\trial\\_trial.py:772: RuntimeWarning: Inconsistent parameter values for distribution with name \"min_child_weight\"! This might be a configuration mistake. Optuna allows to call the same distribution with the same name more then once in a trial. When the parameter values are inconsistent optuna only uses the values of the first call and ignores all following. Using these values: {'low': 0.0, 'high': 10.0}\n",
      "  warnings.warn(\n",
      "\u001b[32m[I 2022-05-29 22:52:18,736]\u001b[0m Trial 288 finished with value: 0.66631299734748 and parameters: {'booster': 'gbtree', 'lambda': 2.2682989720494443e-06, 'alpha': 0.00014209863963120253, 'learning_rate': 0.8443232860986379, 'gamma': 0.0021211404017726925, 'n_estimators': 908, 'max_depth': 6, 'min_child_weight': 1.5964527479504798}. Best is trial 247 with value: 0.6824762855716426.\u001b[0m\n",
      "C:\\Users\\Lucas\\anaconda3\\lib\\site-packages\\optuna\\trial\\_trial.py:772: RuntimeWarning: Inconsistent parameter values for distribution with name \"min_child_weight\"! This might be a configuration mistake. Optuna allows to call the same distribution with the same name more then once in a trial. When the parameter values are inconsistent optuna only uses the values of the first call and ignores all following. Using these values: {'low': 0.0, 'high': 10.0}\n",
      "  warnings.warn(\n"
     ]
    },
    {
     "name": "stderr",
     "output_type": "stream",
     "text": [
      "\u001b[32m[I 2022-05-29 22:52:18,814]\u001b[0m Trial 289 finished with value: 0.6755399296835761 and parameters: {'booster': 'gbtree', 'lambda': 1.0871732742377672e-06, 'alpha': 0.000491089983957962, 'learning_rate': 0.9324234292137992, 'gamma': 0.6066516853511436, 'n_estimators': 750, 'max_depth': 6, 'min_child_weight': 1.9706830352004772}. Best is trial 247 with value: 0.6824762855716426.\u001b[0m\n",
      "C:\\Users\\Lucas\\anaconda3\\lib\\site-packages\\optuna\\trial\\_trial.py:772: RuntimeWarning: Inconsistent parameter values for distribution with name \"min_child_weight\"! This might be a configuration mistake. Optuna allows to call the same distribution with the same name more then once in a trial. When the parameter values are inconsistent optuna only uses the values of the first call and ignores all following. Using these values: {'low': 0.0, 'high': 10.0}\n",
      "  warnings.warn(\n",
      "\u001b[32m[I 2022-05-29 22:52:18,909]\u001b[0m Trial 290 finished with value: 0.5306420944858856 and parameters: {'booster': 'dart', 'lambda': 1.0210080091731979e-05, 'alpha': 0.0023398477078703434, 'learning_rate': 0.05317405829300869, 'gamma': 0.010945386438461114, 'n_estimators': 392, 'max_depth': 6, 'min_child_weight': 8.205621212782889}. Best is trial 247 with value: 0.6824762855716426.\u001b[0m\n",
      "C:\\Users\\Lucas\\anaconda3\\lib\\site-packages\\optuna\\trial\\_trial.py:772: RuntimeWarning: Inconsistent parameter values for distribution with name \"min_child_weight\"! This might be a configuration mistake. Optuna allows to call the same distribution with the same name more then once in a trial. When the parameter values are inconsistent optuna only uses the values of the first call and ignores all following. Using these values: {'low': 0.0, 'high': 10.0}\n",
      "  warnings.warn(\n",
      "\u001b[32m[I 2022-05-29 22:52:18,982]\u001b[0m Trial 291 finished with value: 0.6830785177507125 and parameters: {'booster': 'gbtree', 'lambda': 4.256585132196874e-06, 'alpha': 6.945537162926513e-05, 'learning_rate': 0.8064765229593596, 'gamma': 0.2934613765587281, 'n_estimators': 848, 'max_depth': 5, 'min_child_weight': 1.8201673536211522}. Best is trial 291 with value: 0.6830785177507125.\u001b[0m\n",
      "C:\\Users\\Lucas\\anaconda3\\lib\\site-packages\\optuna\\trial\\_trial.py:772: RuntimeWarning: Inconsistent parameter values for distribution with name \"min_child_weight\"! This might be a configuration mistake. Optuna allows to call the same distribution with the same name more then once in a trial. When the parameter values are inconsistent optuna only uses the values of the first call and ignores all following. Using these values: {'low': 0.0, 'high': 10.0}\n",
      "  warnings.warn(\n",
      "\u001b[32m[I 2022-05-29 22:52:19,054]\u001b[0m Trial 292 finished with value: 0.6740576496674058 and parameters: {'booster': 'gbtree', 'lambda': 4.404299249757757e-06, 'alpha': 4.230165975350153e-05, 'learning_rate': 0.820101368795069, 'gamma': 0.2947251333252248, 'n_estimators': 805, 'max_depth': 5, 'min_child_weight': 2.1405649371242563}. Best is trial 291 with value: 0.6830785177507125.\u001b[0m\n",
      "C:\\Users\\Lucas\\anaconda3\\lib\\site-packages\\optuna\\trial\\_trial.py:772: RuntimeWarning: Inconsistent parameter values for distribution with name \"min_child_weight\"! This might be a configuration mistake. Optuna allows to call the same distribution with the same name more then once in a trial. When the parameter values are inconsistent optuna only uses the values of the first call and ignores all following. Using these values: {'low': 0.0, 'high': 10.0}\n",
      "  warnings.warn(\n",
      "\u001b[32m[I 2022-05-29 22:52:19,128]\u001b[0m Trial 293 finished with value: 0.6617283950617284 and parameters: {'booster': 'gbtree', 'lambda': 4.946127929875643e-06, 'alpha': 7.79776079216355e-05, 'learning_rate': 0.9041733750692885, 'gamma': 0.12361132554742275, 'n_estimators': 850, 'max_depth': 5, 'min_child_weight': 1.441936897206609}. Best is trial 291 with value: 0.6830785177507125.\u001b[0m\n",
      "C:\\Users\\Lucas\\anaconda3\\lib\\site-packages\\optuna\\trial\\_trial.py:772: RuntimeWarning: Inconsistent parameter values for distribution with name \"min_child_weight\"! This might be a configuration mistake. Optuna allows to call the same distribution with the same name more then once in a trial. When the parameter values are inconsistent optuna only uses the values of the first call and ignores all following. Using these values: {'low': 0.0, 'high': 10.0}\n",
      "  warnings.warn(\n",
      "\u001b[32m[I 2022-05-29 22:52:19,200]\u001b[0m Trial 294 finished with value: 0.6693079767564712 and parameters: {'booster': 'gbtree', 'lambda': 6.048886859166737e-06, 'alpha': 2.13943922960799e-05, 'learning_rate': 0.6885896788501643, 'gamma': 0.31742101900708625, 'n_estimators': 832, 'max_depth': 5, 'min_child_weight': 1.7549479541740967}. Best is trial 291 with value: 0.6830785177507125.\u001b[0m\n",
      "C:\\Users\\Lucas\\anaconda3\\lib\\site-packages\\optuna\\trial\\_trial.py:772: RuntimeWarning: Inconsistent parameter values for distribution with name \"min_child_weight\"! This might be a configuration mistake. Optuna allows to call the same distribution with the same name more then once in a trial. When the parameter values are inconsistent optuna only uses the values of the first call and ignores all following. Using these values: {'low': 0.0, 'high': 10.0}\n",
      "  warnings.warn(\n",
      "\u001b[32m[I 2022-05-29 22:52:19,271]\u001b[0m Trial 295 finished with value: 0.6622027245439852 and parameters: {'booster': 'gbtree', 'lambda': 2.752639810495736e-06, 'alpha': 1.4213280558330883e-05, 'learning_rate': 0.999856103079189, 'gamma': 0.23037199485381238, 'n_estimators': 861, 'max_depth': 5, 'min_child_weight': 2.3216715817604356}. Best is trial 291 with value: 0.6830785177507125.\u001b[0m\n",
      "C:\\Users\\Lucas\\anaconda3\\lib\\site-packages\\optuna\\trial\\_trial.py:772: RuntimeWarning: Inconsistent parameter values for distribution with name \"min_child_weight\"! This might be a configuration mistake. Optuna allows to call the same distribution with the same name more then once in a trial. When the parameter values are inconsistent optuna only uses the values of the first call and ignores all following. Using these values: {'low': 0.0, 'high': 10.0}\n",
      "  warnings.warn(\n",
      "\u001b[32m[I 2022-05-29 22:52:19,346]\u001b[0m Trial 296 finished with value: 0.6760070052539403 and parameters: {'booster': 'gbtree', 'lambda': 1.78494069325426e-06, 'alpha': 1.1954321598285375e-06, 'learning_rate': 0.7970882380901415, 'gamma': 0.5536387786868958, 'n_estimators': 978, 'max_depth': 5, 'min_child_weight': 1.9780372359799492}. Best is trial 291 with value: 0.6830785177507125.\u001b[0m\n",
      "C:\\Users\\Lucas\\anaconda3\\lib\\site-packages\\optuna\\trial\\_trial.py:772: RuntimeWarning: Inconsistent parameter values for distribution with name \"min_child_weight\"! This might be a configuration mistake. Optuna allows to call the same distribution with the same name more then once in a trial. When the parameter values are inconsistent optuna only uses the values of the first call and ignores all following. Using these values: {'low': 0.0, 'high': 10.0}\n",
      "  warnings.warn(\n",
      "\u001b[32m[I 2022-05-29 22:52:19,418]\u001b[0m Trial 297 finished with value: 0.6163910594221333 and parameters: {'booster': 'gbtree', 'lambda': 0.2703475570564537, 'alpha': 6.241487253852338e-05, 'learning_rate': 0.8923349986689245, 'gamma': 0.05138047511548629, 'n_estimators': 770, 'max_depth': 5, 'min_child_weight': 4.920797743286446}. Best is trial 291 with value: 0.6830785177507125.\u001b[0m\n",
      "C:\\Users\\Lucas\\anaconda3\\lib\\site-packages\\optuna\\trial\\_trial.py:772: RuntimeWarning: Inconsistent parameter values for distribution with name \"min_child_weight\"! This might be a configuration mistake. Optuna allows to call the same distribution with the same name more then once in a trial. When the parameter values are inconsistent optuna only uses the values of the first call and ignores all following. Using these values: {'low': 0.0, 'high': 10.0}\n",
      "  warnings.warn(\n",
      "\u001b[32m[I 2022-05-29 22:52:19,479]\u001b[0m Trial 298 finished with value: 0.6332511640646399 and parameters: {'booster': 'gbtree', 'lambda': 3.329677188103171e-06, 'alpha': 0.004778930935783173, 'learning_rate': 0.7188646131538466, 'gamma': 0.4006343835544755, 'n_estimators': 803, 'max_depth': 2, 'min_child_weight': 1.6635928583598014}. Best is trial 291 with value: 0.6830785177507125.\u001b[0m\n",
      "C:\\Users\\Lucas\\anaconda3\\lib\\site-packages\\optuna\\trial\\_trial.py:772: RuntimeWarning: Inconsistent parameter values for distribution with name \"min_child_weight\"! This might be a configuration mistake. Optuna allows to call the same distribution with the same name more then once in a trial. When the parameter values are inconsistent optuna only uses the values of the first call and ignores all following. Using these values: {'low': 0.0, 'high': 10.0}\n",
      "  warnings.warn(\n"
     ]
    },
    {
     "name": "stderr",
     "output_type": "stream",
     "text": [
      "\u001b[32m[I 2022-05-29 22:52:19,552]\u001b[0m Trial 299 finished with value: 0.5622864243553899 and parameters: {'booster': 'gblinear', 'lambda': 0.00020856827898943365, 'alpha': 0.009236338091788174, 'learning_rate': 0.7894434166020938, 'gamma': 0.22056432165392176, 'n_estimators': 665, 'max_depth': 6, 'min_child_weight': 1.254126366360374}. Best is trial 291 with value: 0.6830785177507125.\u001b[0m\n"
     ]
    },
    {
     "name": "stdout",
     "output_type": "stream",
     "text": [
      "train_score=0.8641277641277642\n"
     ]
    }
   ],
   "source": [
    "f1_opt_booster = make_booster(optimize_params(objective_f1))"
   ]
  },
  {
   "cell_type": "code",
   "execution_count": 187,
   "id": "55a60778",
   "metadata": {},
   "outputs": [
    {
     "data": {
      "text/html": [
       "<style>#sk-container-id-10 {color: black;background-color: white;}#sk-container-id-10 pre{padding: 0;}#sk-container-id-10 div.sk-toggleable {background-color: white;}#sk-container-id-10 label.sk-toggleable__label {cursor: pointer;display: block;width: 100%;margin-bottom: 0;padding: 0.3em;box-sizing: border-box;text-align: center;}#sk-container-id-10 label.sk-toggleable__label-arrow:before {content: \"▸\";float: left;margin-right: 0.25em;color: #696969;}#sk-container-id-10 label.sk-toggleable__label-arrow:hover:before {color: black;}#sk-container-id-10 div.sk-estimator:hover label.sk-toggleable__label-arrow:before {color: black;}#sk-container-id-10 div.sk-toggleable__content {max-height: 0;max-width: 0;overflow: hidden;text-align: left;background-color: #f0f8ff;}#sk-container-id-10 div.sk-toggleable__content pre {margin: 0.2em;color: black;border-radius: 0.25em;background-color: #f0f8ff;}#sk-container-id-10 input.sk-toggleable__control:checked~div.sk-toggleable__content {max-height: 200px;max-width: 100%;overflow: auto;}#sk-container-id-10 input.sk-toggleable__control:checked~label.sk-toggleable__label-arrow:before {content: \"▾\";}#sk-container-id-10 div.sk-estimator input.sk-toggleable__control:checked~label.sk-toggleable__label {background-color: #d4ebff;}#sk-container-id-10 div.sk-label input.sk-toggleable__control:checked~label.sk-toggleable__label {background-color: #d4ebff;}#sk-container-id-10 input.sk-hidden--visually {border: 0;clip: rect(1px 1px 1px 1px);clip: rect(1px, 1px, 1px, 1px);height: 1px;margin: -1px;overflow: hidden;padding: 0;position: absolute;width: 1px;}#sk-container-id-10 div.sk-estimator {font-family: monospace;background-color: #f0f8ff;border: 1px dotted black;border-radius: 0.25em;box-sizing: border-box;margin-bottom: 0.5em;}#sk-container-id-10 div.sk-estimator:hover {background-color: #d4ebff;}#sk-container-id-10 div.sk-parallel-item::after {content: \"\";width: 100%;border-bottom: 1px solid gray;flex-grow: 1;}#sk-container-id-10 div.sk-label:hover label.sk-toggleable__label {background-color: #d4ebff;}#sk-container-id-10 div.sk-serial::before {content: \"\";position: absolute;border-left: 1px solid gray;box-sizing: border-box;top: 0;bottom: 0;left: 50%;z-index: 0;}#sk-container-id-10 div.sk-serial {display: flex;flex-direction: column;align-items: center;background-color: white;padding-right: 0.2em;padding-left: 0.2em;position: relative;}#sk-container-id-10 div.sk-item {position: relative;z-index: 1;}#sk-container-id-10 div.sk-parallel {display: flex;align-items: stretch;justify-content: center;background-color: white;position: relative;}#sk-container-id-10 div.sk-item::before, #sk-container-id-10 div.sk-parallel-item::before {content: \"\";position: absolute;border-left: 1px solid gray;box-sizing: border-box;top: 0;bottom: 0;left: 50%;z-index: -1;}#sk-container-id-10 div.sk-parallel-item {display: flex;flex-direction: column;z-index: 1;position: relative;background-color: white;}#sk-container-id-10 div.sk-parallel-item:first-child::after {align-self: flex-end;width: 50%;}#sk-container-id-10 div.sk-parallel-item:last-child::after {align-self: flex-start;width: 50%;}#sk-container-id-10 div.sk-parallel-item:only-child::after {width: 0;}#sk-container-id-10 div.sk-dashed-wrapped {border: 1px dashed gray;margin: 0 0.4em 0.5em 0.4em;box-sizing: border-box;padding-bottom: 0.4em;background-color: white;}#sk-container-id-10 div.sk-label label {font-family: monospace;font-weight: bold;display: inline-block;line-height: 1.2em;}#sk-container-id-10 div.sk-label-container {text-align: center;}#sk-container-id-10 div.sk-container {/* jupyter's `normalize.less` sets `[hidden] { display: none; }` but bootstrap.min.css set `[hidden] { display: none !important; }` so we also need the `!important` here to be able to override the default hidden behavior on the sphinx rendered scikit-learn.org. See: https://github.com/scikit-learn/scikit-learn/issues/21755 */display: inline-block !important;position: relative;}#sk-container-id-10 div.sk-text-repr-fallback {display: none;}</style><div id=\"sk-container-id-10\" class=\"sk-top-container\"><div class=\"sk-text-repr-fallback\"><pre>XGBClassifier(alpha=6.945537162926513e-05, base_score=0.5, booster=&#x27;gbtree&#x27;,\n",
       "              callbacks=None, colsample_bylevel=1, colsample_bynode=1,\n",
       "              colsample_bytree=1, early_stopping_rounds=None,\n",
       "              enable_categorical=False, eval_metric=None,\n",
       "              gamma=0.2934613765587281, gpu_id=-1, grow_policy=&#x27;depthwise&#x27;,\n",
       "              importance_type=None, interaction_constraints=&#x27;&#x27;,\n",
       "              lambda=4.256585132196874e-06, learning_rate=0.8064765229593596,\n",
       "              max_bin=256, max_cat_to_onehot=4, max_delta_step=0, max_depth=5,\n",
       "              max_leaves=0, min_child_weight=1.8201673536211522, missing=nan,\n",
       "              monotone_constraints=&#x27;()&#x27;, n_estimators=848, n_jobs=0,\n",
       "              num_parallel_tree=1, predictor=&#x27;auto&#x27;, random_state=0, ...)</pre><b>In a Jupyter environment, please rerun this cell to show the HTML representation or trust the notebook. <br />On GitHub, the HTML representation is unable to render, please try loading this page with nbviewer.org.</b></div><div class=\"sk-container\" hidden><div class=\"sk-item\"><div class=\"sk-estimator sk-toggleable\"><input class=\"sk-toggleable__control sk-hidden--visually\" id=\"sk-estimator-id-10\" type=\"checkbox\" checked><label for=\"sk-estimator-id-10\" class=\"sk-toggleable__label sk-toggleable__label-arrow\">XGBClassifier</label><div class=\"sk-toggleable__content\"><pre>XGBClassifier(alpha=6.945537162926513e-05, base_score=0.5, booster=&#x27;gbtree&#x27;,\n",
       "              callbacks=None, colsample_bylevel=1, colsample_bynode=1,\n",
       "              colsample_bytree=1, early_stopping_rounds=None,\n",
       "              enable_categorical=False, eval_metric=None,\n",
       "              gamma=0.2934613765587281, gpu_id=-1, grow_policy=&#x27;depthwise&#x27;,\n",
       "              importance_type=None, interaction_constraints=&#x27;&#x27;,\n",
       "              lambda=4.256585132196874e-06, learning_rate=0.8064765229593596,\n",
       "              max_bin=256, max_cat_to_onehot=4, max_delta_step=0, max_depth=5,\n",
       "              max_leaves=0, min_child_weight=1.8201673536211522, missing=nan,\n",
       "              monotone_constraints=&#x27;()&#x27;, n_estimators=848, n_jobs=0,\n",
       "              num_parallel_tree=1, predictor=&#x27;auto&#x27;, random_state=0, ...)</pre></div></div></div></div></div>"
      ],
      "text/plain": [
       "XGBClassifier(alpha=6.945537162926513e-05, base_score=0.5, booster='gbtree',\n",
       "              callbacks=None, colsample_bylevel=1, colsample_bynode=1,\n",
       "              colsample_bytree=1, early_stopping_rounds=None,\n",
       "              enable_categorical=False, eval_metric=None,\n",
       "              gamma=0.2934613765587281, gpu_id=-1, grow_policy='depthwise',\n",
       "              importance_type=None, interaction_constraints='',\n",
       "              lambda=4.256585132196874e-06, learning_rate=0.8064765229593596,\n",
       "              max_bin=256, max_cat_to_onehot=4, max_delta_step=0, max_depth=5,\n",
       "              max_leaves=0, min_child_weight=1.8201673536211522, missing=nan,\n",
       "              monotone_constraints='()', n_estimators=848, n_jobs=0,\n",
       "              num_parallel_tree=1, predictor='auto', random_state=0, ...)"
      ]
     },
     "execution_count": 187,
     "metadata": {},
     "output_type": "execute_result"
    }
   ],
   "source": [
    "f1_opt_booster"
   ]
  },
  {
   "cell_type": "code",
   "execution_count": 188,
   "id": "122d5982",
   "metadata": {},
   "outputs": [
    {
     "name": "stdout",
     "output_type": "stream",
     "text": [
      "XGBClassifier(alpha=6.945537162926513e-05, base_score=0.5, booster='gbtree',\n",
      "              callbacks=None, colsample_bylevel=1, colsample_bynode=1,\n",
      "              colsample_bytree=1, early_stopping_rounds=None,\n",
      "              enable_categorical=False, eval_metric=None,\n",
      "              gamma=0.2934613765587281, gpu_id=-1, grow_policy='depthwise',\n",
      "              importance_type=None, interaction_constraints='',\n",
      "              lambda=4.256585132196874e-06, learning_rate=0.8064765229593596,\n",
      "              max_bin=256, max_cat_to_onehot=4, max_delta_step=0, max_depth=5,\n",
      "              max_leaves=0, min_child_weight=1.8201673536211522, missing=nan,\n",
      "              monotone_constraints='()', n_estimators=848, n_jobs=0,\n",
      "              num_parallel_tree=1, predictor='auto', random_state=0, ...) ->\n",
      "AUC: 0.8875\n",
      "Accuracy: 0.8522\n",
      "Precision: 0.7666\n",
      "recall: 0.5392\n",
      "F1: 0.6331\n",
      "\n"
     ]
    },
    {
     "data": {
      "text/plain": [
       "<sklearn.metrics._plot.confusion_matrix.ConfusionMatrixDisplay at 0x256436c6d90>"
      ]
     },
     "metadata": {},
     "output_type": "display_data"
    },
    {
     "name": "stderr",
     "output_type": "stream",
     "text": [
      "C:\\Users\\Lucas\\AppData\\Local\\Temp\\ipykernel_30076\\1408841744.py:1: FutureWarning: The frame.append method is deprecated and will be removed from pandas in a future version. Use pandas.concat instead.\n",
      "  res_df = res_df.append(pd.DataFrame(data=print_cv_metrics(f1_opt_booster), index=['XGB optimized for F1']))\n"
     ]
    },
    {
     "data": {
      "image/png": "[encoded data removed]",
      "text/plain": [
       "<Figure size 432x288 with 2 Axes>"
      ]
     },
     "metadata": {
      "needs_background": "light"
     },
     "output_type": "display_data"
    }
   ],
   "source": [
    "res_df = res_df.append(pd.DataFrame(data=print_cv_metrics(f1_opt_booster), index=['XGB optimized for F1']))"
   ]
  },
  {
   "cell_type": "code",
   "execution_count": 189,
   "id": "3b339756",
   "metadata": {},
   "outputs": [
    {
     "data": {
      "text/html": [
       "<div>\n",
       "<style scoped>\n",
       "    .dataframe tbody tr th:only-of-type {\n",
       "        vertical-align: middle;\n",
       "    }\n",
       "\n",
       "    .dataframe tbody tr th {\n",
       "        vertical-align: top;\n",
       "    }\n",
       "\n",
       "    .dataframe thead th {\n",
       "        text-align: right;\n",
       "    }\n",
       "</style>\n",
       "<table border=\"1\" class=\"dataframe\">\n",
       "  <thead>\n",
       "    <tr style=\"text-align: right;\">\n",
       "      <th></th>\n",
       "      <th>accuracy</th>\n",
       "      <th>precision</th>\n",
       "      <th>recall</th>\n",
       "      <th>f1</th>\n",
       "      <th>AUC</th>\n",
       "    </tr>\n",
       "  </thead>\n",
       "  <tbody>\n",
       "    <tr>\n",
       "      <th>XGB optimized for accuracy</th>\n",
       "      <td>0.855651</td>\n",
       "      <td>0.773324</td>\n",
       "      <td>0.551169</td>\n",
       "      <td>0.643615</td>\n",
       "      <td>0.892074</td>\n",
       "    </tr>\n",
       "    <tr>\n",
       "      <th>XGB default</th>\n",
       "      <td>0.856634</td>\n",
       "      <td>0.787994</td>\n",
       "      <td>0.538701</td>\n",
       "      <td>0.639926</td>\n",
       "      <td>0.895065</td>\n",
       "    </tr>\n",
       "    <tr>\n",
       "      <th>XGB optimized for F1</th>\n",
       "      <td>0.852211</td>\n",
       "      <td>0.766617</td>\n",
       "      <td>0.539221</td>\n",
       "      <td>0.633120</td>\n",
       "      <td>0.887473</td>\n",
       "    </tr>\n",
       "    <tr>\n",
       "      <th>DecisionTree</th>\n",
       "      <td>0.843489</td>\n",
       "      <td>0.735018</td>\n",
       "      <td>0.528831</td>\n",
       "      <td>0.615106</td>\n",
       "      <td>0.866863</td>\n",
       "    </tr>\n",
       "    <tr>\n",
       "      <th>RandomForest</th>\n",
       "      <td>0.850614</td>\n",
       "      <td>0.791770</td>\n",
       "      <td>0.499740</td>\n",
       "      <td>0.612739</td>\n",
       "      <td>0.884216</td>\n",
       "    </tr>\n",
       "    <tr>\n",
       "      <th>MLP</th>\n",
       "      <td>0.831081</td>\n",
       "      <td>0.685560</td>\n",
       "      <td>0.527792</td>\n",
       "      <td>0.596419</td>\n",
       "      <td>0.865930</td>\n",
       "    </tr>\n",
       "    <tr>\n",
       "      <th>logRes</th>\n",
       "      <td>0.826413</td>\n",
       "      <td>0.719931</td>\n",
       "      <td>0.435325</td>\n",
       "      <td>0.542570</td>\n",
       "      <td>0.848562</td>\n",
       "    </tr>\n",
       "    <tr>\n",
       "      <th>SVM</th>\n",
       "      <td>0.833538</td>\n",
       "      <td>0.953822</td>\n",
       "      <td>0.311169</td>\n",
       "      <td>0.469252</td>\n",
       "      <td>0.875026</td>\n",
       "    </tr>\n",
       "  </tbody>\n",
       "</table>\n",
       "</div>"
      ],
      "text/plain": [
       "                            accuracy  precision    recall        f1       AUC\n",
       "XGB optimized for accuracy  0.855651   0.773324  0.551169  0.643615  0.892074\n",
       "XGB default                 0.856634   0.787994  0.538701  0.639926  0.895065\n",
       "XGB optimized for F1        0.852211   0.766617  0.539221  0.633120  0.887473\n",
       "DecisionTree                0.843489   0.735018  0.528831  0.615106  0.866863\n",
       "RandomForest                0.850614   0.791770  0.499740  0.612739  0.884216\n",
       "MLP                         0.831081   0.685560  0.527792  0.596419  0.865930\n",
       "logRes                      0.826413   0.719931  0.435325  0.542570  0.848562\n",
       "SVM                         0.833538   0.953822  0.311169  0.469252  0.875026"
      ]
     },
     "execution_count": 189,
     "metadata": {},
     "output_type": "execute_result"
    }
   ],
   "source": [
    "res_df.sort_values('f1', ascending=False)"
   ]
  },
  {
   "cell_type": "markdown",
   "id": "0b31413e",
   "metadata": {},
   "source": [
    "### Submitting first attempt"
   ]
  },
  {
   "cell_type": "code",
   "execution_count": 230,
   "id": "476b90a0",
   "metadata": {},
   "outputs": [],
   "source": [
    "def pred_to_submit(y_pred):\n",
    "    aux = pd.DataFrame(data={'income': y_pred})\n",
    "    aux.index.name = 'Id'\n",
    "    aux['income'] = aux['income'].map(lambda r: '>50K' if r == 1 else '<=50K')\n",
    "    return aux"
   ]
  },
  {
   "cell_type": "code",
   "execution_count": 227,
   "id": "8a9e889a",
   "metadata": {},
   "outputs": [],
   "source": [
    "y_pred = acc_opt_booster.predict(test_df)"
   ]
  },
  {
   "cell_type": "code",
   "execution_count": 231,
   "id": "5835a4eb",
   "metadata": {},
   "outputs": [],
   "source": [
    "pred = pred_to_submit(y_pred)"
   ]
  },
  {
   "cell_type": "code",
   "execution_count": 232,
   "id": "1d68f9c3",
   "metadata": {},
   "outputs": [
    {
     "data": {
      "text/html": [
       "<div>\n",
       "<style scoped>\n",
       "    .dataframe tbody tr th:only-of-type {\n",
       "        vertical-align: middle;\n",
       "    }\n",
       "\n",
       "    .dataframe tbody tr th {\n",
       "        vertical-align: top;\n",
       "    }\n",
       "\n",
       "    .dataframe thead th {\n",
       "        text-align: right;\n",
       "    }\n",
       "</style>\n",
       "<table border=\"1\" class=\"dataframe\">\n",
       "  <thead>\n",
       "    <tr style=\"text-align: right;\">\n",
       "      <th></th>\n",
       "      <th>income</th>\n",
       "    </tr>\n",
       "    <tr>\n",
       "      <th>Id</th>\n",
       "      <th></th>\n",
       "    </tr>\n",
       "  </thead>\n",
       "  <tbody>\n",
       "    <tr>\n",
       "      <th>0</th>\n",
       "      <td>&lt;=50K</td>\n",
       "    </tr>\n",
       "    <tr>\n",
       "      <th>1</th>\n",
       "      <td>&gt;50K</td>\n",
       "    </tr>\n",
       "    <tr>\n",
       "      <th>2</th>\n",
       "      <td>&lt;=50K</td>\n",
       "    </tr>\n",
       "    <tr>\n",
       "      <th>3</th>\n",
       "      <td>&lt;=50K</td>\n",
       "    </tr>\n",
       "    <tr>\n",
       "      <th>4</th>\n",
       "      <td>&gt;50K</td>\n",
       "    </tr>\n",
       "    <tr>\n",
       "      <th>...</th>\n",
       "      <td>...</td>\n",
       "    </tr>\n",
       "    <tr>\n",
       "      <th>16275</th>\n",
       "      <td>&lt;=50K</td>\n",
       "    </tr>\n",
       "    <tr>\n",
       "      <th>16276</th>\n",
       "      <td>&lt;=50K</td>\n",
       "    </tr>\n",
       "    <tr>\n",
       "      <th>16277</th>\n",
       "      <td>&lt;=50K</td>\n",
       "    </tr>\n",
       "    <tr>\n",
       "      <th>16278</th>\n",
       "      <td>&lt;=50K</td>\n",
       "    </tr>\n",
       "    <tr>\n",
       "      <th>16279</th>\n",
       "      <td>&gt;50K</td>\n",
       "    </tr>\n",
       "  </tbody>\n",
       "</table>\n",
       "<p>16280 rows × 1 columns</p>\n",
       "</div>"
      ],
      "text/plain": [
       "      income\n",
       "Id          \n",
       "0      <=50K\n",
       "1       >50K\n",
       "2      <=50K\n",
       "3      <=50K\n",
       "4       >50K\n",
       "...      ...\n",
       "16275  <=50K\n",
       "16276  <=50K\n",
       "16277  <=50K\n",
       "16278  <=50K\n",
       "16279   >50K\n",
       "\n",
       "[16280 rows x 1 columns]"
      ]
     },
     "execution_count": 232,
     "metadata": {},
     "output_type": "execute_result"
    }
   ],
   "source": [
    "pred"
   ]
  },
  {
   "cell_type": "code",
   "execution_count": 235,
   "id": "50fc61e4",
   "metadata": {},
   "outputs": [],
   "source": [
    "pred.to_csv('results/xgboost_optimized_pred.csv')"
   ]
  },
  {
   "cell_type": "markdown",
   "id": "80683082",
   "metadata": {},
   "source": [
    "## Few tweaks to data prep"
   ]
  },
  {
   "cell_type": "code",
   "execution_count": null,
   "id": "a34727fd",
   "metadata": {},
   "outputs": [],
   "source": []
  }
 ],
 "metadata": {
  "kernelspec": {
   "display_name": "Python 3 (ipykernel)",
   "language": "python",
   "name": "python3"
  },
  "language_info": {
   "codemirror_mode": {
    "name": "ipython",
    "version": 3
   },
   "file_extension": ".py",
   "mimetype": "text/x-python",
   "name": "python",
   "nbconvert_exporter": "python",
   "pygments_lexer": "ipython3",
   "version": "3.8.13"
  }
 },
 "nbformat": 4,
 "nbformat_minor": 5
}
